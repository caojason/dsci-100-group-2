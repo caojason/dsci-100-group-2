{
 "cells": [
  {
   "cell_type": "markdown",
   "id": "48dc41bc-9f3a-4987-9301-3687aad756a3",
   "metadata": {},
   "source": [
    "# DSCI 100 Group 2 Project Proposal\n",
    "\n"
   ]
  },
  {
   "cell_type": "markdown",
   "id": "aa114e12-37bb-4fd0-9533-a09e24d2f5c6",
   "metadata": {},
   "source": [
    "### Introduction"
   ]
  },
  {
   "cell_type": "markdown",
   "id": "4e0569d7-06c1-4bd2-8d44-5087ba375759",
   "metadata": {},
   "source": [
    "### Preliminary Exploratory Data Analysis"
   ]
  },
  {
   "cell_type": "markdown",
   "id": "c27c524e-ecc1-4f9b-85e2-102f5cf5dfd0",
   "metadata": {},
   "source": [
    "### Methods"
   ]
  },
  {
   "cell_type": "markdown",
   "id": "87c62a28-eca7-42ae-804e-fdc4240eef45",
   "metadata": {},
   "source": [
    "### Expected Outcomes and Significance"
   ]
  },
  {
   "cell_type": "code",
   "execution_count": null,
   "id": "cd9a5ed8-bf4a-4480-9710-a53963a88b14",
   "metadata": {},
   "outputs": [],
   "source": []
  }
 ],
 "metadata": {
  "kernelspec": {
   "display_name": "Python 3 (ipykernel)",
   "language": "python",
   "name": "python3"
  },
  "language_info": {
   "codemirror_mode": {
    "name": "ipython",
    "version": 3
   },
   "file_extension": ".py",
   "mimetype": "text/x-python",
   "name": "python",
   "nbconvert_exporter": "python",
   "pygments_lexer": "ipython3",
   "version": "3.10.8"
  }
 },
 "nbformat": 4,
 "nbformat_minor": 5
}
