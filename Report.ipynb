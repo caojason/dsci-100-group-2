{
 "cells": [
  {
   "cell_type": "markdown",
   "id": "cc52e62c",
   "metadata": {},
   "source": [
    "# DSCI 100 Group 2 Project Proposal\n",
    "\n",
    "## Heart Failure Prediction\n",
    "\n",
    "\n"
   ]
  },
  {
   "cell_type": "markdown",
   "id": "0e6e4737",
   "metadata": {},
   "source": [
    "### Introduction\n",
    "\n",
    "Cardiovascular diseases (CVDs) are the largest contributor to death globally (about 31%, or 17.9 million lives per year). This data set observes a range of variables related to the heart that could potentially predict a heart disease, including cholesterol levels, types of chest pain, blood pressure and sugar, as well as variables regarding age, sex, and the presence or absence of heart disease. This project will attempt to answer the following predictive question: what variable(s) most strongly predict(s) presence of a heart disease?\n",
    "\n",
    "The dataset we will be using, which is found on Kaggle [here][1], is the combination of five different datasets within the UCI Machine Learning Repository’s Heart Disease Data Set found [here][2]. Although the dataset contains 76 attributes, we will be using a subset of 8 that other published experiments have used as well. The attributes are described as follows:\n",
    "\n",
    "[1]: https://www.kaggle.com/datasets/fedesoriano/heart-failure-prediction\n",
    "[2]: https://archive.ics.uci.edu/ml/datasets/Heart+Disease\n",
    "\n",
    "1. Age: age of patient (years)\n",
    "2. Sex: sex (1 = male, 0 = female)\n",
    "3. RestingBP: resting blood pressure (mm/Hg)\n",
    "4. Cholesterol: Serum cholesterol (mg/dl)\n",
    "5. FastingBS: fasting blood sugar (1 if FastingBS > 120 mg/dl, otherwise 0)\n",
    "6. MaxHR: maximum heart rate achieved (value between 60 and 202)\n",
    "7. ExerciseAngina: exercise induced angina (1 = Yes, 0 = No)\n",
    "8. HeartDisease: output/prediction (1 = heart disease, 0 = normal)"
   ]
  },
  {
   "cell_type": "markdown",
   "id": "70639ea2",
   "metadata": {
    "tags": []
   },
   "source": [
    "### Preliminary Exploratory Data Analysis"
   ]
  },
  {
   "cell_type": "code",
   "execution_count": 1,
   "id": "1de7c681",
   "metadata": {},
   "outputs": [
    {
     "data": {
      "text/plain": [
       "RendererRegistry.enable('mimetype')"
      ]
     },
     "execution_count": 1,
     "metadata": {},
     "output_type": "execute_result"
    }
   ],
   "source": [
    "import altair as alt\n",
    "import numpy as np\n",
    "import pandas as pd\n",
    "import sklearn\n",
    "from sklearn.compose import make_column_transformer\n",
    "from sklearn.metrics import confusion_matrix\n",
    "from sklearn.metrics.pairwise import euclidean_distances\n",
    "from sklearn.model_selection import (\n",
    "    GridSearchCV,\n",
    "    RandomizedSearchCV,\n",
    "    cross_validate,\n",
    "    train_test_split,\n",
    ")\n",
    "from sklearn.neighbors import KNeighborsClassifier\n",
    "from sklearn.pipeline import Pipeline, make_pipeline\n",
    "from sklearn.preprocessing import OneHotEncoder, StandardScaler\n",
    "\n",
    "alt.data_transformers.disable_max_rows()\n",
    "alt.renderers.enable(\"mimetype\")"
   ]
  },
  {
   "cell_type": "code",
   "execution_count": 2,
   "id": "8d939a5a",
   "metadata": {},
   "outputs": [
    {
     "data": {
      "text/html": [
       "<div>\n",
       "<style scoped>\n",
       "    .dataframe tbody tr th:only-of-type {\n",
       "        vertical-align: middle;\n",
       "    }\n",
       "\n",
       "    .dataframe tbody tr th {\n",
       "        vertical-align: top;\n",
       "    }\n",
       "\n",
       "    .dataframe thead th {\n",
       "        text-align: right;\n",
       "    }\n",
       "</style>\n",
       "<table border=\"1\" class=\"dataframe\">\n",
       "  <thead>\n",
       "    <tr style=\"text-align: right;\">\n",
       "      <th></th>\n",
       "      <th>Age</th>\n",
       "      <th>Sex</th>\n",
       "      <th>ChestPainType</th>\n",
       "      <th>RestingBP</th>\n",
       "      <th>Cholesterol</th>\n",
       "      <th>FastingBS</th>\n",
       "      <th>RestingECG</th>\n",
       "      <th>MaxHR</th>\n",
       "      <th>ExerciseAngina</th>\n",
       "      <th>Oldpeak</th>\n",
       "      <th>ST_Slope</th>\n",
       "      <th>HeartDisease</th>\n",
       "    </tr>\n",
       "  </thead>\n",
       "  <tbody>\n",
       "    <tr>\n",
       "      <th>0</th>\n",
       "      <td>40</td>\n",
       "      <td>M</td>\n",
       "      <td>ATA</td>\n",
       "      <td>140</td>\n",
       "      <td>289</td>\n",
       "      <td>0</td>\n",
       "      <td>Normal</td>\n",
       "      <td>172</td>\n",
       "      <td>N</td>\n",
       "      <td>0.0</td>\n",
       "      <td>Up</td>\n",
       "      <td>0</td>\n",
       "    </tr>\n",
       "    <tr>\n",
       "      <th>1</th>\n",
       "      <td>49</td>\n",
       "      <td>F</td>\n",
       "      <td>NAP</td>\n",
       "      <td>160</td>\n",
       "      <td>180</td>\n",
       "      <td>0</td>\n",
       "      <td>Normal</td>\n",
       "      <td>156</td>\n",
       "      <td>N</td>\n",
       "      <td>1.0</td>\n",
       "      <td>Flat</td>\n",
       "      <td>1</td>\n",
       "    </tr>\n",
       "    <tr>\n",
       "      <th>2</th>\n",
       "      <td>37</td>\n",
       "      <td>M</td>\n",
       "      <td>ATA</td>\n",
       "      <td>130</td>\n",
       "      <td>283</td>\n",
       "      <td>0</td>\n",
       "      <td>ST</td>\n",
       "      <td>98</td>\n",
       "      <td>N</td>\n",
       "      <td>0.0</td>\n",
       "      <td>Up</td>\n",
       "      <td>0</td>\n",
       "    </tr>\n",
       "    <tr>\n",
       "      <th>3</th>\n",
       "      <td>48</td>\n",
       "      <td>F</td>\n",
       "      <td>ASY</td>\n",
       "      <td>138</td>\n",
       "      <td>214</td>\n",
       "      <td>0</td>\n",
       "      <td>Normal</td>\n",
       "      <td>108</td>\n",
       "      <td>Y</td>\n",
       "      <td>1.5</td>\n",
       "      <td>Flat</td>\n",
       "      <td>1</td>\n",
       "    </tr>\n",
       "    <tr>\n",
       "      <th>4</th>\n",
       "      <td>54</td>\n",
       "      <td>M</td>\n",
       "      <td>NAP</td>\n",
       "      <td>150</td>\n",
       "      <td>195</td>\n",
       "      <td>0</td>\n",
       "      <td>Normal</td>\n",
       "      <td>122</td>\n",
       "      <td>N</td>\n",
       "      <td>0.0</td>\n",
       "      <td>Up</td>\n",
       "      <td>0</td>\n",
       "    </tr>\n",
       "    <tr>\n",
       "      <th>...</th>\n",
       "      <td>...</td>\n",
       "      <td>...</td>\n",
       "      <td>...</td>\n",
       "      <td>...</td>\n",
       "      <td>...</td>\n",
       "      <td>...</td>\n",
       "      <td>...</td>\n",
       "      <td>...</td>\n",
       "      <td>...</td>\n",
       "      <td>...</td>\n",
       "      <td>...</td>\n",
       "      <td>...</td>\n",
       "    </tr>\n",
       "    <tr>\n",
       "      <th>913</th>\n",
       "      <td>45</td>\n",
       "      <td>M</td>\n",
       "      <td>TA</td>\n",
       "      <td>110</td>\n",
       "      <td>264</td>\n",
       "      <td>0</td>\n",
       "      <td>Normal</td>\n",
       "      <td>132</td>\n",
       "      <td>N</td>\n",
       "      <td>1.2</td>\n",
       "      <td>Flat</td>\n",
       "      <td>1</td>\n",
       "    </tr>\n",
       "    <tr>\n",
       "      <th>914</th>\n",
       "      <td>68</td>\n",
       "      <td>M</td>\n",
       "      <td>ASY</td>\n",
       "      <td>144</td>\n",
       "      <td>193</td>\n",
       "      <td>1</td>\n",
       "      <td>Normal</td>\n",
       "      <td>141</td>\n",
       "      <td>N</td>\n",
       "      <td>3.4</td>\n",
       "      <td>Flat</td>\n",
       "      <td>1</td>\n",
       "    </tr>\n",
       "    <tr>\n",
       "      <th>915</th>\n",
       "      <td>57</td>\n",
       "      <td>M</td>\n",
       "      <td>ASY</td>\n",
       "      <td>130</td>\n",
       "      <td>131</td>\n",
       "      <td>0</td>\n",
       "      <td>Normal</td>\n",
       "      <td>115</td>\n",
       "      <td>Y</td>\n",
       "      <td>1.2</td>\n",
       "      <td>Flat</td>\n",
       "      <td>1</td>\n",
       "    </tr>\n",
       "    <tr>\n",
       "      <th>916</th>\n",
       "      <td>57</td>\n",
       "      <td>F</td>\n",
       "      <td>ATA</td>\n",
       "      <td>130</td>\n",
       "      <td>236</td>\n",
       "      <td>0</td>\n",
       "      <td>LVH</td>\n",
       "      <td>174</td>\n",
       "      <td>N</td>\n",
       "      <td>0.0</td>\n",
       "      <td>Flat</td>\n",
       "      <td>1</td>\n",
       "    </tr>\n",
       "    <tr>\n",
       "      <th>917</th>\n",
       "      <td>38</td>\n",
       "      <td>M</td>\n",
       "      <td>NAP</td>\n",
       "      <td>138</td>\n",
       "      <td>175</td>\n",
       "      <td>0</td>\n",
       "      <td>Normal</td>\n",
       "      <td>173</td>\n",
       "      <td>N</td>\n",
       "      <td>0.0</td>\n",
       "      <td>Up</td>\n",
       "      <td>0</td>\n",
       "    </tr>\n",
       "  </tbody>\n",
       "</table>\n",
       "<p>918 rows × 12 columns</p>\n",
       "</div>"
      ],
      "text/plain": [
       "     Age Sex ChestPainType  RestingBP  Cholesterol  FastingBS RestingECG  \\\n",
       "0     40   M           ATA        140          289          0     Normal   \n",
       "1     49   F           NAP        160          180          0     Normal   \n",
       "2     37   M           ATA        130          283          0         ST   \n",
       "3     48   F           ASY        138          214          0     Normal   \n",
       "4     54   M           NAP        150          195          0     Normal   \n",
       "..   ...  ..           ...        ...          ...        ...        ...   \n",
       "913   45   M            TA        110          264          0     Normal   \n",
       "914   68   M           ASY        144          193          1     Normal   \n",
       "915   57   M           ASY        130          131          0     Normal   \n",
       "916   57   F           ATA        130          236          0        LVH   \n",
       "917   38   M           NAP        138          175          0     Normal   \n",
       "\n",
       "     MaxHR ExerciseAngina  Oldpeak ST_Slope  HeartDisease  \n",
       "0      172              N      0.0       Up             0  \n",
       "1      156              N      1.0     Flat             1  \n",
       "2       98              N      0.0       Up             0  \n",
       "3      108              Y      1.5     Flat             1  \n",
       "4      122              N      0.0       Up             0  \n",
       "..     ...            ...      ...      ...           ...  \n",
       "913    132              N      1.2     Flat             1  \n",
       "914    141              N      3.4     Flat             1  \n",
       "915    115              Y      1.2     Flat             1  \n",
       "916    174              N      0.0     Flat             1  \n",
       "917    173              N      0.0       Up             0  \n",
       "\n",
       "[918 rows x 12 columns]"
      ]
     },
     "execution_count": 2,
     "metadata": {},
     "output_type": "execute_result"
    }
   ],
   "source": [
    "url = \"https://raw.githubusercontent.com/caojason/dsci-100-group-2/main/data/heart.csv\"\n",
    "heart_data = pd.read_csv(url)\n",
    "heart_data"
   ]
  },
  {
   "cell_type": "code",
   "execution_count": 3,
   "id": "79af80fb-26d5-4ab0-96ec-a32f31860e8e",
   "metadata": {},
   "outputs": [
    {
     "name": "stderr",
     "output_type": "stream",
     "text": [
      "/tmp/ipykernel_1856/997459427.py:5: SettingWithCopyWarning: \n",
      "A value is trying to be set on a copy of a slice from a DataFrame.\n",
      "Try using .loc[row_indexer,col_indexer] = value instead\n",
      "\n",
      "See the caveats in the documentation: https://pandas.pydata.org/pandas-docs/stable/user_guide/indexing.html#returning-a-view-versus-a-copy\n",
      "  heart_data_filtered[\"Sex\"] = heart_data_filtered[\"Sex\"].apply(\n",
      "/tmp/ipykernel_1856/997459427.py:9: SettingWithCopyWarning: \n",
      "A value is trying to be set on a copy of a slice from a DataFrame.\n",
      "Try using .loc[row_indexer,col_indexer] = value instead\n",
      "\n",
      "See the caveats in the documentation: https://pandas.pydata.org/pandas-docs/stable/user_guide/indexing.html#returning-a-view-versus-a-copy\n",
      "  heart_data_filtered[\"ExerciseAngina\"] = heart_data_filtered[\"ExerciseAngina\"].apply(\n"
     ]
    },
    {
     "data": {
      "text/html": [
       "<div>\n",
       "<style scoped>\n",
       "    .dataframe tbody tr th:only-of-type {\n",
       "        vertical-align: middle;\n",
       "    }\n",
       "\n",
       "    .dataframe tbody tr th {\n",
       "        vertical-align: top;\n",
       "    }\n",
       "\n",
       "    .dataframe thead th {\n",
       "        text-align: right;\n",
       "    }\n",
       "</style>\n",
       "<table border=\"1\" class=\"dataframe\">\n",
       "  <thead>\n",
       "    <tr style=\"text-align: right;\">\n",
       "      <th></th>\n",
       "      <th>Age</th>\n",
       "      <th>Sex</th>\n",
       "      <th>RestingBP</th>\n",
       "      <th>Cholesterol</th>\n",
       "      <th>FastingBS</th>\n",
       "      <th>MaxHR</th>\n",
       "      <th>ExerciseAngina</th>\n",
       "      <th>HeartDisease</th>\n",
       "    </tr>\n",
       "  </thead>\n",
       "  <tbody>\n",
       "    <tr>\n",
       "      <th>0</th>\n",
       "      <td>40</td>\n",
       "      <td>1</td>\n",
       "      <td>140</td>\n",
       "      <td>289</td>\n",
       "      <td>0</td>\n",
       "      <td>172</td>\n",
       "      <td>0</td>\n",
       "      <td>0</td>\n",
       "    </tr>\n",
       "    <tr>\n",
       "      <th>1</th>\n",
       "      <td>49</td>\n",
       "      <td>0</td>\n",
       "      <td>160</td>\n",
       "      <td>180</td>\n",
       "      <td>0</td>\n",
       "      <td>156</td>\n",
       "      <td>0</td>\n",
       "      <td>1</td>\n",
       "    </tr>\n",
       "    <tr>\n",
       "      <th>2</th>\n",
       "      <td>37</td>\n",
       "      <td>1</td>\n",
       "      <td>130</td>\n",
       "      <td>283</td>\n",
       "      <td>0</td>\n",
       "      <td>98</td>\n",
       "      <td>0</td>\n",
       "      <td>0</td>\n",
       "    </tr>\n",
       "    <tr>\n",
       "      <th>3</th>\n",
       "      <td>48</td>\n",
       "      <td>0</td>\n",
       "      <td>138</td>\n",
       "      <td>214</td>\n",
       "      <td>0</td>\n",
       "      <td>108</td>\n",
       "      <td>1</td>\n",
       "      <td>1</td>\n",
       "    </tr>\n",
       "    <tr>\n",
       "      <th>4</th>\n",
       "      <td>54</td>\n",
       "      <td>1</td>\n",
       "      <td>150</td>\n",
       "      <td>195</td>\n",
       "      <td>0</td>\n",
       "      <td>122</td>\n",
       "      <td>0</td>\n",
       "      <td>0</td>\n",
       "    </tr>\n",
       "    <tr>\n",
       "      <th>...</th>\n",
       "      <td>...</td>\n",
       "      <td>...</td>\n",
       "      <td>...</td>\n",
       "      <td>...</td>\n",
       "      <td>...</td>\n",
       "      <td>...</td>\n",
       "      <td>...</td>\n",
       "      <td>...</td>\n",
       "    </tr>\n",
       "    <tr>\n",
       "      <th>913</th>\n",
       "      <td>45</td>\n",
       "      <td>1</td>\n",
       "      <td>110</td>\n",
       "      <td>264</td>\n",
       "      <td>0</td>\n",
       "      <td>132</td>\n",
       "      <td>0</td>\n",
       "      <td>1</td>\n",
       "    </tr>\n",
       "    <tr>\n",
       "      <th>914</th>\n",
       "      <td>68</td>\n",
       "      <td>1</td>\n",
       "      <td>144</td>\n",
       "      <td>193</td>\n",
       "      <td>1</td>\n",
       "      <td>141</td>\n",
       "      <td>0</td>\n",
       "      <td>1</td>\n",
       "    </tr>\n",
       "    <tr>\n",
       "      <th>915</th>\n",
       "      <td>57</td>\n",
       "      <td>1</td>\n",
       "      <td>130</td>\n",
       "      <td>131</td>\n",
       "      <td>0</td>\n",
       "      <td>115</td>\n",
       "      <td>1</td>\n",
       "      <td>1</td>\n",
       "    </tr>\n",
       "    <tr>\n",
       "      <th>916</th>\n",
       "      <td>57</td>\n",
       "      <td>0</td>\n",
       "      <td>130</td>\n",
       "      <td>236</td>\n",
       "      <td>0</td>\n",
       "      <td>174</td>\n",
       "      <td>0</td>\n",
       "      <td>1</td>\n",
       "    </tr>\n",
       "    <tr>\n",
       "      <th>917</th>\n",
       "      <td>38</td>\n",
       "      <td>1</td>\n",
       "      <td>138</td>\n",
       "      <td>175</td>\n",
       "      <td>0</td>\n",
       "      <td>173</td>\n",
       "      <td>0</td>\n",
       "      <td>0</td>\n",
       "    </tr>\n",
       "  </tbody>\n",
       "</table>\n",
       "<p>746 rows × 8 columns</p>\n",
       "</div>"
      ],
      "text/plain": [
       "     Age  Sex  RestingBP  Cholesterol  FastingBS  MaxHR  ExerciseAngina  \\\n",
       "0     40    1        140          289          0    172               0   \n",
       "1     49    0        160          180          0    156               0   \n",
       "2     37    1        130          283          0     98               0   \n",
       "3     48    0        138          214          0    108               1   \n",
       "4     54    1        150          195          0    122               0   \n",
       "..   ...  ...        ...          ...        ...    ...             ...   \n",
       "913   45    1        110          264          0    132               0   \n",
       "914   68    1        144          193          1    141               0   \n",
       "915   57    1        130          131          0    115               1   \n",
       "916   57    0        130          236          0    174               0   \n",
       "917   38    1        138          175          0    173               0   \n",
       "\n",
       "     HeartDisease  \n",
       "0               0  \n",
       "1               1  \n",
       "2               0  \n",
       "3               1  \n",
       "4               0  \n",
       "..            ...  \n",
       "913             1  \n",
       "914             1  \n",
       "915             1  \n",
       "916             1  \n",
       "917             0  \n",
       "\n",
       "[746 rows x 8 columns]"
      ]
     },
     "execution_count": 3,
     "metadata": {},
     "output_type": "execute_result"
    }
   ],
   "source": [
    "heart_data_filtered = heart_data[\n",
    "    [\"Age\",\"Sex\",\"RestingBP\",\"Cholesterol\",\"FastingBS\",\"MaxHR\",\"ExerciseAngina\",\"HeartDisease\"]\n",
    "]\n",
    "\n",
    "heart_data_filtered[\"Sex\"] = heart_data_filtered[\"Sex\"].apply(\n",
    "lambda x: 1 if (x == \"M\") else 0\n",
    ")\n",
    "\n",
    "heart_data_filtered[\"ExerciseAngina\"] = heart_data_filtered[\"ExerciseAngina\"].apply(\n",
    "lambda x: 1 if (x == \"Y\") else 0\n",
    ")\n",
    "\n",
    "heart_data_nozeroes = heart_data_filtered[\n",
    "    (heart_data[\"Cholesterol\"] > 0) &\n",
    "    (heart_data[\"RestingBP\"] > 0) &\n",
    "    (heart_data[\"MaxHR\"] > 0)\n",
    "]\n",
    "heart_data_nozeroes"
   ]
  },
  {
   "cell_type": "code",
   "execution_count": 4,
   "id": "9424856c",
   "metadata": {},
   "outputs": [
    {
     "name": "stdout",
     "output_type": "stream",
     "text": [
      "<class 'pandas.core.frame.DataFrame'>\n",
      "Int64Index: 746 entries, 0 to 917\n",
      "Data columns (total 8 columns):\n",
      " #   Column          Non-Null Count  Dtype\n",
      "---  ------          --------------  -----\n",
      " 0   Age             746 non-null    int64\n",
      " 1   Sex             746 non-null    int64\n",
      " 2   RestingBP       746 non-null    int64\n",
      " 3   Cholesterol     746 non-null    int64\n",
      " 4   FastingBS       746 non-null    int64\n",
      " 5   MaxHR           746 non-null    int64\n",
      " 6   ExerciseAngina  746 non-null    int64\n",
      " 7   HeartDisease    746 non-null    int64\n",
      "dtypes: int64(8)\n",
      "memory usage: 52.5 KB\n"
     ]
    }
   ],
   "source": [
    "heart_data_nozeroes.info()"
   ]
  },
  {
   "cell_type": "markdown",
   "id": "79e8aca1",
   "metadata": {},
   "source": [
    "We can see that our filtered dataset has 746 observations for each attribute and missing data has been removed."
   ]
  },
  {
   "cell_type": "code",
   "execution_count": 5,
   "id": "da99e6e4",
   "metadata": {},
   "outputs": [
    {
     "data": {
      "text/html": [
       "<div>\n",
       "<style scoped>\n",
       "    .dataframe tbody tr th:only-of-type {\n",
       "        vertical-align: middle;\n",
       "    }\n",
       "\n",
       "    .dataframe tbody tr th {\n",
       "        vertical-align: top;\n",
       "    }\n",
       "\n",
       "    .dataframe thead th {\n",
       "        text-align: right;\n",
       "    }\n",
       "</style>\n",
       "<table border=\"1\" class=\"dataframe\">\n",
       "  <thead>\n",
       "    <tr style=\"text-align: right;\">\n",
       "      <th></th>\n",
       "      <th>Age</th>\n",
       "      <th>Sex</th>\n",
       "      <th>RestingBP</th>\n",
       "      <th>Cholesterol</th>\n",
       "      <th>FastingBS</th>\n",
       "      <th>MaxHR</th>\n",
       "      <th>ExerciseAngina</th>\n",
       "      <th>HeartDisease</th>\n",
       "    </tr>\n",
       "  </thead>\n",
       "  <tbody>\n",
       "    <tr>\n",
       "      <th>594</th>\n",
       "      <td>58</td>\n",
       "      <td>1</td>\n",
       "      <td>160</td>\n",
       "      <td>256</td>\n",
       "      <td>1</td>\n",
       "      <td>113</td>\n",
       "      <td>1</td>\n",
       "      <td>1</td>\n",
       "    </tr>\n",
       "    <tr>\n",
       "      <th>824</th>\n",
       "      <td>37</td>\n",
       "      <td>1</td>\n",
       "      <td>130</td>\n",
       "      <td>250</td>\n",
       "      <td>0</td>\n",
       "      <td>187</td>\n",
       "      <td>0</td>\n",
       "      <td>0</td>\n",
       "    </tr>\n",
       "    <tr>\n",
       "      <th>199</th>\n",
       "      <td>57</td>\n",
       "      <td>0</td>\n",
       "      <td>130</td>\n",
       "      <td>308</td>\n",
       "      <td>0</td>\n",
       "      <td>98</td>\n",
       "      <td>0</td>\n",
       "      <td>0</td>\n",
       "    </tr>\n",
       "    <tr>\n",
       "      <th>62</th>\n",
       "      <td>45</td>\n",
       "      <td>1</td>\n",
       "      <td>140</td>\n",
       "      <td>224</td>\n",
       "      <td>0</td>\n",
       "      <td>144</td>\n",
       "      <td>0</td>\n",
       "      <td>0</td>\n",
       "    </tr>\n",
       "    <tr>\n",
       "      <th>730</th>\n",
       "      <td>49</td>\n",
       "      <td>0</td>\n",
       "      <td>134</td>\n",
       "      <td>271</td>\n",
       "      <td>0</td>\n",
       "      <td>162</td>\n",
       "      <td>0</td>\n",
       "      <td>0</td>\n",
       "    </tr>\n",
       "    <tr>\n",
       "      <th>...</th>\n",
       "      <td>...</td>\n",
       "      <td>...</td>\n",
       "      <td>...</td>\n",
       "      <td>...</td>\n",
       "      <td>...</td>\n",
       "      <td>...</td>\n",
       "      <td>...</td>\n",
       "      <td>...</td>\n",
       "    </tr>\n",
       "    <tr>\n",
       "      <th>544</th>\n",
       "      <td>61</td>\n",
       "      <td>0</td>\n",
       "      <td>140</td>\n",
       "      <td>298</td>\n",
       "      <td>1</td>\n",
       "      <td>120</td>\n",
       "      <td>1</td>\n",
       "      <td>0</td>\n",
       "    </tr>\n",
       "    <tr>\n",
       "      <th>204</th>\n",
       "      <td>56</td>\n",
       "      <td>1</td>\n",
       "      <td>130</td>\n",
       "      <td>184</td>\n",
       "      <td>0</td>\n",
       "      <td>100</td>\n",
       "      <td>0</td>\n",
       "      <td>0</td>\n",
       "    </tr>\n",
       "    <tr>\n",
       "      <th>53</th>\n",
       "      <td>41</td>\n",
       "      <td>0</td>\n",
       "      <td>130</td>\n",
       "      <td>245</td>\n",
       "      <td>0</td>\n",
       "      <td>150</td>\n",
       "      <td>0</td>\n",
       "      <td>0</td>\n",
       "    </tr>\n",
       "    <tr>\n",
       "      <th>417</th>\n",
       "      <td>44</td>\n",
       "      <td>1</td>\n",
       "      <td>130</td>\n",
       "      <td>209</td>\n",
       "      <td>0</td>\n",
       "      <td>127</td>\n",
       "      <td>0</td>\n",
       "      <td>0</td>\n",
       "    </tr>\n",
       "    <tr>\n",
       "      <th>895</th>\n",
       "      <td>57</td>\n",
       "      <td>1</td>\n",
       "      <td>110</td>\n",
       "      <td>335</td>\n",
       "      <td>0</td>\n",
       "      <td>143</td>\n",
       "      <td>1</td>\n",
       "      <td>1</td>\n",
       "    </tr>\n",
       "  </tbody>\n",
       "</table>\n",
       "<p>559 rows × 8 columns</p>\n",
       "</div>"
      ],
      "text/plain": [
       "     Age  Sex  RestingBP  Cholesterol  FastingBS  MaxHR  ExerciseAngina  \\\n",
       "594   58    1        160          256          1    113               1   \n",
       "824   37    1        130          250          0    187               0   \n",
       "199   57    0        130          308          0     98               0   \n",
       "62    45    1        140          224          0    144               0   \n",
       "730   49    0        134          271          0    162               0   \n",
       "..   ...  ...        ...          ...        ...    ...             ...   \n",
       "544   61    0        140          298          1    120               1   \n",
       "204   56    1        130          184          0    100               0   \n",
       "53    41    0        130          245          0    150               0   \n",
       "417   44    1        130          209          0    127               0   \n",
       "895   57    1        110          335          0    143               1   \n",
       "\n",
       "     HeartDisease  \n",
       "594             1  \n",
       "824             0  \n",
       "199             0  \n",
       "62              0  \n",
       "730             0  \n",
       "..            ...  \n",
       "544             0  \n",
       "204             0  \n",
       "53              0  \n",
       "417             0  \n",
       "895             1  \n",
       "\n",
       "[559 rows x 8 columns]"
      ]
     },
     "execution_count": 5,
     "metadata": {},
     "output_type": "execute_result"
    }
   ],
   "source": [
    "heart_data_training, heart_data_testing = train_test_split(\n",
    "    heart_data_nozeroes, test_size=0.25, random_state=1234\n",
    ")\n",
    "heart_data_training"
   ]
  },
  {
   "cell_type": "code",
   "execution_count": 6,
   "id": "05e0a86d-5d65-4934-ab85-7f2a640faff1",
   "metadata": {},
   "outputs": [],
   "source": [
    "chol_plot = (\n",
    "    alt.Chart(heart_data_training)\n",
    "    .mark_bar()\n",
    "    .encode(\n",
    "        x=alt.X(\"Cholesterol\",bin=alt.Bin(maxbins=30),title=\"Cholesterol (mg/dl)\",scale=alt.Scale(zero=False)),\n",
    "        y=alt.Y(\"count(HeartDisease)\",title=\"Number of Heart Diagnoses\"),\n",
    "        fill=alt.Fill(\"HeartDisease:N\", title=\"Heart Disease\")\n",
    "    )\n",
    "    .configure_axis(titleFontSize=20,labelFontSize=16)\n",
    "\n",
    ")"
   ]
  },
  {
   "cell_type": "code",
   "execution_count": 7,
   "id": "7af53b47-6ab9-4198-8fc8-ef0afd19ac5e",
   "metadata": {},
   "outputs": [
    {
     "name": "stderr",
     "output_type": "stream",
     "text": [
      "/opt/conda/lib/python3.10/site-packages/altair/utils/core.py:317: FutureWarning: iteritems is deprecated and will be removed in a future version. Use .items instead.\n",
      "  for col_name, dtype in df.dtypes.iteritems():\n"
     ]
    },
    {
     "data": {
      "application/vnd.vegalite.v4+json": {
       "$schema": "https://vega.github.io/schema/vega-lite/v4.17.0.json",
       "config": {
        "axis": {
         "labelFontSize": 16,
         "titleFontSize": 20
        },
        "view": {
         "continuousHeight": 300,
         "continuousWidth": 400
        }
       },
       "data": {
        "name": "data-965f26aaa0a06bf333f272b0ffb5f3a8"
       },
       "datasets": {
        "data-965f26aaa0a06bf333f272b0ffb5f3a8": [
         {
          "Age": 58,
          "Cholesterol": 256,
          "ExerciseAngina": 1,
          "FastingBS": 1,
          "HeartDisease": 1,
          "MaxHR": 113,
          "RestingBP": 160,
          "Sex": 1
         },
         {
          "Age": 37,
          "Cholesterol": 250,
          "ExerciseAngina": 0,
          "FastingBS": 0,
          "HeartDisease": 0,
          "MaxHR": 187,
          "RestingBP": 130,
          "Sex": 1
         },
         {
          "Age": 57,
          "Cholesterol": 308,
          "ExerciseAngina": 0,
          "FastingBS": 0,
          "HeartDisease": 0,
          "MaxHR": 98,
          "RestingBP": 130,
          "Sex": 0
         },
         {
          "Age": 45,
          "Cholesterol": 224,
          "ExerciseAngina": 0,
          "FastingBS": 0,
          "HeartDisease": 0,
          "MaxHR": 144,
          "RestingBP": 140,
          "Sex": 1
         },
         {
          "Age": 49,
          "Cholesterol": 271,
          "ExerciseAngina": 0,
          "FastingBS": 0,
          "HeartDisease": 0,
          "MaxHR": 162,
          "RestingBP": 134,
          "Sex": 0
         },
         {
          "Age": 49,
          "Cholesterol": 222,
          "ExerciseAngina": 0,
          "FastingBS": 0,
          "HeartDisease": 1,
          "MaxHR": 122,
          "RestingBP": 150,
          "Sex": 1
         },
         {
          "Age": 51,
          "Cholesterol": 224,
          "ExerciseAngina": 0,
          "FastingBS": 0,
          "HeartDisease": 0,
          "MaxHR": 150,
          "RestingBP": 130,
          "Sex": 1
         },
         {
          "Age": 54,
          "Cholesterol": 333,
          "ExerciseAngina": 0,
          "FastingBS": 1,
          "HeartDisease": 1,
          "MaxHR": 154,
          "RestingBP": 127,
          "Sex": 0
         },
         {
          "Age": 52,
          "Cholesterol": 100,
          "ExerciseAngina": 1,
          "FastingBS": 0,
          "HeartDisease": 0,
          "MaxHR": 138,
          "RestingBP": 140,
          "Sex": 1
         },
         {
          "Age": 51,
          "Cholesterol": 220,
          "ExerciseAngina": 1,
          "FastingBS": 0,
          "HeartDisease": 0,
          "MaxHR": 160,
          "RestingBP": 130,
          "Sex": 0
         },
         {
          "Age": 46,
          "Cholesterol": 177,
          "ExerciseAngina": 1,
          "FastingBS": 0,
          "HeartDisease": 0,
          "MaxHR": 160,
          "RestingBP": 142,
          "Sex": 0
         },
         {
          "Age": 67,
          "Cholesterol": 270,
          "ExerciseAngina": 0,
          "FastingBS": 1,
          "HeartDisease": 1,
          "MaxHR": 125,
          "RestingBP": 142,
          "Sex": 1
         },
         {
          "Age": 53,
          "Cholesterol": 243,
          "ExerciseAngina": 1,
          "FastingBS": 0,
          "HeartDisease": 1,
          "MaxHR": 122,
          "RestingBP": 124,
          "Sex": 1
         },
         {
          "Age": 60,
          "Cholesterol": 206,
          "ExerciseAngina": 1,
          "FastingBS": 0,
          "HeartDisease": 1,
          "MaxHR": 132,
          "RestingBP": 130,
          "Sex": 1
         },
         {
          "Age": 38,
          "Cholesterol": 231,
          "ExerciseAngina": 1,
          "FastingBS": 0,
          "HeartDisease": 1,
          "MaxHR": 182,
          "RestingBP": 120,
          "Sex": 1
         },
         {
          "Age": 49,
          "Cholesterol": 269,
          "ExerciseAngina": 0,
          "FastingBS": 0,
          "HeartDisease": 0,
          "MaxHR": 163,
          "RestingBP": 130,
          "Sex": 0
         },
         {
          "Age": 43,
          "Cholesterol": 175,
          "ExerciseAngina": 1,
          "FastingBS": 0,
          "HeartDisease": 1,
          "MaxHR": 120,
          "RestingBP": 120,
          "Sex": 1
         },
         {
          "Age": 59,
          "Cholesterol": 264,
          "ExerciseAngina": 1,
          "FastingBS": 1,
          "HeartDisease": 1,
          "MaxHR": 119,
          "RestingBP": 140,
          "Sex": 1
         },
         {
          "Age": 55,
          "Cholesterol": 228,
          "ExerciseAngina": 1,
          "FastingBS": 0,
          "HeartDisease": 1,
          "MaxHR": 149,
          "RestingBP": 142,
          "Sex": 1
         },
         {
          "Age": 38,
          "Cholesterol": 297,
          "ExerciseAngina": 0,
          "FastingBS": 0,
          "HeartDisease": 0,
          "MaxHR": 150,
          "RestingBP": 140,
          "Sex": 1
         },
         {
          "Age": 56,
          "Cholesterol": 224,
          "ExerciseAngina": 0,
          "FastingBS": 1,
          "HeartDisease": 0,
          "MaxHR": 161,
          "RestingBP": 124,
          "Sex": 1
         },
         {
          "Age": 38,
          "Cholesterol": 117,
          "ExerciseAngina": 1,
          "FastingBS": 0,
          "HeartDisease": 1,
          "MaxHR": 134,
          "RestingBP": 92,
          "Sex": 1
         },
         {
          "Age": 55,
          "Cholesterol": 289,
          "ExerciseAngina": 1,
          "FastingBS": 0,
          "HeartDisease": 1,
          "MaxHR": 145,
          "RestingBP": 160,
          "Sex": 1
         },
         {
          "Age": 54,
          "Cholesterol": 202,
          "ExerciseAngina": 1,
          "FastingBS": 1,
          "HeartDisease": 1,
          "MaxHR": 112,
          "RestingBP": 130,
          "Sex": 1
         },
         {
          "Age": 46,
          "Cholesterol": 222,
          "ExerciseAngina": 0,
          "FastingBS": 0,
          "HeartDisease": 1,
          "MaxHR": 112,
          "RestingBP": 130,
          "Sex": 1
         },
         {
          "Age": 75,
          "Cholesterol": 203,
          "ExerciseAngina": 0,
          "FastingBS": 1,
          "HeartDisease": 1,
          "MaxHR": 108,
          "RestingBP": 170,
          "Sex": 1
         },
         {
          "Age": 56,
          "Cholesterol": 100,
          "ExerciseAngina": 1,
          "FastingBS": 0,
          "HeartDisease": 1,
          "MaxHR": 120,
          "RestingBP": 120,
          "Sex": 1
         },
         {
          "Age": 64,
          "Cholesterol": 227,
          "ExerciseAngina": 0,
          "FastingBS": 0,
          "HeartDisease": 0,
          "MaxHR": 155,
          "RestingBP": 170,
          "Sex": 1
         },
         {
          "Age": 48,
          "Cholesterol": 227,
          "ExerciseAngina": 1,
          "FastingBS": 0,
          "HeartDisease": 0,
          "MaxHR": 130,
          "RestingBP": 150,
          "Sex": 0
         },
         {
          "Age": 57,
          "Cholesterol": 214,
          "ExerciseAngina": 1,
          "FastingBS": 0,
          "HeartDisease": 1,
          "MaxHR": 144,
          "RestingBP": 140,
          "Sex": 1
         },
         {
          "Age": 49,
          "Cholesterol": 187,
          "ExerciseAngina": 0,
          "FastingBS": 0,
          "HeartDisease": 0,
          "MaxHR": 172,
          "RestingBP": 140,
          "Sex": 1
         },
         {
          "Age": 40,
          "Cholesterol": 235,
          "ExerciseAngina": 0,
          "FastingBS": 0,
          "HeartDisease": 0,
          "MaxHR": 188,
          "RestingBP": 140,
          "Sex": 1
         },
         {
          "Age": 54,
          "Cholesterol": 309,
          "ExerciseAngina": 0,
          "FastingBS": 0,
          "HeartDisease": 0,
          "MaxHR": 156,
          "RestingBP": 108,
          "Sex": 1
         },
         {
          "Age": 55,
          "Cholesterol": 245,
          "ExerciseAngina": 1,
          "FastingBS": 1,
          "HeartDisease": 1,
          "MaxHR": 131,
          "RestingBP": 136,
          "Sex": 1
         },
         {
          "Age": 47,
          "Cholesterol": 204,
          "ExerciseAngina": 0,
          "FastingBS": 0,
          "HeartDisease": 0,
          "MaxHR": 143,
          "RestingBP": 112,
          "Sex": 1
         },
         {
          "Age": 52,
          "Cholesterol": 325,
          "ExerciseAngina": 0,
          "FastingBS": 0,
          "HeartDisease": 0,
          "MaxHR": 172,
          "RestingBP": 120,
          "Sex": 1
         },
         {
          "Age": 58,
          "Cholesterol": 222,
          "ExerciseAngina": 0,
          "FastingBS": 0,
          "HeartDisease": 0,
          "MaxHR": 100,
          "RestingBP": 135,
          "Sex": 1
         },
         {
          "Age": 40,
          "Cholesterol": 240,
          "ExerciseAngina": 1,
          "FastingBS": 0,
          "HeartDisease": 0,
          "MaxHR": 80,
          "RestingBP": 106,
          "Sex": 1
         },
         {
          "Age": 77,
          "Cholesterol": 171,
          "ExerciseAngina": 1,
          "FastingBS": 0,
          "HeartDisease": 1,
          "MaxHR": 110,
          "RestingBP": 124,
          "Sex": 1
         },
         {
          "Age": 37,
          "Cholesterol": 260,
          "ExerciseAngina": 0,
          "FastingBS": 0,
          "HeartDisease": 0,
          "MaxHR": 130,
          "RestingBP": 120,
          "Sex": 0
         },
         {
          "Age": 61,
          "Cholesterol": 200,
          "ExerciseAngina": 0,
          "FastingBS": 1,
          "HeartDisease": 1,
          "MaxHR": 100,
          "RestingBP": 142,
          "Sex": 1
         },
         {
          "Age": 43,
          "Cholesterol": 223,
          "ExerciseAngina": 0,
          "FastingBS": 0,
          "HeartDisease": 0,
          "MaxHR": 142,
          "RestingBP": 100,
          "Sex": 0
         },
         {
          "Age": 55,
          "Cholesterol": 217,
          "ExerciseAngina": 1,
          "FastingBS": 0,
          "HeartDisease": 1,
          "MaxHR": 110,
          "RestingBP": 158,
          "Sex": 1
         },
         {
          "Age": 59,
          "Cholesterol": 176,
          "ExerciseAngina": 0,
          "FastingBS": 1,
          "HeartDisease": 1,
          "MaxHR": 90,
          "RestingBP": 164,
          "Sex": 1
         },
         {
          "Age": 35,
          "Cholesterol": 167,
          "ExerciseAngina": 0,
          "FastingBS": 0,
          "HeartDisease": 0,
          "MaxHR": 150,
          "RestingBP": 140,
          "Sex": 0
         },
         {
          "Age": 51,
          "Cholesterol": 305,
          "ExerciseAngina": 1,
          "FastingBS": 0,
          "HeartDisease": 1,
          "MaxHR": 142,
          "RestingBP": 130,
          "Sex": 0
         },
         {
          "Age": 52,
          "Cholesterol": 210,
          "ExerciseAngina": 0,
          "FastingBS": 0,
          "HeartDisease": 0,
          "MaxHR": 148,
          "RestingBP": 120,
          "Sex": 0
         },
         {
          "Age": 51,
          "Cholesterol": 190,
          "ExerciseAngina": 0,
          "FastingBS": 0,
          "HeartDisease": 0,
          "MaxHR": 120,
          "RestingBP": 110,
          "Sex": 0
         },
         {
          "Age": 41,
          "Cholesterol": 203,
          "ExerciseAngina": 0,
          "FastingBS": 0,
          "HeartDisease": 0,
          "MaxHR": 132,
          "RestingBP": 135,
          "Sex": 1
         },
         {
          "Age": 59,
          "Cholesterol": 270,
          "ExerciseAngina": 0,
          "FastingBS": 0,
          "HeartDisease": 0,
          "MaxHR": 145,
          "RestingBP": 178,
          "Sex": 1
         },
         {
          "Age": 47,
          "Cholesterol": 243,
          "ExerciseAngina": 0,
          "FastingBS": 0,
          "HeartDisease": 1,
          "MaxHR": 152,
          "RestingBP": 108,
          "Sex": 1
         },
         {
          "Age": 32,
          "Cholesterol": 225,
          "ExerciseAngina": 0,
          "FastingBS": 0,
          "HeartDisease": 0,
          "MaxHR": 184,
          "RestingBP": 110,
          "Sex": 1
         },
         {
          "Age": 63,
          "Cholesterol": 233,
          "ExerciseAngina": 0,
          "FastingBS": 1,
          "HeartDisease": 0,
          "MaxHR": 150,
          "RestingBP": 145,
          "Sex": 1
         },
         {
          "Age": 55,
          "Cholesterol": 353,
          "ExerciseAngina": 1,
          "FastingBS": 0,
          "HeartDisease": 1,
          "MaxHR": 132,
          "RestingBP": 132,
          "Sex": 1
         },
         {
          "Age": 50,
          "Cholesterol": 219,
          "ExerciseAngina": 0,
          "FastingBS": 0,
          "HeartDisease": 0,
          "MaxHR": 158,
          "RestingBP": 120,
          "Sex": 0
         },
         {
          "Age": 61,
          "Cholesterol": 241,
          "ExerciseAngina": 1,
          "FastingBS": 0,
          "HeartDisease": 1,
          "MaxHR": 148,
          "RestingBP": 146,
          "Sex": 1
         },
         {
          "Age": 54,
          "Cholesterol": 230,
          "ExerciseAngina": 0,
          "FastingBS": 0,
          "HeartDisease": 0,
          "MaxHR": 130,
          "RestingBP": 150,
          "Sex": 0
         },
         {
          "Age": 54,
          "Cholesterol": 603,
          "ExerciseAngina": 1,
          "FastingBS": 1,
          "HeartDisease": 1,
          "MaxHR": 125,
          "RestingBP": 130,
          "Sex": 1
         },
         {
          "Age": 58,
          "Cholesterol": 263,
          "ExerciseAngina": 1,
          "FastingBS": 0,
          "HeartDisease": 1,
          "MaxHR": 140,
          "RestingBP": 130,
          "Sex": 1
         },
         {
          "Age": 40,
          "Cholesterol": 223,
          "ExerciseAngina": 0,
          "FastingBS": 0,
          "HeartDisease": 1,
          "MaxHR": 181,
          "RestingBP": 152,
          "Sex": 1
         },
         {
          "Age": 35,
          "Cholesterol": 308,
          "ExerciseAngina": 0,
          "FastingBS": 0,
          "HeartDisease": 0,
          "MaxHR": 180,
          "RestingBP": 120,
          "Sex": 1
         },
         {
          "Age": 52,
          "Cholesterol": 342,
          "ExerciseAngina": 1,
          "FastingBS": 0,
          "HeartDisease": 1,
          "MaxHR": 96,
          "RestingBP": 112,
          "Sex": 1
         },
         {
          "Age": 49,
          "Cholesterol": 234,
          "ExerciseAngina": 1,
          "FastingBS": 0,
          "HeartDisease": 1,
          "MaxHR": 140,
          "RestingBP": 140,
          "Sex": 1
         },
         {
          "Age": 48,
          "Cholesterol": 159,
          "ExerciseAngina": 0,
          "FastingBS": 0,
          "HeartDisease": 0,
          "MaxHR": 100,
          "RestingBP": 100,
          "Sex": 1
         },
         {
          "Age": 56,
          "Cholesterol": 249,
          "ExerciseAngina": 1,
          "FastingBS": 1,
          "HeartDisease": 1,
          "MaxHR": 144,
          "RestingBP": 125,
          "Sex": 1
         },
         {
          "Age": 35,
          "Cholesterol": 282,
          "ExerciseAngina": 1,
          "FastingBS": 0,
          "HeartDisease": 1,
          "MaxHR": 156,
          "RestingBP": 126,
          "Sex": 1
         },
         {
          "Age": 63,
          "Cholesterol": 230,
          "ExerciseAngina": 1,
          "FastingBS": 1,
          "HeartDisease": 1,
          "MaxHR": 105,
          "RestingBP": 160,
          "Sex": 1
         },
         {
          "Age": 58,
          "Cholesterol": 213,
          "ExerciseAngina": 0,
          "FastingBS": 0,
          "HeartDisease": 1,
          "MaxHR": 140,
          "RestingBP": 130,
          "Sex": 1
         },
         {
          "Age": 55,
          "Cholesterol": 201,
          "ExerciseAngina": 1,
          "FastingBS": 0,
          "HeartDisease": 1,
          "MaxHR": 130,
          "RestingBP": 140,
          "Sex": 1
         },
         {
          "Age": 58,
          "Cholesterol": 211,
          "ExerciseAngina": 0,
          "FastingBS": 1,
          "HeartDisease": 1,
          "MaxHR": 92,
          "RestingBP": 160,
          "Sex": 1
         },
         {
          "Age": 54,
          "Cholesterol": 266,
          "ExerciseAngina": 1,
          "FastingBS": 0,
          "HeartDisease": 1,
          "MaxHR": 109,
          "RestingBP": 124,
          "Sex": 1
         },
         {
          "Age": 70,
          "Cholesterol": 245,
          "ExerciseAngina": 0,
          "FastingBS": 0,
          "HeartDisease": 0,
          "MaxHR": 143,
          "RestingBP": 156,
          "Sex": 1
         },
         {
          "Age": 43,
          "Cholesterol": 186,
          "ExerciseAngina": 0,
          "FastingBS": 0,
          "HeartDisease": 0,
          "MaxHR": 154,
          "RestingBP": 150,
          "Sex": 0
         },
         {
          "Age": 55,
          "Cholesterol": 248,
          "ExerciseAngina": 1,
          "FastingBS": 0,
          "HeartDisease": 1,
          "MaxHR": 96,
          "RestingBP": 145,
          "Sex": 1
         },
         {
          "Age": 39,
          "Cholesterol": 307,
          "ExerciseAngina": 0,
          "FastingBS": 0,
          "HeartDisease": 0,
          "MaxHR": 140,
          "RestingBP": 130,
          "Sex": 1
         },
         {
          "Age": 58,
          "Cholesterol": 458,
          "ExerciseAngina": 0,
          "FastingBS": 1,
          "HeartDisease": 0,
          "MaxHR": 69,
          "RestingBP": 132,
          "Sex": 1
         },
         {
          "Age": 41,
          "Cholesterol": 235,
          "ExerciseAngina": 0,
          "FastingBS": 0,
          "HeartDisease": 0,
          "MaxHR": 153,
          "RestingBP": 110,
          "Sex": 1
         },
         {
          "Age": 57,
          "Cholesterol": 255,
          "ExerciseAngina": 1,
          "FastingBS": 0,
          "HeartDisease": 1,
          "MaxHR": 92,
          "RestingBP": 150,
          "Sex": 1
         },
         {
          "Age": 41,
          "Cholesterol": 204,
          "ExerciseAngina": 0,
          "FastingBS": 0,
          "HeartDisease": 0,
          "MaxHR": 172,
          "RestingBP": 130,
          "Sex": 0
         },
         {
          "Age": 57,
          "Cholesterol": 347,
          "ExerciseAngina": 1,
          "FastingBS": 0,
          "HeartDisease": 0,
          "MaxHR": 126,
          "RestingBP": 180,
          "Sex": 0
         },
         {
          "Age": 58,
          "Cholesterol": 211,
          "ExerciseAngina": 0,
          "FastingBS": 1,
          "HeartDisease": 0,
          "MaxHR": 165,
          "RestingBP": 140,
          "Sex": 1
         },
         {
          "Age": 52,
          "Cholesterol": 225,
          "ExerciseAngina": 1,
          "FastingBS": 0,
          "HeartDisease": 1,
          "MaxHR": 120,
          "RestingBP": 130,
          "Sex": 1
         },
         {
          "Age": 56,
          "Cholesterol": 282,
          "ExerciseAngina": 1,
          "FastingBS": 1,
          "HeartDisease": 1,
          "MaxHR": 126,
          "RestingBP": 137,
          "Sex": 1
         },
         {
          "Age": 41,
          "Cholesterol": 157,
          "ExerciseAngina": 0,
          "FastingBS": 0,
          "HeartDisease": 0,
          "MaxHR": 182,
          "RestingBP": 120,
          "Sex": 1
         },
         {
          "Age": 50,
          "Cholesterol": 233,
          "ExerciseAngina": 1,
          "FastingBS": 0,
          "HeartDisease": 1,
          "MaxHR": 121,
          "RestingBP": 130,
          "Sex": 1
         },
         {
          "Age": 44,
          "Cholesterol": 215,
          "ExerciseAngina": 0,
          "FastingBS": 0,
          "HeartDisease": 0,
          "MaxHR": 135,
          "RestingBP": 130,
          "Sex": 1
         },
         {
          "Age": 57,
          "Cholesterol": 197,
          "ExerciseAngina": 0,
          "FastingBS": 0,
          "HeartDisease": 0,
          "MaxHR": 100,
          "RestingBP": 110,
          "Sex": 1
         },
         {
          "Age": 60,
          "Cholesterol": 216,
          "ExerciseAngina": 1,
          "FastingBS": 0,
          "HeartDisease": 1,
          "MaxHR": 110,
          "RestingBP": 142,
          "Sex": 1
         },
         {
          "Age": 63,
          "Cholesterol": 267,
          "ExerciseAngina": 1,
          "FastingBS": 1,
          "HeartDisease": 1,
          "MaxHR": 88,
          "RestingBP": 160,
          "Sex": 1
         },
         {
          "Age": 35,
          "Cholesterol": 198,
          "ExerciseAngina": 1,
          "FastingBS": 0,
          "HeartDisease": 1,
          "MaxHR": 130,
          "RestingBP": 120,
          "Sex": 1
         },
         {
          "Age": 44,
          "Cholesterol": 263,
          "ExerciseAngina": 0,
          "FastingBS": 0,
          "HeartDisease": 0,
          "MaxHR": 173,
          "RestingBP": 120,
          "Sex": 1
         },
         {
          "Age": 41,
          "Cholesterol": 171,
          "ExerciseAngina": 1,
          "FastingBS": 0,
          "HeartDisease": 0,
          "MaxHR": 128,
          "RestingBP": 150,
          "Sex": 1
         },
         {
          "Age": 52,
          "Cholesterol": 284,
          "ExerciseAngina": 0,
          "FastingBS": 0,
          "HeartDisease": 0,
          "MaxHR": 118,
          "RestingBP": 120,
          "Sex": 1
         },
         {
          "Age": 57,
          "Cholesterol": 303,
          "ExerciseAngina": 0,
          "FastingBS": 0,
          "HeartDisease": 0,
          "MaxHR": 159,
          "RestingBP": 128,
          "Sex": 0
         },
         {
          "Age": 43,
          "Cholesterol": 211,
          "ExerciseAngina": 0,
          "FastingBS": 0,
          "HeartDisease": 0,
          "MaxHR": 161,
          "RestingBP": 110,
          "Sex": 1
         },
         {
          "Age": 59,
          "Cholesterol": 273,
          "ExerciseAngina": 0,
          "FastingBS": 0,
          "HeartDisease": 1,
          "MaxHR": 125,
          "RestingBP": 160,
          "Sex": 1
         },
         {
          "Age": 54,
          "Cholesterol": 182,
          "ExerciseAngina": 0,
          "FastingBS": 0,
          "HeartDisease": 0,
          "MaxHR": 141,
          "RestingBP": 132,
          "Sex": 1
         },
         {
          "Age": 60,
          "Cholesterol": 282,
          "ExerciseAngina": 1,
          "FastingBS": 0,
          "HeartDisease": 1,
          "MaxHR": 142,
          "RestingBP": 145,
          "Sex": 1
         },
         {
          "Age": 48,
          "Cholesterol": 193,
          "ExerciseAngina": 1,
          "FastingBS": 0,
          "HeartDisease": 1,
          "MaxHR": 102,
          "RestingBP": 160,
          "Sex": 1
         },
         {
          "Age": 35,
          "Cholesterol": 183,
          "ExerciseAngina": 0,
          "FastingBS": 0,
          "HeartDisease": 0,
          "MaxHR": 182,
          "RestingBP": 138,
          "Sex": 0
         },
         {
          "Age": 53,
          "Cholesterol": 285,
          "ExerciseAngina": 1,
          "FastingBS": 0,
          "HeartDisease": 1,
          "MaxHR": 120,
          "RestingBP": 180,
          "Sex": 1
         },
         {
          "Age": 55,
          "Cholesterol": 220,
          "ExerciseAngina": 0,
          "FastingBS": 0,
          "HeartDisease": 0,
          "MaxHR": 134,
          "RestingBP": 120,
          "Sex": 1
         },
         {
          "Age": 42,
          "Cholesterol": 295,
          "ExerciseAngina": 0,
          "FastingBS": 0,
          "HeartDisease": 0,
          "MaxHR": 162,
          "RestingBP": 120,
          "Sex": 1
         },
         {
          "Age": 48,
          "Cholesterol": 274,
          "ExerciseAngina": 0,
          "FastingBS": 0,
          "HeartDisease": 1,
          "MaxHR": 166,
          "RestingBP": 124,
          "Sex": 1
         },
         {
          "Age": 50,
          "Cholesterol": 216,
          "ExerciseAngina": 0,
          "FastingBS": 0,
          "HeartDisease": 0,
          "MaxHR": 170,
          "RestingBP": 140,
          "Sex": 1
         },
         {
          "Age": 63,
          "Cholesterol": 308,
          "ExerciseAngina": 1,
          "FastingBS": 0,
          "HeartDisease": 1,
          "MaxHR": 138,
          "RestingBP": 130,
          "Sex": 1
         },
         {
          "Age": 59,
          "Cholesterol": 126,
          "ExerciseAngina": 0,
          "FastingBS": 0,
          "HeartDisease": 1,
          "MaxHR": 125,
          "RestingBP": 130,
          "Sex": 1
         },
         {
          "Age": 43,
          "Cholesterol": 341,
          "ExerciseAngina": 1,
          "FastingBS": 1,
          "HeartDisease": 1,
          "MaxHR": 136,
          "RestingBP": 132,
          "Sex": 0
         },
         {
          "Age": 42,
          "Cholesterol": 147,
          "ExerciseAngina": 0,
          "FastingBS": 0,
          "HeartDisease": 0,
          "MaxHR": 146,
          "RestingBP": 160,
          "Sex": 1
         },
         {
          "Age": 54,
          "Cholesterol": 274,
          "ExerciseAngina": 1,
          "FastingBS": 0,
          "HeartDisease": 1,
          "MaxHR": 105,
          "RestingBP": 138,
          "Sex": 0
         },
         {
          "Age": 69,
          "Cholesterol": 239,
          "ExerciseAngina": 0,
          "FastingBS": 0,
          "HeartDisease": 0,
          "MaxHR": 151,
          "RestingBP": 140,
          "Sex": 0
         },
         {
          "Age": 52,
          "Cholesterol": 255,
          "ExerciseAngina": 1,
          "FastingBS": 0,
          "HeartDisease": 1,
          "MaxHR": 161,
          "RestingBP": 128,
          "Sex": 1
         },
         {
          "Age": 58,
          "Cholesterol": 300,
          "ExerciseAngina": 0,
          "FastingBS": 0,
          "HeartDisease": 1,
          "MaxHR": 171,
          "RestingBP": 125,
          "Sex": 1
         },
         {
          "Age": 51,
          "Cholesterol": 175,
          "ExerciseAngina": 0,
          "FastingBS": 0,
          "HeartDisease": 0,
          "MaxHR": 123,
          "RestingBP": 110,
          "Sex": 1
         },
         {
          "Age": 36,
          "Cholesterol": 166,
          "ExerciseAngina": 0,
          "FastingBS": 0,
          "HeartDisease": 0,
          "MaxHR": 180,
          "RestingBP": 120,
          "Sex": 1
         },
         {
          "Age": 42,
          "Cholesterol": 226,
          "ExerciseAngina": 0,
          "FastingBS": 0,
          "HeartDisease": 0,
          "MaxHR": 178,
          "RestingBP": 140,
          "Sex": 1
         },
         {
          "Age": 43,
          "Cholesterol": 177,
          "ExerciseAngina": 1,
          "FastingBS": 0,
          "HeartDisease": 1,
          "MaxHR": 120,
          "RestingBP": 120,
          "Sex": 1
         },
         {
          "Age": 49,
          "Cholesterol": 266,
          "ExerciseAngina": 0,
          "FastingBS": 0,
          "HeartDisease": 0,
          "MaxHR": 171,
          "RestingBP": 130,
          "Sex": 1
         },
         {
          "Age": 49,
          "Cholesterol": 341,
          "ExerciseAngina": 1,
          "FastingBS": 0,
          "HeartDisease": 1,
          "MaxHR": 120,
          "RestingBP": 130,
          "Sex": 1
         },
         {
          "Age": 55,
          "Cholesterol": 250,
          "ExerciseAngina": 0,
          "FastingBS": 0,
          "HeartDisease": 0,
          "MaxHR": 161,
          "RestingBP": 135,
          "Sex": 0
         },
         {
          "Age": 54,
          "Cholesterol": 312,
          "ExerciseAngina": 0,
          "FastingBS": 0,
          "HeartDisease": 0,
          "MaxHR": 130,
          "RestingBP": 160,
          "Sex": 0
         },
         {
          "Age": 44,
          "Cholesterol": 242,
          "ExerciseAngina": 0,
          "FastingBS": 0,
          "HeartDisease": 0,
          "MaxHR": 149,
          "RestingBP": 118,
          "Sex": 0
         },
         {
          "Age": 54,
          "Cholesterol": 217,
          "ExerciseAngina": 0,
          "FastingBS": 0,
          "HeartDisease": 0,
          "MaxHR": 137,
          "RestingBP": 120,
          "Sex": 1
         },
         {
          "Age": 66,
          "Cholesterol": 302,
          "ExerciseAngina": 0,
          "FastingBS": 0,
          "HeartDisease": 0,
          "MaxHR": 151,
          "RestingBP": 120,
          "Sex": 1
         },
         {
          "Age": 63,
          "Cholesterol": 252,
          "ExerciseAngina": 0,
          "FastingBS": 0,
          "HeartDisease": 0,
          "MaxHR": 172,
          "RestingBP": 135,
          "Sex": 0
         },
         {
          "Age": 62,
          "Cholesterol": 164,
          "ExerciseAngina": 0,
          "FastingBS": 0,
          "HeartDisease": 1,
          "MaxHR": 145,
          "RestingBP": 160,
          "Sex": 0
         },
         {
          "Age": 64,
          "Cholesterol": 335,
          "ExerciseAngina": 0,
          "FastingBS": 0,
          "HeartDisease": 1,
          "MaxHR": 158,
          "RestingBP": 140,
          "Sex": 1
         },
         {
          "Age": 54,
          "Cholesterol": 242,
          "ExerciseAngina": 1,
          "FastingBS": 0,
          "HeartDisease": 1,
          "MaxHR": 91,
          "RestingBP": 130,
          "Sex": 1
         },
         {
          "Age": 63,
          "Cholesterol": 330,
          "ExerciseAngina": 1,
          "FastingBS": 1,
          "HeartDisease": 1,
          "MaxHR": 132,
          "RestingBP": 130,
          "Sex": 1
         },
         {
          "Age": 57,
          "Cholesterol": 131,
          "ExerciseAngina": 1,
          "FastingBS": 0,
          "HeartDisease": 1,
          "MaxHR": 115,
          "RestingBP": 130,
          "Sex": 1
         },
         {
          "Age": 47,
          "Cholesterol": 235,
          "ExerciseAngina": 0,
          "FastingBS": 0,
          "HeartDisease": 0,
          "MaxHR": 145,
          "RestingBP": 130,
          "Sex": 0
         },
         {
          "Age": 55,
          "Cholesterol": 226,
          "ExerciseAngina": 1,
          "FastingBS": 0,
          "HeartDisease": 1,
          "MaxHR": 127,
          "RestingBP": 120,
          "Sex": 1
         },
         {
          "Age": 49,
          "Cholesterol": 201,
          "ExerciseAngina": 0,
          "FastingBS": 0,
          "HeartDisease": 0,
          "MaxHR": 164,
          "RestingBP": 124,
          "Sex": 0
         },
         {
          "Age": 50,
          "Cholesterol": 129,
          "ExerciseAngina": 0,
          "FastingBS": 0,
          "HeartDisease": 0,
          "MaxHR": 135,
          "RestingBP": 140,
          "Sex": 1
         },
         {
          "Age": 37,
          "Cholesterol": 173,
          "ExerciseAngina": 0,
          "FastingBS": 0,
          "HeartDisease": 0,
          "MaxHR": 184,
          "RestingBP": 130,
          "Sex": 0
         },
         {
          "Age": 39,
          "Cholesterol": 241,
          "ExerciseAngina": 0,
          "FastingBS": 0,
          "HeartDisease": 0,
          "MaxHR": 106,
          "RestingBP": 190,
          "Sex": 1
         },
         {
          "Age": 45,
          "Cholesterol": 160,
          "ExerciseAngina": 0,
          "FastingBS": 0,
          "HeartDisease": 0,
          "MaxHR": 138,
          "RestingBP": 112,
          "Sex": 0
         },
         {
          "Age": 40,
          "Cholesterol": 281,
          "ExerciseAngina": 0,
          "FastingBS": 0,
          "HeartDisease": 0,
          "MaxHR": 167,
          "RestingBP": 130,
          "Sex": 1
         },
         {
          "Age": 62,
          "Cholesterol": 271,
          "ExerciseAngina": 0,
          "FastingBS": 0,
          "HeartDisease": 0,
          "MaxHR": 152,
          "RestingBP": 140,
          "Sex": 1
         },
         {
          "Age": 42,
          "Cholesterol": 228,
          "ExerciseAngina": 1,
          "FastingBS": 0,
          "HeartDisease": 0,
          "MaxHR": 152,
          "RestingBP": 120,
          "Sex": 1
         },
         {
          "Age": 40,
          "Cholesterol": 275,
          "ExerciseAngina": 0,
          "FastingBS": 0,
          "HeartDisease": 0,
          "MaxHR": 150,
          "RestingBP": 130,
          "Sex": 1
         },
         {
          "Age": 65,
          "Cholesterol": 252,
          "ExerciseAngina": 0,
          "FastingBS": 0,
          "HeartDisease": 0,
          "MaxHR": 135,
          "RestingBP": 140,
          "Sex": 1
         },
         {
          "Age": 54,
          "Cholesterol": 206,
          "ExerciseAngina": 1,
          "FastingBS": 0,
          "HeartDisease": 1,
          "MaxHR": 108,
          "RestingBP": 110,
          "Sex": 1
         },
         {
          "Age": 54,
          "Cholesterol": 221,
          "ExerciseAngina": 0,
          "FastingBS": 0,
          "HeartDisease": 0,
          "MaxHR": 138,
          "RestingBP": 120,
          "Sex": 0
         },
         {
          "Age": 55,
          "Cholesterol": 214,
          "ExerciseAngina": 0,
          "FastingBS": 1,
          "HeartDisease": 0,
          "MaxHR": 180,
          "RestingBP": 110,
          "Sex": 1
         },
         {
          "Age": 71,
          "Cholesterol": 221,
          "ExerciseAngina": 1,
          "FastingBS": 0,
          "HeartDisease": 1,
          "MaxHR": 115,
          "RestingBP": 130,
          "Sex": 1
         },
         {
          "Age": 51,
          "Cholesterol": 213,
          "ExerciseAngina": 1,
          "FastingBS": 0,
          "HeartDisease": 0,
          "MaxHR": 125,
          "RestingBP": 125,
          "Sex": 1
         },
         {
          "Age": 50,
          "Cholesterol": 349,
          "ExerciseAngina": 1,
          "FastingBS": 0,
          "HeartDisease": 1,
          "MaxHR": 120,
          "RestingBP": 144,
          "Sex": 1
         },
         {
          "Age": 62,
          "Cholesterol": 244,
          "ExerciseAngina": 1,
          "FastingBS": 0,
          "HeartDisease": 1,
          "MaxHR": 154,
          "RestingBP": 150,
          "Sex": 0
         },
         {
          "Age": 60,
          "Cholesterol": 281,
          "ExerciseAngina": 1,
          "FastingBS": 0,
          "HeartDisease": 1,
          "MaxHR": 118,
          "RestingBP": 140,
          "Sex": 1
         },
         {
          "Age": 45,
          "Cholesterol": 237,
          "ExerciseAngina": 0,
          "FastingBS": 0,
          "HeartDisease": 0,
          "MaxHR": 170,
          "RestingBP": 130,
          "Sex": 0
         },
         {
          "Age": 31,
          "Cholesterol": 270,
          "ExerciseAngina": 1,
          "FastingBS": 0,
          "HeartDisease": 1,
          "MaxHR": 153,
          "RestingBP": 120,
          "Sex": 1
         },
         {
          "Age": 49,
          "Cholesterol": 206,
          "ExerciseAngina": 0,
          "FastingBS": 0,
          "HeartDisease": 1,
          "MaxHR": 170,
          "RestingBP": 130,
          "Sex": 1
         },
         {
          "Age": 61,
          "Cholesterol": 283,
          "ExerciseAngina": 0,
          "FastingBS": 0,
          "HeartDisease": 0,
          "MaxHR": 135,
          "RestingBP": 139,
          "Sex": 1
         },
         {
          "Age": 52,
          "Cholesterol": 180,
          "ExerciseAngina": 1,
          "FastingBS": 0,
          "HeartDisease": 0,
          "MaxHR": 140,
          "RestingBP": 130,
          "Sex": 0
         },
         {
          "Age": 59,
          "Cholesterol": 234,
          "ExerciseAngina": 0,
          "FastingBS": 0,
          "HeartDisease": 0,
          "MaxHR": 161,
          "RestingBP": 135,
          "Sex": 1
         },
         {
          "Age": 57,
          "Cholesterol": 285,
          "ExerciseAngina": 0,
          "FastingBS": 1,
          "HeartDisease": 1,
          "MaxHR": 120,
          "RestingBP": 180,
          "Sex": 1
         },
         {
          "Age": 61,
          "Cholesterol": 207,
          "ExerciseAngina": 1,
          "FastingBS": 0,
          "HeartDisease": 1,
          "MaxHR": 138,
          "RestingBP": 140,
          "Sex": 1
         },
         {
          "Age": 67,
          "Cholesterol": 564,
          "ExerciseAngina": 0,
          "FastingBS": 0,
          "HeartDisease": 0,
          "MaxHR": 160,
          "RestingBP": 115,
          "Sex": 0
         },
         {
          "Age": 47,
          "Cholesterol": 275,
          "ExerciseAngina": 1,
          "FastingBS": 0,
          "HeartDisease": 1,
          "MaxHR": 118,
          "RestingBP": 110,
          "Sex": 1
         },
         {
          "Age": 57,
          "Cholesterol": 270,
          "ExerciseAngina": 1,
          "FastingBS": 1,
          "HeartDisease": 1,
          "MaxHR": 160,
          "RestingBP": 144,
          "Sex": 1
         },
         {
          "Age": 54,
          "Cholesterol": 232,
          "ExerciseAngina": 0,
          "FastingBS": 0,
          "HeartDisease": 0,
          "MaxHR": 165,
          "RestingBP": 150,
          "Sex": 1
         },
         {
          "Age": 54,
          "Cholesterol": 166,
          "ExerciseAngina": 1,
          "FastingBS": 0,
          "HeartDisease": 1,
          "MaxHR": 118,
          "RestingBP": 140,
          "Sex": 1
         },
         {
          "Age": 46,
          "Cholesterol": 310,
          "ExerciseAngina": 0,
          "FastingBS": 0,
          "HeartDisease": 1,
          "MaxHR": 126,
          "RestingBP": 134,
          "Sex": 1
         },
         {
          "Age": 70,
          "Cholesterol": 322,
          "ExerciseAngina": 0,
          "FastingBS": 0,
          "HeartDisease": 1,
          "MaxHR": 109,
          "RestingBP": 130,
          "Sex": 1
         },
         {
          "Age": 55,
          "Cholesterol": 268,
          "ExerciseAngina": 1,
          "FastingBS": 0,
          "HeartDisease": 1,
          "MaxHR": 128,
          "RestingBP": 140,
          "Sex": 1
         },
         {
          "Age": 43,
          "Cholesterol": 291,
          "ExerciseAngina": 0,
          "FastingBS": 0,
          "HeartDisease": 1,
          "MaxHR": 155,
          "RestingBP": 120,
          "Sex": 1
         },
         {
          "Age": 56,
          "Cholesterol": 166,
          "ExerciseAngina": 0,
          "FastingBS": 0,
          "HeartDisease": 0,
          "MaxHR": 140,
          "RestingBP": 126,
          "Sex": 1
         },
         {
          "Age": 56,
          "Cholesterol": 288,
          "ExerciseAngina": 1,
          "FastingBS": 1,
          "HeartDisease": 1,
          "MaxHR": 133,
          "RestingBP": 200,
          "Sex": 0
         },
         {
          "Age": 57,
          "Cholesterol": 229,
          "ExerciseAngina": 0,
          "FastingBS": 0,
          "HeartDisease": 1,
          "MaxHR": 150,
          "RestingBP": 128,
          "Sex": 1
         },
         {
          "Age": 50,
          "Cholesterol": 243,
          "ExerciseAngina": 0,
          "FastingBS": 0,
          "HeartDisease": 1,
          "MaxHR": 128,
          "RestingBP": 150,
          "Sex": 1
         },
         {
          "Age": 52,
          "Cholesterol": 404,
          "ExerciseAngina": 1,
          "FastingBS": 0,
          "HeartDisease": 1,
          "MaxHR": 124,
          "RestingBP": 140,
          "Sex": 1
         },
         {
          "Age": 54,
          "Cholesterol": 188,
          "ExerciseAngina": 0,
          "FastingBS": 0,
          "HeartDisease": 1,
          "MaxHR": 113,
          "RestingBP": 120,
          "Sex": 1
         },
         {
          "Age": 50,
          "Cholesterol": 341,
          "ExerciseAngina": 1,
          "FastingBS": 0,
          "HeartDisease": 1,
          "MaxHR": 125,
          "RestingBP": 140,
          "Sex": 1
         },
         {
          "Age": 53,
          "Cholesterol": 320,
          "ExerciseAngina": 0,
          "FastingBS": 0,
          "HeartDisease": 0,
          "MaxHR": 162,
          "RestingBP": 140,
          "Sex": 1
         },
         {
          "Age": 36,
          "Cholesterol": 209,
          "ExerciseAngina": 0,
          "FastingBS": 0,
          "HeartDisease": 0,
          "MaxHR": 178,
          "RestingBP": 130,
          "Sex": 1
         },
         {
          "Age": 48,
          "Cholesterol": 355,
          "ExerciseAngina": 1,
          "FastingBS": 0,
          "HeartDisease": 1,
          "MaxHR": 99,
          "RestingBP": 160,
          "Sex": 1
         },
         {
          "Age": 56,
          "Cholesterol": 219,
          "ExerciseAngina": 0,
          "FastingBS": 0,
          "HeartDisease": 0,
          "MaxHR": 164,
          "RestingBP": 130,
          "Sex": 0
         },
         {
          "Age": 39,
          "Cholesterol": 182,
          "ExerciseAngina": 0,
          "FastingBS": 0,
          "HeartDisease": 0,
          "MaxHR": 180,
          "RestingBP": 110,
          "Sex": 0
         },
         {
          "Age": 29,
          "Cholesterol": 263,
          "ExerciseAngina": 0,
          "FastingBS": 0,
          "HeartDisease": 0,
          "MaxHR": 170,
          "RestingBP": 140,
          "Sex": 1
         },
         {
          "Age": 77,
          "Cholesterol": 304,
          "ExerciseAngina": 1,
          "FastingBS": 0,
          "HeartDisease": 1,
          "MaxHR": 162,
          "RestingBP": 125,
          "Sex": 1
         },
         {
          "Age": 57,
          "Cholesterol": 207,
          "ExerciseAngina": 1,
          "FastingBS": 0,
          "HeartDisease": 0,
          "MaxHR": 96,
          "RestingBP": 130,
          "Sex": 1
         },
         {
          "Age": 50,
          "Cholesterol": 196,
          "ExerciseAngina": 0,
          "FastingBS": 0,
          "HeartDisease": 0,
          "MaxHR": 163,
          "RestingBP": 129,
          "Sex": 1
         },
         {
          "Age": 37,
          "Cholesterol": 215,
          "ExerciseAngina": 0,
          "FastingBS": 0,
          "HeartDisease": 0,
          "MaxHR": 170,
          "RestingBP": 120,
          "Sex": 0
         },
         {
          "Age": 62,
          "Cholesterol": 208,
          "ExerciseAngina": 0,
          "FastingBS": 1,
          "HeartDisease": 0,
          "MaxHR": 140,
          "RestingBP": 128,
          "Sex": 1
         },
         {
          "Age": 39,
          "Cholesterol": 273,
          "ExerciseAngina": 0,
          "FastingBS": 0,
          "HeartDisease": 0,
          "MaxHR": 132,
          "RestingBP": 110,
          "Sex": 1
         },
         {
          "Age": 64,
          "Cholesterol": 309,
          "ExerciseAngina": 1,
          "FastingBS": 0,
          "HeartDisease": 1,
          "MaxHR": 131,
          "RestingBP": 125,
          "Sex": 1
         },
         {
          "Age": 64,
          "Cholesterol": 313,
          "ExerciseAngina": 0,
          "FastingBS": 0,
          "HeartDisease": 0,
          "MaxHR": 133,
          "RestingBP": 140,
          "Sex": 0
         },
         {
          "Age": 58,
          "Cholesterol": 393,
          "ExerciseAngina": 1,
          "FastingBS": 0,
          "HeartDisease": 1,
          "MaxHR": 110,
          "RestingBP": 180,
          "Sex": 0
         },
         {
          "Age": 45,
          "Cholesterol": 208,
          "ExerciseAngina": 1,
          "FastingBS": 0,
          "HeartDisease": 0,
          "MaxHR": 148,
          "RestingBP": 104,
          "Sex": 1
         },
         {
          "Age": 49,
          "Cholesterol": 149,
          "ExerciseAngina": 0,
          "FastingBS": 0,
          "HeartDisease": 1,
          "MaxHR": 126,
          "RestingBP": 118,
          "Sex": 1
         },
         {
          "Age": 37,
          "Cholesterol": 240,
          "ExerciseAngina": 0,
          "FastingBS": 0,
          "HeartDisease": 0,
          "MaxHR": 165,
          "RestingBP": 118,
          "Sex": 1
         },
         {
          "Age": 56,
          "Cholesterol": 256,
          "ExerciseAngina": 1,
          "FastingBS": 1,
          "HeartDisease": 1,
          "MaxHR": 142,
          "RestingBP": 130,
          "Sex": 1
         },
         {
          "Age": 36,
          "Cholesterol": 267,
          "ExerciseAngina": 0,
          "FastingBS": 0,
          "HeartDisease": 1,
          "MaxHR": 160,
          "RestingBP": 120,
          "Sex": 1
         },
         {
          "Age": 33,
          "Cholesterol": 298,
          "ExerciseAngina": 0,
          "FastingBS": 0,
          "HeartDisease": 0,
          "MaxHR": 185,
          "RestingBP": 120,
          "Sex": 1
         },
         {
          "Age": 40,
          "Cholesterol": 289,
          "ExerciseAngina": 0,
          "FastingBS": 0,
          "HeartDisease": 0,
          "MaxHR": 172,
          "RestingBP": 140,
          "Sex": 1
         },
         {
          "Age": 46,
          "Cholesterol": 277,
          "ExerciseAngina": 1,
          "FastingBS": 0,
          "HeartDisease": 1,
          "MaxHR": 125,
          "RestingBP": 120,
          "Sex": 1
         },
         {
          "Age": 48,
          "Cholesterol": 195,
          "ExerciseAngina": 0,
          "FastingBS": 0,
          "HeartDisease": 0,
          "MaxHR": 125,
          "RestingBP": 120,
          "Sex": 0
         },
         {
          "Age": 57,
          "Cholesterol": 232,
          "ExerciseAngina": 0,
          "FastingBS": 0,
          "HeartDisease": 1,
          "MaxHR": 164,
          "RestingBP": 154,
          "Sex": 1
         },
         {
          "Age": 47,
          "Cholesterol": 205,
          "ExerciseAngina": 1,
          "FastingBS": 0,
          "HeartDisease": 1,
          "MaxHR": 98,
          "RestingBP": 120,
          "Sex": 0
         },
         {
          "Age": 67,
          "Cholesterol": 254,
          "ExerciseAngina": 0,
          "FastingBS": 1,
          "HeartDisease": 1,
          "MaxHR": 163,
          "RestingBP": 125,
          "Sex": 1
         },
         {
          "Age": 67,
          "Cholesterol": 237,
          "ExerciseAngina": 0,
          "FastingBS": 0,
          "HeartDisease": 1,
          "MaxHR": 71,
          "RestingBP": 120,
          "Sex": 1
         },
         {
          "Age": 45,
          "Cholesterol": 309,
          "ExerciseAngina": 1,
          "FastingBS": 0,
          "HeartDisease": 1,
          "MaxHR": 147,
          "RestingBP": 142,
          "Sex": 1
         },
         {
          "Age": 39,
          "Cholesterol": 147,
          "ExerciseAngina": 0,
          "FastingBS": 1,
          "HeartDisease": 0,
          "MaxHR": 160,
          "RestingBP": 160,
          "Sex": 1
         },
         {
          "Age": 64,
          "Cholesterol": 211,
          "ExerciseAngina": 1,
          "FastingBS": 0,
          "HeartDisease": 0,
          "MaxHR": 144,
          "RestingBP": 110,
          "Sex": 1
         },
         {
          "Age": 51,
          "Cholesterol": 194,
          "ExerciseAngina": 0,
          "FastingBS": 0,
          "HeartDisease": 0,
          "MaxHR": 170,
          "RestingBP": 160,
          "Sex": 0
         },
         {
          "Age": 38,
          "Cholesterol": 275,
          "ExerciseAngina": 0,
          "FastingBS": 0,
          "HeartDisease": 0,
          "MaxHR": 129,
          "RestingBP": 120,
          "Sex": 0
         },
         {
          "Age": 52,
          "Cholesterol": 259,
          "ExerciseAngina": 0,
          "FastingBS": 0,
          "HeartDisease": 0,
          "MaxHR": 170,
          "RestingBP": 140,
          "Sex": 1
         },
         {
          "Age": 61,
          "Cholesterol": 234,
          "ExerciseAngina": 0,
          "FastingBS": 0,
          "HeartDisease": 1,
          "MaxHR": 145,
          "RestingBP": 134,
          "Sex": 1
         },
         {
          "Age": 33,
          "Cholesterol": 246,
          "ExerciseAngina": 1,
          "FastingBS": 0,
          "HeartDisease": 1,
          "MaxHR": 150,
          "RestingBP": 100,
          "Sex": 0
         },
         {
          "Age": 52,
          "Cholesterol": 201,
          "ExerciseAngina": 0,
          "FastingBS": 0,
          "HeartDisease": 0,
          "MaxHR": 158,
          "RestingBP": 134,
          "Sex": 1
         },
         {
          "Age": 46,
          "Cholesterol": 240,
          "ExerciseAngina": 0,
          "FastingBS": 0,
          "HeartDisease": 0,
          "MaxHR": 140,
          "RestingBP": 110,
          "Sex": 1
         },
         {
          "Age": 65,
          "Cholesterol": 306,
          "ExerciseAngina": 1,
          "FastingBS": 1,
          "HeartDisease": 1,
          "MaxHR": 87,
          "RestingBP": 140,
          "Sex": 1
         },
         {
          "Age": 62,
          "Cholesterol": 268,
          "ExerciseAngina": 0,
          "FastingBS": 0,
          "HeartDisease": 1,
          "MaxHR": 160,
          "RestingBP": 140,
          "Sex": 0
         },
         {
          "Age": 61,
          "Cholesterol": 294,
          "ExerciseAngina": 1,
          "FastingBS": 0,
          "HeartDisease": 0,
          "MaxHR": 120,
          "RestingBP": 130,
          "Sex": 0
         },
         {
          "Age": 47,
          "Cholesterol": 253,
          "ExerciseAngina": 0,
          "FastingBS": 0,
          "HeartDisease": 0,
          "MaxHR": 179,
          "RestingBP": 130,
          "Sex": 1
         },
         {
          "Age": 46,
          "Cholesterol": 238,
          "ExerciseAngina": 0,
          "FastingBS": 0,
          "HeartDisease": 0,
          "MaxHR": 90,
          "RestingBP": 130,
          "Sex": 0
         },
         {
          "Age": 63,
          "Cholesterol": 305,
          "ExerciseAngina": 1,
          "FastingBS": 0,
          "HeartDisease": 1,
          "MaxHR": 121,
          "RestingBP": 96,
          "Sex": 1
         },
         {
          "Age": 55,
          "Cholesterol": 217,
          "ExerciseAngina": 1,
          "FastingBS": 0,
          "HeartDisease": 1,
          "MaxHR": 111,
          "RestingBP": 140,
          "Sex": 1
         },
         {
          "Age": 41,
          "Cholesterol": 198,
          "ExerciseAngina": 0,
          "FastingBS": 0,
          "HeartDisease": 0,
          "MaxHR": 168,
          "RestingBP": 105,
          "Sex": 0
         },
         {
          "Age": 41,
          "Cholesterol": 268,
          "ExerciseAngina": 1,
          "FastingBS": 0,
          "HeartDisease": 0,
          "MaxHR": 172,
          "RestingBP": 112,
          "Sex": 0
         },
         {
          "Age": 60,
          "Cholesterol": 246,
          "ExerciseAngina": 0,
          "FastingBS": 0,
          "HeartDisease": 0,
          "MaxHR": 135,
          "RestingBP": 120,
          "Sex": 1
         },
         {
          "Age": 55,
          "Cholesterol": 262,
          "ExerciseAngina": 0,
          "FastingBS": 0,
          "HeartDisease": 0,
          "MaxHR": 155,
          "RestingBP": 130,
          "Sex": 1
         },
         {
          "Age": 62,
          "Cholesterol": 231,
          "ExerciseAngina": 0,
          "FastingBS": 0,
          "HeartDisease": 0,
          "MaxHR": 146,
          "RestingBP": 130,
          "Sex": 1
         },
         {
          "Age": 69,
          "Cholesterol": 216,
          "ExerciseAngina": 1,
          "FastingBS": 1,
          "HeartDisease": 1,
          "MaxHR": 84,
          "RestingBP": 122,
          "Sex": 1
         },
         {
          "Age": 66,
          "Cholesterol": 213,
          "ExerciseAngina": 1,
          "FastingBS": 1,
          "HeartDisease": 0,
          "MaxHR": 99,
          "RestingBP": 110,
          "Sex": 1
         },
         {
          "Age": 53,
          "Cholesterol": 246,
          "ExerciseAngina": 1,
          "FastingBS": 0,
          "HeartDisease": 1,
          "MaxHR": 116,
          "RestingBP": 120,
          "Sex": 1
         },
         {
          "Age": 53,
          "Cholesterol": 234,
          "ExerciseAngina": 0,
          "FastingBS": 0,
          "HeartDisease": 0,
          "MaxHR": 160,
          "RestingBP": 138,
          "Sex": 0
         },
         {
          "Age": 47,
          "Cholesterol": 263,
          "ExerciseAngina": 0,
          "FastingBS": 0,
          "HeartDisease": 0,
          "MaxHR": 174,
          "RestingBP": 160,
          "Sex": 1
         },
         {
          "Age": 65,
          "Cholesterol": 225,
          "ExerciseAngina": 0,
          "FastingBS": 0,
          "HeartDisease": 1,
          "MaxHR": 114,
          "RestingBP": 150,
          "Sex": 0
         },
         {
          "Age": 48,
          "Cholesterol": 245,
          "ExerciseAngina": 0,
          "FastingBS": 0,
          "HeartDisease": 0,
          "MaxHR": 180,
          "RestingBP": 130,
          "Sex": 1
         },
         {
          "Age": 50,
          "Cholesterol": 264,
          "ExerciseAngina": 0,
          "FastingBS": 0,
          "HeartDisease": 1,
          "MaxHR": 150,
          "RestingBP": 145,
          "Sex": 1
         },
         {
          "Age": 48,
          "Cholesterol": 177,
          "ExerciseAngina": 0,
          "FastingBS": 1,
          "HeartDisease": 0,
          "MaxHR": 148,
          "RestingBP": 120,
          "Sex": 0
         },
         {
          "Age": 49,
          "Cholesterol": 212,
          "ExerciseAngina": 1,
          "FastingBS": 0,
          "HeartDisease": 1,
          "MaxHR": 96,
          "RestingBP": 128,
          "Sex": 1
         },
         {
          "Age": 50,
          "Cholesterol": 200,
          "ExerciseAngina": 1,
          "FastingBS": 0,
          "HeartDisease": 1,
          "MaxHR": 126,
          "RestingBP": 144,
          "Sex": 1
         },
         {
          "Age": 32,
          "Cholesterol": 254,
          "ExerciseAngina": 0,
          "FastingBS": 0,
          "HeartDisease": 0,
          "MaxHR": 155,
          "RestingBP": 125,
          "Sex": 1
         },
         {
          "Age": 37,
          "Cholesterol": 283,
          "ExerciseAngina": 0,
          "FastingBS": 0,
          "HeartDisease": 0,
          "MaxHR": 98,
          "RestingBP": 130,
          "Sex": 1
         },
         {
          "Age": 49,
          "Cholesterol": 208,
          "ExerciseAngina": 0,
          "FastingBS": 0,
          "HeartDisease": 0,
          "MaxHR": 160,
          "RestingBP": 110,
          "Sex": 0
         },
         {
          "Age": 61,
          "Cholesterol": 337,
          "ExerciseAngina": 1,
          "FastingBS": 0,
          "HeartDisease": 1,
          "MaxHR": 98,
          "RestingBP": 120,
          "Sex": 1
         },
         {
          "Age": 54,
          "Cholesterol": 288,
          "ExerciseAngina": 1,
          "FastingBS": 1,
          "HeartDisease": 0,
          "MaxHR": 159,
          "RestingBP": 132,
          "Sex": 0
         },
         {
          "Age": 60,
          "Cholesterol": 186,
          "ExerciseAngina": 1,
          "FastingBS": 1,
          "HeartDisease": 1,
          "MaxHR": 140,
          "RestingBP": 130,
          "Sex": 1
         },
         {
          "Age": 65,
          "Cholesterol": 236,
          "ExerciseAngina": 1,
          "FastingBS": 1,
          "HeartDisease": 1,
          "MaxHR": 105,
          "RestingBP": 150,
          "Sex": 1
         },
         {
          "Age": 61,
          "Cholesterol": 292,
          "ExerciseAngina": 1,
          "FastingBS": 0,
          "HeartDisease": 0,
          "MaxHR": 115,
          "RestingBP": 125,
          "Sex": 1
         },
         {
          "Age": 59,
          "Cholesterol": 222,
          "ExerciseAngina": 1,
          "FastingBS": 0,
          "HeartDisease": 1,
          "MaxHR": 135,
          "RestingBP": 125,
          "Sex": 1
         },
         {
          "Age": 57,
          "Cholesterol": 192,
          "ExerciseAngina": 0,
          "FastingBS": 0,
          "HeartDisease": 0,
          "MaxHR": 148,
          "RestingBP": 140,
          "Sex": 1
         },
         {
          "Age": 41,
          "Cholesterol": 269,
          "ExerciseAngina": 0,
          "FastingBS": 0,
          "HeartDisease": 0,
          "MaxHR": 144,
          "RestingBP": 125,
          "Sex": 1
         },
         {
          "Age": 40,
          "Cholesterol": 392,
          "ExerciseAngina": 0,
          "FastingBS": 0,
          "HeartDisease": 1,
          "MaxHR": 130,
          "RestingBP": 150,
          "Sex": 0
         },
         {
          "Age": 57,
          "Cholesterol": 168,
          "ExerciseAngina": 0,
          "FastingBS": 0,
          "HeartDisease": 0,
          "MaxHR": 174,
          "RestingBP": 150,
          "Sex": 1
         },
         {
          "Age": 63,
          "Cholesterol": 177,
          "ExerciseAngina": 1,
          "FastingBS": 0,
          "HeartDisease": 1,
          "MaxHR": 84,
          "RestingBP": 170,
          "Sex": 1
         },
         {
          "Age": 60,
          "Cholesterol": 305,
          "ExerciseAngina": 0,
          "FastingBS": 0,
          "HeartDisease": 1,
          "MaxHR": 161,
          "RestingBP": 158,
          "Sex": 0
         },
         {
          "Age": 57,
          "Cholesterol": 260,
          "ExerciseAngina": 0,
          "FastingBS": 1,
          "HeartDisease": 0,
          "MaxHR": 140,
          "RestingBP": 140,
          "Sex": 1
         },
         {
          "Age": 51,
          "Cholesterol": 179,
          "ExerciseAngina": 0,
          "FastingBS": 0,
          "HeartDisease": 0,
          "MaxHR": 100,
          "RestingBP": 130,
          "Sex": 1
         },
         {
          "Age": 53,
          "Cholesterol": 226,
          "ExerciseAngina": 1,
          "FastingBS": 0,
          "HeartDisease": 0,
          "MaxHR": 111,
          "RestingBP": 142,
          "Sex": 1
         },
         {
          "Age": 66,
          "Cholesterol": 139,
          "ExerciseAngina": 1,
          "FastingBS": 0,
          "HeartDisease": 1,
          "MaxHR": 94,
          "RestingBP": 140,
          "Sex": 1
         },
         {
          "Age": 41,
          "Cholesterol": 172,
          "ExerciseAngina": 0,
          "FastingBS": 0,
          "HeartDisease": 1,
          "MaxHR": 130,
          "RestingBP": 130,
          "Sex": 1
         },
         {
          "Age": 52,
          "Cholesterol": 331,
          "ExerciseAngina": 1,
          "FastingBS": 0,
          "HeartDisease": 1,
          "MaxHR": 94,
          "RestingBP": 160,
          "Sex": 1
         },
         {
          "Age": 67,
          "Cholesterol": 299,
          "ExerciseAngina": 1,
          "FastingBS": 0,
          "HeartDisease": 1,
          "MaxHR": 125,
          "RestingBP": 100,
          "Sex": 1
         },
         {
          "Age": 58,
          "Cholesterol": 259,
          "ExerciseAngina": 1,
          "FastingBS": 0,
          "HeartDisease": 1,
          "MaxHR": 130,
          "RestingBP": 128,
          "Sex": 1
         },
         {
          "Age": 42,
          "Cholesterol": 180,
          "ExerciseAngina": 0,
          "FastingBS": 0,
          "HeartDisease": 0,
          "MaxHR": 150,
          "RestingBP": 130,
          "Sex": 1
         },
         {
          "Age": 55,
          "Cholesterol": 196,
          "ExerciseAngina": 0,
          "FastingBS": 0,
          "HeartDisease": 0,
          "MaxHR": 150,
          "RestingBP": 140,
          "Sex": 1
         },
         {
          "Age": 48,
          "Cholesterol": 275,
          "ExerciseAngina": 1,
          "FastingBS": 1,
          "HeartDisease": 1,
          "MaxHR": 150,
          "RestingBP": 122,
          "Sex": 1
         },
         {
          "Age": 58,
          "Cholesterol": 203,
          "ExerciseAngina": 1,
          "FastingBS": 1,
          "HeartDisease": 1,
          "MaxHR": 123,
          "RestingBP": 136,
          "Sex": 1
         },
         {
          "Age": 45,
          "Cholesterol": 236,
          "ExerciseAngina": 1,
          "FastingBS": 0,
          "HeartDisease": 0,
          "MaxHR": 152,
          "RestingBP": 138,
          "Sex": 0
         },
         {
          "Age": 44,
          "Cholesterol": 233,
          "ExerciseAngina": 1,
          "FastingBS": 0,
          "HeartDisease": 0,
          "MaxHR": 179,
          "RestingBP": 130,
          "Sex": 1
         },
         {
          "Age": 43,
          "Cholesterol": 315,
          "ExerciseAngina": 0,
          "FastingBS": 0,
          "HeartDisease": 0,
          "MaxHR": 162,
          "RestingBP": 130,
          "Sex": 1
         },
         {
          "Age": 63,
          "Cholesterol": 252,
          "ExerciseAngina": 1,
          "FastingBS": 0,
          "HeartDisease": 1,
          "MaxHR": 140,
          "RestingBP": 110,
          "Sex": 1
         },
         {
          "Age": 41,
          "Cholesterol": 250,
          "ExerciseAngina": 0,
          "FastingBS": 0,
          "HeartDisease": 0,
          "MaxHR": 142,
          "RestingBP": 110,
          "Sex": 0
         },
         {
          "Age": 54,
          "Cholesterol": 203,
          "ExerciseAngina": 0,
          "FastingBS": 0,
          "HeartDisease": 0,
          "MaxHR": 137,
          "RestingBP": 133,
          "Sex": 1
         },
         {
          "Age": 64,
          "Cholesterol": 258,
          "ExerciseAngina": 0,
          "FastingBS": 1,
          "HeartDisease": 1,
          "MaxHR": 130,
          "RestingBP": 130,
          "Sex": 1
         },
         {
          "Age": 53,
          "Cholesterol": 300,
          "ExerciseAngina": 1,
          "FastingBS": 1,
          "HeartDisease": 1,
          "MaxHR": 128,
          "RestingBP": 144,
          "Sex": 1
         },
         {
          "Age": 60,
          "Cholesterol": 293,
          "ExerciseAngina": 0,
          "FastingBS": 0,
          "HeartDisease": 1,
          "MaxHR": 170,
          "RestingBP": 140,
          "Sex": 1
         },
         {
          "Age": 51,
          "Cholesterol": 222,
          "ExerciseAngina": 1,
          "FastingBS": 0,
          "HeartDisease": 0,
          "MaxHR": 143,
          "RestingBP": 100,
          "Sex": 1
         },
         {
          "Age": 50,
          "Cholesterol": 244,
          "ExerciseAngina": 0,
          "FastingBS": 0,
          "HeartDisease": 0,
          "MaxHR": 162,
          "RestingBP": 120,
          "Sex": 0
         },
         {
          "Age": 44,
          "Cholesterol": 169,
          "ExerciseAngina": 1,
          "FastingBS": 0,
          "HeartDisease": 1,
          "MaxHR": 144,
          "RestingBP": 120,
          "Sex": 1
         },
         {
          "Age": 55,
          "Cholesterol": 342,
          "ExerciseAngina": 0,
          "FastingBS": 0,
          "HeartDisease": 0,
          "MaxHR": 166,
          "RestingBP": 132,
          "Sex": 0
         },
         {
          "Age": 39,
          "Cholesterol": 219,
          "ExerciseAngina": 0,
          "FastingBS": 0,
          "HeartDisease": 1,
          "MaxHR": 140,
          "RestingBP": 118,
          "Sex": 1
         },
         {
          "Age": 67,
          "Cholesterol": 277,
          "ExerciseAngina": 0,
          "FastingBS": 0,
          "HeartDisease": 0,
          "MaxHR": 172,
          "RestingBP": 152,
          "Sex": 0
         },
         {
          "Age": 70,
          "Cholesterol": 269,
          "ExerciseAngina": 1,
          "FastingBS": 0,
          "HeartDisease": 1,
          "MaxHR": 112,
          "RestingBP": 160,
          "Sex": 1
         },
         {
          "Age": 66,
          "Cholesterol": 246,
          "ExerciseAngina": 1,
          "FastingBS": 0,
          "HeartDisease": 1,
          "MaxHR": 120,
          "RestingBP": 160,
          "Sex": 1
         },
         {
          "Age": 43,
          "Cholesterol": 201,
          "ExerciseAngina": 0,
          "FastingBS": 0,
          "HeartDisease": 0,
          "MaxHR": 165,
          "RestingBP": 120,
          "Sex": 0
         },
         {
          "Age": 48,
          "Cholesterol": 260,
          "ExerciseAngina": 0,
          "FastingBS": 0,
          "HeartDisease": 1,
          "MaxHR": 115,
          "RestingBP": 120,
          "Sex": 1
         },
         {
          "Age": 62,
          "Cholesterol": 394,
          "ExerciseAngina": 0,
          "FastingBS": 0,
          "HeartDisease": 0,
          "MaxHR": 157,
          "RestingBP": 140,
          "Sex": 0
         },
         {
          "Age": 50,
          "Cholesterol": 215,
          "ExerciseAngina": 1,
          "FastingBS": 0,
          "HeartDisease": 0,
          "MaxHR": 140,
          "RestingBP": 150,
          "Sex": 1
         },
         {
          "Age": 57,
          "Cholesterol": 241,
          "ExerciseAngina": 1,
          "FastingBS": 0,
          "HeartDisease": 1,
          "MaxHR": 123,
          "RestingBP": 140,
          "Sex": 0
         },
         {
          "Age": 53,
          "Cholesterol": 243,
          "ExerciseAngina": 0,
          "FastingBS": 0,
          "HeartDisease": 0,
          "MaxHR": 155,
          "RestingBP": 140,
          "Sex": 1
         },
         {
          "Age": 59,
          "Cholesterol": 188,
          "ExerciseAngina": 0,
          "FastingBS": 0,
          "HeartDisease": 0,
          "MaxHR": 124,
          "RestingBP": 130,
          "Sex": 0
         },
         {
          "Age": 55,
          "Cholesterol": 228,
          "ExerciseAngina": 1,
          "FastingBS": 0,
          "HeartDisease": 1,
          "MaxHR": 124,
          "RestingBP": 136,
          "Sex": 1
         },
         {
          "Age": 61,
          "Cholesterol": 203,
          "ExerciseAngina": 0,
          "FastingBS": 0,
          "HeartDisease": 1,
          "MaxHR": 161,
          "RestingBP": 148,
          "Sex": 1
         },
         {
          "Age": 48,
          "Cholesterol": 208,
          "ExerciseAngina": 1,
          "FastingBS": 0,
          "HeartDisease": 1,
          "MaxHR": 159,
          "RestingBP": 140,
          "Sex": 1
         },
         {
          "Age": 64,
          "Cholesterol": 306,
          "ExerciseAngina": 1,
          "FastingBS": 1,
          "HeartDisease": 1,
          "MaxHR": 115,
          "RestingBP": 143,
          "Sex": 1
         },
         {
          "Age": 48,
          "Cholesterol": 275,
          "ExerciseAngina": 0,
          "FastingBS": 0,
          "HeartDisease": 0,
          "MaxHR": 139,
          "RestingBP": 130,
          "Sex": 0
         },
         {
          "Age": 55,
          "Cholesterol": 270,
          "ExerciseAngina": 0,
          "FastingBS": 0,
          "HeartDisease": 0,
          "MaxHR": 140,
          "RestingBP": 120,
          "Sex": 1
         },
         {
          "Age": 69,
          "Cholesterol": 234,
          "ExerciseAngina": 0,
          "FastingBS": 1,
          "HeartDisease": 0,
          "MaxHR": 131,
          "RestingBP": 160,
          "Sex": 1
         },
         {
          "Age": 41,
          "Cholesterol": 289,
          "ExerciseAngina": 0,
          "FastingBS": 0,
          "HeartDisease": 1,
          "MaxHR": 170,
          "RestingBP": 110,
          "Sex": 1
         },
         {
          "Age": 50,
          "Cholesterol": 209,
          "ExerciseAngina": 0,
          "FastingBS": 0,
          "HeartDisease": 0,
          "MaxHR": 116,
          "RestingBP": 170,
          "Sex": 1
         },
         {
          "Age": 61,
          "Cholesterol": 282,
          "ExerciseAngina": 1,
          "FastingBS": 0,
          "HeartDisease": 1,
          "MaxHR": 135,
          "RestingBP": 120,
          "Sex": 1
         },
         {
          "Age": 54,
          "Cholesterol": 258,
          "ExerciseAngina": 0,
          "FastingBS": 0,
          "HeartDisease": 0,
          "MaxHR": 147,
          "RestingBP": 120,
          "Sex": 1
         },
         {
          "Age": 44,
          "Cholesterol": 141,
          "ExerciseAngina": 0,
          "FastingBS": 0,
          "HeartDisease": 0,
          "MaxHR": 175,
          "RestingBP": 108,
          "Sex": 0
         },
         {
          "Age": 55,
          "Cholesterol": 277,
          "ExerciseAngina": 0,
          "FastingBS": 0,
          "HeartDisease": 0,
          "MaxHR": 160,
          "RestingBP": 110,
          "Sex": 1
         },
         {
          "Age": 64,
          "Cholesterol": 246,
          "ExerciseAngina": 1,
          "FastingBS": 0,
          "HeartDisease": 1,
          "MaxHR": 96,
          "RestingBP": 120,
          "Sex": 1
         },
         {
          "Age": 38,
          "Cholesterol": 196,
          "ExerciseAngina": 0,
          "FastingBS": 0,
          "HeartDisease": 1,
          "MaxHR": 166,
          "RestingBP": 110,
          "Sex": 1
         },
         {
          "Age": 59,
          "Cholesterol": 287,
          "ExerciseAngina": 0,
          "FastingBS": 0,
          "HeartDisease": 0,
          "MaxHR": 150,
          "RestingBP": 140,
          "Sex": 1
         },
         {
          "Age": 72,
          "Cholesterol": 123,
          "ExerciseAngina": 0,
          "FastingBS": 1,
          "HeartDisease": 1,
          "MaxHR": 130,
          "RestingBP": 160,
          "Sex": 1
         },
         {
          "Age": 35,
          "Cholesterol": 264,
          "ExerciseAngina": 0,
          "FastingBS": 0,
          "HeartDisease": 0,
          "MaxHR": 168,
          "RestingBP": 150,
          "Sex": 1
         },
         {
          "Age": 75,
          "Cholesterol": 310,
          "ExerciseAngina": 1,
          "FastingBS": 1,
          "HeartDisease": 0,
          "MaxHR": 112,
          "RestingBP": 160,
          "Sex": 1
         },
         {
          "Age": 61,
          "Cholesterol": 243,
          "ExerciseAngina": 1,
          "FastingBS": 1,
          "HeartDisease": 0,
          "MaxHR": 137,
          "RestingBP": 150,
          "Sex": 1
         },
         {
          "Age": 46,
          "Cholesterol": 231,
          "ExerciseAngina": 0,
          "FastingBS": 0,
          "HeartDisease": 1,
          "MaxHR": 147,
          "RestingBP": 150,
          "Sex": 1
         },
         {
          "Age": 71,
          "Cholesterol": 149,
          "ExerciseAngina": 0,
          "FastingBS": 0,
          "HeartDisease": 0,
          "MaxHR": 125,
          "RestingBP": 112,
          "Sex": 0
         },
         {
          "Age": 56,
          "Cholesterol": 409,
          "ExerciseAngina": 1,
          "FastingBS": 0,
          "HeartDisease": 1,
          "MaxHR": 150,
          "RestingBP": 134,
          "Sex": 0
         },
         {
          "Age": 61,
          "Cholesterol": 307,
          "ExerciseAngina": 1,
          "FastingBS": 0,
          "HeartDisease": 1,
          "MaxHR": 146,
          "RestingBP": 145,
          "Sex": 0
         },
         {
          "Age": 51,
          "Cholesterol": 160,
          "ExerciseAngina": 0,
          "FastingBS": 0,
          "HeartDisease": 1,
          "MaxHR": 150,
          "RestingBP": 135,
          "Sex": 1
         },
         {
          "Age": 50,
          "Cholesterol": 328,
          "ExerciseAngina": 1,
          "FastingBS": 0,
          "HeartDisease": 0,
          "MaxHR": 110,
          "RestingBP": 120,
          "Sex": 0
         },
         {
          "Age": 67,
          "Cholesterol": 286,
          "ExerciseAngina": 1,
          "FastingBS": 0,
          "HeartDisease": 1,
          "MaxHR": 108,
          "RestingBP": 160,
          "Sex": 1
         },
         {
          "Age": 54,
          "Cholesterol": 283,
          "ExerciseAngina": 0,
          "FastingBS": 0,
          "HeartDisease": 1,
          "MaxHR": 195,
          "RestingBP": 192,
          "Sex": 1
         },
         {
          "Age": 58,
          "Cholesterol": 284,
          "ExerciseAngina": 0,
          "FastingBS": 0,
          "HeartDisease": 1,
          "MaxHR": 160,
          "RestingBP": 120,
          "Sex": 1
         },
         {
          "Age": 57,
          "Cholesterol": 264,
          "ExerciseAngina": 0,
          "FastingBS": 0,
          "HeartDisease": 1,
          "MaxHR": 100,
          "RestingBP": 122,
          "Sex": 1
         },
         {
          "Age": 45,
          "Cholesterol": 224,
          "ExerciseAngina": 0,
          "FastingBS": 1,
          "HeartDisease": 0,
          "MaxHR": 122,
          "RestingBP": 140,
          "Sex": 1
         },
         {
          "Age": 52,
          "Cholesterol": 266,
          "ExerciseAngina": 1,
          "FastingBS": 0,
          "HeartDisease": 1,
          "MaxHR": 134,
          "RestingBP": 140,
          "Sex": 1
         },
         {
          "Age": 52,
          "Cholesterol": 182,
          "ExerciseAngina": 0,
          "FastingBS": 0,
          "HeartDisease": 1,
          "MaxHR": 150,
          "RestingBP": 120,
          "Sex": 1
         },
         {
          "Age": 52,
          "Cholesterol": 233,
          "ExerciseAngina": 0,
          "FastingBS": 1,
          "HeartDisease": 0,
          "MaxHR": 147,
          "RestingBP": 108,
          "Sex": 1
         },
         {
          "Age": 56,
          "Cholesterol": 279,
          "ExerciseAngina": 0,
          "FastingBS": 0,
          "HeartDisease": 1,
          "MaxHR": 150,
          "RestingBP": 120,
          "Sex": 0
         },
         {
          "Age": 60,
          "Cholesterol": 186,
          "ExerciseAngina": 1,
          "FastingBS": 1,
          "HeartDisease": 1,
          "MaxHR": 140,
          "RestingBP": 130,
          "Sex": 1
         },
         {
          "Age": 68,
          "Cholesterol": 254,
          "ExerciseAngina": 1,
          "FastingBS": 1,
          "HeartDisease": 0,
          "MaxHR": 151,
          "RestingBP": 134,
          "Sex": 1
         },
         {
          "Age": 69,
          "Cholesterol": 210,
          "ExerciseAngina": 1,
          "FastingBS": 1,
          "HeartDisease": 1,
          "MaxHR": 112,
          "RestingBP": 142,
          "Sex": 1
         },
         {
          "Age": 30,
          "Cholesterol": 237,
          "ExerciseAngina": 0,
          "FastingBS": 0,
          "HeartDisease": 0,
          "MaxHR": 170,
          "RestingBP": 170,
          "Sex": 0
         },
         {
          "Age": 59,
          "Cholesterol": 274,
          "ExerciseAngina": 1,
          "FastingBS": 0,
          "HeartDisease": 0,
          "MaxHR": 154,
          "RestingBP": 140,
          "Sex": 1
         },
         {
          "Age": 56,
          "Cholesterol": 294,
          "ExerciseAngina": 0,
          "FastingBS": 0,
          "HeartDisease": 0,
          "MaxHR": 153,
          "RestingBP": 140,
          "Sex": 0
         },
         {
          "Age": 56,
          "Cholesterol": 388,
          "ExerciseAngina": 1,
          "FastingBS": 0,
          "HeartDisease": 1,
          "MaxHR": 122,
          "RestingBP": 170,
          "Sex": 1
         },
         {
          "Age": 40,
          "Cholesterol": 199,
          "ExerciseAngina": 1,
          "FastingBS": 0,
          "HeartDisease": 0,
          "MaxHR": 178,
          "RestingBP": 140,
          "Sex": 1
         },
         {
          "Age": 59,
          "Cholesterol": 288,
          "ExerciseAngina": 0,
          "FastingBS": 0,
          "HeartDisease": 1,
          "MaxHR": 159,
          "RestingBP": 170,
          "Sex": 1
         },
         {
          "Age": 55,
          "Cholesterol": 256,
          "ExerciseAngina": 0,
          "FastingBS": 1,
          "HeartDisease": 0,
          "MaxHR": 137,
          "RestingBP": 120,
          "Sex": 1
         },
         {
          "Age": 58,
          "Cholesterol": 251,
          "ExerciseAngina": 0,
          "FastingBS": 0,
          "HeartDisease": 0,
          "MaxHR": 110,
          "RestingBP": 130,
          "Sex": 1
         },
         {
          "Age": 55,
          "Cholesterol": 205,
          "ExerciseAngina": 1,
          "FastingBS": 0,
          "HeartDisease": 1,
          "MaxHR": 130,
          "RestingBP": 128,
          "Sex": 0
         },
         {
          "Age": 44,
          "Cholesterol": 288,
          "ExerciseAngina": 1,
          "FastingBS": 0,
          "HeartDisease": 1,
          "MaxHR": 150,
          "RestingBP": 150,
          "Sex": 1
         },
         {
          "Age": 56,
          "Cholesterol": 184,
          "ExerciseAngina": 1,
          "FastingBS": 0,
          "HeartDisease": 1,
          "MaxHR": 105,
          "RestingBP": 132,
          "Sex": 1
         },
         {
          "Age": 48,
          "Cholesterol": 256,
          "ExerciseAngina": 1,
          "FastingBS": 1,
          "HeartDisease": 1,
          "MaxHR": 150,
          "RestingBP": 130,
          "Sex": 1
         },
         {
          "Age": 71,
          "Cholesterol": 265,
          "ExerciseAngina": 0,
          "FastingBS": 1,
          "HeartDisease": 0,
          "MaxHR": 130,
          "RestingBP": 110,
          "Sex": 0
         },
         {
          "Age": 63,
          "Cholesterol": 165,
          "ExerciseAngina": 0,
          "FastingBS": 0,
          "HeartDisease": 0,
          "MaxHR": 133,
          "RestingBP": 136,
          "Sex": 1
         },
         {
          "Age": 52,
          "Cholesterol": 205,
          "ExerciseAngina": 0,
          "FastingBS": 1,
          "HeartDisease": 0,
          "MaxHR": 184,
          "RestingBP": 128,
          "Sex": 1
         },
         {
          "Age": 74,
          "Cholesterol": 216,
          "ExerciseAngina": 1,
          "FastingBS": 1,
          "HeartDisease": 1,
          "MaxHR": 116,
          "RestingBP": 145,
          "Sex": 1
         },
         {
          "Age": 57,
          "Cholesterol": 276,
          "ExerciseAngina": 1,
          "FastingBS": 0,
          "HeartDisease": 1,
          "MaxHR": 112,
          "RestingBP": 150,
          "Sex": 1
         },
         {
          "Age": 56,
          "Cholesterol": 167,
          "ExerciseAngina": 0,
          "FastingBS": 0,
          "HeartDisease": 0,
          "MaxHR": 114,
          "RestingBP": 130,
          "Sex": 1
         },
         {
          "Age": 52,
          "Cholesterol": 223,
          "ExerciseAngina": 0,
          "FastingBS": 0,
          "HeartDisease": 0,
          "MaxHR": 169,
          "RestingBP": 138,
          "Sex": 1
         },
         {
          "Age": 42,
          "Cholesterol": 209,
          "ExerciseAngina": 0,
          "FastingBS": 0,
          "HeartDisease": 0,
          "MaxHR": 173,
          "RestingBP": 120,
          "Sex": 0
         },
         {
          "Age": 45,
          "Cholesterol": 192,
          "ExerciseAngina": 0,
          "FastingBS": 0,
          "HeartDisease": 0,
          "MaxHR": 110,
          "RestingBP": 135,
          "Sex": 1
         },
         {
          "Age": 31,
          "Cholesterol": 219,
          "ExerciseAngina": 0,
          "FastingBS": 0,
          "HeartDisease": 0,
          "MaxHR": 150,
          "RestingBP": 100,
          "Sex": 0
         },
         {
          "Age": 55,
          "Cholesterol": 295,
          "ExerciseAngina": 0,
          "FastingBS": 0,
          "HeartDisease": 1,
          "MaxHR": 136,
          "RestingBP": 140,
          "Sex": 1
         },
         {
          "Age": 49,
          "Cholesterol": 207,
          "ExerciseAngina": 0,
          "FastingBS": 0,
          "HeartDisease": 0,
          "MaxHR": 135,
          "RestingBP": 130,
          "Sex": 0
         },
         {
          "Age": 62,
          "Cholesterol": 297,
          "ExerciseAngina": 1,
          "FastingBS": 0,
          "HeartDisease": 1,
          "MaxHR": 130,
          "RestingBP": 135,
          "Sex": 1
         },
         {
          "Age": 70,
          "Cholesterol": 174,
          "ExerciseAngina": 1,
          "FastingBS": 0,
          "HeartDisease": 1,
          "MaxHR": 125,
          "RestingBP": 145,
          "Sex": 1
         },
         {
          "Age": 60,
          "Cholesterol": 258,
          "ExerciseAngina": 1,
          "FastingBS": 0,
          "HeartDisease": 1,
          "MaxHR": 141,
          "RestingBP": 125,
          "Sex": 1
         },
         {
          "Age": 61,
          "Cholesterol": 260,
          "ExerciseAngina": 1,
          "FastingBS": 0,
          "HeartDisease": 1,
          "MaxHR": 140,
          "RestingBP": 120,
          "Sex": 1
         },
         {
          "Age": 50,
          "Cholesterol": 233,
          "ExerciseAngina": 0,
          "FastingBS": 0,
          "HeartDisease": 1,
          "MaxHR": 163,
          "RestingBP": 140,
          "Sex": 1
         },
         {
          "Age": 47,
          "Cholesterol": 193,
          "ExerciseAngina": 1,
          "FastingBS": 0,
          "HeartDisease": 1,
          "MaxHR": 145,
          "RestingBP": 140,
          "Sex": 1
         },
         {
          "Age": 49,
          "Cholesterol": 142,
          "ExerciseAngina": 1,
          "FastingBS": 0,
          "HeartDisease": 1,
          "MaxHR": 127,
          "RestingBP": 131,
          "Sex": 1
         },
         {
          "Age": 47,
          "Cholesterol": 257,
          "ExerciseAngina": 0,
          "FastingBS": 0,
          "HeartDisease": 0,
          "MaxHR": 156,
          "RestingBP": 138,
          "Sex": 1
         },
         {
          "Age": 51,
          "Cholesterol": 227,
          "ExerciseAngina": 0,
          "FastingBS": 1,
          "HeartDisease": 0,
          "MaxHR": 138,
          "RestingBP": 132,
          "Sex": 1
         },
         {
          "Age": 41,
          "Cholesterol": 214,
          "ExerciseAngina": 0,
          "FastingBS": 0,
          "HeartDisease": 0,
          "MaxHR": 168,
          "RestingBP": 130,
          "Sex": 1
         },
         {
          "Age": 57,
          "Cholesterol": 274,
          "ExerciseAngina": 1,
          "FastingBS": 0,
          "HeartDisease": 1,
          "MaxHR": 88,
          "RestingBP": 152,
          "Sex": 1
         },
         {
          "Age": 71,
          "Cholesterol": 221,
          "ExerciseAngina": 1,
          "FastingBS": 0,
          "HeartDisease": 1,
          "MaxHR": 108,
          "RestingBP": 144,
          "Sex": 1
         },
         {
          "Age": 39,
          "Cholesterol": 339,
          "ExerciseAngina": 0,
          "FastingBS": 0,
          "HeartDisease": 0,
          "MaxHR": 170,
          "RestingBP": 120,
          "Sex": 1
         },
         {
          "Age": 44,
          "Cholesterol": 219,
          "ExerciseAngina": 0,
          "FastingBS": 0,
          "HeartDisease": 0,
          "MaxHR": 188,
          "RestingBP": 130,
          "Sex": 1
         },
         {
          "Age": 59,
          "Cholesterol": 271,
          "ExerciseAngina": 0,
          "FastingBS": 0,
          "HeartDisease": 0,
          "MaxHR": 182,
          "RestingBP": 138,
          "Sex": 1
         },
         {
          "Age": 46,
          "Cholesterol": 204,
          "ExerciseAngina": 0,
          "FastingBS": 0,
          "HeartDisease": 0,
          "MaxHR": 172,
          "RestingBP": 105,
          "Sex": 0
         },
         {
          "Age": 48,
          "Cholesterol": 163,
          "ExerciseAngina": 0,
          "FastingBS": 0,
          "HeartDisease": 0,
          "MaxHR": 175,
          "RestingBP": 108,
          "Sex": 0
         },
         {
          "Age": 53,
          "Cholesterol": 216,
          "ExerciseAngina": 0,
          "FastingBS": 0,
          "HeartDisease": 0,
          "MaxHR": 115,
          "RestingBP": 128,
          "Sex": 0
         },
         {
          "Age": 46,
          "Cholesterol": 275,
          "ExerciseAngina": 1,
          "FastingBS": 0,
          "HeartDisease": 0,
          "MaxHR": 165,
          "RestingBP": 140,
          "Sex": 1
         },
         {
          "Age": 48,
          "Cholesterol": 254,
          "ExerciseAngina": 0,
          "FastingBS": 0,
          "HeartDisease": 0,
          "MaxHR": 110,
          "RestingBP": 120,
          "Sex": 0
         },
         {
          "Age": 51,
          "Cholesterol": 258,
          "ExerciseAngina": 0,
          "FastingBS": 1,
          "HeartDisease": 0,
          "MaxHR": 96,
          "RestingBP": 114,
          "Sex": 0
         },
         {
          "Age": 37,
          "Cholesterol": 194,
          "ExerciseAngina": 0,
          "FastingBS": 0,
          "HeartDisease": 0,
          "MaxHR": 150,
          "RestingBP": 130,
          "Sex": 1
         },
         {
          "Age": 62,
          "Cholesterol": 204,
          "ExerciseAngina": 1,
          "FastingBS": 0,
          "HeartDisease": 1,
          "MaxHR": 122,
          "RestingBP": 138,
          "Sex": 1
         },
         {
          "Age": 44,
          "Cholesterol": 226,
          "ExerciseAngina": 0,
          "FastingBS": 0,
          "HeartDisease": 0,
          "MaxHR": 169,
          "RestingBP": 120,
          "Sex": 1
         },
         {
          "Age": 54,
          "Cholesterol": 267,
          "ExerciseAngina": 0,
          "FastingBS": 0,
          "HeartDisease": 0,
          "MaxHR": 167,
          "RestingBP": 108,
          "Sex": 0
         },
         {
          "Age": 64,
          "Cholesterol": 223,
          "ExerciseAngina": 0,
          "FastingBS": 0,
          "HeartDisease": 0,
          "MaxHR": 128,
          "RestingBP": 130,
          "Sex": 1
         },
         {
          "Age": 62,
          "Cholesterol": 153,
          "ExerciseAngina": 1,
          "FastingBS": 0,
          "HeartDisease": 1,
          "MaxHR": 97,
          "RestingBP": 152,
          "Sex": 1
         },
         {
          "Age": 36,
          "Cholesterol": 340,
          "ExerciseAngina": 0,
          "FastingBS": 0,
          "HeartDisease": 0,
          "MaxHR": 184,
          "RestingBP": 112,
          "Sex": 1
         },
         {
          "Age": 59,
          "Cholesterol": 233,
          "ExerciseAngina": 1,
          "FastingBS": 0,
          "HeartDisease": 1,
          "MaxHR": 117,
          "RestingBP": 122,
          "Sex": 1
         },
         {
          "Age": 54,
          "Cholesterol": 224,
          "ExerciseAngina": 0,
          "FastingBS": 0,
          "HeartDisease": 1,
          "MaxHR": 122,
          "RestingBP": 125,
          "Sex": 1
         },
         {
          "Age": 74,
          "Cholesterol": 269,
          "ExerciseAngina": 1,
          "FastingBS": 0,
          "HeartDisease": 0,
          "MaxHR": 121,
          "RestingBP": 120,
          "Sex": 0
         },
         {
          "Age": 54,
          "Cholesterol": 216,
          "ExerciseAngina": 0,
          "FastingBS": 0,
          "HeartDisease": 1,
          "MaxHR": 140,
          "RestingBP": 125,
          "Sex": 1
         },
         {
          "Age": 55,
          "Cholesterol": 320,
          "ExerciseAngina": 0,
          "FastingBS": 0,
          "HeartDisease": 0,
          "MaxHR": 155,
          "RestingBP": 122,
          "Sex": 0
         },
         {
          "Age": 60,
          "Cholesterol": 316,
          "ExerciseAngina": 1,
          "FastingBS": 1,
          "HeartDisease": 1,
          "MaxHR": 122,
          "RestingBP": 141,
          "Sex": 1
         },
         {
          "Age": 55,
          "Cholesterol": 344,
          "ExerciseAngina": 0,
          "FastingBS": 0,
          "HeartDisease": 0,
          "MaxHR": 160,
          "RestingBP": 110,
          "Sex": 0
         },
         {
          "Age": 34,
          "Cholesterol": 214,
          "ExerciseAngina": 0,
          "FastingBS": 0,
          "HeartDisease": 0,
          "MaxHR": 168,
          "RestingBP": 150,
          "Sex": 1
         },
         {
          "Age": 52,
          "Cholesterol": 186,
          "ExerciseAngina": 0,
          "FastingBS": 0,
          "HeartDisease": 0,
          "MaxHR": 190,
          "RestingBP": 118,
          "Sex": 1
         },
         {
          "Age": 62,
          "Cholesterol": 170,
          "ExerciseAngina": 1,
          "FastingBS": 0,
          "HeartDisease": 1,
          "MaxHR": 120,
          "RestingBP": 139,
          "Sex": 1
         },
         {
          "Age": 63,
          "Cholesterol": 254,
          "ExerciseAngina": 0,
          "FastingBS": 0,
          "HeartDisease": 1,
          "MaxHR": 147,
          "RestingBP": 130,
          "Sex": 1
         },
         {
          "Age": 52,
          "Cholesterol": 230,
          "ExerciseAngina": 0,
          "FastingBS": 0,
          "HeartDisease": 1,
          "MaxHR": 160,
          "RestingBP": 112,
          "Sex": 1
         },
         {
          "Age": 55,
          "Cholesterol": 327,
          "ExerciseAngina": 1,
          "FastingBS": 0,
          "HeartDisease": 1,
          "MaxHR": 117,
          "RestingBP": 180,
          "Sex": 0
         },
         {
          "Age": 60,
          "Cholesterol": 258,
          "ExerciseAngina": 0,
          "FastingBS": 0,
          "HeartDisease": 1,
          "MaxHR": 157,
          "RestingBP": 150,
          "Sex": 0
         },
         {
          "Age": 53,
          "Cholesterol": 216,
          "ExerciseAngina": 1,
          "FastingBS": 0,
          "HeartDisease": 0,
          "MaxHR": 142,
          "RestingBP": 140,
          "Sex": 0
         },
         {
          "Age": 66,
          "Cholesterol": 228,
          "ExerciseAngina": 1,
          "FastingBS": 1,
          "HeartDisease": 1,
          "MaxHR": 165,
          "RestingBP": 178,
          "Sex": 0
         },
         {
          "Age": 46,
          "Cholesterol": 272,
          "ExerciseAngina": 0,
          "FastingBS": 1,
          "HeartDisease": 1,
          "MaxHR": 175,
          "RestingBP": 140,
          "Sex": 1
         },
         {
          "Age": 62,
          "Cholesterol": 220,
          "ExerciseAngina": 0,
          "FastingBS": 0,
          "HeartDisease": 0,
          "MaxHR": 86,
          "RestingBP": 120,
          "Sex": 1
         },
         {
          "Age": 48,
          "Cholesterol": 263,
          "ExerciseAngina": 0,
          "FastingBS": 1,
          "HeartDisease": 1,
          "MaxHR": 110,
          "RestingBP": 106,
          "Sex": 1
         },
         {
          "Age": 60,
          "Cholesterol": 218,
          "ExerciseAngina": 1,
          "FastingBS": 0,
          "HeartDisease": 1,
          "MaxHR": 140,
          "RestingBP": 132,
          "Sex": 1
         },
         {
          "Age": 59,
          "Cholesterol": 177,
          "ExerciseAngina": 1,
          "FastingBS": 0,
          "HeartDisease": 1,
          "MaxHR": 162,
          "RestingBP": 140,
          "Sex": 1
         },
         {
          "Age": 58,
          "Cholesterol": 197,
          "ExerciseAngina": 0,
          "FastingBS": 0,
          "HeartDisease": 0,
          "MaxHR": 131,
          "RestingBP": 130,
          "Sex": 0
         },
         {
          "Age": 60,
          "Cholesterol": 185,
          "ExerciseAngina": 0,
          "FastingBS": 0,
          "HeartDisease": 1,
          "MaxHR": 155,
          "RestingBP": 140,
          "Sex": 1
         },
         {
          "Age": 41,
          "Cholesterol": 306,
          "ExerciseAngina": 0,
          "FastingBS": 0,
          "HeartDisease": 0,
          "MaxHR": 163,
          "RestingBP": 126,
          "Sex": 0
         },
         {
          "Age": 61,
          "Cholesterol": 284,
          "ExerciseAngina": 1,
          "FastingBS": 0,
          "HeartDisease": 1,
          "MaxHR": 123,
          "RestingBP": 140,
          "Sex": 1
         },
         {
          "Age": 43,
          "Cholesterol": 247,
          "ExerciseAngina": 1,
          "FastingBS": 1,
          "HeartDisease": 1,
          "MaxHR": 143,
          "RestingBP": 132,
          "Sex": 1
         },
         {
          "Age": 51,
          "Cholesterol": 308,
          "ExerciseAngina": 0,
          "FastingBS": 0,
          "HeartDisease": 0,
          "MaxHR": 142,
          "RestingBP": 140,
          "Sex": 0
         },
         {
          "Age": 68,
          "Cholesterol": 211,
          "ExerciseAngina": 0,
          "FastingBS": 0,
          "HeartDisease": 0,
          "MaxHR": 115,
          "RestingBP": 120,
          "Sex": 0
         },
         {
          "Age": 53,
          "Cholesterol": 203,
          "ExerciseAngina": 1,
          "FastingBS": 1,
          "HeartDisease": 1,
          "MaxHR": 155,
          "RestingBP": 140,
          "Sex": 1
         },
         {
          "Age": 39,
          "Cholesterol": 204,
          "ExerciseAngina": 0,
          "FastingBS": 0,
          "HeartDisease": 0,
          "MaxHR": 145,
          "RestingBP": 120,
          "Sex": 1
         },
         {
          "Age": 51,
          "Cholesterol": 152,
          "ExerciseAngina": 1,
          "FastingBS": 1,
          "HeartDisease": 1,
          "MaxHR": 130,
          "RestingBP": 131,
          "Sex": 1
         },
         {
          "Age": 59,
          "Cholesterol": 218,
          "ExerciseAngina": 0,
          "FastingBS": 1,
          "HeartDisease": 1,
          "MaxHR": 134,
          "RestingBP": 126,
          "Sex": 1
         },
         {
          "Age": 54,
          "Cholesterol": 201,
          "ExerciseAngina": 0,
          "FastingBS": 0,
          "HeartDisease": 0,
          "MaxHR": 163,
          "RestingBP": 160,
          "Sex": 0
         },
         {
          "Age": 56,
          "Cholesterol": 85,
          "ExerciseAngina": 0,
          "FastingBS": 0,
          "HeartDisease": 0,
          "MaxHR": 140,
          "RestingBP": 120,
          "Sex": 1
         },
         {
          "Age": 59,
          "Cholesterol": 169,
          "ExerciseAngina": 0,
          "FastingBS": 0,
          "HeartDisease": 0,
          "MaxHR": 140,
          "RestingBP": 140,
          "Sex": 1
         },
         {
          "Age": 51,
          "Cholesterol": 261,
          "ExerciseAngina": 1,
          "FastingBS": 0,
          "HeartDisease": 0,
          "MaxHR": 186,
          "RestingBP": 140,
          "Sex": 1
         },
         {
          "Age": 36,
          "Cholesterol": 160,
          "ExerciseAngina": 0,
          "FastingBS": 0,
          "HeartDisease": 0,
          "MaxHR": 172,
          "RestingBP": 150,
          "Sex": 1
         },
         {
          "Age": 58,
          "Cholesterol": 234,
          "ExerciseAngina": 0,
          "FastingBS": 0,
          "HeartDisease": 1,
          "MaxHR": 156,
          "RestingBP": 100,
          "Sex": 1
         },
         {
          "Age": 51,
          "Cholesterol": 218,
          "ExerciseAngina": 0,
          "FastingBS": 1,
          "HeartDisease": 0,
          "MaxHR": 139,
          "RestingBP": 132,
          "Sex": 1
         },
         {
          "Age": 64,
          "Cholesterol": 303,
          "ExerciseAngina": 0,
          "FastingBS": 0,
          "HeartDisease": 0,
          "MaxHR": 122,
          "RestingBP": 130,
          "Sex": 0
         },
         {
          "Age": 52,
          "Cholesterol": 225,
          "ExerciseAngina": 0,
          "FastingBS": 0,
          "HeartDisease": 0,
          "MaxHR": 140,
          "RestingBP": 140,
          "Sex": 0
         },
         {
          "Age": 63,
          "Cholesterol": 187,
          "ExerciseAngina": 1,
          "FastingBS": 0,
          "HeartDisease": 1,
          "MaxHR": 144,
          "RestingBP": 140,
          "Sex": 1
         },
         {
          "Age": 60,
          "Cholesterol": 195,
          "ExerciseAngina": 0,
          "FastingBS": 0,
          "HeartDisease": 0,
          "MaxHR": 126,
          "RestingBP": 136,
          "Sex": 1
         },
         {
          "Age": 53,
          "Cholesterol": 197,
          "ExerciseAngina": 0,
          "FastingBS": 1,
          "HeartDisease": 0,
          "MaxHR": 152,
          "RestingBP": 130,
          "Sex": 1
         },
         {
          "Age": 57,
          "Cholesterol": 311,
          "ExerciseAngina": 1,
          "FastingBS": 1,
          "HeartDisease": 1,
          "MaxHR": 148,
          "RestingBP": 130,
          "Sex": 1
         },
         {
          "Age": 66,
          "Cholesterol": 226,
          "ExerciseAngina": 0,
          "FastingBS": 0,
          "HeartDisease": 0,
          "MaxHR": 114,
          "RestingBP": 150,
          "Sex": 0
         },
         {
          "Age": 42,
          "Cholesterol": 240,
          "ExerciseAngina": 0,
          "FastingBS": 0,
          "HeartDisease": 0,
          "MaxHR": 160,
          "RestingBP": 134,
          "Sex": 1
         },
         {
          "Age": 50,
          "Cholesterol": 288,
          "ExerciseAngina": 1,
          "FastingBS": 0,
          "HeartDisease": 1,
          "MaxHR": 140,
          "RestingBP": 140,
          "Sex": 0
         },
         {
          "Age": 63,
          "Cholesterol": 269,
          "ExerciseAngina": 1,
          "FastingBS": 0,
          "HeartDisease": 1,
          "MaxHR": 169,
          "RestingBP": 108,
          "Sex": 0
         },
         {
          "Age": 58,
          "Cholesterol": 240,
          "ExerciseAngina": 1,
          "FastingBS": 0,
          "HeartDisease": 0,
          "MaxHR": 154,
          "RestingBP": 105,
          "Sex": 1
         },
         {
          "Age": 54,
          "Cholesterol": 273,
          "ExerciseAngina": 0,
          "FastingBS": 0,
          "HeartDisease": 0,
          "MaxHR": 150,
          "RestingBP": 120,
          "Sex": 0
         },
         {
          "Age": 46,
          "Cholesterol": 163,
          "ExerciseAngina": 0,
          "FastingBS": 0,
          "HeartDisease": 0,
          "MaxHR": 116,
          "RestingBP": 150,
          "Sex": 1
         },
         {
          "Age": 42,
          "Cholesterol": 315,
          "ExerciseAngina": 1,
          "FastingBS": 0,
          "HeartDisease": 1,
          "MaxHR": 125,
          "RestingBP": 136,
          "Sex": 1
         },
         {
          "Age": 39,
          "Cholesterol": 199,
          "ExerciseAngina": 0,
          "FastingBS": 0,
          "HeartDisease": 0,
          "MaxHR": 179,
          "RestingBP": 94,
          "Sex": 0
         },
         {
          "Age": 28,
          "Cholesterol": 132,
          "ExerciseAngina": 0,
          "FastingBS": 0,
          "HeartDisease": 0,
          "MaxHR": 185,
          "RestingBP": 130,
          "Sex": 1
         },
         {
          "Age": 41,
          "Cholesterol": 250,
          "ExerciseAngina": 0,
          "FastingBS": 0,
          "HeartDisease": 0,
          "MaxHR": 179,
          "RestingBP": 112,
          "Sex": 1
         },
         {
          "Age": 59,
          "Cholesterol": 338,
          "ExerciseAngina": 1,
          "FastingBS": 1,
          "HeartDisease": 1,
          "MaxHR": 130,
          "RestingBP": 130,
          "Sex": 0
         },
         {
          "Age": 67,
          "Cholesterol": 384,
          "ExerciseAngina": 1,
          "FastingBS": 1,
          "HeartDisease": 1,
          "MaxHR": 130,
          "RestingBP": 160,
          "Sex": 1
         },
         {
          "Age": 47,
          "Cholesterol": 257,
          "ExerciseAngina": 0,
          "FastingBS": 0,
          "HeartDisease": 0,
          "MaxHR": 135,
          "RestingBP": 140,
          "Sex": 0
         },
         {
          "Age": 56,
          "Cholesterol": 276,
          "ExerciseAngina": 1,
          "FastingBS": 0,
          "HeartDisease": 0,
          "MaxHR": 128,
          "RestingBP": 130,
          "Sex": 1
         },
         {
          "Age": 67,
          "Cholesterol": 212,
          "ExerciseAngina": 0,
          "FastingBS": 0,
          "HeartDisease": 1,
          "MaxHR": 150,
          "RestingBP": 152,
          "Sex": 1
         },
         {
          "Age": 58,
          "Cholesterol": 230,
          "ExerciseAngina": 0,
          "FastingBS": 0,
          "HeartDisease": 1,
          "MaxHR": 165,
          "RestingBP": 112,
          "Sex": 1
         },
         {
          "Age": 57,
          "Cholesterol": 354,
          "ExerciseAngina": 1,
          "FastingBS": 0,
          "HeartDisease": 0,
          "MaxHR": 163,
          "RestingBP": 120,
          "Sex": 0
         },
         {
          "Age": 29,
          "Cholesterol": 204,
          "ExerciseAngina": 0,
          "FastingBS": 0,
          "HeartDisease": 0,
          "MaxHR": 202,
          "RestingBP": 130,
          "Sex": 1
         },
         {
          "Age": 45,
          "Cholesterol": 308,
          "ExerciseAngina": 0,
          "FastingBS": 0,
          "HeartDisease": 0,
          "MaxHR": 170,
          "RestingBP": 128,
          "Sex": 1
         },
         {
          "Age": 53,
          "Cholesterol": 182,
          "ExerciseAngina": 0,
          "FastingBS": 0,
          "HeartDisease": 0,
          "MaxHR": 148,
          "RestingBP": 130,
          "Sex": 1
         },
         {
          "Age": 62,
          "Cholesterol": 139,
          "ExerciseAngina": 0,
          "FastingBS": 0,
          "HeartDisease": 0,
          "MaxHR": 137,
          "RestingBP": 135,
          "Sex": 1
         },
         {
          "Age": 39,
          "Cholesterol": 321,
          "ExerciseAngina": 0,
          "FastingBS": 0,
          "HeartDisease": 0,
          "MaxHR": 182,
          "RestingBP": 140,
          "Sex": 1
         },
         {
          "Age": 37,
          "Cholesterol": 223,
          "ExerciseAngina": 0,
          "FastingBS": 0,
          "HeartDisease": 0,
          "MaxHR": 168,
          "RestingBP": 120,
          "Sex": 1
         },
         {
          "Age": 59,
          "Cholesterol": 204,
          "ExerciseAngina": 0,
          "FastingBS": 0,
          "HeartDisease": 1,
          "MaxHR": 162,
          "RestingBP": 134,
          "Sex": 1
         },
         {
          "Age": 58,
          "Cholesterol": 224,
          "ExerciseAngina": 0,
          "FastingBS": 0,
          "HeartDisease": 1,
          "MaxHR": 173,
          "RestingBP": 132,
          "Sex": 1
         },
         {
          "Age": 38,
          "Cholesterol": 292,
          "ExerciseAngina": 0,
          "FastingBS": 0,
          "HeartDisease": 0,
          "MaxHR": 130,
          "RestingBP": 145,
          "Sex": 1
         },
         {
          "Age": 43,
          "Cholesterol": 247,
          "ExerciseAngina": 0,
          "FastingBS": 0,
          "HeartDisease": 0,
          "MaxHR": 171,
          "RestingBP": 150,
          "Sex": 1
         },
         {
          "Age": 64,
          "Cholesterol": 193,
          "ExerciseAngina": 1,
          "FastingBS": 0,
          "HeartDisease": 1,
          "MaxHR": 135,
          "RestingBP": 150,
          "Sex": 1
         },
         {
          "Age": 57,
          "Cholesterol": 201,
          "ExerciseAngina": 1,
          "FastingBS": 0,
          "HeartDisease": 0,
          "MaxHR": 126,
          "RestingBP": 110,
          "Sex": 1
         },
         {
          "Age": 43,
          "Cholesterol": 215,
          "ExerciseAngina": 0,
          "FastingBS": 0,
          "HeartDisease": 0,
          "MaxHR": 175,
          "RestingBP": 120,
          "Sex": 0
         },
         {
          "Age": 65,
          "Cholesterol": 269,
          "ExerciseAngina": 0,
          "FastingBS": 0,
          "HeartDisease": 0,
          "MaxHR": 148,
          "RestingBP": 155,
          "Sex": 0
         },
         {
          "Age": 39,
          "Cholesterol": 215,
          "ExerciseAngina": 0,
          "FastingBS": 0,
          "HeartDisease": 0,
          "MaxHR": 120,
          "RestingBP": 130,
          "Sex": 1
         },
         {
          "Age": 52,
          "Cholesterol": 246,
          "ExerciseAngina": 1,
          "FastingBS": 0,
          "HeartDisease": 1,
          "MaxHR": 82,
          "RestingBP": 160,
          "Sex": 1
         },
         {
          "Age": 53,
          "Cholesterol": 260,
          "ExerciseAngina": 1,
          "FastingBS": 0,
          "HeartDisease": 0,
          "MaxHR": 112,
          "RestingBP": 124,
          "Sex": 1
         },
         {
          "Age": 38,
          "Cholesterol": 289,
          "ExerciseAngina": 1,
          "FastingBS": 0,
          "HeartDisease": 1,
          "MaxHR": 105,
          "RestingBP": 110,
          "Sex": 1
         },
         {
          "Age": 47,
          "Cholesterol": 291,
          "ExerciseAngina": 1,
          "FastingBS": 0,
          "HeartDisease": 1,
          "MaxHR": 158,
          "RestingBP": 160,
          "Sex": 1
         },
         {
          "Age": 49,
          "Cholesterol": 180,
          "ExerciseAngina": 0,
          "FastingBS": 0,
          "HeartDisease": 1,
          "MaxHR": 156,
          "RestingBP": 160,
          "Sex": 0
         },
         {
          "Age": 55,
          "Cholesterol": 185,
          "ExerciseAngina": 0,
          "FastingBS": 0,
          "HeartDisease": 0,
          "MaxHR": 136,
          "RestingBP": 133,
          "Sex": 1
         },
         {
          "Age": 42,
          "Cholesterol": 265,
          "ExerciseAngina": 0,
          "FastingBS": 0,
          "HeartDisease": 0,
          "MaxHR": 122,
          "RestingBP": 102,
          "Sex": 0
         },
         {
          "Age": 45,
          "Cholesterol": 264,
          "ExerciseAngina": 0,
          "FastingBS": 0,
          "HeartDisease": 1,
          "MaxHR": 132,
          "RestingBP": 110,
          "Sex": 1
         },
         {
          "Age": 46,
          "Cholesterol": 243,
          "ExerciseAngina": 1,
          "FastingBS": 0,
          "HeartDisease": 0,
          "MaxHR": 152,
          "RestingBP": 138,
          "Sex": 0
         },
         {
          "Age": 65,
          "Cholesterol": 177,
          "ExerciseAngina": 0,
          "FastingBS": 0,
          "HeartDisease": 0,
          "MaxHR": 140,
          "RestingBP": 120,
          "Sex": 1
         },
         {
          "Age": 62,
          "Cholesterol": 170,
          "ExerciseAngina": 1,
          "FastingBS": 0,
          "HeartDisease": 1,
          "MaxHR": 138,
          "RestingBP": 158,
          "Sex": 1
         },
         {
          "Age": 44,
          "Cholesterol": 491,
          "ExerciseAngina": 0,
          "FastingBS": 0,
          "HeartDisease": 1,
          "MaxHR": 135,
          "RestingBP": 135,
          "Sex": 1
         },
         {
          "Age": 48,
          "Cholesterol": 229,
          "ExerciseAngina": 0,
          "FastingBS": 0,
          "HeartDisease": 1,
          "MaxHR": 168,
          "RestingBP": 110,
          "Sex": 1
         },
         {
          "Age": 34,
          "Cholesterol": 156,
          "ExerciseAngina": 0,
          "FastingBS": 0,
          "HeartDisease": 1,
          "MaxHR": 180,
          "RestingBP": 140,
          "Sex": 1
         },
         {
          "Age": 49,
          "Cholesterol": 297,
          "ExerciseAngina": 0,
          "FastingBS": 0,
          "HeartDisease": 0,
          "MaxHR": 132,
          "RestingBP": 120,
          "Sex": 1
         },
         {
          "Age": 45,
          "Cholesterol": 234,
          "ExerciseAngina": 0,
          "FastingBS": 0,
          "HeartDisease": 0,
          "MaxHR": 175,
          "RestingBP": 130,
          "Sex": 0
         },
         {
          "Age": 68,
          "Cholesterol": 181,
          "ExerciseAngina": 0,
          "FastingBS": 1,
          "HeartDisease": 0,
          "MaxHR": 135,
          "RestingBP": 139,
          "Sex": 1
         },
         {
          "Age": 74,
          "Cholesterol": 237,
          "ExerciseAngina": 0,
          "FastingBS": 1,
          "HeartDisease": 1,
          "MaxHR": 94,
          "RestingBP": 140,
          "Sex": 1
         },
         {
          "Age": 62,
          "Cholesterol": 258,
          "ExerciseAngina": 1,
          "FastingBS": 0,
          "HeartDisease": 1,
          "MaxHR": 150,
          "RestingBP": 112,
          "Sex": 1
         },
         {
          "Age": 55,
          "Cholesterol": 160,
          "ExerciseAngina": 0,
          "FastingBS": 0,
          "HeartDisease": 0,
          "MaxHR": 150,
          "RestingBP": 150,
          "Sex": 1
         },
         {
          "Age": 54,
          "Cholesterol": 239,
          "ExerciseAngina": 0,
          "FastingBS": 0,
          "HeartDisease": 0,
          "MaxHR": 160,
          "RestingBP": 140,
          "Sex": 1
         },
         {
          "Age": 55,
          "Cholesterol": 394,
          "ExerciseAngina": 0,
          "FastingBS": 0,
          "HeartDisease": 0,
          "MaxHR": 150,
          "RestingBP": 130,
          "Sex": 0
         },
         {
          "Age": 34,
          "Cholesterol": 182,
          "ExerciseAngina": 0,
          "FastingBS": 0,
          "HeartDisease": 0,
          "MaxHR": 174,
          "RestingBP": 118,
          "Sex": 1
         },
         {
          "Age": 75,
          "Cholesterol": 225,
          "ExerciseAngina": 1,
          "FastingBS": 0,
          "HeartDisease": 1,
          "MaxHR": 112,
          "RestingBP": 136,
          "Sex": 1
         },
         {
          "Age": 46,
          "Cholesterol": 238,
          "ExerciseAngina": 1,
          "FastingBS": 0,
          "HeartDisease": 0,
          "MaxHR": 140,
          "RestingBP": 110,
          "Sex": 1
         },
         {
          "Age": 66,
          "Cholesterol": 212,
          "ExerciseAngina": 1,
          "FastingBS": 0,
          "HeartDisease": 1,
          "MaxHR": 132,
          "RestingBP": 112,
          "Sex": 1
         },
         {
          "Age": 62,
          "Cholesterol": 254,
          "ExerciseAngina": 1,
          "FastingBS": 1,
          "HeartDisease": 1,
          "MaxHR": 108,
          "RestingBP": 160,
          "Sex": 1
         },
         {
          "Age": 54,
          "Cholesterol": 239,
          "ExerciseAngina": 1,
          "FastingBS": 0,
          "HeartDisease": 1,
          "MaxHR": 126,
          "RestingBP": 110,
          "Sex": 1
         },
         {
          "Age": 65,
          "Cholesterol": 248,
          "ExerciseAngina": 1,
          "FastingBS": 0,
          "HeartDisease": 1,
          "MaxHR": 140,
          "RestingBP": 136,
          "Sex": 1
         },
         {
          "Age": 39,
          "Cholesterol": 200,
          "ExerciseAngina": 1,
          "FastingBS": 0,
          "HeartDisease": 0,
          "MaxHR": 160,
          "RestingBP": 120,
          "Sex": 1
         },
         {
          "Age": 57,
          "Cholesterol": 277,
          "ExerciseAngina": 1,
          "FastingBS": 1,
          "HeartDisease": 1,
          "MaxHR": 118,
          "RestingBP": 139,
          "Sex": 1
         },
         {
          "Age": 35,
          "Cholesterol": 161,
          "ExerciseAngina": 0,
          "FastingBS": 0,
          "HeartDisease": 0,
          "MaxHR": 153,
          "RestingBP": 123,
          "Sex": 1
         },
         {
          "Age": 40,
          "Cholesterol": 466,
          "ExerciseAngina": 1,
          "FastingBS": 1,
          "HeartDisease": 1,
          "MaxHR": 152,
          "RestingBP": 120,
          "Sex": 1
         },
         {
          "Age": 63,
          "Cholesterol": 223,
          "ExerciseAngina": 0,
          "FastingBS": 0,
          "HeartDisease": 1,
          "MaxHR": 115,
          "RestingBP": 150,
          "Sex": 1
         },
         {
          "Age": 54,
          "Cholesterol": 195,
          "ExerciseAngina": 0,
          "FastingBS": 0,
          "HeartDisease": 0,
          "MaxHR": 122,
          "RestingBP": 150,
          "Sex": 1
         },
         {
          "Age": 42,
          "Cholesterol": 358,
          "ExerciseAngina": 0,
          "FastingBS": 0,
          "HeartDisease": 0,
          "MaxHR": 170,
          "RestingBP": 140,
          "Sex": 1
         },
         {
          "Age": 37,
          "Cholesterol": 211,
          "ExerciseAngina": 0,
          "FastingBS": 0,
          "HeartDisease": 0,
          "MaxHR": 142,
          "RestingBP": 130,
          "Sex": 0
         },
         {
          "Age": 57,
          "Cholesterol": 289,
          "ExerciseAngina": 0,
          "FastingBS": 1,
          "HeartDisease": 1,
          "MaxHR": 124,
          "RestingBP": 165,
          "Sex": 1
         },
         {
          "Age": 56,
          "Cholesterol": 221,
          "ExerciseAngina": 0,
          "FastingBS": 0,
          "HeartDisease": 0,
          "MaxHR": 163,
          "RestingBP": 130,
          "Sex": 1
         },
         {
          "Age": 48,
          "Cholesterol": 268,
          "ExerciseAngina": 1,
          "FastingBS": 0,
          "HeartDisease": 1,
          "MaxHR": 103,
          "RestingBP": 160,
          "Sex": 1
         },
         {
          "Age": 46,
          "Cholesterol": 249,
          "ExerciseAngina": 0,
          "FastingBS": 0,
          "HeartDisease": 1,
          "MaxHR": 144,
          "RestingBP": 120,
          "Sex": 1
         },
         {
          "Age": 49,
          "Cholesterol": 265,
          "ExerciseAngina": 0,
          "FastingBS": 0,
          "HeartDisease": 1,
          "MaxHR": 175,
          "RestingBP": 115,
          "Sex": 1
         },
         {
          "Age": 74,
          "Cholesterol": 258,
          "ExerciseAngina": 1,
          "FastingBS": 1,
          "HeartDisease": 1,
          "MaxHR": 130,
          "RestingBP": 150,
          "Sex": 1
         },
         {
          "Age": 48,
          "Cholesterol": 222,
          "ExerciseAngina": 0,
          "FastingBS": 0,
          "HeartDisease": 0,
          "MaxHR": 186,
          "RestingBP": 122,
          "Sex": 1
         },
         {
          "Age": 51,
          "Cholesterol": 256,
          "ExerciseAngina": 0,
          "FastingBS": 0,
          "HeartDisease": 0,
          "MaxHR": 149,
          "RestingBP": 130,
          "Sex": 0
         },
         {
          "Age": 60,
          "Cholesterol": 248,
          "ExerciseAngina": 0,
          "FastingBS": 0,
          "HeartDisease": 1,
          "MaxHR": 125,
          "RestingBP": 100,
          "Sex": 1
         },
         {
          "Age": 46,
          "Cholesterol": 236,
          "ExerciseAngina": 1,
          "FastingBS": 0,
          "HeartDisease": 1,
          "MaxHR": 125,
          "RestingBP": 110,
          "Sex": 1
         },
         {
          "Age": 65,
          "Cholesterol": 263,
          "ExerciseAngina": 1,
          "FastingBS": 1,
          "HeartDisease": 1,
          "MaxHR": 112,
          "RestingBP": 170,
          "Sex": 1
         },
         {
          "Age": 41,
          "Cholesterol": 336,
          "ExerciseAngina": 1,
          "FastingBS": 0,
          "HeartDisease": 1,
          "MaxHR": 118,
          "RestingBP": 120,
          "Sex": 1
         },
         {
          "Age": 55,
          "Cholesterol": 223,
          "ExerciseAngina": 0,
          "FastingBS": 1,
          "HeartDisease": 1,
          "MaxHR": 100,
          "RestingBP": 122,
          "Sex": 1
         },
         {
          "Age": 54,
          "Cholesterol": 294,
          "ExerciseAngina": 1,
          "FastingBS": 0,
          "HeartDisease": 1,
          "MaxHR": 100,
          "RestingBP": 130,
          "Sex": 0
         },
         {
          "Age": 42,
          "Cholesterol": 244,
          "ExerciseAngina": 0,
          "FastingBS": 0,
          "HeartDisease": 0,
          "MaxHR": 178,
          "RestingBP": 148,
          "Sex": 1
         },
         {
          "Age": 59,
          "Cholesterol": 318,
          "ExerciseAngina": 1,
          "FastingBS": 0,
          "HeartDisease": 0,
          "MaxHR": 120,
          "RestingBP": 130,
          "Sex": 1
         },
         {
          "Age": 56,
          "Cholesterol": 213,
          "ExerciseAngina": 1,
          "FastingBS": 1,
          "HeartDisease": 1,
          "MaxHR": 125,
          "RestingBP": 150,
          "Sex": 1
         },
         {
          "Age": 56,
          "Cholesterol": 193,
          "ExerciseAngina": 0,
          "FastingBS": 0,
          "HeartDisease": 0,
          "MaxHR": 162,
          "RestingBP": 120,
          "Sex": 1
         },
         {
          "Age": 58,
          "Cholesterol": 283,
          "ExerciseAngina": 0,
          "FastingBS": 1,
          "HeartDisease": 0,
          "MaxHR": 162,
          "RestingBP": 150,
          "Sex": 0
         },
         {
          "Age": 41,
          "Cholesterol": 172,
          "ExerciseAngina": 0,
          "FastingBS": 0,
          "HeartDisease": 1,
          "MaxHR": 158,
          "RestingBP": 110,
          "Sex": 1
         },
         {
          "Age": 42,
          "Cholesterol": 268,
          "ExerciseAngina": 0,
          "FastingBS": 0,
          "HeartDisease": 0,
          "MaxHR": 136,
          "RestingBP": 150,
          "Sex": 1
         },
         {
          "Age": 64,
          "Cholesterol": 325,
          "ExerciseAngina": 1,
          "FastingBS": 0,
          "HeartDisease": 0,
          "MaxHR": 154,
          "RestingBP": 180,
          "Sex": 0
         },
         {
          "Age": 38,
          "Cholesterol": 282,
          "ExerciseAngina": 0,
          "FastingBS": 0,
          "HeartDisease": 1,
          "MaxHR": 170,
          "RestingBP": 120,
          "Sex": 1
         },
         {
          "Age": 54,
          "Cholesterol": 238,
          "ExerciseAngina": 0,
          "FastingBS": 0,
          "HeartDisease": 0,
          "MaxHR": 154,
          "RestingBP": 120,
          "Sex": 1
         },
         {
          "Age": 52,
          "Cholesterol": 199,
          "ExerciseAngina": 0,
          "FastingBS": 1,
          "HeartDisease": 0,
          "MaxHR": 162,
          "RestingBP": 172,
          "Sex": 1
         },
         {
          "Age": 44,
          "Cholesterol": 197,
          "ExerciseAngina": 0,
          "FastingBS": 0,
          "HeartDisease": 1,
          "MaxHR": 177,
          "RestingBP": 110,
          "Sex": 1
         },
         {
          "Age": 44,
          "Cholesterol": 235,
          "ExerciseAngina": 0,
          "FastingBS": 0,
          "HeartDisease": 0,
          "MaxHR": 180,
          "RestingBP": 140,
          "Sex": 1
         },
         {
          "Age": 43,
          "Cholesterol": 266,
          "ExerciseAngina": 0,
          "FastingBS": 0,
          "HeartDisease": 0,
          "MaxHR": 118,
          "RestingBP": 120,
          "Sex": 0
         },
         {
          "Age": 42,
          "Cholesterol": 211,
          "ExerciseAngina": 0,
          "FastingBS": 0,
          "HeartDisease": 0,
          "MaxHR": 137,
          "RestingBP": 115,
          "Sex": 0
         },
         {
          "Age": 43,
          "Cholesterol": 303,
          "ExerciseAngina": 0,
          "FastingBS": 0,
          "HeartDisease": 0,
          "MaxHR": 181,
          "RestingBP": 115,
          "Sex": 1
         },
         {
          "Age": 51,
          "Cholesterol": 298,
          "ExerciseAngina": 1,
          "FastingBS": 0,
          "HeartDisease": 1,
          "MaxHR": 122,
          "RestingBP": 140,
          "Sex": 1
         },
         {
          "Age": 70,
          "Cholesterol": 192,
          "ExerciseAngina": 1,
          "FastingBS": 0,
          "HeartDisease": 1,
          "MaxHR": 129,
          "RestingBP": 170,
          "Sex": 1
         },
         {
          "Age": 46,
          "Cholesterol": 311,
          "ExerciseAngina": 1,
          "FastingBS": 0,
          "HeartDisease": 1,
          "MaxHR": 120,
          "RestingBP": 140,
          "Sex": 1
         },
         {
          "Age": 59,
          "Cholesterol": 213,
          "ExerciseAngina": 0,
          "FastingBS": 0,
          "HeartDisease": 0,
          "MaxHR": 100,
          "RestingBP": 180,
          "Sex": 1
         },
         {
          "Age": 51,
          "Cholesterol": 200,
          "ExerciseAngina": 0,
          "FastingBS": 0,
          "HeartDisease": 0,
          "MaxHR": 120,
          "RestingBP": 150,
          "Sex": 0
         },
         {
          "Age": 48,
          "Cholesterol": 214,
          "ExerciseAngina": 1,
          "FastingBS": 0,
          "HeartDisease": 1,
          "MaxHR": 108,
          "RestingBP": 138,
          "Sex": 0
         },
         {
          "Age": 35,
          "Cholesterol": 192,
          "ExerciseAngina": 0,
          "FastingBS": 0,
          "HeartDisease": 0,
          "MaxHR": 174,
          "RestingBP": 122,
          "Sex": 1
         },
         {
          "Age": 54,
          "Cholesterol": 214,
          "ExerciseAngina": 0,
          "FastingBS": 0,
          "HeartDisease": 0,
          "MaxHR": 158,
          "RestingBP": 110,
          "Sex": 0
         },
         {
          "Age": 43,
          "Cholesterol": 247,
          "ExerciseAngina": 1,
          "FastingBS": 0,
          "HeartDisease": 1,
          "MaxHR": 130,
          "RestingBP": 150,
          "Sex": 1
         },
         {
          "Age": 62,
          "Cholesterol": 193,
          "ExerciseAngina": 0,
          "FastingBS": 0,
          "HeartDisease": 0,
          "MaxHR": 116,
          "RestingBP": 160,
          "Sex": 0
         },
         {
          "Age": 60,
          "Cholesterol": 240,
          "ExerciseAngina": 0,
          "FastingBS": 0,
          "HeartDisease": 0,
          "MaxHR": 171,
          "RestingBP": 150,
          "Sex": 0
         },
         {
          "Age": 63,
          "Cholesterol": 260,
          "ExerciseAngina": 1,
          "FastingBS": 0,
          "HeartDisease": 1,
          "MaxHR": 112,
          "RestingBP": 140,
          "Sex": 1
         },
         {
          "Age": 32,
          "Cholesterol": 529,
          "ExerciseAngina": 0,
          "FastingBS": 0,
          "HeartDisease": 1,
          "MaxHR": 130,
          "RestingBP": 118,
          "Sex": 1
         },
         {
          "Age": 56,
          "Cholesterol": 283,
          "ExerciseAngina": 1,
          "FastingBS": 1,
          "HeartDisease": 1,
          "MaxHR": 103,
          "RestingBP": 130,
          "Sex": 1
         },
         {
          "Age": 74,
          "Cholesterol": 310,
          "ExerciseAngina": 1,
          "FastingBS": 0,
          "HeartDisease": 1,
          "MaxHR": 112,
          "RestingBP": 155,
          "Sex": 1
         },
         {
          "Age": 58,
          "Cholesterol": 319,
          "ExerciseAngina": 0,
          "FastingBS": 1,
          "HeartDisease": 1,
          "MaxHR": 152,
          "RestingBP": 136,
          "Sex": 0
         },
         {
          "Age": 54,
          "Cholesterol": 237,
          "ExerciseAngina": 1,
          "FastingBS": 0,
          "HeartDisease": 1,
          "MaxHR": 150,
          "RestingBP": 120,
          "Sex": 1
         },
         {
          "Age": 58,
          "Cholesterol": 219,
          "ExerciseAngina": 1,
          "FastingBS": 0,
          "HeartDisease": 1,
          "MaxHR": 118,
          "RestingBP": 150,
          "Sex": 1
         },
         {
          "Age": 69,
          "Cholesterol": 208,
          "ExerciseAngina": 1,
          "FastingBS": 0,
          "HeartDisease": 1,
          "MaxHR": 140,
          "RestingBP": 140,
          "Sex": 1
         },
         {
          "Age": 72,
          "Cholesterol": 214,
          "ExerciseAngina": 1,
          "FastingBS": 0,
          "HeartDisease": 1,
          "MaxHR": 102,
          "RestingBP": 120,
          "Sex": 1
         },
         {
          "Age": 59,
          "Cholesterol": 326,
          "ExerciseAngina": 1,
          "FastingBS": 0,
          "HeartDisease": 1,
          "MaxHR": 140,
          "RestingBP": 170,
          "Sex": 1
         },
         {
          "Age": 47,
          "Cholesterol": 248,
          "ExerciseAngina": 0,
          "FastingBS": 1,
          "HeartDisease": 1,
          "MaxHR": 170,
          "RestingBP": 135,
          "Sex": 0
         },
         {
          "Age": 62,
          "Cholesterol": 254,
          "ExerciseAngina": 1,
          "FastingBS": 0,
          "HeartDisease": 1,
          "MaxHR": 93,
          "RestingBP": 120,
          "Sex": 1
         },
         {
          "Age": 48,
          "Cholesterol": 220,
          "ExerciseAngina": 0,
          "FastingBS": 1,
          "HeartDisease": 1,
          "MaxHR": 162,
          "RestingBP": 132,
          "Sex": 1
         },
         {
          "Age": 44,
          "Cholesterol": 290,
          "ExerciseAngina": 1,
          "FastingBS": 0,
          "HeartDisease": 1,
          "MaxHR": 100,
          "RestingBP": 130,
          "Sex": 1
         },
         {
          "Age": 68,
          "Cholesterol": 274,
          "ExerciseAngina": 1,
          "FastingBS": 1,
          "HeartDisease": 1,
          "MaxHR": 150,
          "RestingBP": 180,
          "Sex": 1
         },
         {
          "Age": 53,
          "Cholesterol": 518,
          "ExerciseAngina": 0,
          "FastingBS": 0,
          "HeartDisease": 1,
          "MaxHR": 130,
          "RestingBP": 145,
          "Sex": 1
         },
         {
          "Age": 41,
          "Cholesterol": 291,
          "ExerciseAngina": 0,
          "FastingBS": 0,
          "HeartDisease": 0,
          "MaxHR": 160,
          "RestingBP": 120,
          "Sex": 1
         },
         {
          "Age": 41,
          "Cholesterol": 250,
          "ExerciseAngina": 0,
          "FastingBS": 0,
          "HeartDisease": 0,
          "MaxHR": 142,
          "RestingBP": 112,
          "Sex": 1
         },
         {
          "Age": 54,
          "Cholesterol": 253,
          "ExerciseAngina": 0,
          "FastingBS": 0,
          "HeartDisease": 0,
          "MaxHR": 155,
          "RestingBP": 130,
          "Sex": 0
         },
         {
          "Age": 65,
          "Cholesterol": 248,
          "ExerciseAngina": 0,
          "FastingBS": 0,
          "HeartDisease": 1,
          "MaxHR": 158,
          "RestingBP": 110,
          "Sex": 1
         },
         {
          "Age": 43,
          "Cholesterol": 213,
          "ExerciseAngina": 0,
          "FastingBS": 0,
          "HeartDisease": 0,
          "MaxHR": 165,
          "RestingBP": 122,
          "Sex": 0
         },
         {
          "Age": 65,
          "Cholesterol": 254,
          "ExerciseAngina": 0,
          "FastingBS": 0,
          "HeartDisease": 1,
          "MaxHR": 127,
          "RestingBP": 135,
          "Sex": 1
         },
         {
          "Age": 61,
          "Cholesterol": 298,
          "ExerciseAngina": 1,
          "FastingBS": 1,
          "HeartDisease": 0,
          "MaxHR": 120,
          "RestingBP": 140,
          "Sex": 0
         },
         {
          "Age": 56,
          "Cholesterol": 184,
          "ExerciseAngina": 0,
          "FastingBS": 0,
          "HeartDisease": 0,
          "MaxHR": 100,
          "RestingBP": 130,
          "Sex": 1
         },
         {
          "Age": 41,
          "Cholesterol": 245,
          "ExerciseAngina": 0,
          "FastingBS": 0,
          "HeartDisease": 0,
          "MaxHR": 150,
          "RestingBP": 130,
          "Sex": 0
         },
         {
          "Age": 44,
          "Cholesterol": 209,
          "ExerciseAngina": 0,
          "FastingBS": 0,
          "HeartDisease": 0,
          "MaxHR": 127,
          "RestingBP": 130,
          "Sex": 1
         },
         {
          "Age": 57,
          "Cholesterol": 335,
          "ExerciseAngina": 1,
          "FastingBS": 0,
          "HeartDisease": 1,
          "MaxHR": 143,
          "RestingBP": 110,
          "Sex": 1
         }
        ]
       },
       "encoding": {
        "fill": {
         "field": "HeartDisease",
         "title": "Heart Disease",
         "type": "nominal"
        },
        "x": {
         "bin": {
          "maxbins": 30
         },
         "field": "Cholesterol",
         "scale": {
          "zero": false
         },
         "title": "Cholesterol (mg/dl)",
         "type": "quantitative"
        },
        "y": {
         "aggregate": "count",
         "field": "HeartDisease",
         "title": "Number of Heart Diagnoses",
         "type": "quantitative"
        }
       },
       "mark": "bar"
      },
      "image/png": "[encoded data removed]",
      "text/plain": [
       "<VegaLite 4 object>\n",
       "\n",
       "If you see this message, it means the renderer has not been properly enabled\n",
       "for the frontend that you are using. For more information, see\n",
       "https://altair-viz.github.io/user_guide/troubleshooting.html\n"
      ]
     },
     "execution_count": 7,
     "metadata": {},
     "output_type": "execute_result"
    }
   ],
   "source": [
    "chol_plot"
   ]
  },
  {
   "cell_type": "markdown",
   "id": "74ac351c-2202-458f-8e08-3b986a01a386",
   "metadata": {},
   "source": [
    "As seen in the plot above, in patients with moderate levels of cholesterol, heart disease is not seemingly strongly correlated with cholesterol (there are roughly the same number of diseased and not diseased patients with average cholesterol levels). However, in higher cholesterols (greater than 320mg/dl especially), there is a potential connection between cholesterol and the presence of heart disease. For this reason, serum cholesterol will be included in the classifier."
   ]
  },
  {
   "cell_type": "code",
   "execution_count": 8,
   "id": "08073d79-51f3-4963-984c-91b0d6a932d5",
   "metadata": {},
   "outputs": [],
   "source": [
    "restbp_plot = (\n",
    "    alt.Chart(heart_data_training)\n",
    "    .mark_bar()\n",
    "    .encode(\n",
    "        x=alt.X(\"RestingBP\",bin=alt.Bin(maxbins=30),title=\"Resting Blood Pressure (mm/Hg)\",scale=alt.Scale(zero=False)),\n",
    "        y=alt.Y(\"count(HeartDisease)\",title=\"Number of Heart Diagnoses\"),\n",
    "        fill=alt.Fill(\"HeartDisease:N\", title=\"Heart Disease\")\n",
    "    )\n",
    "    .configure_axis(titleFontSize=20,labelFontSize=16)\n",
    "\n",
    ")"
   ]
  },
  {
   "cell_type": "code",
   "execution_count": 9,
   "id": "291f4515-9ed4-4dbe-9682-647de70f9be8",
   "metadata": {},
   "outputs": [
    {
     "data": {
      "application/vnd.vegalite.v4+json": {
       "$schema": "https://vega.github.io/schema/vega-lite/v4.17.0.json",
       "config": {
        "axis": {
         "labelFontSize": 16,
         "titleFontSize": 20
        },
        "view": {
         "continuousHeight": 300,
         "continuousWidth": 400
        }
       },
       "data": {
        "name": "data-965f26aaa0a06bf333f272b0ffb5f3a8"
       },
       "datasets": {
        "data-965f26aaa0a06bf333f272b0ffb5f3a8": [
         {
          "Age": 58,
          "Cholesterol": 256,
          "ExerciseAngina": 1,
          "FastingBS": 1,
          "HeartDisease": 1,
          "MaxHR": 113,
          "RestingBP": 160,
          "Sex": 1
         },
         {
          "Age": 37,
          "Cholesterol": 250,
          "ExerciseAngina": 0,
          "FastingBS": 0,
          "HeartDisease": 0,
          "MaxHR": 187,
          "RestingBP": 130,
          "Sex": 1
         },
         {
          "Age": 57,
          "Cholesterol": 308,
          "ExerciseAngina": 0,
          "FastingBS": 0,
          "HeartDisease": 0,
          "MaxHR": 98,
          "RestingBP": 130,
          "Sex": 0
         },
         {
          "Age": 45,
          "Cholesterol": 224,
          "ExerciseAngina": 0,
          "FastingBS": 0,
          "HeartDisease": 0,
          "MaxHR": 144,
          "RestingBP": 140,
          "Sex": 1
         },
         {
          "Age": 49,
          "Cholesterol": 271,
          "ExerciseAngina": 0,
          "FastingBS": 0,
          "HeartDisease": 0,
          "MaxHR": 162,
          "RestingBP": 134,
          "Sex": 0
         },
         {
          "Age": 49,
          "Cholesterol": 222,
          "ExerciseAngina": 0,
          "FastingBS": 0,
          "HeartDisease": 1,
          "MaxHR": 122,
          "RestingBP": 150,
          "Sex": 1
         },
         {
          "Age": 51,
          "Cholesterol": 224,
          "ExerciseAngina": 0,
          "FastingBS": 0,
          "HeartDisease": 0,
          "MaxHR": 150,
          "RestingBP": 130,
          "Sex": 1
         },
         {
          "Age": 54,
          "Cholesterol": 333,
          "ExerciseAngina": 0,
          "FastingBS": 1,
          "HeartDisease": 1,
          "MaxHR": 154,
          "RestingBP": 127,
          "Sex": 0
         },
         {
          "Age": 52,
          "Cholesterol": 100,
          "ExerciseAngina": 1,
          "FastingBS": 0,
          "HeartDisease": 0,
          "MaxHR": 138,
          "RestingBP": 140,
          "Sex": 1
         },
         {
          "Age": 51,
          "Cholesterol": 220,
          "ExerciseAngina": 1,
          "FastingBS": 0,
          "HeartDisease": 0,
          "MaxHR": 160,
          "RestingBP": 130,
          "Sex": 0
         },
         {
          "Age": 46,
          "Cholesterol": 177,
          "ExerciseAngina": 1,
          "FastingBS": 0,
          "HeartDisease": 0,
          "MaxHR": 160,
          "RestingBP": 142,
          "Sex": 0
         },
         {
          "Age": 67,
          "Cholesterol": 270,
          "ExerciseAngina": 0,
          "FastingBS": 1,
          "HeartDisease": 1,
          "MaxHR": 125,
          "RestingBP": 142,
          "Sex": 1
         },
         {
          "Age": 53,
          "Cholesterol": 243,
          "ExerciseAngina": 1,
          "FastingBS": 0,
          "HeartDisease": 1,
          "MaxHR": 122,
          "RestingBP": 124,
          "Sex": 1
         },
         {
          "Age": 60,
          "Cholesterol": 206,
          "ExerciseAngina": 1,
          "FastingBS": 0,
          "HeartDisease": 1,
          "MaxHR": 132,
          "RestingBP": 130,
          "Sex": 1
         },
         {
          "Age": 38,
          "Cholesterol": 231,
          "ExerciseAngina": 1,
          "FastingBS": 0,
          "HeartDisease": 1,
          "MaxHR": 182,
          "RestingBP": 120,
          "Sex": 1
         },
         {
          "Age": 49,
          "Cholesterol": 269,
          "ExerciseAngina": 0,
          "FastingBS": 0,
          "HeartDisease": 0,
          "MaxHR": 163,
          "RestingBP": 130,
          "Sex": 0
         },
         {
          "Age": 43,
          "Cholesterol": 175,
          "ExerciseAngina": 1,
          "FastingBS": 0,
          "HeartDisease": 1,
          "MaxHR": 120,
          "RestingBP": 120,
          "Sex": 1
         },
         {
          "Age": 59,
          "Cholesterol": 264,
          "ExerciseAngina": 1,
          "FastingBS": 1,
          "HeartDisease": 1,
          "MaxHR": 119,
          "RestingBP": 140,
          "Sex": 1
         },
         {
          "Age": 55,
          "Cholesterol": 228,
          "ExerciseAngina": 1,
          "FastingBS": 0,
          "HeartDisease": 1,
          "MaxHR": 149,
          "RestingBP": 142,
          "Sex": 1
         },
         {
          "Age": 38,
          "Cholesterol": 297,
          "ExerciseAngina": 0,
          "FastingBS": 0,
          "HeartDisease": 0,
          "MaxHR": 150,
          "RestingBP": 140,
          "Sex": 1
         },
         {
          "Age": 56,
          "Cholesterol": 224,
          "ExerciseAngina": 0,
          "FastingBS": 1,
          "HeartDisease": 0,
          "MaxHR": 161,
          "RestingBP": 124,
          "Sex": 1
         },
         {
          "Age": 38,
          "Cholesterol": 117,
          "ExerciseAngina": 1,
          "FastingBS": 0,
          "HeartDisease": 1,
          "MaxHR": 134,
          "RestingBP": 92,
          "Sex": 1
         },
         {
          "Age": 55,
          "Cholesterol": 289,
          "ExerciseAngina": 1,
          "FastingBS": 0,
          "HeartDisease": 1,
          "MaxHR": 145,
          "RestingBP": 160,
          "Sex": 1
         },
         {
          "Age": 54,
          "Cholesterol": 202,
          "ExerciseAngina": 1,
          "FastingBS": 1,
          "HeartDisease": 1,
          "MaxHR": 112,
          "RestingBP": 130,
          "Sex": 1
         },
         {
          "Age": 46,
          "Cholesterol": 222,
          "ExerciseAngina": 0,
          "FastingBS": 0,
          "HeartDisease": 1,
          "MaxHR": 112,
          "RestingBP": 130,
          "Sex": 1
         },
         {
          "Age": 75,
          "Cholesterol": 203,
          "ExerciseAngina": 0,
          "FastingBS": 1,
          "HeartDisease": 1,
          "MaxHR": 108,
          "RestingBP": 170,
          "Sex": 1
         },
         {
          "Age": 56,
          "Cholesterol": 100,
          "ExerciseAngina": 1,
          "FastingBS": 0,
          "HeartDisease": 1,
          "MaxHR": 120,
          "RestingBP": 120,
          "Sex": 1
         },
         {
          "Age": 64,
          "Cholesterol": 227,
          "ExerciseAngina": 0,
          "FastingBS": 0,
          "HeartDisease": 0,
          "MaxHR": 155,
          "RestingBP": 170,
          "Sex": 1
         },
         {
          "Age": 48,
          "Cholesterol": 227,
          "ExerciseAngina": 1,
          "FastingBS": 0,
          "HeartDisease": 0,
          "MaxHR": 130,
          "RestingBP": 150,
          "Sex": 0
         },
         {
          "Age": 57,
          "Cholesterol": 214,
          "ExerciseAngina": 1,
          "FastingBS": 0,
          "HeartDisease": 1,
          "MaxHR": 144,
          "RestingBP": 140,
          "Sex": 1
         },
         {
          "Age": 49,
          "Cholesterol": 187,
          "ExerciseAngina": 0,
          "FastingBS": 0,
          "HeartDisease": 0,
          "MaxHR": 172,
          "RestingBP": 140,
          "Sex": 1
         },
         {
          "Age": 40,
          "Cholesterol": 235,
          "ExerciseAngina": 0,
          "FastingBS": 0,
          "HeartDisease": 0,
          "MaxHR": 188,
          "RestingBP": 140,
          "Sex": 1
         },
         {
          "Age": 54,
          "Cholesterol": 309,
          "ExerciseAngina": 0,
          "FastingBS": 0,
          "HeartDisease": 0,
          "MaxHR": 156,
          "RestingBP": 108,
          "Sex": 1
         },
         {
          "Age": 55,
          "Cholesterol": 245,
          "ExerciseAngina": 1,
          "FastingBS": 1,
          "HeartDisease": 1,
          "MaxHR": 131,
          "RestingBP": 136,
          "Sex": 1
         },
         {
          "Age": 47,
          "Cholesterol": 204,
          "ExerciseAngina": 0,
          "FastingBS": 0,
          "HeartDisease": 0,
          "MaxHR": 143,
          "RestingBP": 112,
          "Sex": 1
         },
         {
          "Age": 52,
          "Cholesterol": 325,
          "ExerciseAngina": 0,
          "FastingBS": 0,
          "HeartDisease": 0,
          "MaxHR": 172,
          "RestingBP": 120,
          "Sex": 1
         },
         {
          "Age": 58,
          "Cholesterol": 222,
          "ExerciseAngina": 0,
          "FastingBS": 0,
          "HeartDisease": 0,
          "MaxHR": 100,
          "RestingBP": 135,
          "Sex": 1
         },
         {
          "Age": 40,
          "Cholesterol": 240,
          "ExerciseAngina": 1,
          "FastingBS": 0,
          "HeartDisease": 0,
          "MaxHR": 80,
          "RestingBP": 106,
          "Sex": 1
         },
         {
          "Age": 77,
          "Cholesterol": 171,
          "ExerciseAngina": 1,
          "FastingBS": 0,
          "HeartDisease": 1,
          "MaxHR": 110,
          "RestingBP": 124,
          "Sex": 1
         },
         {
          "Age": 37,
          "Cholesterol": 260,
          "ExerciseAngina": 0,
          "FastingBS": 0,
          "HeartDisease": 0,
          "MaxHR": 130,
          "RestingBP": 120,
          "Sex": 0
         },
         {
          "Age": 61,
          "Cholesterol": 200,
          "ExerciseAngina": 0,
          "FastingBS": 1,
          "HeartDisease": 1,
          "MaxHR": 100,
          "RestingBP": 142,
          "Sex": 1
         },
         {
          "Age": 43,
          "Cholesterol": 223,
          "ExerciseAngina": 0,
          "FastingBS": 0,
          "HeartDisease": 0,
          "MaxHR": 142,
          "RestingBP": 100,
          "Sex": 0
         },
         {
          "Age": 55,
          "Cholesterol": 217,
          "ExerciseAngina": 1,
          "FastingBS": 0,
          "HeartDisease": 1,
          "MaxHR": 110,
          "RestingBP": 158,
          "Sex": 1
         },
         {
          "Age": 59,
          "Cholesterol": 176,
          "ExerciseAngina": 0,
          "FastingBS": 1,
          "HeartDisease": 1,
          "MaxHR": 90,
          "RestingBP": 164,
          "Sex": 1
         },
         {
          "Age": 35,
          "Cholesterol": 167,
          "ExerciseAngina": 0,
          "FastingBS": 0,
          "HeartDisease": 0,
          "MaxHR": 150,
          "RestingBP": 140,
          "Sex": 0
         },
         {
          "Age": 51,
          "Cholesterol": 305,
          "ExerciseAngina": 1,
          "FastingBS": 0,
          "HeartDisease": 1,
          "MaxHR": 142,
          "RestingBP": 130,
          "Sex": 0
         },
         {
          "Age": 52,
          "Cholesterol": 210,
          "ExerciseAngina": 0,
          "FastingBS": 0,
          "HeartDisease": 0,
          "MaxHR": 148,
          "RestingBP": 120,
          "Sex": 0
         },
         {
          "Age": 51,
          "Cholesterol": 190,
          "ExerciseAngina": 0,
          "FastingBS": 0,
          "HeartDisease": 0,
          "MaxHR": 120,
          "RestingBP": 110,
          "Sex": 0
         },
         {
          "Age": 41,
          "Cholesterol": 203,
          "ExerciseAngina": 0,
          "FastingBS": 0,
          "HeartDisease": 0,
          "MaxHR": 132,
          "RestingBP": 135,
          "Sex": 1
         },
         {
          "Age": 59,
          "Cholesterol": 270,
          "ExerciseAngina": 0,
          "FastingBS": 0,
          "HeartDisease": 0,
          "MaxHR": 145,
          "RestingBP": 178,
          "Sex": 1
         },
         {
          "Age": 47,
          "Cholesterol": 243,
          "ExerciseAngina": 0,
          "FastingBS": 0,
          "HeartDisease": 1,
          "MaxHR": 152,
          "RestingBP": 108,
          "Sex": 1
         },
         {
          "Age": 32,
          "Cholesterol": 225,
          "ExerciseAngina": 0,
          "FastingBS": 0,
          "HeartDisease": 0,
          "MaxHR": 184,
          "RestingBP": 110,
          "Sex": 1
         },
         {
          "Age": 63,
          "Cholesterol": 233,
          "ExerciseAngina": 0,
          "FastingBS": 1,
          "HeartDisease": 0,
          "MaxHR": 150,
          "RestingBP": 145,
          "Sex": 1
         },
         {
          "Age": 55,
          "Cholesterol": 353,
          "ExerciseAngina": 1,
          "FastingBS": 0,
          "HeartDisease": 1,
          "MaxHR": 132,
          "RestingBP": 132,
          "Sex": 1
         },
         {
          "Age": 50,
          "Cholesterol": 219,
          "ExerciseAngina": 0,
          "FastingBS": 0,
          "HeartDisease": 0,
          "MaxHR": 158,
          "RestingBP": 120,
          "Sex": 0
         },
         {
          "Age": 61,
          "Cholesterol": 241,
          "ExerciseAngina": 1,
          "FastingBS": 0,
          "HeartDisease": 1,
          "MaxHR": 148,
          "RestingBP": 146,
          "Sex": 1
         },
         {
          "Age": 54,
          "Cholesterol": 230,
          "ExerciseAngina": 0,
          "FastingBS": 0,
          "HeartDisease": 0,
          "MaxHR": 130,
          "RestingBP": 150,
          "Sex": 0
         },
         {
          "Age": 54,
          "Cholesterol": 603,
          "ExerciseAngina": 1,
          "FastingBS": 1,
          "HeartDisease": 1,
          "MaxHR": 125,
          "RestingBP": 130,
          "Sex": 1
         },
         {
          "Age": 58,
          "Cholesterol": 263,
          "ExerciseAngina": 1,
          "FastingBS": 0,
          "HeartDisease": 1,
          "MaxHR": 140,
          "RestingBP": 130,
          "Sex": 1
         },
         {
          "Age": 40,
          "Cholesterol": 223,
          "ExerciseAngina": 0,
          "FastingBS": 0,
          "HeartDisease": 1,
          "MaxHR": 181,
          "RestingBP": 152,
          "Sex": 1
         },
         {
          "Age": 35,
          "Cholesterol": 308,
          "ExerciseAngina": 0,
          "FastingBS": 0,
          "HeartDisease": 0,
          "MaxHR": 180,
          "RestingBP": 120,
          "Sex": 1
         },
         {
          "Age": 52,
          "Cholesterol": 342,
          "ExerciseAngina": 1,
          "FastingBS": 0,
          "HeartDisease": 1,
          "MaxHR": 96,
          "RestingBP": 112,
          "Sex": 1
         },
         {
          "Age": 49,
          "Cholesterol": 234,
          "ExerciseAngina": 1,
          "FastingBS": 0,
          "HeartDisease": 1,
          "MaxHR": 140,
          "RestingBP": 140,
          "Sex": 1
         },
         {
          "Age": 48,
          "Cholesterol": 159,
          "ExerciseAngina": 0,
          "FastingBS": 0,
          "HeartDisease": 0,
          "MaxHR": 100,
          "RestingBP": 100,
          "Sex": 1
         },
         {
          "Age": 56,
          "Cholesterol": 249,
          "ExerciseAngina": 1,
          "FastingBS": 1,
          "HeartDisease": 1,
          "MaxHR": 144,
          "RestingBP": 125,
          "Sex": 1
         },
         {
          "Age": 35,
          "Cholesterol": 282,
          "ExerciseAngina": 1,
          "FastingBS": 0,
          "HeartDisease": 1,
          "MaxHR": 156,
          "RestingBP": 126,
          "Sex": 1
         },
         {
          "Age": 63,
          "Cholesterol": 230,
          "ExerciseAngina": 1,
          "FastingBS": 1,
          "HeartDisease": 1,
          "MaxHR": 105,
          "RestingBP": 160,
          "Sex": 1
         },
         {
          "Age": 58,
          "Cholesterol": 213,
          "ExerciseAngina": 0,
          "FastingBS": 0,
          "HeartDisease": 1,
          "MaxHR": 140,
          "RestingBP": 130,
          "Sex": 1
         },
         {
          "Age": 55,
          "Cholesterol": 201,
          "ExerciseAngina": 1,
          "FastingBS": 0,
          "HeartDisease": 1,
          "MaxHR": 130,
          "RestingBP": 140,
          "Sex": 1
         },
         {
          "Age": 58,
          "Cholesterol": 211,
          "ExerciseAngina": 0,
          "FastingBS": 1,
          "HeartDisease": 1,
          "MaxHR": 92,
          "RestingBP": 160,
          "Sex": 1
         },
         {
          "Age": 54,
          "Cholesterol": 266,
          "ExerciseAngina": 1,
          "FastingBS": 0,
          "HeartDisease": 1,
          "MaxHR": 109,
          "RestingBP": 124,
          "Sex": 1
         },
         {
          "Age": 70,
          "Cholesterol": 245,
          "ExerciseAngina": 0,
          "FastingBS": 0,
          "HeartDisease": 0,
          "MaxHR": 143,
          "RestingBP": 156,
          "Sex": 1
         },
         {
          "Age": 43,
          "Cholesterol": 186,
          "ExerciseAngina": 0,
          "FastingBS": 0,
          "HeartDisease": 0,
          "MaxHR": 154,
          "RestingBP": 150,
          "Sex": 0
         },
         {
          "Age": 55,
          "Cholesterol": 248,
          "ExerciseAngina": 1,
          "FastingBS": 0,
          "HeartDisease": 1,
          "MaxHR": 96,
          "RestingBP": 145,
          "Sex": 1
         },
         {
          "Age": 39,
          "Cholesterol": 307,
          "ExerciseAngina": 0,
          "FastingBS": 0,
          "HeartDisease": 0,
          "MaxHR": 140,
          "RestingBP": 130,
          "Sex": 1
         },
         {
          "Age": 58,
          "Cholesterol": 458,
          "ExerciseAngina": 0,
          "FastingBS": 1,
          "HeartDisease": 0,
          "MaxHR": 69,
          "RestingBP": 132,
          "Sex": 1
         },
         {
          "Age": 41,
          "Cholesterol": 235,
          "ExerciseAngina": 0,
          "FastingBS": 0,
          "HeartDisease": 0,
          "MaxHR": 153,
          "RestingBP": 110,
          "Sex": 1
         },
         {
          "Age": 57,
          "Cholesterol": 255,
          "ExerciseAngina": 1,
          "FastingBS": 0,
          "HeartDisease": 1,
          "MaxHR": 92,
          "RestingBP": 150,
          "Sex": 1
         },
         {
          "Age": 41,
          "Cholesterol": 204,
          "ExerciseAngina": 0,
          "FastingBS": 0,
          "HeartDisease": 0,
          "MaxHR": 172,
          "RestingBP": 130,
          "Sex": 0
         },
         {
          "Age": 57,
          "Cholesterol": 347,
          "ExerciseAngina": 1,
          "FastingBS": 0,
          "HeartDisease": 0,
          "MaxHR": 126,
          "RestingBP": 180,
          "Sex": 0
         },
         {
          "Age": 58,
          "Cholesterol": 211,
          "ExerciseAngina": 0,
          "FastingBS": 1,
          "HeartDisease": 0,
          "MaxHR": 165,
          "RestingBP": 140,
          "Sex": 1
         },
         {
          "Age": 52,
          "Cholesterol": 225,
          "ExerciseAngina": 1,
          "FastingBS": 0,
          "HeartDisease": 1,
          "MaxHR": 120,
          "RestingBP": 130,
          "Sex": 1
         },
         {
          "Age": 56,
          "Cholesterol": 282,
          "ExerciseAngina": 1,
          "FastingBS": 1,
          "HeartDisease": 1,
          "MaxHR": 126,
          "RestingBP": 137,
          "Sex": 1
         },
         {
          "Age": 41,
          "Cholesterol": 157,
          "ExerciseAngina": 0,
          "FastingBS": 0,
          "HeartDisease": 0,
          "MaxHR": 182,
          "RestingBP": 120,
          "Sex": 1
         },
         {
          "Age": 50,
          "Cholesterol": 233,
          "ExerciseAngina": 1,
          "FastingBS": 0,
          "HeartDisease": 1,
          "MaxHR": 121,
          "RestingBP": 130,
          "Sex": 1
         },
         {
          "Age": 44,
          "Cholesterol": 215,
          "ExerciseAngina": 0,
          "FastingBS": 0,
          "HeartDisease": 0,
          "MaxHR": 135,
          "RestingBP": 130,
          "Sex": 1
         },
         {
          "Age": 57,
          "Cholesterol": 197,
          "ExerciseAngina": 0,
          "FastingBS": 0,
          "HeartDisease": 0,
          "MaxHR": 100,
          "RestingBP": 110,
          "Sex": 1
         },
         {
          "Age": 60,
          "Cholesterol": 216,
          "ExerciseAngina": 1,
          "FastingBS": 0,
          "HeartDisease": 1,
          "MaxHR": 110,
          "RestingBP": 142,
          "Sex": 1
         },
         {
          "Age": 63,
          "Cholesterol": 267,
          "ExerciseAngina": 1,
          "FastingBS": 1,
          "HeartDisease": 1,
          "MaxHR": 88,
          "RestingBP": 160,
          "Sex": 1
         },
         {
          "Age": 35,
          "Cholesterol": 198,
          "ExerciseAngina": 1,
          "FastingBS": 0,
          "HeartDisease": 1,
          "MaxHR": 130,
          "RestingBP": 120,
          "Sex": 1
         },
         {
          "Age": 44,
          "Cholesterol": 263,
          "ExerciseAngina": 0,
          "FastingBS": 0,
          "HeartDisease": 0,
          "MaxHR": 173,
          "RestingBP": 120,
          "Sex": 1
         },
         {
          "Age": 41,
          "Cholesterol": 171,
          "ExerciseAngina": 1,
          "FastingBS": 0,
          "HeartDisease": 0,
          "MaxHR": 128,
          "RestingBP": 150,
          "Sex": 1
         },
         {
          "Age": 52,
          "Cholesterol": 284,
          "ExerciseAngina": 0,
          "FastingBS": 0,
          "HeartDisease": 0,
          "MaxHR": 118,
          "RestingBP": 120,
          "Sex": 1
         },
         {
          "Age": 57,
          "Cholesterol": 303,
          "ExerciseAngina": 0,
          "FastingBS": 0,
          "HeartDisease": 0,
          "MaxHR": 159,
          "RestingBP": 128,
          "Sex": 0
         },
         {
          "Age": 43,
          "Cholesterol": 211,
          "ExerciseAngina": 0,
          "FastingBS": 0,
          "HeartDisease": 0,
          "MaxHR": 161,
          "RestingBP": 110,
          "Sex": 1
         },
         {
          "Age": 59,
          "Cholesterol": 273,
          "ExerciseAngina": 0,
          "FastingBS": 0,
          "HeartDisease": 1,
          "MaxHR": 125,
          "RestingBP": 160,
          "Sex": 1
         },
         {
          "Age": 54,
          "Cholesterol": 182,
          "ExerciseAngina": 0,
          "FastingBS": 0,
          "HeartDisease": 0,
          "MaxHR": 141,
          "RestingBP": 132,
          "Sex": 1
         },
         {
          "Age": 60,
          "Cholesterol": 282,
          "ExerciseAngina": 1,
          "FastingBS": 0,
          "HeartDisease": 1,
          "MaxHR": 142,
          "RestingBP": 145,
          "Sex": 1
         },
         {
          "Age": 48,
          "Cholesterol": 193,
          "ExerciseAngina": 1,
          "FastingBS": 0,
          "HeartDisease": 1,
          "MaxHR": 102,
          "RestingBP": 160,
          "Sex": 1
         },
         {
          "Age": 35,
          "Cholesterol": 183,
          "ExerciseAngina": 0,
          "FastingBS": 0,
          "HeartDisease": 0,
          "MaxHR": 182,
          "RestingBP": 138,
          "Sex": 0
         },
         {
          "Age": 53,
          "Cholesterol": 285,
          "ExerciseAngina": 1,
          "FastingBS": 0,
          "HeartDisease": 1,
          "MaxHR": 120,
          "RestingBP": 180,
          "Sex": 1
         },
         {
          "Age": 55,
          "Cholesterol": 220,
          "ExerciseAngina": 0,
          "FastingBS": 0,
          "HeartDisease": 0,
          "MaxHR": 134,
          "RestingBP": 120,
          "Sex": 1
         },
         {
          "Age": 42,
          "Cholesterol": 295,
          "ExerciseAngina": 0,
          "FastingBS": 0,
          "HeartDisease": 0,
          "MaxHR": 162,
          "RestingBP": 120,
          "Sex": 1
         },
         {
          "Age": 48,
          "Cholesterol": 274,
          "ExerciseAngina": 0,
          "FastingBS": 0,
          "HeartDisease": 1,
          "MaxHR": 166,
          "RestingBP": 124,
          "Sex": 1
         },
         {
          "Age": 50,
          "Cholesterol": 216,
          "ExerciseAngina": 0,
          "FastingBS": 0,
          "HeartDisease": 0,
          "MaxHR": 170,
          "RestingBP": 140,
          "Sex": 1
         },
         {
          "Age": 63,
          "Cholesterol": 308,
          "ExerciseAngina": 1,
          "FastingBS": 0,
          "HeartDisease": 1,
          "MaxHR": 138,
          "RestingBP": 130,
          "Sex": 1
         },
         {
          "Age": 59,
          "Cholesterol": 126,
          "ExerciseAngina": 0,
          "FastingBS": 0,
          "HeartDisease": 1,
          "MaxHR": 125,
          "RestingBP": 130,
          "Sex": 1
         },
         {
          "Age": 43,
          "Cholesterol": 341,
          "ExerciseAngina": 1,
          "FastingBS": 1,
          "HeartDisease": 1,
          "MaxHR": 136,
          "RestingBP": 132,
          "Sex": 0
         },
         {
          "Age": 42,
          "Cholesterol": 147,
          "ExerciseAngina": 0,
          "FastingBS": 0,
          "HeartDisease": 0,
          "MaxHR": 146,
          "RestingBP": 160,
          "Sex": 1
         },
         {
          "Age": 54,
          "Cholesterol": 274,
          "ExerciseAngina": 1,
          "FastingBS": 0,
          "HeartDisease": 1,
          "MaxHR": 105,
          "RestingBP": 138,
          "Sex": 0
         },
         {
          "Age": 69,
          "Cholesterol": 239,
          "ExerciseAngina": 0,
          "FastingBS": 0,
          "HeartDisease": 0,
          "MaxHR": 151,
          "RestingBP": 140,
          "Sex": 0
         },
         {
          "Age": 52,
          "Cholesterol": 255,
          "ExerciseAngina": 1,
          "FastingBS": 0,
          "HeartDisease": 1,
          "MaxHR": 161,
          "RestingBP": 128,
          "Sex": 1
         },
         {
          "Age": 58,
          "Cholesterol": 300,
          "ExerciseAngina": 0,
          "FastingBS": 0,
          "HeartDisease": 1,
          "MaxHR": 171,
          "RestingBP": 125,
          "Sex": 1
         },
         {
          "Age": 51,
          "Cholesterol": 175,
          "ExerciseAngina": 0,
          "FastingBS": 0,
          "HeartDisease": 0,
          "MaxHR": 123,
          "RestingBP": 110,
          "Sex": 1
         },
         {
          "Age": 36,
          "Cholesterol": 166,
          "ExerciseAngina": 0,
          "FastingBS": 0,
          "HeartDisease": 0,
          "MaxHR": 180,
          "RestingBP": 120,
          "Sex": 1
         },
         {
          "Age": 42,
          "Cholesterol": 226,
          "ExerciseAngina": 0,
          "FastingBS": 0,
          "HeartDisease": 0,
          "MaxHR": 178,
          "RestingBP": 140,
          "Sex": 1
         },
         {
          "Age": 43,
          "Cholesterol": 177,
          "ExerciseAngina": 1,
          "FastingBS": 0,
          "HeartDisease": 1,
          "MaxHR": 120,
          "RestingBP": 120,
          "Sex": 1
         },
         {
          "Age": 49,
          "Cholesterol": 266,
          "ExerciseAngina": 0,
          "FastingBS": 0,
          "HeartDisease": 0,
          "MaxHR": 171,
          "RestingBP": 130,
          "Sex": 1
         },
         {
          "Age": 49,
          "Cholesterol": 341,
          "ExerciseAngina": 1,
          "FastingBS": 0,
          "HeartDisease": 1,
          "MaxHR": 120,
          "RestingBP": 130,
          "Sex": 1
         },
         {
          "Age": 55,
          "Cholesterol": 250,
          "ExerciseAngina": 0,
          "FastingBS": 0,
          "HeartDisease": 0,
          "MaxHR": 161,
          "RestingBP": 135,
          "Sex": 0
         },
         {
          "Age": 54,
          "Cholesterol": 312,
          "ExerciseAngina": 0,
          "FastingBS": 0,
          "HeartDisease": 0,
          "MaxHR": 130,
          "RestingBP": 160,
          "Sex": 0
         },
         {
          "Age": 44,
          "Cholesterol": 242,
          "ExerciseAngina": 0,
          "FastingBS": 0,
          "HeartDisease": 0,
          "MaxHR": 149,
          "RestingBP": 118,
          "Sex": 0
         },
         {
          "Age": 54,
          "Cholesterol": 217,
          "ExerciseAngina": 0,
          "FastingBS": 0,
          "HeartDisease": 0,
          "MaxHR": 137,
          "RestingBP": 120,
          "Sex": 1
         },
         {
          "Age": 66,
          "Cholesterol": 302,
          "ExerciseAngina": 0,
          "FastingBS": 0,
          "HeartDisease": 0,
          "MaxHR": 151,
          "RestingBP": 120,
          "Sex": 1
         },
         {
          "Age": 63,
          "Cholesterol": 252,
          "ExerciseAngina": 0,
          "FastingBS": 0,
          "HeartDisease": 0,
          "MaxHR": 172,
          "RestingBP": 135,
          "Sex": 0
         },
         {
          "Age": 62,
          "Cholesterol": 164,
          "ExerciseAngina": 0,
          "FastingBS": 0,
          "HeartDisease": 1,
          "MaxHR": 145,
          "RestingBP": 160,
          "Sex": 0
         },
         {
          "Age": 64,
          "Cholesterol": 335,
          "ExerciseAngina": 0,
          "FastingBS": 0,
          "HeartDisease": 1,
          "MaxHR": 158,
          "RestingBP": 140,
          "Sex": 1
         },
         {
          "Age": 54,
          "Cholesterol": 242,
          "ExerciseAngina": 1,
          "FastingBS": 0,
          "HeartDisease": 1,
          "MaxHR": 91,
          "RestingBP": 130,
          "Sex": 1
         },
         {
          "Age": 63,
          "Cholesterol": 330,
          "ExerciseAngina": 1,
          "FastingBS": 1,
          "HeartDisease": 1,
          "MaxHR": 132,
          "RestingBP": 130,
          "Sex": 1
         },
         {
          "Age": 57,
          "Cholesterol": 131,
          "ExerciseAngina": 1,
          "FastingBS": 0,
          "HeartDisease": 1,
          "MaxHR": 115,
          "RestingBP": 130,
          "Sex": 1
         },
         {
          "Age": 47,
          "Cholesterol": 235,
          "ExerciseAngina": 0,
          "FastingBS": 0,
          "HeartDisease": 0,
          "MaxHR": 145,
          "RestingBP": 130,
          "Sex": 0
         },
         {
          "Age": 55,
          "Cholesterol": 226,
          "ExerciseAngina": 1,
          "FastingBS": 0,
          "HeartDisease": 1,
          "MaxHR": 127,
          "RestingBP": 120,
          "Sex": 1
         },
         {
          "Age": 49,
          "Cholesterol": 201,
          "ExerciseAngina": 0,
          "FastingBS": 0,
          "HeartDisease": 0,
          "MaxHR": 164,
          "RestingBP": 124,
          "Sex": 0
         },
         {
          "Age": 50,
          "Cholesterol": 129,
          "ExerciseAngina": 0,
          "FastingBS": 0,
          "HeartDisease": 0,
          "MaxHR": 135,
          "RestingBP": 140,
          "Sex": 1
         },
         {
          "Age": 37,
          "Cholesterol": 173,
          "ExerciseAngina": 0,
          "FastingBS": 0,
          "HeartDisease": 0,
          "MaxHR": 184,
          "RestingBP": 130,
          "Sex": 0
         },
         {
          "Age": 39,
          "Cholesterol": 241,
          "ExerciseAngina": 0,
          "FastingBS": 0,
          "HeartDisease": 0,
          "MaxHR": 106,
          "RestingBP": 190,
          "Sex": 1
         },
         {
          "Age": 45,
          "Cholesterol": 160,
          "ExerciseAngina": 0,
          "FastingBS": 0,
          "HeartDisease": 0,
          "MaxHR": 138,
          "RestingBP": 112,
          "Sex": 0
         },
         {
          "Age": 40,
          "Cholesterol": 281,
          "ExerciseAngina": 0,
          "FastingBS": 0,
          "HeartDisease": 0,
          "MaxHR": 167,
          "RestingBP": 130,
          "Sex": 1
         },
         {
          "Age": 62,
          "Cholesterol": 271,
          "ExerciseAngina": 0,
          "FastingBS": 0,
          "HeartDisease": 0,
          "MaxHR": 152,
          "RestingBP": 140,
          "Sex": 1
         },
         {
          "Age": 42,
          "Cholesterol": 228,
          "ExerciseAngina": 1,
          "FastingBS": 0,
          "HeartDisease": 0,
          "MaxHR": 152,
          "RestingBP": 120,
          "Sex": 1
         },
         {
          "Age": 40,
          "Cholesterol": 275,
          "ExerciseAngina": 0,
          "FastingBS": 0,
          "HeartDisease": 0,
          "MaxHR": 150,
          "RestingBP": 130,
          "Sex": 1
         },
         {
          "Age": 65,
          "Cholesterol": 252,
          "ExerciseAngina": 0,
          "FastingBS": 0,
          "HeartDisease": 0,
          "MaxHR": 135,
          "RestingBP": 140,
          "Sex": 1
         },
         {
          "Age": 54,
          "Cholesterol": 206,
          "ExerciseAngina": 1,
          "FastingBS": 0,
          "HeartDisease": 1,
          "MaxHR": 108,
          "RestingBP": 110,
          "Sex": 1
         },
         {
          "Age": 54,
          "Cholesterol": 221,
          "ExerciseAngina": 0,
          "FastingBS": 0,
          "HeartDisease": 0,
          "MaxHR": 138,
          "RestingBP": 120,
          "Sex": 0
         },
         {
          "Age": 55,
          "Cholesterol": 214,
          "ExerciseAngina": 0,
          "FastingBS": 1,
          "HeartDisease": 0,
          "MaxHR": 180,
          "RestingBP": 110,
          "Sex": 1
         },
         {
          "Age": 71,
          "Cholesterol": 221,
          "ExerciseAngina": 1,
          "FastingBS": 0,
          "HeartDisease": 1,
          "MaxHR": 115,
          "RestingBP": 130,
          "Sex": 1
         },
         {
          "Age": 51,
          "Cholesterol": 213,
          "ExerciseAngina": 1,
          "FastingBS": 0,
          "HeartDisease": 0,
          "MaxHR": 125,
          "RestingBP": 125,
          "Sex": 1
         },
         {
          "Age": 50,
          "Cholesterol": 349,
          "ExerciseAngina": 1,
          "FastingBS": 0,
          "HeartDisease": 1,
          "MaxHR": 120,
          "RestingBP": 144,
          "Sex": 1
         },
         {
          "Age": 62,
          "Cholesterol": 244,
          "ExerciseAngina": 1,
          "FastingBS": 0,
          "HeartDisease": 1,
          "MaxHR": 154,
          "RestingBP": 150,
          "Sex": 0
         },
         {
          "Age": 60,
          "Cholesterol": 281,
          "ExerciseAngina": 1,
          "FastingBS": 0,
          "HeartDisease": 1,
          "MaxHR": 118,
          "RestingBP": 140,
          "Sex": 1
         },
         {
          "Age": 45,
          "Cholesterol": 237,
          "ExerciseAngina": 0,
          "FastingBS": 0,
          "HeartDisease": 0,
          "MaxHR": 170,
          "RestingBP": 130,
          "Sex": 0
         },
         {
          "Age": 31,
          "Cholesterol": 270,
          "ExerciseAngina": 1,
          "FastingBS": 0,
          "HeartDisease": 1,
          "MaxHR": 153,
          "RestingBP": 120,
          "Sex": 1
         },
         {
          "Age": 49,
          "Cholesterol": 206,
          "ExerciseAngina": 0,
          "FastingBS": 0,
          "HeartDisease": 1,
          "MaxHR": 170,
          "RestingBP": 130,
          "Sex": 1
         },
         {
          "Age": 61,
          "Cholesterol": 283,
          "ExerciseAngina": 0,
          "FastingBS": 0,
          "HeartDisease": 0,
          "MaxHR": 135,
          "RestingBP": 139,
          "Sex": 1
         },
         {
          "Age": 52,
          "Cholesterol": 180,
          "ExerciseAngina": 1,
          "FastingBS": 0,
          "HeartDisease": 0,
          "MaxHR": 140,
          "RestingBP": 130,
          "Sex": 0
         },
         {
          "Age": 59,
          "Cholesterol": 234,
          "ExerciseAngina": 0,
          "FastingBS": 0,
          "HeartDisease": 0,
          "MaxHR": 161,
          "RestingBP": 135,
          "Sex": 1
         },
         {
          "Age": 57,
          "Cholesterol": 285,
          "ExerciseAngina": 0,
          "FastingBS": 1,
          "HeartDisease": 1,
          "MaxHR": 120,
          "RestingBP": 180,
          "Sex": 1
         },
         {
          "Age": 61,
          "Cholesterol": 207,
          "ExerciseAngina": 1,
          "FastingBS": 0,
          "HeartDisease": 1,
          "MaxHR": 138,
          "RestingBP": 140,
          "Sex": 1
         },
         {
          "Age": 67,
          "Cholesterol": 564,
          "ExerciseAngina": 0,
          "FastingBS": 0,
          "HeartDisease": 0,
          "MaxHR": 160,
          "RestingBP": 115,
          "Sex": 0
         },
         {
          "Age": 47,
          "Cholesterol": 275,
          "ExerciseAngina": 1,
          "FastingBS": 0,
          "HeartDisease": 1,
          "MaxHR": 118,
          "RestingBP": 110,
          "Sex": 1
         },
         {
          "Age": 57,
          "Cholesterol": 270,
          "ExerciseAngina": 1,
          "FastingBS": 1,
          "HeartDisease": 1,
          "MaxHR": 160,
          "RestingBP": 144,
          "Sex": 1
         },
         {
          "Age": 54,
          "Cholesterol": 232,
          "ExerciseAngina": 0,
          "FastingBS": 0,
          "HeartDisease": 0,
          "MaxHR": 165,
          "RestingBP": 150,
          "Sex": 1
         },
         {
          "Age": 54,
          "Cholesterol": 166,
          "ExerciseAngina": 1,
          "FastingBS": 0,
          "HeartDisease": 1,
          "MaxHR": 118,
          "RestingBP": 140,
          "Sex": 1
         },
         {
          "Age": 46,
          "Cholesterol": 310,
          "ExerciseAngina": 0,
          "FastingBS": 0,
          "HeartDisease": 1,
          "MaxHR": 126,
          "RestingBP": 134,
          "Sex": 1
         },
         {
          "Age": 70,
          "Cholesterol": 322,
          "ExerciseAngina": 0,
          "FastingBS": 0,
          "HeartDisease": 1,
          "MaxHR": 109,
          "RestingBP": 130,
          "Sex": 1
         },
         {
          "Age": 55,
          "Cholesterol": 268,
          "ExerciseAngina": 1,
          "FastingBS": 0,
          "HeartDisease": 1,
          "MaxHR": 128,
          "RestingBP": 140,
          "Sex": 1
         },
         {
          "Age": 43,
          "Cholesterol": 291,
          "ExerciseAngina": 0,
          "FastingBS": 0,
          "HeartDisease": 1,
          "MaxHR": 155,
          "RestingBP": 120,
          "Sex": 1
         },
         {
          "Age": 56,
          "Cholesterol": 166,
          "ExerciseAngina": 0,
          "FastingBS": 0,
          "HeartDisease": 0,
          "MaxHR": 140,
          "RestingBP": 126,
          "Sex": 1
         },
         {
          "Age": 56,
          "Cholesterol": 288,
          "ExerciseAngina": 1,
          "FastingBS": 1,
          "HeartDisease": 1,
          "MaxHR": 133,
          "RestingBP": 200,
          "Sex": 0
         },
         {
          "Age": 57,
          "Cholesterol": 229,
          "ExerciseAngina": 0,
          "FastingBS": 0,
          "HeartDisease": 1,
          "MaxHR": 150,
          "RestingBP": 128,
          "Sex": 1
         },
         {
          "Age": 50,
          "Cholesterol": 243,
          "ExerciseAngina": 0,
          "FastingBS": 0,
          "HeartDisease": 1,
          "MaxHR": 128,
          "RestingBP": 150,
          "Sex": 1
         },
         {
          "Age": 52,
          "Cholesterol": 404,
          "ExerciseAngina": 1,
          "FastingBS": 0,
          "HeartDisease": 1,
          "MaxHR": 124,
          "RestingBP": 140,
          "Sex": 1
         },
         {
          "Age": 54,
          "Cholesterol": 188,
          "ExerciseAngina": 0,
          "FastingBS": 0,
          "HeartDisease": 1,
          "MaxHR": 113,
          "RestingBP": 120,
          "Sex": 1
         },
         {
          "Age": 50,
          "Cholesterol": 341,
          "ExerciseAngina": 1,
          "FastingBS": 0,
          "HeartDisease": 1,
          "MaxHR": 125,
          "RestingBP": 140,
          "Sex": 1
         },
         {
          "Age": 53,
          "Cholesterol": 320,
          "ExerciseAngina": 0,
          "FastingBS": 0,
          "HeartDisease": 0,
          "MaxHR": 162,
          "RestingBP": 140,
          "Sex": 1
         },
         {
          "Age": 36,
          "Cholesterol": 209,
          "ExerciseAngina": 0,
          "FastingBS": 0,
          "HeartDisease": 0,
          "MaxHR": 178,
          "RestingBP": 130,
          "Sex": 1
         },
         {
          "Age": 48,
          "Cholesterol": 355,
          "ExerciseAngina": 1,
          "FastingBS": 0,
          "HeartDisease": 1,
          "MaxHR": 99,
          "RestingBP": 160,
          "Sex": 1
         },
         {
          "Age": 56,
          "Cholesterol": 219,
          "ExerciseAngina": 0,
          "FastingBS": 0,
          "HeartDisease": 0,
          "MaxHR": 164,
          "RestingBP": 130,
          "Sex": 0
         },
         {
          "Age": 39,
          "Cholesterol": 182,
          "ExerciseAngina": 0,
          "FastingBS": 0,
          "HeartDisease": 0,
          "MaxHR": 180,
          "RestingBP": 110,
          "Sex": 0
         },
         {
          "Age": 29,
          "Cholesterol": 263,
          "ExerciseAngina": 0,
          "FastingBS": 0,
          "HeartDisease": 0,
          "MaxHR": 170,
          "RestingBP": 140,
          "Sex": 1
         },
         {
          "Age": 77,
          "Cholesterol": 304,
          "ExerciseAngina": 1,
          "FastingBS": 0,
          "HeartDisease": 1,
          "MaxHR": 162,
          "RestingBP": 125,
          "Sex": 1
         },
         {
          "Age": 57,
          "Cholesterol": 207,
          "ExerciseAngina": 1,
          "FastingBS": 0,
          "HeartDisease": 0,
          "MaxHR": 96,
          "RestingBP": 130,
          "Sex": 1
         },
         {
          "Age": 50,
          "Cholesterol": 196,
          "ExerciseAngina": 0,
          "FastingBS": 0,
          "HeartDisease": 0,
          "MaxHR": 163,
          "RestingBP": 129,
          "Sex": 1
         },
         {
          "Age": 37,
          "Cholesterol": 215,
          "ExerciseAngina": 0,
          "FastingBS": 0,
          "HeartDisease": 0,
          "MaxHR": 170,
          "RestingBP": 120,
          "Sex": 0
         },
         {
          "Age": 62,
          "Cholesterol": 208,
          "ExerciseAngina": 0,
          "FastingBS": 1,
          "HeartDisease": 0,
          "MaxHR": 140,
          "RestingBP": 128,
          "Sex": 1
         },
         {
          "Age": 39,
          "Cholesterol": 273,
          "ExerciseAngina": 0,
          "FastingBS": 0,
          "HeartDisease": 0,
          "MaxHR": 132,
          "RestingBP": 110,
          "Sex": 1
         },
         {
          "Age": 64,
          "Cholesterol": 309,
          "ExerciseAngina": 1,
          "FastingBS": 0,
          "HeartDisease": 1,
          "MaxHR": 131,
          "RestingBP": 125,
          "Sex": 1
         },
         {
          "Age": 64,
          "Cholesterol": 313,
          "ExerciseAngina": 0,
          "FastingBS": 0,
          "HeartDisease": 0,
          "MaxHR": 133,
          "RestingBP": 140,
          "Sex": 0
         },
         {
          "Age": 58,
          "Cholesterol": 393,
          "ExerciseAngina": 1,
          "FastingBS": 0,
          "HeartDisease": 1,
          "MaxHR": 110,
          "RestingBP": 180,
          "Sex": 0
         },
         {
          "Age": 45,
          "Cholesterol": 208,
          "ExerciseAngina": 1,
          "FastingBS": 0,
          "HeartDisease": 0,
          "MaxHR": 148,
          "RestingBP": 104,
          "Sex": 1
         },
         {
          "Age": 49,
          "Cholesterol": 149,
          "ExerciseAngina": 0,
          "FastingBS": 0,
          "HeartDisease": 1,
          "MaxHR": 126,
          "RestingBP": 118,
          "Sex": 1
         },
         {
          "Age": 37,
          "Cholesterol": 240,
          "ExerciseAngina": 0,
          "FastingBS": 0,
          "HeartDisease": 0,
          "MaxHR": 165,
          "RestingBP": 118,
          "Sex": 1
         },
         {
          "Age": 56,
          "Cholesterol": 256,
          "ExerciseAngina": 1,
          "FastingBS": 1,
          "HeartDisease": 1,
          "MaxHR": 142,
          "RestingBP": 130,
          "Sex": 1
         },
         {
          "Age": 36,
          "Cholesterol": 267,
          "ExerciseAngina": 0,
          "FastingBS": 0,
          "HeartDisease": 1,
          "MaxHR": 160,
          "RestingBP": 120,
          "Sex": 1
         },
         {
          "Age": 33,
          "Cholesterol": 298,
          "ExerciseAngina": 0,
          "FastingBS": 0,
          "HeartDisease": 0,
          "MaxHR": 185,
          "RestingBP": 120,
          "Sex": 1
         },
         {
          "Age": 40,
          "Cholesterol": 289,
          "ExerciseAngina": 0,
          "FastingBS": 0,
          "HeartDisease": 0,
          "MaxHR": 172,
          "RestingBP": 140,
          "Sex": 1
         },
         {
          "Age": 46,
          "Cholesterol": 277,
          "ExerciseAngina": 1,
          "FastingBS": 0,
          "HeartDisease": 1,
          "MaxHR": 125,
          "RestingBP": 120,
          "Sex": 1
         },
         {
          "Age": 48,
          "Cholesterol": 195,
          "ExerciseAngina": 0,
          "FastingBS": 0,
          "HeartDisease": 0,
          "MaxHR": 125,
          "RestingBP": 120,
          "Sex": 0
         },
         {
          "Age": 57,
          "Cholesterol": 232,
          "ExerciseAngina": 0,
          "FastingBS": 0,
          "HeartDisease": 1,
          "MaxHR": 164,
          "RestingBP": 154,
          "Sex": 1
         },
         {
          "Age": 47,
          "Cholesterol": 205,
          "ExerciseAngina": 1,
          "FastingBS": 0,
          "HeartDisease": 1,
          "MaxHR": 98,
          "RestingBP": 120,
          "Sex": 0
         },
         {
          "Age": 67,
          "Cholesterol": 254,
          "ExerciseAngina": 0,
          "FastingBS": 1,
          "HeartDisease": 1,
          "MaxHR": 163,
          "RestingBP": 125,
          "Sex": 1
         },
         {
          "Age": 67,
          "Cholesterol": 237,
          "ExerciseAngina": 0,
          "FastingBS": 0,
          "HeartDisease": 1,
          "MaxHR": 71,
          "RestingBP": 120,
          "Sex": 1
         },
         {
          "Age": 45,
          "Cholesterol": 309,
          "ExerciseAngina": 1,
          "FastingBS": 0,
          "HeartDisease": 1,
          "MaxHR": 147,
          "RestingBP": 142,
          "Sex": 1
         },
         {
          "Age": 39,
          "Cholesterol": 147,
          "ExerciseAngina": 0,
          "FastingBS": 1,
          "HeartDisease": 0,
          "MaxHR": 160,
          "RestingBP": 160,
          "Sex": 1
         },
         {
          "Age": 64,
          "Cholesterol": 211,
          "ExerciseAngina": 1,
          "FastingBS": 0,
          "HeartDisease": 0,
          "MaxHR": 144,
          "RestingBP": 110,
          "Sex": 1
         },
         {
          "Age": 51,
          "Cholesterol": 194,
          "ExerciseAngina": 0,
          "FastingBS": 0,
          "HeartDisease": 0,
          "MaxHR": 170,
          "RestingBP": 160,
          "Sex": 0
         },
         {
          "Age": 38,
          "Cholesterol": 275,
          "ExerciseAngina": 0,
          "FastingBS": 0,
          "HeartDisease": 0,
          "MaxHR": 129,
          "RestingBP": 120,
          "Sex": 0
         },
         {
          "Age": 52,
          "Cholesterol": 259,
          "ExerciseAngina": 0,
          "FastingBS": 0,
          "HeartDisease": 0,
          "MaxHR": 170,
          "RestingBP": 140,
          "Sex": 1
         },
         {
          "Age": 61,
          "Cholesterol": 234,
          "ExerciseAngina": 0,
          "FastingBS": 0,
          "HeartDisease": 1,
          "MaxHR": 145,
          "RestingBP": 134,
          "Sex": 1
         },
         {
          "Age": 33,
          "Cholesterol": 246,
          "ExerciseAngina": 1,
          "FastingBS": 0,
          "HeartDisease": 1,
          "MaxHR": 150,
          "RestingBP": 100,
          "Sex": 0
         },
         {
          "Age": 52,
          "Cholesterol": 201,
          "ExerciseAngina": 0,
          "FastingBS": 0,
          "HeartDisease": 0,
          "MaxHR": 158,
          "RestingBP": 134,
          "Sex": 1
         },
         {
          "Age": 46,
          "Cholesterol": 240,
          "ExerciseAngina": 0,
          "FastingBS": 0,
          "HeartDisease": 0,
          "MaxHR": 140,
          "RestingBP": 110,
          "Sex": 1
         },
         {
          "Age": 65,
          "Cholesterol": 306,
          "ExerciseAngina": 1,
          "FastingBS": 1,
          "HeartDisease": 1,
          "MaxHR": 87,
          "RestingBP": 140,
          "Sex": 1
         },
         {
          "Age": 62,
          "Cholesterol": 268,
          "ExerciseAngina": 0,
          "FastingBS": 0,
          "HeartDisease": 1,
          "MaxHR": 160,
          "RestingBP": 140,
          "Sex": 0
         },
         {
          "Age": 61,
          "Cholesterol": 294,
          "ExerciseAngina": 1,
          "FastingBS": 0,
          "HeartDisease": 0,
          "MaxHR": 120,
          "RestingBP": 130,
          "Sex": 0
         },
         {
          "Age": 47,
          "Cholesterol": 253,
          "ExerciseAngina": 0,
          "FastingBS": 0,
          "HeartDisease": 0,
          "MaxHR": 179,
          "RestingBP": 130,
          "Sex": 1
         },
         {
          "Age": 46,
          "Cholesterol": 238,
          "ExerciseAngina": 0,
          "FastingBS": 0,
          "HeartDisease": 0,
          "MaxHR": 90,
          "RestingBP": 130,
          "Sex": 0
         },
         {
          "Age": 63,
          "Cholesterol": 305,
          "ExerciseAngina": 1,
          "FastingBS": 0,
          "HeartDisease": 1,
          "MaxHR": 121,
          "RestingBP": 96,
          "Sex": 1
         },
         {
          "Age": 55,
          "Cholesterol": 217,
          "ExerciseAngina": 1,
          "FastingBS": 0,
          "HeartDisease": 1,
          "MaxHR": 111,
          "RestingBP": 140,
          "Sex": 1
         },
         {
          "Age": 41,
          "Cholesterol": 198,
          "ExerciseAngina": 0,
          "FastingBS": 0,
          "HeartDisease": 0,
          "MaxHR": 168,
          "RestingBP": 105,
          "Sex": 0
         },
         {
          "Age": 41,
          "Cholesterol": 268,
          "ExerciseAngina": 1,
          "FastingBS": 0,
          "HeartDisease": 0,
          "MaxHR": 172,
          "RestingBP": 112,
          "Sex": 0
         },
         {
          "Age": 60,
          "Cholesterol": 246,
          "ExerciseAngina": 0,
          "FastingBS": 0,
          "HeartDisease": 0,
          "MaxHR": 135,
          "RestingBP": 120,
          "Sex": 1
         },
         {
          "Age": 55,
          "Cholesterol": 262,
          "ExerciseAngina": 0,
          "FastingBS": 0,
          "HeartDisease": 0,
          "MaxHR": 155,
          "RestingBP": 130,
          "Sex": 1
         },
         {
          "Age": 62,
          "Cholesterol": 231,
          "ExerciseAngina": 0,
          "FastingBS": 0,
          "HeartDisease": 0,
          "MaxHR": 146,
          "RestingBP": 130,
          "Sex": 1
         },
         {
          "Age": 69,
          "Cholesterol": 216,
          "ExerciseAngina": 1,
          "FastingBS": 1,
          "HeartDisease": 1,
          "MaxHR": 84,
          "RestingBP": 122,
          "Sex": 1
         },
         {
          "Age": 66,
          "Cholesterol": 213,
          "ExerciseAngina": 1,
          "FastingBS": 1,
          "HeartDisease": 0,
          "MaxHR": 99,
          "RestingBP": 110,
          "Sex": 1
         },
         {
          "Age": 53,
          "Cholesterol": 246,
          "ExerciseAngina": 1,
          "FastingBS": 0,
          "HeartDisease": 1,
          "MaxHR": 116,
          "RestingBP": 120,
          "Sex": 1
         },
         {
          "Age": 53,
          "Cholesterol": 234,
          "ExerciseAngina": 0,
          "FastingBS": 0,
          "HeartDisease": 0,
          "MaxHR": 160,
          "RestingBP": 138,
          "Sex": 0
         },
         {
          "Age": 47,
          "Cholesterol": 263,
          "ExerciseAngina": 0,
          "FastingBS": 0,
          "HeartDisease": 0,
          "MaxHR": 174,
          "RestingBP": 160,
          "Sex": 1
         },
         {
          "Age": 65,
          "Cholesterol": 225,
          "ExerciseAngina": 0,
          "FastingBS": 0,
          "HeartDisease": 1,
          "MaxHR": 114,
          "RestingBP": 150,
          "Sex": 0
         },
         {
          "Age": 48,
          "Cholesterol": 245,
          "ExerciseAngina": 0,
          "FastingBS": 0,
          "HeartDisease": 0,
          "MaxHR": 180,
          "RestingBP": 130,
          "Sex": 1
         },
         {
          "Age": 50,
          "Cholesterol": 264,
          "ExerciseAngina": 0,
          "FastingBS": 0,
          "HeartDisease": 1,
          "MaxHR": 150,
          "RestingBP": 145,
          "Sex": 1
         },
         {
          "Age": 48,
          "Cholesterol": 177,
          "ExerciseAngina": 0,
          "FastingBS": 1,
          "HeartDisease": 0,
          "MaxHR": 148,
          "RestingBP": 120,
          "Sex": 0
         },
         {
          "Age": 49,
          "Cholesterol": 212,
          "ExerciseAngina": 1,
          "FastingBS": 0,
          "HeartDisease": 1,
          "MaxHR": 96,
          "RestingBP": 128,
          "Sex": 1
         },
         {
          "Age": 50,
          "Cholesterol": 200,
          "ExerciseAngina": 1,
          "FastingBS": 0,
          "HeartDisease": 1,
          "MaxHR": 126,
          "RestingBP": 144,
          "Sex": 1
         },
         {
          "Age": 32,
          "Cholesterol": 254,
          "ExerciseAngina": 0,
          "FastingBS": 0,
          "HeartDisease": 0,
          "MaxHR": 155,
          "RestingBP": 125,
          "Sex": 1
         },
         {
          "Age": 37,
          "Cholesterol": 283,
          "ExerciseAngina": 0,
          "FastingBS": 0,
          "HeartDisease": 0,
          "MaxHR": 98,
          "RestingBP": 130,
          "Sex": 1
         },
         {
          "Age": 49,
          "Cholesterol": 208,
          "ExerciseAngina": 0,
          "FastingBS": 0,
          "HeartDisease": 0,
          "MaxHR": 160,
          "RestingBP": 110,
          "Sex": 0
         },
         {
          "Age": 61,
          "Cholesterol": 337,
          "ExerciseAngina": 1,
          "FastingBS": 0,
          "HeartDisease": 1,
          "MaxHR": 98,
          "RestingBP": 120,
          "Sex": 1
         },
         {
          "Age": 54,
          "Cholesterol": 288,
          "ExerciseAngina": 1,
          "FastingBS": 1,
          "HeartDisease": 0,
          "MaxHR": 159,
          "RestingBP": 132,
          "Sex": 0
         },
         {
          "Age": 60,
          "Cholesterol": 186,
          "ExerciseAngina": 1,
          "FastingBS": 1,
          "HeartDisease": 1,
          "MaxHR": 140,
          "RestingBP": 130,
          "Sex": 1
         },
         {
          "Age": 65,
          "Cholesterol": 236,
          "ExerciseAngina": 1,
          "FastingBS": 1,
          "HeartDisease": 1,
          "MaxHR": 105,
          "RestingBP": 150,
          "Sex": 1
         },
         {
          "Age": 61,
          "Cholesterol": 292,
          "ExerciseAngina": 1,
          "FastingBS": 0,
          "HeartDisease": 0,
          "MaxHR": 115,
          "RestingBP": 125,
          "Sex": 1
         },
         {
          "Age": 59,
          "Cholesterol": 222,
          "ExerciseAngina": 1,
          "FastingBS": 0,
          "HeartDisease": 1,
          "MaxHR": 135,
          "RestingBP": 125,
          "Sex": 1
         },
         {
          "Age": 57,
          "Cholesterol": 192,
          "ExerciseAngina": 0,
          "FastingBS": 0,
          "HeartDisease": 0,
          "MaxHR": 148,
          "RestingBP": 140,
          "Sex": 1
         },
         {
          "Age": 41,
          "Cholesterol": 269,
          "ExerciseAngina": 0,
          "FastingBS": 0,
          "HeartDisease": 0,
          "MaxHR": 144,
          "RestingBP": 125,
          "Sex": 1
         },
         {
          "Age": 40,
          "Cholesterol": 392,
          "ExerciseAngina": 0,
          "FastingBS": 0,
          "HeartDisease": 1,
          "MaxHR": 130,
          "RestingBP": 150,
          "Sex": 0
         },
         {
          "Age": 57,
          "Cholesterol": 168,
          "ExerciseAngina": 0,
          "FastingBS": 0,
          "HeartDisease": 0,
          "MaxHR": 174,
          "RestingBP": 150,
          "Sex": 1
         },
         {
          "Age": 63,
          "Cholesterol": 177,
          "ExerciseAngina": 1,
          "FastingBS": 0,
          "HeartDisease": 1,
          "MaxHR": 84,
          "RestingBP": 170,
          "Sex": 1
         },
         {
          "Age": 60,
          "Cholesterol": 305,
          "ExerciseAngina": 0,
          "FastingBS": 0,
          "HeartDisease": 1,
          "MaxHR": 161,
          "RestingBP": 158,
          "Sex": 0
         },
         {
          "Age": 57,
          "Cholesterol": 260,
          "ExerciseAngina": 0,
          "FastingBS": 1,
          "HeartDisease": 0,
          "MaxHR": 140,
          "RestingBP": 140,
          "Sex": 1
         },
         {
          "Age": 51,
          "Cholesterol": 179,
          "ExerciseAngina": 0,
          "FastingBS": 0,
          "HeartDisease": 0,
          "MaxHR": 100,
          "RestingBP": 130,
          "Sex": 1
         },
         {
          "Age": 53,
          "Cholesterol": 226,
          "ExerciseAngina": 1,
          "FastingBS": 0,
          "HeartDisease": 0,
          "MaxHR": 111,
          "RestingBP": 142,
          "Sex": 1
         },
         {
          "Age": 66,
          "Cholesterol": 139,
          "ExerciseAngina": 1,
          "FastingBS": 0,
          "HeartDisease": 1,
          "MaxHR": 94,
          "RestingBP": 140,
          "Sex": 1
         },
         {
          "Age": 41,
          "Cholesterol": 172,
          "ExerciseAngina": 0,
          "FastingBS": 0,
          "HeartDisease": 1,
          "MaxHR": 130,
          "RestingBP": 130,
          "Sex": 1
         },
         {
          "Age": 52,
          "Cholesterol": 331,
          "ExerciseAngina": 1,
          "FastingBS": 0,
          "HeartDisease": 1,
          "MaxHR": 94,
          "RestingBP": 160,
          "Sex": 1
         },
         {
          "Age": 67,
          "Cholesterol": 299,
          "ExerciseAngina": 1,
          "FastingBS": 0,
          "HeartDisease": 1,
          "MaxHR": 125,
          "RestingBP": 100,
          "Sex": 1
         },
         {
          "Age": 58,
          "Cholesterol": 259,
          "ExerciseAngina": 1,
          "FastingBS": 0,
          "HeartDisease": 1,
          "MaxHR": 130,
          "RestingBP": 128,
          "Sex": 1
         },
         {
          "Age": 42,
          "Cholesterol": 180,
          "ExerciseAngina": 0,
          "FastingBS": 0,
          "HeartDisease": 0,
          "MaxHR": 150,
          "RestingBP": 130,
          "Sex": 1
         },
         {
          "Age": 55,
          "Cholesterol": 196,
          "ExerciseAngina": 0,
          "FastingBS": 0,
          "HeartDisease": 0,
          "MaxHR": 150,
          "RestingBP": 140,
          "Sex": 1
         },
         {
          "Age": 48,
          "Cholesterol": 275,
          "ExerciseAngina": 1,
          "FastingBS": 1,
          "HeartDisease": 1,
          "MaxHR": 150,
          "RestingBP": 122,
          "Sex": 1
         },
         {
          "Age": 58,
          "Cholesterol": 203,
          "ExerciseAngina": 1,
          "FastingBS": 1,
          "HeartDisease": 1,
          "MaxHR": 123,
          "RestingBP": 136,
          "Sex": 1
         },
         {
          "Age": 45,
          "Cholesterol": 236,
          "ExerciseAngina": 1,
          "FastingBS": 0,
          "HeartDisease": 0,
          "MaxHR": 152,
          "RestingBP": 138,
          "Sex": 0
         },
         {
          "Age": 44,
          "Cholesterol": 233,
          "ExerciseAngina": 1,
          "FastingBS": 0,
          "HeartDisease": 0,
          "MaxHR": 179,
          "RestingBP": 130,
          "Sex": 1
         },
         {
          "Age": 43,
          "Cholesterol": 315,
          "ExerciseAngina": 0,
          "FastingBS": 0,
          "HeartDisease": 0,
          "MaxHR": 162,
          "RestingBP": 130,
          "Sex": 1
         },
         {
          "Age": 63,
          "Cholesterol": 252,
          "ExerciseAngina": 1,
          "FastingBS": 0,
          "HeartDisease": 1,
          "MaxHR": 140,
          "RestingBP": 110,
          "Sex": 1
         },
         {
          "Age": 41,
          "Cholesterol": 250,
          "ExerciseAngina": 0,
          "FastingBS": 0,
          "HeartDisease": 0,
          "MaxHR": 142,
          "RestingBP": 110,
          "Sex": 0
         },
         {
          "Age": 54,
          "Cholesterol": 203,
          "ExerciseAngina": 0,
          "FastingBS": 0,
          "HeartDisease": 0,
          "MaxHR": 137,
          "RestingBP": 133,
          "Sex": 1
         },
         {
          "Age": 64,
          "Cholesterol": 258,
          "ExerciseAngina": 0,
          "FastingBS": 1,
          "HeartDisease": 1,
          "MaxHR": 130,
          "RestingBP": 130,
          "Sex": 1
         },
         {
          "Age": 53,
          "Cholesterol": 300,
          "ExerciseAngina": 1,
          "FastingBS": 1,
          "HeartDisease": 1,
          "MaxHR": 128,
          "RestingBP": 144,
          "Sex": 1
         },
         {
          "Age": 60,
          "Cholesterol": 293,
          "ExerciseAngina": 0,
          "FastingBS": 0,
          "HeartDisease": 1,
          "MaxHR": 170,
          "RestingBP": 140,
          "Sex": 1
         },
         {
          "Age": 51,
          "Cholesterol": 222,
          "ExerciseAngina": 1,
          "FastingBS": 0,
          "HeartDisease": 0,
          "MaxHR": 143,
          "RestingBP": 100,
          "Sex": 1
         },
         {
          "Age": 50,
          "Cholesterol": 244,
          "ExerciseAngina": 0,
          "FastingBS": 0,
          "HeartDisease": 0,
          "MaxHR": 162,
          "RestingBP": 120,
          "Sex": 0
         },
         {
          "Age": 44,
          "Cholesterol": 169,
          "ExerciseAngina": 1,
          "FastingBS": 0,
          "HeartDisease": 1,
          "MaxHR": 144,
          "RestingBP": 120,
          "Sex": 1
         },
         {
          "Age": 55,
          "Cholesterol": 342,
          "ExerciseAngina": 0,
          "FastingBS": 0,
          "HeartDisease": 0,
          "MaxHR": 166,
          "RestingBP": 132,
          "Sex": 0
         },
         {
          "Age": 39,
          "Cholesterol": 219,
          "ExerciseAngina": 0,
          "FastingBS": 0,
          "HeartDisease": 1,
          "MaxHR": 140,
          "RestingBP": 118,
          "Sex": 1
         },
         {
          "Age": 67,
          "Cholesterol": 277,
          "ExerciseAngina": 0,
          "FastingBS": 0,
          "HeartDisease": 0,
          "MaxHR": 172,
          "RestingBP": 152,
          "Sex": 0
         },
         {
          "Age": 70,
          "Cholesterol": 269,
          "ExerciseAngina": 1,
          "FastingBS": 0,
          "HeartDisease": 1,
          "MaxHR": 112,
          "RestingBP": 160,
          "Sex": 1
         },
         {
          "Age": 66,
          "Cholesterol": 246,
          "ExerciseAngina": 1,
          "FastingBS": 0,
          "HeartDisease": 1,
          "MaxHR": 120,
          "RestingBP": 160,
          "Sex": 1
         },
         {
          "Age": 43,
          "Cholesterol": 201,
          "ExerciseAngina": 0,
          "FastingBS": 0,
          "HeartDisease": 0,
          "MaxHR": 165,
          "RestingBP": 120,
          "Sex": 0
         },
         {
          "Age": 48,
          "Cholesterol": 260,
          "ExerciseAngina": 0,
          "FastingBS": 0,
          "HeartDisease": 1,
          "MaxHR": 115,
          "RestingBP": 120,
          "Sex": 1
         },
         {
          "Age": 62,
          "Cholesterol": 394,
          "ExerciseAngina": 0,
          "FastingBS": 0,
          "HeartDisease": 0,
          "MaxHR": 157,
          "RestingBP": 140,
          "Sex": 0
         },
         {
          "Age": 50,
          "Cholesterol": 215,
          "ExerciseAngina": 1,
          "FastingBS": 0,
          "HeartDisease": 0,
          "MaxHR": 140,
          "RestingBP": 150,
          "Sex": 1
         },
         {
          "Age": 57,
          "Cholesterol": 241,
          "ExerciseAngina": 1,
          "FastingBS": 0,
          "HeartDisease": 1,
          "MaxHR": 123,
          "RestingBP": 140,
          "Sex": 0
         },
         {
          "Age": 53,
          "Cholesterol": 243,
          "ExerciseAngina": 0,
          "FastingBS": 0,
          "HeartDisease": 0,
          "MaxHR": 155,
          "RestingBP": 140,
          "Sex": 1
         },
         {
          "Age": 59,
          "Cholesterol": 188,
          "ExerciseAngina": 0,
          "FastingBS": 0,
          "HeartDisease": 0,
          "MaxHR": 124,
          "RestingBP": 130,
          "Sex": 0
         },
         {
          "Age": 55,
          "Cholesterol": 228,
          "ExerciseAngina": 1,
          "FastingBS": 0,
          "HeartDisease": 1,
          "MaxHR": 124,
          "RestingBP": 136,
          "Sex": 1
         },
         {
          "Age": 61,
          "Cholesterol": 203,
          "ExerciseAngina": 0,
          "FastingBS": 0,
          "HeartDisease": 1,
          "MaxHR": 161,
          "RestingBP": 148,
          "Sex": 1
         },
         {
          "Age": 48,
          "Cholesterol": 208,
          "ExerciseAngina": 1,
          "FastingBS": 0,
          "HeartDisease": 1,
          "MaxHR": 159,
          "RestingBP": 140,
          "Sex": 1
         },
         {
          "Age": 64,
          "Cholesterol": 306,
          "ExerciseAngina": 1,
          "FastingBS": 1,
          "HeartDisease": 1,
          "MaxHR": 115,
          "RestingBP": 143,
          "Sex": 1
         },
         {
          "Age": 48,
          "Cholesterol": 275,
          "ExerciseAngina": 0,
          "FastingBS": 0,
          "HeartDisease": 0,
          "MaxHR": 139,
          "RestingBP": 130,
          "Sex": 0
         },
         {
          "Age": 55,
          "Cholesterol": 270,
          "ExerciseAngina": 0,
          "FastingBS": 0,
          "HeartDisease": 0,
          "MaxHR": 140,
          "RestingBP": 120,
          "Sex": 1
         },
         {
          "Age": 69,
          "Cholesterol": 234,
          "ExerciseAngina": 0,
          "FastingBS": 1,
          "HeartDisease": 0,
          "MaxHR": 131,
          "RestingBP": 160,
          "Sex": 1
         },
         {
          "Age": 41,
          "Cholesterol": 289,
          "ExerciseAngina": 0,
          "FastingBS": 0,
          "HeartDisease": 1,
          "MaxHR": 170,
          "RestingBP": 110,
          "Sex": 1
         },
         {
          "Age": 50,
          "Cholesterol": 209,
          "ExerciseAngina": 0,
          "FastingBS": 0,
          "HeartDisease": 0,
          "MaxHR": 116,
          "RestingBP": 170,
          "Sex": 1
         },
         {
          "Age": 61,
          "Cholesterol": 282,
          "ExerciseAngina": 1,
          "FastingBS": 0,
          "HeartDisease": 1,
          "MaxHR": 135,
          "RestingBP": 120,
          "Sex": 1
         },
         {
          "Age": 54,
          "Cholesterol": 258,
          "ExerciseAngina": 0,
          "FastingBS": 0,
          "HeartDisease": 0,
          "MaxHR": 147,
          "RestingBP": 120,
          "Sex": 1
         },
         {
          "Age": 44,
          "Cholesterol": 141,
          "ExerciseAngina": 0,
          "FastingBS": 0,
          "HeartDisease": 0,
          "MaxHR": 175,
          "RestingBP": 108,
          "Sex": 0
         },
         {
          "Age": 55,
          "Cholesterol": 277,
          "ExerciseAngina": 0,
          "FastingBS": 0,
          "HeartDisease": 0,
          "MaxHR": 160,
          "RestingBP": 110,
          "Sex": 1
         },
         {
          "Age": 64,
          "Cholesterol": 246,
          "ExerciseAngina": 1,
          "FastingBS": 0,
          "HeartDisease": 1,
          "MaxHR": 96,
          "RestingBP": 120,
          "Sex": 1
         },
         {
          "Age": 38,
          "Cholesterol": 196,
          "ExerciseAngina": 0,
          "FastingBS": 0,
          "HeartDisease": 1,
          "MaxHR": 166,
          "RestingBP": 110,
          "Sex": 1
         },
         {
          "Age": 59,
          "Cholesterol": 287,
          "ExerciseAngina": 0,
          "FastingBS": 0,
          "HeartDisease": 0,
          "MaxHR": 150,
          "RestingBP": 140,
          "Sex": 1
         },
         {
          "Age": 72,
          "Cholesterol": 123,
          "ExerciseAngina": 0,
          "FastingBS": 1,
          "HeartDisease": 1,
          "MaxHR": 130,
          "RestingBP": 160,
          "Sex": 1
         },
         {
          "Age": 35,
          "Cholesterol": 264,
          "ExerciseAngina": 0,
          "FastingBS": 0,
          "HeartDisease": 0,
          "MaxHR": 168,
          "RestingBP": 150,
          "Sex": 1
         },
         {
          "Age": 75,
          "Cholesterol": 310,
          "ExerciseAngina": 1,
          "FastingBS": 1,
          "HeartDisease": 0,
          "MaxHR": 112,
          "RestingBP": 160,
          "Sex": 1
         },
         {
          "Age": 61,
          "Cholesterol": 243,
          "ExerciseAngina": 1,
          "FastingBS": 1,
          "HeartDisease": 0,
          "MaxHR": 137,
          "RestingBP": 150,
          "Sex": 1
         },
         {
          "Age": 46,
          "Cholesterol": 231,
          "ExerciseAngina": 0,
          "FastingBS": 0,
          "HeartDisease": 1,
          "MaxHR": 147,
          "RestingBP": 150,
          "Sex": 1
         },
         {
          "Age": 71,
          "Cholesterol": 149,
          "ExerciseAngina": 0,
          "FastingBS": 0,
          "HeartDisease": 0,
          "MaxHR": 125,
          "RestingBP": 112,
          "Sex": 0
         },
         {
          "Age": 56,
          "Cholesterol": 409,
          "ExerciseAngina": 1,
          "FastingBS": 0,
          "HeartDisease": 1,
          "MaxHR": 150,
          "RestingBP": 134,
          "Sex": 0
         },
         {
          "Age": 61,
          "Cholesterol": 307,
          "ExerciseAngina": 1,
          "FastingBS": 0,
          "HeartDisease": 1,
          "MaxHR": 146,
          "RestingBP": 145,
          "Sex": 0
         },
         {
          "Age": 51,
          "Cholesterol": 160,
          "ExerciseAngina": 0,
          "FastingBS": 0,
          "HeartDisease": 1,
          "MaxHR": 150,
          "RestingBP": 135,
          "Sex": 1
         },
         {
          "Age": 50,
          "Cholesterol": 328,
          "ExerciseAngina": 1,
          "FastingBS": 0,
          "HeartDisease": 0,
          "MaxHR": 110,
          "RestingBP": 120,
          "Sex": 0
         },
         {
          "Age": 67,
          "Cholesterol": 286,
          "ExerciseAngina": 1,
          "FastingBS": 0,
          "HeartDisease": 1,
          "MaxHR": 108,
          "RestingBP": 160,
          "Sex": 1
         },
         {
          "Age": 54,
          "Cholesterol": 283,
          "ExerciseAngina": 0,
          "FastingBS": 0,
          "HeartDisease": 1,
          "MaxHR": 195,
          "RestingBP": 192,
          "Sex": 1
         },
         {
          "Age": 58,
          "Cholesterol": 284,
          "ExerciseAngina": 0,
          "FastingBS": 0,
          "HeartDisease": 1,
          "MaxHR": 160,
          "RestingBP": 120,
          "Sex": 1
         },
         {
          "Age": 57,
          "Cholesterol": 264,
          "ExerciseAngina": 0,
          "FastingBS": 0,
          "HeartDisease": 1,
          "MaxHR": 100,
          "RestingBP": 122,
          "Sex": 1
         },
         {
          "Age": 45,
          "Cholesterol": 224,
          "ExerciseAngina": 0,
          "FastingBS": 1,
          "HeartDisease": 0,
          "MaxHR": 122,
          "RestingBP": 140,
          "Sex": 1
         },
         {
          "Age": 52,
          "Cholesterol": 266,
          "ExerciseAngina": 1,
          "FastingBS": 0,
          "HeartDisease": 1,
          "MaxHR": 134,
          "RestingBP": 140,
          "Sex": 1
         },
         {
          "Age": 52,
          "Cholesterol": 182,
          "ExerciseAngina": 0,
          "FastingBS": 0,
          "HeartDisease": 1,
          "MaxHR": 150,
          "RestingBP": 120,
          "Sex": 1
         },
         {
          "Age": 52,
          "Cholesterol": 233,
          "ExerciseAngina": 0,
          "FastingBS": 1,
          "HeartDisease": 0,
          "MaxHR": 147,
          "RestingBP": 108,
          "Sex": 1
         },
         {
          "Age": 56,
          "Cholesterol": 279,
          "ExerciseAngina": 0,
          "FastingBS": 0,
          "HeartDisease": 1,
          "MaxHR": 150,
          "RestingBP": 120,
          "Sex": 0
         },
         {
          "Age": 60,
          "Cholesterol": 186,
          "ExerciseAngina": 1,
          "FastingBS": 1,
          "HeartDisease": 1,
          "MaxHR": 140,
          "RestingBP": 130,
          "Sex": 1
         },
         {
          "Age": 68,
          "Cholesterol": 254,
          "ExerciseAngina": 1,
          "FastingBS": 1,
          "HeartDisease": 0,
          "MaxHR": 151,
          "RestingBP": 134,
          "Sex": 1
         },
         {
          "Age": 69,
          "Cholesterol": 210,
          "ExerciseAngina": 1,
          "FastingBS": 1,
          "HeartDisease": 1,
          "MaxHR": 112,
          "RestingBP": 142,
          "Sex": 1
         },
         {
          "Age": 30,
          "Cholesterol": 237,
          "ExerciseAngina": 0,
          "FastingBS": 0,
          "HeartDisease": 0,
          "MaxHR": 170,
          "RestingBP": 170,
          "Sex": 0
         },
         {
          "Age": 59,
          "Cholesterol": 274,
          "ExerciseAngina": 1,
          "FastingBS": 0,
          "HeartDisease": 0,
          "MaxHR": 154,
          "RestingBP": 140,
          "Sex": 1
         },
         {
          "Age": 56,
          "Cholesterol": 294,
          "ExerciseAngina": 0,
          "FastingBS": 0,
          "HeartDisease": 0,
          "MaxHR": 153,
          "RestingBP": 140,
          "Sex": 0
         },
         {
          "Age": 56,
          "Cholesterol": 388,
          "ExerciseAngina": 1,
          "FastingBS": 0,
          "HeartDisease": 1,
          "MaxHR": 122,
          "RestingBP": 170,
          "Sex": 1
         },
         {
          "Age": 40,
          "Cholesterol": 199,
          "ExerciseAngina": 1,
          "FastingBS": 0,
          "HeartDisease": 0,
          "MaxHR": 178,
          "RestingBP": 140,
          "Sex": 1
         },
         {
          "Age": 59,
          "Cholesterol": 288,
          "ExerciseAngina": 0,
          "FastingBS": 0,
          "HeartDisease": 1,
          "MaxHR": 159,
          "RestingBP": 170,
          "Sex": 1
         },
         {
          "Age": 55,
          "Cholesterol": 256,
          "ExerciseAngina": 0,
          "FastingBS": 1,
          "HeartDisease": 0,
          "MaxHR": 137,
          "RestingBP": 120,
          "Sex": 1
         },
         {
          "Age": 58,
          "Cholesterol": 251,
          "ExerciseAngina": 0,
          "FastingBS": 0,
          "HeartDisease": 0,
          "MaxHR": 110,
          "RestingBP": 130,
          "Sex": 1
         },
         {
          "Age": 55,
          "Cholesterol": 205,
          "ExerciseAngina": 1,
          "FastingBS": 0,
          "HeartDisease": 1,
          "MaxHR": 130,
          "RestingBP": 128,
          "Sex": 0
         },
         {
          "Age": 44,
          "Cholesterol": 288,
          "ExerciseAngina": 1,
          "FastingBS": 0,
          "HeartDisease": 1,
          "MaxHR": 150,
          "RestingBP": 150,
          "Sex": 1
         },
         {
          "Age": 56,
          "Cholesterol": 184,
          "ExerciseAngina": 1,
          "FastingBS": 0,
          "HeartDisease": 1,
          "MaxHR": 105,
          "RestingBP": 132,
          "Sex": 1
         },
         {
          "Age": 48,
          "Cholesterol": 256,
          "ExerciseAngina": 1,
          "FastingBS": 1,
          "HeartDisease": 1,
          "MaxHR": 150,
          "RestingBP": 130,
          "Sex": 1
         },
         {
          "Age": 71,
          "Cholesterol": 265,
          "ExerciseAngina": 0,
          "FastingBS": 1,
          "HeartDisease": 0,
          "MaxHR": 130,
          "RestingBP": 110,
          "Sex": 0
         },
         {
          "Age": 63,
          "Cholesterol": 165,
          "ExerciseAngina": 0,
          "FastingBS": 0,
          "HeartDisease": 0,
          "MaxHR": 133,
          "RestingBP": 136,
          "Sex": 1
         },
         {
          "Age": 52,
          "Cholesterol": 205,
          "ExerciseAngina": 0,
          "FastingBS": 1,
          "HeartDisease": 0,
          "MaxHR": 184,
          "RestingBP": 128,
          "Sex": 1
         },
         {
          "Age": 74,
          "Cholesterol": 216,
          "ExerciseAngina": 1,
          "FastingBS": 1,
          "HeartDisease": 1,
          "MaxHR": 116,
          "RestingBP": 145,
          "Sex": 1
         },
         {
          "Age": 57,
          "Cholesterol": 276,
          "ExerciseAngina": 1,
          "FastingBS": 0,
          "HeartDisease": 1,
          "MaxHR": 112,
          "RestingBP": 150,
          "Sex": 1
         },
         {
          "Age": 56,
          "Cholesterol": 167,
          "ExerciseAngina": 0,
          "FastingBS": 0,
          "HeartDisease": 0,
          "MaxHR": 114,
          "RestingBP": 130,
          "Sex": 1
         },
         {
          "Age": 52,
          "Cholesterol": 223,
          "ExerciseAngina": 0,
          "FastingBS": 0,
          "HeartDisease": 0,
          "MaxHR": 169,
          "RestingBP": 138,
          "Sex": 1
         },
         {
          "Age": 42,
          "Cholesterol": 209,
          "ExerciseAngina": 0,
          "FastingBS": 0,
          "HeartDisease": 0,
          "MaxHR": 173,
          "RestingBP": 120,
          "Sex": 0
         },
         {
          "Age": 45,
          "Cholesterol": 192,
          "ExerciseAngina": 0,
          "FastingBS": 0,
          "HeartDisease": 0,
          "MaxHR": 110,
          "RestingBP": 135,
          "Sex": 1
         },
         {
          "Age": 31,
          "Cholesterol": 219,
          "ExerciseAngina": 0,
          "FastingBS": 0,
          "HeartDisease": 0,
          "MaxHR": 150,
          "RestingBP": 100,
          "Sex": 0
         },
         {
          "Age": 55,
          "Cholesterol": 295,
          "ExerciseAngina": 0,
          "FastingBS": 0,
          "HeartDisease": 1,
          "MaxHR": 136,
          "RestingBP": 140,
          "Sex": 1
         },
         {
          "Age": 49,
          "Cholesterol": 207,
          "ExerciseAngina": 0,
          "FastingBS": 0,
          "HeartDisease": 0,
          "MaxHR": 135,
          "RestingBP": 130,
          "Sex": 0
         },
         {
          "Age": 62,
          "Cholesterol": 297,
          "ExerciseAngina": 1,
          "FastingBS": 0,
          "HeartDisease": 1,
          "MaxHR": 130,
          "RestingBP": 135,
          "Sex": 1
         },
         {
          "Age": 70,
          "Cholesterol": 174,
          "ExerciseAngina": 1,
          "FastingBS": 0,
          "HeartDisease": 1,
          "MaxHR": 125,
          "RestingBP": 145,
          "Sex": 1
         },
         {
          "Age": 60,
          "Cholesterol": 258,
          "ExerciseAngina": 1,
          "FastingBS": 0,
          "HeartDisease": 1,
          "MaxHR": 141,
          "RestingBP": 125,
          "Sex": 1
         },
         {
          "Age": 61,
          "Cholesterol": 260,
          "ExerciseAngina": 1,
          "FastingBS": 0,
          "HeartDisease": 1,
          "MaxHR": 140,
          "RestingBP": 120,
          "Sex": 1
         },
         {
          "Age": 50,
          "Cholesterol": 233,
          "ExerciseAngina": 0,
          "FastingBS": 0,
          "HeartDisease": 1,
          "MaxHR": 163,
          "RestingBP": 140,
          "Sex": 1
         },
         {
          "Age": 47,
          "Cholesterol": 193,
          "ExerciseAngina": 1,
          "FastingBS": 0,
          "HeartDisease": 1,
          "MaxHR": 145,
          "RestingBP": 140,
          "Sex": 1
         },
         {
          "Age": 49,
          "Cholesterol": 142,
          "ExerciseAngina": 1,
          "FastingBS": 0,
          "HeartDisease": 1,
          "MaxHR": 127,
          "RestingBP": 131,
          "Sex": 1
         },
         {
          "Age": 47,
          "Cholesterol": 257,
          "ExerciseAngina": 0,
          "FastingBS": 0,
          "HeartDisease": 0,
          "MaxHR": 156,
          "RestingBP": 138,
          "Sex": 1
         },
         {
          "Age": 51,
          "Cholesterol": 227,
          "ExerciseAngina": 0,
          "FastingBS": 1,
          "HeartDisease": 0,
          "MaxHR": 138,
          "RestingBP": 132,
          "Sex": 1
         },
         {
          "Age": 41,
          "Cholesterol": 214,
          "ExerciseAngina": 0,
          "FastingBS": 0,
          "HeartDisease": 0,
          "MaxHR": 168,
          "RestingBP": 130,
          "Sex": 1
         },
         {
          "Age": 57,
          "Cholesterol": 274,
          "ExerciseAngina": 1,
          "FastingBS": 0,
          "HeartDisease": 1,
          "MaxHR": 88,
          "RestingBP": 152,
          "Sex": 1
         },
         {
          "Age": 71,
          "Cholesterol": 221,
          "ExerciseAngina": 1,
          "FastingBS": 0,
          "HeartDisease": 1,
          "MaxHR": 108,
          "RestingBP": 144,
          "Sex": 1
         },
         {
          "Age": 39,
          "Cholesterol": 339,
          "ExerciseAngina": 0,
          "FastingBS": 0,
          "HeartDisease": 0,
          "MaxHR": 170,
          "RestingBP": 120,
          "Sex": 1
         },
         {
          "Age": 44,
          "Cholesterol": 219,
          "ExerciseAngina": 0,
          "FastingBS": 0,
          "HeartDisease": 0,
          "MaxHR": 188,
          "RestingBP": 130,
          "Sex": 1
         },
         {
          "Age": 59,
          "Cholesterol": 271,
          "ExerciseAngina": 0,
          "FastingBS": 0,
          "HeartDisease": 0,
          "MaxHR": 182,
          "RestingBP": 138,
          "Sex": 1
         },
         {
          "Age": 46,
          "Cholesterol": 204,
          "ExerciseAngina": 0,
          "FastingBS": 0,
          "HeartDisease": 0,
          "MaxHR": 172,
          "RestingBP": 105,
          "Sex": 0
         },
         {
          "Age": 48,
          "Cholesterol": 163,
          "ExerciseAngina": 0,
          "FastingBS": 0,
          "HeartDisease": 0,
          "MaxHR": 175,
          "RestingBP": 108,
          "Sex": 0
         },
         {
          "Age": 53,
          "Cholesterol": 216,
          "ExerciseAngina": 0,
          "FastingBS": 0,
          "HeartDisease": 0,
          "MaxHR": 115,
          "RestingBP": 128,
          "Sex": 0
         },
         {
          "Age": 46,
          "Cholesterol": 275,
          "ExerciseAngina": 1,
          "FastingBS": 0,
          "HeartDisease": 0,
          "MaxHR": 165,
          "RestingBP": 140,
          "Sex": 1
         },
         {
          "Age": 48,
          "Cholesterol": 254,
          "ExerciseAngina": 0,
          "FastingBS": 0,
          "HeartDisease": 0,
          "MaxHR": 110,
          "RestingBP": 120,
          "Sex": 0
         },
         {
          "Age": 51,
          "Cholesterol": 258,
          "ExerciseAngina": 0,
          "FastingBS": 1,
          "HeartDisease": 0,
          "MaxHR": 96,
          "RestingBP": 114,
          "Sex": 0
         },
         {
          "Age": 37,
          "Cholesterol": 194,
          "ExerciseAngina": 0,
          "FastingBS": 0,
          "HeartDisease": 0,
          "MaxHR": 150,
          "RestingBP": 130,
          "Sex": 1
         },
         {
          "Age": 62,
          "Cholesterol": 204,
          "ExerciseAngina": 1,
          "FastingBS": 0,
          "HeartDisease": 1,
          "MaxHR": 122,
          "RestingBP": 138,
          "Sex": 1
         },
         {
          "Age": 44,
          "Cholesterol": 226,
          "ExerciseAngina": 0,
          "FastingBS": 0,
          "HeartDisease": 0,
          "MaxHR": 169,
          "RestingBP": 120,
          "Sex": 1
         },
         {
          "Age": 54,
          "Cholesterol": 267,
          "ExerciseAngina": 0,
          "FastingBS": 0,
          "HeartDisease": 0,
          "MaxHR": 167,
          "RestingBP": 108,
          "Sex": 0
         },
         {
          "Age": 64,
          "Cholesterol": 223,
          "ExerciseAngina": 0,
          "FastingBS": 0,
          "HeartDisease": 0,
          "MaxHR": 128,
          "RestingBP": 130,
          "Sex": 1
         },
         {
          "Age": 62,
          "Cholesterol": 153,
          "ExerciseAngina": 1,
          "FastingBS": 0,
          "HeartDisease": 1,
          "MaxHR": 97,
          "RestingBP": 152,
          "Sex": 1
         },
         {
          "Age": 36,
          "Cholesterol": 340,
          "ExerciseAngina": 0,
          "FastingBS": 0,
          "HeartDisease": 0,
          "MaxHR": 184,
          "RestingBP": 112,
          "Sex": 1
         },
         {
          "Age": 59,
          "Cholesterol": 233,
          "ExerciseAngina": 1,
          "FastingBS": 0,
          "HeartDisease": 1,
          "MaxHR": 117,
          "RestingBP": 122,
          "Sex": 1
         },
         {
          "Age": 54,
          "Cholesterol": 224,
          "ExerciseAngina": 0,
          "FastingBS": 0,
          "HeartDisease": 1,
          "MaxHR": 122,
          "RestingBP": 125,
          "Sex": 1
         },
         {
          "Age": 74,
          "Cholesterol": 269,
          "ExerciseAngina": 1,
          "FastingBS": 0,
          "HeartDisease": 0,
          "MaxHR": 121,
          "RestingBP": 120,
          "Sex": 0
         },
         {
          "Age": 54,
          "Cholesterol": 216,
          "ExerciseAngina": 0,
          "FastingBS": 0,
          "HeartDisease": 1,
          "MaxHR": 140,
          "RestingBP": 125,
          "Sex": 1
         },
         {
          "Age": 55,
          "Cholesterol": 320,
          "ExerciseAngina": 0,
          "FastingBS": 0,
          "HeartDisease": 0,
          "MaxHR": 155,
          "RestingBP": 122,
          "Sex": 0
         },
         {
          "Age": 60,
          "Cholesterol": 316,
          "ExerciseAngina": 1,
          "FastingBS": 1,
          "HeartDisease": 1,
          "MaxHR": 122,
          "RestingBP": 141,
          "Sex": 1
         },
         {
          "Age": 55,
          "Cholesterol": 344,
          "ExerciseAngina": 0,
          "FastingBS": 0,
          "HeartDisease": 0,
          "MaxHR": 160,
          "RestingBP": 110,
          "Sex": 0
         },
         {
          "Age": 34,
          "Cholesterol": 214,
          "ExerciseAngina": 0,
          "FastingBS": 0,
          "HeartDisease": 0,
          "MaxHR": 168,
          "RestingBP": 150,
          "Sex": 1
         },
         {
          "Age": 52,
          "Cholesterol": 186,
          "ExerciseAngina": 0,
          "FastingBS": 0,
          "HeartDisease": 0,
          "MaxHR": 190,
          "RestingBP": 118,
          "Sex": 1
         },
         {
          "Age": 62,
          "Cholesterol": 170,
          "ExerciseAngina": 1,
          "FastingBS": 0,
          "HeartDisease": 1,
          "MaxHR": 120,
          "RestingBP": 139,
          "Sex": 1
         },
         {
          "Age": 63,
          "Cholesterol": 254,
          "ExerciseAngina": 0,
          "FastingBS": 0,
          "HeartDisease": 1,
          "MaxHR": 147,
          "RestingBP": 130,
          "Sex": 1
         },
         {
          "Age": 52,
          "Cholesterol": 230,
          "ExerciseAngina": 0,
          "FastingBS": 0,
          "HeartDisease": 1,
          "MaxHR": 160,
          "RestingBP": 112,
          "Sex": 1
         },
         {
          "Age": 55,
          "Cholesterol": 327,
          "ExerciseAngina": 1,
          "FastingBS": 0,
          "HeartDisease": 1,
          "MaxHR": 117,
          "RestingBP": 180,
          "Sex": 0
         },
         {
          "Age": 60,
          "Cholesterol": 258,
          "ExerciseAngina": 0,
          "FastingBS": 0,
          "HeartDisease": 1,
          "MaxHR": 157,
          "RestingBP": 150,
          "Sex": 0
         },
         {
          "Age": 53,
          "Cholesterol": 216,
          "ExerciseAngina": 1,
          "FastingBS": 0,
          "HeartDisease": 0,
          "MaxHR": 142,
          "RestingBP": 140,
          "Sex": 0
         },
         {
          "Age": 66,
          "Cholesterol": 228,
          "ExerciseAngina": 1,
          "FastingBS": 1,
          "HeartDisease": 1,
          "MaxHR": 165,
          "RestingBP": 178,
          "Sex": 0
         },
         {
          "Age": 46,
          "Cholesterol": 272,
          "ExerciseAngina": 0,
          "FastingBS": 1,
          "HeartDisease": 1,
          "MaxHR": 175,
          "RestingBP": 140,
          "Sex": 1
         },
         {
          "Age": 62,
          "Cholesterol": 220,
          "ExerciseAngina": 0,
          "FastingBS": 0,
          "HeartDisease": 0,
          "MaxHR": 86,
          "RestingBP": 120,
          "Sex": 1
         },
         {
          "Age": 48,
          "Cholesterol": 263,
          "ExerciseAngina": 0,
          "FastingBS": 1,
          "HeartDisease": 1,
          "MaxHR": 110,
          "RestingBP": 106,
          "Sex": 1
         },
         {
          "Age": 60,
          "Cholesterol": 218,
          "ExerciseAngina": 1,
          "FastingBS": 0,
          "HeartDisease": 1,
          "MaxHR": 140,
          "RestingBP": 132,
          "Sex": 1
         },
         {
          "Age": 59,
          "Cholesterol": 177,
          "ExerciseAngina": 1,
          "FastingBS": 0,
          "HeartDisease": 1,
          "MaxHR": 162,
          "RestingBP": 140,
          "Sex": 1
         },
         {
          "Age": 58,
          "Cholesterol": 197,
          "ExerciseAngina": 0,
          "FastingBS": 0,
          "HeartDisease": 0,
          "MaxHR": 131,
          "RestingBP": 130,
          "Sex": 0
         },
         {
          "Age": 60,
          "Cholesterol": 185,
          "ExerciseAngina": 0,
          "FastingBS": 0,
          "HeartDisease": 1,
          "MaxHR": 155,
          "RestingBP": 140,
          "Sex": 1
         },
         {
          "Age": 41,
          "Cholesterol": 306,
          "ExerciseAngina": 0,
          "FastingBS": 0,
          "HeartDisease": 0,
          "MaxHR": 163,
          "RestingBP": 126,
          "Sex": 0
         },
         {
          "Age": 61,
          "Cholesterol": 284,
          "ExerciseAngina": 1,
          "FastingBS": 0,
          "HeartDisease": 1,
          "MaxHR": 123,
          "RestingBP": 140,
          "Sex": 1
         },
         {
          "Age": 43,
          "Cholesterol": 247,
          "ExerciseAngina": 1,
          "FastingBS": 1,
          "HeartDisease": 1,
          "MaxHR": 143,
          "RestingBP": 132,
          "Sex": 1
         },
         {
          "Age": 51,
          "Cholesterol": 308,
          "ExerciseAngina": 0,
          "FastingBS": 0,
          "HeartDisease": 0,
          "MaxHR": 142,
          "RestingBP": 140,
          "Sex": 0
         },
         {
          "Age": 68,
          "Cholesterol": 211,
          "ExerciseAngina": 0,
          "FastingBS": 0,
          "HeartDisease": 0,
          "MaxHR": 115,
          "RestingBP": 120,
          "Sex": 0
         },
         {
          "Age": 53,
          "Cholesterol": 203,
          "ExerciseAngina": 1,
          "FastingBS": 1,
          "HeartDisease": 1,
          "MaxHR": 155,
          "RestingBP": 140,
          "Sex": 1
         },
         {
          "Age": 39,
          "Cholesterol": 204,
          "ExerciseAngina": 0,
          "FastingBS": 0,
          "HeartDisease": 0,
          "MaxHR": 145,
          "RestingBP": 120,
          "Sex": 1
         },
         {
          "Age": 51,
          "Cholesterol": 152,
          "ExerciseAngina": 1,
          "FastingBS": 1,
          "HeartDisease": 1,
          "MaxHR": 130,
          "RestingBP": 131,
          "Sex": 1
         },
         {
          "Age": 59,
          "Cholesterol": 218,
          "ExerciseAngina": 0,
          "FastingBS": 1,
          "HeartDisease": 1,
          "MaxHR": 134,
          "RestingBP": 126,
          "Sex": 1
         },
         {
          "Age": 54,
          "Cholesterol": 201,
          "ExerciseAngina": 0,
          "FastingBS": 0,
          "HeartDisease": 0,
          "MaxHR": 163,
          "RestingBP": 160,
          "Sex": 0
         },
         {
          "Age": 56,
          "Cholesterol": 85,
          "ExerciseAngina": 0,
          "FastingBS": 0,
          "HeartDisease": 0,
          "MaxHR": 140,
          "RestingBP": 120,
          "Sex": 1
         },
         {
          "Age": 59,
          "Cholesterol": 169,
          "ExerciseAngina": 0,
          "FastingBS": 0,
          "HeartDisease": 0,
          "MaxHR": 140,
          "RestingBP": 140,
          "Sex": 1
         },
         {
          "Age": 51,
          "Cholesterol": 261,
          "ExerciseAngina": 1,
          "FastingBS": 0,
          "HeartDisease": 0,
          "MaxHR": 186,
          "RestingBP": 140,
          "Sex": 1
         },
         {
          "Age": 36,
          "Cholesterol": 160,
          "ExerciseAngina": 0,
          "FastingBS": 0,
          "HeartDisease": 0,
          "MaxHR": 172,
          "RestingBP": 150,
          "Sex": 1
         },
         {
          "Age": 58,
          "Cholesterol": 234,
          "ExerciseAngina": 0,
          "FastingBS": 0,
          "HeartDisease": 1,
          "MaxHR": 156,
          "RestingBP": 100,
          "Sex": 1
         },
         {
          "Age": 51,
          "Cholesterol": 218,
          "ExerciseAngina": 0,
          "FastingBS": 1,
          "HeartDisease": 0,
          "MaxHR": 139,
          "RestingBP": 132,
          "Sex": 1
         },
         {
          "Age": 64,
          "Cholesterol": 303,
          "ExerciseAngina": 0,
          "FastingBS": 0,
          "HeartDisease": 0,
          "MaxHR": 122,
          "RestingBP": 130,
          "Sex": 0
         },
         {
          "Age": 52,
          "Cholesterol": 225,
          "ExerciseAngina": 0,
          "FastingBS": 0,
          "HeartDisease": 0,
          "MaxHR": 140,
          "RestingBP": 140,
          "Sex": 0
         },
         {
          "Age": 63,
          "Cholesterol": 187,
          "ExerciseAngina": 1,
          "FastingBS": 0,
          "HeartDisease": 1,
          "MaxHR": 144,
          "RestingBP": 140,
          "Sex": 1
         },
         {
          "Age": 60,
          "Cholesterol": 195,
          "ExerciseAngina": 0,
          "FastingBS": 0,
          "HeartDisease": 0,
          "MaxHR": 126,
          "RestingBP": 136,
          "Sex": 1
         },
         {
          "Age": 53,
          "Cholesterol": 197,
          "ExerciseAngina": 0,
          "FastingBS": 1,
          "HeartDisease": 0,
          "MaxHR": 152,
          "RestingBP": 130,
          "Sex": 1
         },
         {
          "Age": 57,
          "Cholesterol": 311,
          "ExerciseAngina": 1,
          "FastingBS": 1,
          "HeartDisease": 1,
          "MaxHR": 148,
          "RestingBP": 130,
          "Sex": 1
         },
         {
          "Age": 66,
          "Cholesterol": 226,
          "ExerciseAngina": 0,
          "FastingBS": 0,
          "HeartDisease": 0,
          "MaxHR": 114,
          "RestingBP": 150,
          "Sex": 0
         },
         {
          "Age": 42,
          "Cholesterol": 240,
          "ExerciseAngina": 0,
          "FastingBS": 0,
          "HeartDisease": 0,
          "MaxHR": 160,
          "RestingBP": 134,
          "Sex": 1
         },
         {
          "Age": 50,
          "Cholesterol": 288,
          "ExerciseAngina": 1,
          "FastingBS": 0,
          "HeartDisease": 1,
          "MaxHR": 140,
          "RestingBP": 140,
          "Sex": 0
         },
         {
          "Age": 63,
          "Cholesterol": 269,
          "ExerciseAngina": 1,
          "FastingBS": 0,
          "HeartDisease": 1,
          "MaxHR": 169,
          "RestingBP": 108,
          "Sex": 0
         },
         {
          "Age": 58,
          "Cholesterol": 240,
          "ExerciseAngina": 1,
          "FastingBS": 0,
          "HeartDisease": 0,
          "MaxHR": 154,
          "RestingBP": 105,
          "Sex": 1
         },
         {
          "Age": 54,
          "Cholesterol": 273,
          "ExerciseAngina": 0,
          "FastingBS": 0,
          "HeartDisease": 0,
          "MaxHR": 150,
          "RestingBP": 120,
          "Sex": 0
         },
         {
          "Age": 46,
          "Cholesterol": 163,
          "ExerciseAngina": 0,
          "FastingBS": 0,
          "HeartDisease": 0,
          "MaxHR": 116,
          "RestingBP": 150,
          "Sex": 1
         },
         {
          "Age": 42,
          "Cholesterol": 315,
          "ExerciseAngina": 1,
          "FastingBS": 0,
          "HeartDisease": 1,
          "MaxHR": 125,
          "RestingBP": 136,
          "Sex": 1
         },
         {
          "Age": 39,
          "Cholesterol": 199,
          "ExerciseAngina": 0,
          "FastingBS": 0,
          "HeartDisease": 0,
          "MaxHR": 179,
          "RestingBP": 94,
          "Sex": 0
         },
         {
          "Age": 28,
          "Cholesterol": 132,
          "ExerciseAngina": 0,
          "FastingBS": 0,
          "HeartDisease": 0,
          "MaxHR": 185,
          "RestingBP": 130,
          "Sex": 1
         },
         {
          "Age": 41,
          "Cholesterol": 250,
          "ExerciseAngina": 0,
          "FastingBS": 0,
          "HeartDisease": 0,
          "MaxHR": 179,
          "RestingBP": 112,
          "Sex": 1
         },
         {
          "Age": 59,
          "Cholesterol": 338,
          "ExerciseAngina": 1,
          "FastingBS": 1,
          "HeartDisease": 1,
          "MaxHR": 130,
          "RestingBP": 130,
          "Sex": 0
         },
         {
          "Age": 67,
          "Cholesterol": 384,
          "ExerciseAngina": 1,
          "FastingBS": 1,
          "HeartDisease": 1,
          "MaxHR": 130,
          "RestingBP": 160,
          "Sex": 1
         },
         {
          "Age": 47,
          "Cholesterol": 257,
          "ExerciseAngina": 0,
          "FastingBS": 0,
          "HeartDisease": 0,
          "MaxHR": 135,
          "RestingBP": 140,
          "Sex": 0
         },
         {
          "Age": 56,
          "Cholesterol": 276,
          "ExerciseAngina": 1,
          "FastingBS": 0,
          "HeartDisease": 0,
          "MaxHR": 128,
          "RestingBP": 130,
          "Sex": 1
         },
         {
          "Age": 67,
          "Cholesterol": 212,
          "ExerciseAngina": 0,
          "FastingBS": 0,
          "HeartDisease": 1,
          "MaxHR": 150,
          "RestingBP": 152,
          "Sex": 1
         },
         {
          "Age": 58,
          "Cholesterol": 230,
          "ExerciseAngina": 0,
          "FastingBS": 0,
          "HeartDisease": 1,
          "MaxHR": 165,
          "RestingBP": 112,
          "Sex": 1
         },
         {
          "Age": 57,
          "Cholesterol": 354,
          "ExerciseAngina": 1,
          "FastingBS": 0,
          "HeartDisease": 0,
          "MaxHR": 163,
          "RestingBP": 120,
          "Sex": 0
         },
         {
          "Age": 29,
          "Cholesterol": 204,
          "ExerciseAngina": 0,
          "FastingBS": 0,
          "HeartDisease": 0,
          "MaxHR": 202,
          "RestingBP": 130,
          "Sex": 1
         },
         {
          "Age": 45,
          "Cholesterol": 308,
          "ExerciseAngina": 0,
          "FastingBS": 0,
          "HeartDisease": 0,
          "MaxHR": 170,
          "RestingBP": 128,
          "Sex": 1
         },
         {
          "Age": 53,
          "Cholesterol": 182,
          "ExerciseAngina": 0,
          "FastingBS": 0,
          "HeartDisease": 0,
          "MaxHR": 148,
          "RestingBP": 130,
          "Sex": 1
         },
         {
          "Age": 62,
          "Cholesterol": 139,
          "ExerciseAngina": 0,
          "FastingBS": 0,
          "HeartDisease": 0,
          "MaxHR": 137,
          "RestingBP": 135,
          "Sex": 1
         },
         {
          "Age": 39,
          "Cholesterol": 321,
          "ExerciseAngina": 0,
          "FastingBS": 0,
          "HeartDisease": 0,
          "MaxHR": 182,
          "RestingBP": 140,
          "Sex": 1
         },
         {
          "Age": 37,
          "Cholesterol": 223,
          "ExerciseAngina": 0,
          "FastingBS": 0,
          "HeartDisease": 0,
          "MaxHR": 168,
          "RestingBP": 120,
          "Sex": 1
         },
         {
          "Age": 59,
          "Cholesterol": 204,
          "ExerciseAngina": 0,
          "FastingBS": 0,
          "HeartDisease": 1,
          "MaxHR": 162,
          "RestingBP": 134,
          "Sex": 1
         },
         {
          "Age": 58,
          "Cholesterol": 224,
          "ExerciseAngina": 0,
          "FastingBS": 0,
          "HeartDisease": 1,
          "MaxHR": 173,
          "RestingBP": 132,
          "Sex": 1
         },
         {
          "Age": 38,
          "Cholesterol": 292,
          "ExerciseAngina": 0,
          "FastingBS": 0,
          "HeartDisease": 0,
          "MaxHR": 130,
          "RestingBP": 145,
          "Sex": 1
         },
         {
          "Age": 43,
          "Cholesterol": 247,
          "ExerciseAngina": 0,
          "FastingBS": 0,
          "HeartDisease": 0,
          "MaxHR": 171,
          "RestingBP": 150,
          "Sex": 1
         },
         {
          "Age": 64,
          "Cholesterol": 193,
          "ExerciseAngina": 1,
          "FastingBS": 0,
          "HeartDisease": 1,
          "MaxHR": 135,
          "RestingBP": 150,
          "Sex": 1
         },
         {
          "Age": 57,
          "Cholesterol": 201,
          "ExerciseAngina": 1,
          "FastingBS": 0,
          "HeartDisease": 0,
          "MaxHR": 126,
          "RestingBP": 110,
          "Sex": 1
         },
         {
          "Age": 43,
          "Cholesterol": 215,
          "ExerciseAngina": 0,
          "FastingBS": 0,
          "HeartDisease": 0,
          "MaxHR": 175,
          "RestingBP": 120,
          "Sex": 0
         },
         {
          "Age": 65,
          "Cholesterol": 269,
          "ExerciseAngina": 0,
          "FastingBS": 0,
          "HeartDisease": 0,
          "MaxHR": 148,
          "RestingBP": 155,
          "Sex": 0
         },
         {
          "Age": 39,
          "Cholesterol": 215,
          "ExerciseAngina": 0,
          "FastingBS": 0,
          "HeartDisease": 0,
          "MaxHR": 120,
          "RestingBP": 130,
          "Sex": 1
         },
         {
          "Age": 52,
          "Cholesterol": 246,
          "ExerciseAngina": 1,
          "FastingBS": 0,
          "HeartDisease": 1,
          "MaxHR": 82,
          "RestingBP": 160,
          "Sex": 1
         },
         {
          "Age": 53,
          "Cholesterol": 260,
          "ExerciseAngina": 1,
          "FastingBS": 0,
          "HeartDisease": 0,
          "MaxHR": 112,
          "RestingBP": 124,
          "Sex": 1
         },
         {
          "Age": 38,
          "Cholesterol": 289,
          "ExerciseAngina": 1,
          "FastingBS": 0,
          "HeartDisease": 1,
          "MaxHR": 105,
          "RestingBP": 110,
          "Sex": 1
         },
         {
          "Age": 47,
          "Cholesterol": 291,
          "ExerciseAngina": 1,
          "FastingBS": 0,
          "HeartDisease": 1,
          "MaxHR": 158,
          "RestingBP": 160,
          "Sex": 1
         },
         {
          "Age": 49,
          "Cholesterol": 180,
          "ExerciseAngina": 0,
          "FastingBS": 0,
          "HeartDisease": 1,
          "MaxHR": 156,
          "RestingBP": 160,
          "Sex": 0
         },
         {
          "Age": 55,
          "Cholesterol": 185,
          "ExerciseAngina": 0,
          "FastingBS": 0,
          "HeartDisease": 0,
          "MaxHR": 136,
          "RestingBP": 133,
          "Sex": 1
         },
         {
          "Age": 42,
          "Cholesterol": 265,
          "ExerciseAngina": 0,
          "FastingBS": 0,
          "HeartDisease": 0,
          "MaxHR": 122,
          "RestingBP": 102,
          "Sex": 0
         },
         {
          "Age": 45,
          "Cholesterol": 264,
          "ExerciseAngina": 0,
          "FastingBS": 0,
          "HeartDisease": 1,
          "MaxHR": 132,
          "RestingBP": 110,
          "Sex": 1
         },
         {
          "Age": 46,
          "Cholesterol": 243,
          "ExerciseAngina": 1,
          "FastingBS": 0,
          "HeartDisease": 0,
          "MaxHR": 152,
          "RestingBP": 138,
          "Sex": 0
         },
         {
          "Age": 65,
          "Cholesterol": 177,
          "ExerciseAngina": 0,
          "FastingBS": 0,
          "HeartDisease": 0,
          "MaxHR": 140,
          "RestingBP": 120,
          "Sex": 1
         },
         {
          "Age": 62,
          "Cholesterol": 170,
          "ExerciseAngina": 1,
          "FastingBS": 0,
          "HeartDisease": 1,
          "MaxHR": 138,
          "RestingBP": 158,
          "Sex": 1
         },
         {
          "Age": 44,
          "Cholesterol": 491,
          "ExerciseAngina": 0,
          "FastingBS": 0,
          "HeartDisease": 1,
          "MaxHR": 135,
          "RestingBP": 135,
          "Sex": 1
         },
         {
          "Age": 48,
          "Cholesterol": 229,
          "ExerciseAngina": 0,
          "FastingBS": 0,
          "HeartDisease": 1,
          "MaxHR": 168,
          "RestingBP": 110,
          "Sex": 1
         },
         {
          "Age": 34,
          "Cholesterol": 156,
          "ExerciseAngina": 0,
          "FastingBS": 0,
          "HeartDisease": 1,
          "MaxHR": 180,
          "RestingBP": 140,
          "Sex": 1
         },
         {
          "Age": 49,
          "Cholesterol": 297,
          "ExerciseAngina": 0,
          "FastingBS": 0,
          "HeartDisease": 0,
          "MaxHR": 132,
          "RestingBP": 120,
          "Sex": 1
         },
         {
          "Age": 45,
          "Cholesterol": 234,
          "ExerciseAngina": 0,
          "FastingBS": 0,
          "HeartDisease": 0,
          "MaxHR": 175,
          "RestingBP": 130,
          "Sex": 0
         },
         {
          "Age": 68,
          "Cholesterol": 181,
          "ExerciseAngina": 0,
          "FastingBS": 1,
          "HeartDisease": 0,
          "MaxHR": 135,
          "RestingBP": 139,
          "Sex": 1
         },
         {
          "Age": 74,
          "Cholesterol": 237,
          "ExerciseAngina": 0,
          "FastingBS": 1,
          "HeartDisease": 1,
          "MaxHR": 94,
          "RestingBP": 140,
          "Sex": 1
         },
         {
          "Age": 62,
          "Cholesterol": 258,
          "ExerciseAngina": 1,
          "FastingBS": 0,
          "HeartDisease": 1,
          "MaxHR": 150,
          "RestingBP": 112,
          "Sex": 1
         },
         {
          "Age": 55,
          "Cholesterol": 160,
          "ExerciseAngina": 0,
          "FastingBS": 0,
          "HeartDisease": 0,
          "MaxHR": 150,
          "RestingBP": 150,
          "Sex": 1
         },
         {
          "Age": 54,
          "Cholesterol": 239,
          "ExerciseAngina": 0,
          "FastingBS": 0,
          "HeartDisease": 0,
          "MaxHR": 160,
          "RestingBP": 140,
          "Sex": 1
         },
         {
          "Age": 55,
          "Cholesterol": 394,
          "ExerciseAngina": 0,
          "FastingBS": 0,
          "HeartDisease": 0,
          "MaxHR": 150,
          "RestingBP": 130,
          "Sex": 0
         },
         {
          "Age": 34,
          "Cholesterol": 182,
          "ExerciseAngina": 0,
          "FastingBS": 0,
          "HeartDisease": 0,
          "MaxHR": 174,
          "RestingBP": 118,
          "Sex": 1
         },
         {
          "Age": 75,
          "Cholesterol": 225,
          "ExerciseAngina": 1,
          "FastingBS": 0,
          "HeartDisease": 1,
          "MaxHR": 112,
          "RestingBP": 136,
          "Sex": 1
         },
         {
          "Age": 46,
          "Cholesterol": 238,
          "ExerciseAngina": 1,
          "FastingBS": 0,
          "HeartDisease": 0,
          "MaxHR": 140,
          "RestingBP": 110,
          "Sex": 1
         },
         {
          "Age": 66,
          "Cholesterol": 212,
          "ExerciseAngina": 1,
          "FastingBS": 0,
          "HeartDisease": 1,
          "MaxHR": 132,
          "RestingBP": 112,
          "Sex": 1
         },
         {
          "Age": 62,
          "Cholesterol": 254,
          "ExerciseAngina": 1,
          "FastingBS": 1,
          "HeartDisease": 1,
          "MaxHR": 108,
          "RestingBP": 160,
          "Sex": 1
         },
         {
          "Age": 54,
          "Cholesterol": 239,
          "ExerciseAngina": 1,
          "FastingBS": 0,
          "HeartDisease": 1,
          "MaxHR": 126,
          "RestingBP": 110,
          "Sex": 1
         },
         {
          "Age": 65,
          "Cholesterol": 248,
          "ExerciseAngina": 1,
          "FastingBS": 0,
          "HeartDisease": 1,
          "MaxHR": 140,
          "RestingBP": 136,
          "Sex": 1
         },
         {
          "Age": 39,
          "Cholesterol": 200,
          "ExerciseAngina": 1,
          "FastingBS": 0,
          "HeartDisease": 0,
          "MaxHR": 160,
          "RestingBP": 120,
          "Sex": 1
         },
         {
          "Age": 57,
          "Cholesterol": 277,
          "ExerciseAngina": 1,
          "FastingBS": 1,
          "HeartDisease": 1,
          "MaxHR": 118,
          "RestingBP": 139,
          "Sex": 1
         },
         {
          "Age": 35,
          "Cholesterol": 161,
          "ExerciseAngina": 0,
          "FastingBS": 0,
          "HeartDisease": 0,
          "MaxHR": 153,
          "RestingBP": 123,
          "Sex": 1
         },
         {
          "Age": 40,
          "Cholesterol": 466,
          "ExerciseAngina": 1,
          "FastingBS": 1,
          "HeartDisease": 1,
          "MaxHR": 152,
          "RestingBP": 120,
          "Sex": 1
         },
         {
          "Age": 63,
          "Cholesterol": 223,
          "ExerciseAngina": 0,
          "FastingBS": 0,
          "HeartDisease": 1,
          "MaxHR": 115,
          "RestingBP": 150,
          "Sex": 1
         },
         {
          "Age": 54,
          "Cholesterol": 195,
          "ExerciseAngina": 0,
          "FastingBS": 0,
          "HeartDisease": 0,
          "MaxHR": 122,
          "RestingBP": 150,
          "Sex": 1
         },
         {
          "Age": 42,
          "Cholesterol": 358,
          "ExerciseAngina": 0,
          "FastingBS": 0,
          "HeartDisease": 0,
          "MaxHR": 170,
          "RestingBP": 140,
          "Sex": 1
         },
         {
          "Age": 37,
          "Cholesterol": 211,
          "ExerciseAngina": 0,
          "FastingBS": 0,
          "HeartDisease": 0,
          "MaxHR": 142,
          "RestingBP": 130,
          "Sex": 0
         },
         {
          "Age": 57,
          "Cholesterol": 289,
          "ExerciseAngina": 0,
          "FastingBS": 1,
          "HeartDisease": 1,
          "MaxHR": 124,
          "RestingBP": 165,
          "Sex": 1
         },
         {
          "Age": 56,
          "Cholesterol": 221,
          "ExerciseAngina": 0,
          "FastingBS": 0,
          "HeartDisease": 0,
          "MaxHR": 163,
          "RestingBP": 130,
          "Sex": 1
         },
         {
          "Age": 48,
          "Cholesterol": 268,
          "ExerciseAngina": 1,
          "FastingBS": 0,
          "HeartDisease": 1,
          "MaxHR": 103,
          "RestingBP": 160,
          "Sex": 1
         },
         {
          "Age": 46,
          "Cholesterol": 249,
          "ExerciseAngina": 0,
          "FastingBS": 0,
          "HeartDisease": 1,
          "MaxHR": 144,
          "RestingBP": 120,
          "Sex": 1
         },
         {
          "Age": 49,
          "Cholesterol": 265,
          "ExerciseAngina": 0,
          "FastingBS": 0,
          "HeartDisease": 1,
          "MaxHR": 175,
          "RestingBP": 115,
          "Sex": 1
         },
         {
          "Age": 74,
          "Cholesterol": 258,
          "ExerciseAngina": 1,
          "FastingBS": 1,
          "HeartDisease": 1,
          "MaxHR": 130,
          "RestingBP": 150,
          "Sex": 1
         },
         {
          "Age": 48,
          "Cholesterol": 222,
          "ExerciseAngina": 0,
          "FastingBS": 0,
          "HeartDisease": 0,
          "MaxHR": 186,
          "RestingBP": 122,
          "Sex": 1
         },
         {
          "Age": 51,
          "Cholesterol": 256,
          "ExerciseAngina": 0,
          "FastingBS": 0,
          "HeartDisease": 0,
          "MaxHR": 149,
          "RestingBP": 130,
          "Sex": 0
         },
         {
          "Age": 60,
          "Cholesterol": 248,
          "ExerciseAngina": 0,
          "FastingBS": 0,
          "HeartDisease": 1,
          "MaxHR": 125,
          "RestingBP": 100,
          "Sex": 1
         },
         {
          "Age": 46,
          "Cholesterol": 236,
          "ExerciseAngina": 1,
          "FastingBS": 0,
          "HeartDisease": 1,
          "MaxHR": 125,
          "RestingBP": 110,
          "Sex": 1
         },
         {
          "Age": 65,
          "Cholesterol": 263,
          "ExerciseAngina": 1,
          "FastingBS": 1,
          "HeartDisease": 1,
          "MaxHR": 112,
          "RestingBP": 170,
          "Sex": 1
         },
         {
          "Age": 41,
          "Cholesterol": 336,
          "ExerciseAngina": 1,
          "FastingBS": 0,
          "HeartDisease": 1,
          "MaxHR": 118,
          "RestingBP": 120,
          "Sex": 1
         },
         {
          "Age": 55,
          "Cholesterol": 223,
          "ExerciseAngina": 0,
          "FastingBS": 1,
          "HeartDisease": 1,
          "MaxHR": 100,
          "RestingBP": 122,
          "Sex": 1
         },
         {
          "Age": 54,
          "Cholesterol": 294,
          "ExerciseAngina": 1,
          "FastingBS": 0,
          "HeartDisease": 1,
          "MaxHR": 100,
          "RestingBP": 130,
          "Sex": 0
         },
         {
          "Age": 42,
          "Cholesterol": 244,
          "ExerciseAngina": 0,
          "FastingBS": 0,
          "HeartDisease": 0,
          "MaxHR": 178,
          "RestingBP": 148,
          "Sex": 1
         },
         {
          "Age": 59,
          "Cholesterol": 318,
          "ExerciseAngina": 1,
          "FastingBS": 0,
          "HeartDisease": 0,
          "MaxHR": 120,
          "RestingBP": 130,
          "Sex": 1
         },
         {
          "Age": 56,
          "Cholesterol": 213,
          "ExerciseAngina": 1,
          "FastingBS": 1,
          "HeartDisease": 1,
          "MaxHR": 125,
          "RestingBP": 150,
          "Sex": 1
         },
         {
          "Age": 56,
          "Cholesterol": 193,
          "ExerciseAngina": 0,
          "FastingBS": 0,
          "HeartDisease": 0,
          "MaxHR": 162,
          "RestingBP": 120,
          "Sex": 1
         },
         {
          "Age": 58,
          "Cholesterol": 283,
          "ExerciseAngina": 0,
          "FastingBS": 1,
          "HeartDisease": 0,
          "MaxHR": 162,
          "RestingBP": 150,
          "Sex": 0
         },
         {
          "Age": 41,
          "Cholesterol": 172,
          "ExerciseAngina": 0,
          "FastingBS": 0,
          "HeartDisease": 1,
          "MaxHR": 158,
          "RestingBP": 110,
          "Sex": 1
         },
         {
          "Age": 42,
          "Cholesterol": 268,
          "ExerciseAngina": 0,
          "FastingBS": 0,
          "HeartDisease": 0,
          "MaxHR": 136,
          "RestingBP": 150,
          "Sex": 1
         },
         {
          "Age": 64,
          "Cholesterol": 325,
          "ExerciseAngina": 1,
          "FastingBS": 0,
          "HeartDisease": 0,
          "MaxHR": 154,
          "RestingBP": 180,
          "Sex": 0
         },
         {
          "Age": 38,
          "Cholesterol": 282,
          "ExerciseAngina": 0,
          "FastingBS": 0,
          "HeartDisease": 1,
          "MaxHR": 170,
          "RestingBP": 120,
          "Sex": 1
         },
         {
          "Age": 54,
          "Cholesterol": 238,
          "ExerciseAngina": 0,
          "FastingBS": 0,
          "HeartDisease": 0,
          "MaxHR": 154,
          "RestingBP": 120,
          "Sex": 1
         },
         {
          "Age": 52,
          "Cholesterol": 199,
          "ExerciseAngina": 0,
          "FastingBS": 1,
          "HeartDisease": 0,
          "MaxHR": 162,
          "RestingBP": 172,
          "Sex": 1
         },
         {
          "Age": 44,
          "Cholesterol": 197,
          "ExerciseAngina": 0,
          "FastingBS": 0,
          "HeartDisease": 1,
          "MaxHR": 177,
          "RestingBP": 110,
          "Sex": 1
         },
         {
          "Age": 44,
          "Cholesterol": 235,
          "ExerciseAngina": 0,
          "FastingBS": 0,
          "HeartDisease": 0,
          "MaxHR": 180,
          "RestingBP": 140,
          "Sex": 1
         },
         {
          "Age": 43,
          "Cholesterol": 266,
          "ExerciseAngina": 0,
          "FastingBS": 0,
          "HeartDisease": 0,
          "MaxHR": 118,
          "RestingBP": 120,
          "Sex": 0
         },
         {
          "Age": 42,
          "Cholesterol": 211,
          "ExerciseAngina": 0,
          "FastingBS": 0,
          "HeartDisease": 0,
          "MaxHR": 137,
          "RestingBP": 115,
          "Sex": 0
         },
         {
          "Age": 43,
          "Cholesterol": 303,
          "ExerciseAngina": 0,
          "FastingBS": 0,
          "HeartDisease": 0,
          "MaxHR": 181,
          "RestingBP": 115,
          "Sex": 1
         },
         {
          "Age": 51,
          "Cholesterol": 298,
          "ExerciseAngina": 1,
          "FastingBS": 0,
          "HeartDisease": 1,
          "MaxHR": 122,
          "RestingBP": 140,
          "Sex": 1
         },
         {
          "Age": 70,
          "Cholesterol": 192,
          "ExerciseAngina": 1,
          "FastingBS": 0,
          "HeartDisease": 1,
          "MaxHR": 129,
          "RestingBP": 170,
          "Sex": 1
         },
         {
          "Age": 46,
          "Cholesterol": 311,
          "ExerciseAngina": 1,
          "FastingBS": 0,
          "HeartDisease": 1,
          "MaxHR": 120,
          "RestingBP": 140,
          "Sex": 1
         },
         {
          "Age": 59,
          "Cholesterol": 213,
          "ExerciseAngina": 0,
          "FastingBS": 0,
          "HeartDisease": 0,
          "MaxHR": 100,
          "RestingBP": 180,
          "Sex": 1
         },
         {
          "Age": 51,
          "Cholesterol": 200,
          "ExerciseAngina": 0,
          "FastingBS": 0,
          "HeartDisease": 0,
          "MaxHR": 120,
          "RestingBP": 150,
          "Sex": 0
         },
         {
          "Age": 48,
          "Cholesterol": 214,
          "ExerciseAngina": 1,
          "FastingBS": 0,
          "HeartDisease": 1,
          "MaxHR": 108,
          "RestingBP": 138,
          "Sex": 0
         },
         {
          "Age": 35,
          "Cholesterol": 192,
          "ExerciseAngina": 0,
          "FastingBS": 0,
          "HeartDisease": 0,
          "MaxHR": 174,
          "RestingBP": 122,
          "Sex": 1
         },
         {
          "Age": 54,
          "Cholesterol": 214,
          "ExerciseAngina": 0,
          "FastingBS": 0,
          "HeartDisease": 0,
          "MaxHR": 158,
          "RestingBP": 110,
          "Sex": 0
         },
         {
          "Age": 43,
          "Cholesterol": 247,
          "ExerciseAngina": 1,
          "FastingBS": 0,
          "HeartDisease": 1,
          "MaxHR": 130,
          "RestingBP": 150,
          "Sex": 1
         },
         {
          "Age": 62,
          "Cholesterol": 193,
          "ExerciseAngina": 0,
          "FastingBS": 0,
          "HeartDisease": 0,
          "MaxHR": 116,
          "RestingBP": 160,
          "Sex": 0
         },
         {
          "Age": 60,
          "Cholesterol": 240,
          "ExerciseAngina": 0,
          "FastingBS": 0,
          "HeartDisease": 0,
          "MaxHR": 171,
          "RestingBP": 150,
          "Sex": 0
         },
         {
          "Age": 63,
          "Cholesterol": 260,
          "ExerciseAngina": 1,
          "FastingBS": 0,
          "HeartDisease": 1,
          "MaxHR": 112,
          "RestingBP": 140,
          "Sex": 1
         },
         {
          "Age": 32,
          "Cholesterol": 529,
          "ExerciseAngina": 0,
          "FastingBS": 0,
          "HeartDisease": 1,
          "MaxHR": 130,
          "RestingBP": 118,
          "Sex": 1
         },
         {
          "Age": 56,
          "Cholesterol": 283,
          "ExerciseAngina": 1,
          "FastingBS": 1,
          "HeartDisease": 1,
          "MaxHR": 103,
          "RestingBP": 130,
          "Sex": 1
         },
         {
          "Age": 74,
          "Cholesterol": 310,
          "ExerciseAngina": 1,
          "FastingBS": 0,
          "HeartDisease": 1,
          "MaxHR": 112,
          "RestingBP": 155,
          "Sex": 1
         },
         {
          "Age": 58,
          "Cholesterol": 319,
          "ExerciseAngina": 0,
          "FastingBS": 1,
          "HeartDisease": 1,
          "MaxHR": 152,
          "RestingBP": 136,
          "Sex": 0
         },
         {
          "Age": 54,
          "Cholesterol": 237,
          "ExerciseAngina": 1,
          "FastingBS": 0,
          "HeartDisease": 1,
          "MaxHR": 150,
          "RestingBP": 120,
          "Sex": 1
         },
         {
          "Age": 58,
          "Cholesterol": 219,
          "ExerciseAngina": 1,
          "FastingBS": 0,
          "HeartDisease": 1,
          "MaxHR": 118,
          "RestingBP": 150,
          "Sex": 1
         },
         {
          "Age": 69,
          "Cholesterol": 208,
          "ExerciseAngina": 1,
          "FastingBS": 0,
          "HeartDisease": 1,
          "MaxHR": 140,
          "RestingBP": 140,
          "Sex": 1
         },
         {
          "Age": 72,
          "Cholesterol": 214,
          "ExerciseAngina": 1,
          "FastingBS": 0,
          "HeartDisease": 1,
          "MaxHR": 102,
          "RestingBP": 120,
          "Sex": 1
         },
         {
          "Age": 59,
          "Cholesterol": 326,
          "ExerciseAngina": 1,
          "FastingBS": 0,
          "HeartDisease": 1,
          "MaxHR": 140,
          "RestingBP": 170,
          "Sex": 1
         },
         {
          "Age": 47,
          "Cholesterol": 248,
          "ExerciseAngina": 0,
          "FastingBS": 1,
          "HeartDisease": 1,
          "MaxHR": 170,
          "RestingBP": 135,
          "Sex": 0
         },
         {
          "Age": 62,
          "Cholesterol": 254,
          "ExerciseAngina": 1,
          "FastingBS": 0,
          "HeartDisease": 1,
          "MaxHR": 93,
          "RestingBP": 120,
          "Sex": 1
         },
         {
          "Age": 48,
          "Cholesterol": 220,
          "ExerciseAngina": 0,
          "FastingBS": 1,
          "HeartDisease": 1,
          "MaxHR": 162,
          "RestingBP": 132,
          "Sex": 1
         },
         {
          "Age": 44,
          "Cholesterol": 290,
          "ExerciseAngina": 1,
          "FastingBS": 0,
          "HeartDisease": 1,
          "MaxHR": 100,
          "RestingBP": 130,
          "Sex": 1
         },
         {
          "Age": 68,
          "Cholesterol": 274,
          "ExerciseAngina": 1,
          "FastingBS": 1,
          "HeartDisease": 1,
          "MaxHR": 150,
          "RestingBP": 180,
          "Sex": 1
         },
         {
          "Age": 53,
          "Cholesterol": 518,
          "ExerciseAngina": 0,
          "FastingBS": 0,
          "HeartDisease": 1,
          "MaxHR": 130,
          "RestingBP": 145,
          "Sex": 1
         },
         {
          "Age": 41,
          "Cholesterol": 291,
          "ExerciseAngina": 0,
          "FastingBS": 0,
          "HeartDisease": 0,
          "MaxHR": 160,
          "RestingBP": 120,
          "Sex": 1
         },
         {
          "Age": 41,
          "Cholesterol": 250,
          "ExerciseAngina": 0,
          "FastingBS": 0,
          "HeartDisease": 0,
          "MaxHR": 142,
          "RestingBP": 112,
          "Sex": 1
         },
         {
          "Age": 54,
          "Cholesterol": 253,
          "ExerciseAngina": 0,
          "FastingBS": 0,
          "HeartDisease": 0,
          "MaxHR": 155,
          "RestingBP": 130,
          "Sex": 0
         },
         {
          "Age": 65,
          "Cholesterol": 248,
          "ExerciseAngina": 0,
          "FastingBS": 0,
          "HeartDisease": 1,
          "MaxHR": 158,
          "RestingBP": 110,
          "Sex": 1
         },
         {
          "Age": 43,
          "Cholesterol": 213,
          "ExerciseAngina": 0,
          "FastingBS": 0,
          "HeartDisease": 0,
          "MaxHR": 165,
          "RestingBP": 122,
          "Sex": 0
         },
         {
          "Age": 65,
          "Cholesterol": 254,
          "ExerciseAngina": 0,
          "FastingBS": 0,
          "HeartDisease": 1,
          "MaxHR": 127,
          "RestingBP": 135,
          "Sex": 1
         },
         {
          "Age": 61,
          "Cholesterol": 298,
          "ExerciseAngina": 1,
          "FastingBS": 1,
          "HeartDisease": 0,
          "MaxHR": 120,
          "RestingBP": 140,
          "Sex": 0
         },
         {
          "Age": 56,
          "Cholesterol": 184,
          "ExerciseAngina": 0,
          "FastingBS": 0,
          "HeartDisease": 0,
          "MaxHR": 100,
          "RestingBP": 130,
          "Sex": 1
         },
         {
          "Age": 41,
          "Cholesterol": 245,
          "ExerciseAngina": 0,
          "FastingBS": 0,
          "HeartDisease": 0,
          "MaxHR": 150,
          "RestingBP": 130,
          "Sex": 0
         },
         {
          "Age": 44,
          "Cholesterol": 209,
          "ExerciseAngina": 0,
          "FastingBS": 0,
          "HeartDisease": 0,
          "MaxHR": 127,
          "RestingBP": 130,
          "Sex": 1
         },
         {
          "Age": 57,
          "Cholesterol": 335,
          "ExerciseAngina": 1,
          "FastingBS": 0,
          "HeartDisease": 1,
          "MaxHR": 143,
          "RestingBP": 110,
          "Sex": 1
         }
        ]
       },
       "encoding": {
        "fill": {
         "field": "HeartDisease",
         "title": "Heart Disease",
         "type": "nominal"
        },
        "x": {
         "bin": {
          "maxbins": 30
         },
         "field": "RestingBP",
         "scale": {
          "zero": false
         },
         "title": "Resting Blood Pressure (mm/Hg)",
         "type": "quantitative"
        },
        "y": {
         "aggregate": "count",
         "field": "HeartDisease",
         "title": "Number of Heart Diagnoses",
         "type": "quantitative"
        }
       },
       "mark": "bar"
      },
      "image/png": "[encoded data removed]",
      "text/plain": [
       "<VegaLite 4 object>\n",
       "\n",
       "If you see this message, it means the renderer has not been properly enabled\n",
       "for the frontend that you are using. For more information, see\n",
       "https://altair-viz.github.io/user_guide/troubleshooting.html\n"
      ]
     },
     "execution_count": 9,
     "metadata": {},
     "output_type": "execute_result"
    }
   ],
   "source": [
    "restbp_plot"
   ]
  },
  {
   "cell_type": "markdown",
   "id": "945dc850-73f2-402a-9934-b8754daeb70d",
   "metadata": {},
   "source": [
    "As seen in the plot above, in patients with moderate resting blood pressures, heart disease is not seemingly strongly correlated with resting blood pressures (there are roughly the same number of diseased and not diseased patients with average resting blood pressures levels). However, in higher resting blood pressures (greater than 135mm/Hg especially), there is a potential connection between resting blood pressures and the presence of heart disease. For this reason, resting blood pressures will be included in the classifier."
   ]
  },
  {
   "cell_type": "code",
   "execution_count": 10,
   "id": "8f62dfaa-2059-4b28-81e6-f3169bd9af50",
   "metadata": {},
   "outputs": [
    {
     "data": {
      "application/vnd.vegalite.v4+json": {
       "$schema": "https://vega.github.io/schema/vega-lite/v4.17.0.json",
       "config": {
        "axis": {
         "labelFontSize": 16,
         "titleFontSize": 20
        },
        "view": {
         "continuousHeight": 300,
         "continuousWidth": 400
        }
       },
       "data": {
        "name": "data-965f26aaa0a06bf333f272b0ffb5f3a8"
       },
       "datasets": {
        "data-965f26aaa0a06bf333f272b0ffb5f3a8": [
         {
          "Age": 58,
          "Cholesterol": 256,
          "ExerciseAngina": 1,
          "FastingBS": 1,
          "HeartDisease": 1,
          "MaxHR": 113,
          "RestingBP": 160,
          "Sex": 1
         },
         {
          "Age": 37,
          "Cholesterol": 250,
          "ExerciseAngina": 0,
          "FastingBS": 0,
          "HeartDisease": 0,
          "MaxHR": 187,
          "RestingBP": 130,
          "Sex": 1
         },
         {
          "Age": 57,
          "Cholesterol": 308,
          "ExerciseAngina": 0,
          "FastingBS": 0,
          "HeartDisease": 0,
          "MaxHR": 98,
          "RestingBP": 130,
          "Sex": 0
         },
         {
          "Age": 45,
          "Cholesterol": 224,
          "ExerciseAngina": 0,
          "FastingBS": 0,
          "HeartDisease": 0,
          "MaxHR": 144,
          "RestingBP": 140,
          "Sex": 1
         },
         {
          "Age": 49,
          "Cholesterol": 271,
          "ExerciseAngina": 0,
          "FastingBS": 0,
          "HeartDisease": 0,
          "MaxHR": 162,
          "RestingBP": 134,
          "Sex": 0
         },
         {
          "Age": 49,
          "Cholesterol": 222,
          "ExerciseAngina": 0,
          "FastingBS": 0,
          "HeartDisease": 1,
          "MaxHR": 122,
          "RestingBP": 150,
          "Sex": 1
         },
         {
          "Age": 51,
          "Cholesterol": 224,
          "ExerciseAngina": 0,
          "FastingBS": 0,
          "HeartDisease": 0,
          "MaxHR": 150,
          "RestingBP": 130,
          "Sex": 1
         },
         {
          "Age": 54,
          "Cholesterol": 333,
          "ExerciseAngina": 0,
          "FastingBS": 1,
          "HeartDisease": 1,
          "MaxHR": 154,
          "RestingBP": 127,
          "Sex": 0
         },
         {
          "Age": 52,
          "Cholesterol": 100,
          "ExerciseAngina": 1,
          "FastingBS": 0,
          "HeartDisease": 0,
          "MaxHR": 138,
          "RestingBP": 140,
          "Sex": 1
         },
         {
          "Age": 51,
          "Cholesterol": 220,
          "ExerciseAngina": 1,
          "FastingBS": 0,
          "HeartDisease": 0,
          "MaxHR": 160,
          "RestingBP": 130,
          "Sex": 0
         },
         {
          "Age": 46,
          "Cholesterol": 177,
          "ExerciseAngina": 1,
          "FastingBS": 0,
          "HeartDisease": 0,
          "MaxHR": 160,
          "RestingBP": 142,
          "Sex": 0
         },
         {
          "Age": 67,
          "Cholesterol": 270,
          "ExerciseAngina": 0,
          "FastingBS": 1,
          "HeartDisease": 1,
          "MaxHR": 125,
          "RestingBP": 142,
          "Sex": 1
         },
         {
          "Age": 53,
          "Cholesterol": 243,
          "ExerciseAngina": 1,
          "FastingBS": 0,
          "HeartDisease": 1,
          "MaxHR": 122,
          "RestingBP": 124,
          "Sex": 1
         },
         {
          "Age": 60,
          "Cholesterol": 206,
          "ExerciseAngina": 1,
          "FastingBS": 0,
          "HeartDisease": 1,
          "MaxHR": 132,
          "RestingBP": 130,
          "Sex": 1
         },
         {
          "Age": 38,
          "Cholesterol": 231,
          "ExerciseAngina": 1,
          "FastingBS": 0,
          "HeartDisease": 1,
          "MaxHR": 182,
          "RestingBP": 120,
          "Sex": 1
         },
         {
          "Age": 49,
          "Cholesterol": 269,
          "ExerciseAngina": 0,
          "FastingBS": 0,
          "HeartDisease": 0,
          "MaxHR": 163,
          "RestingBP": 130,
          "Sex": 0
         },
         {
          "Age": 43,
          "Cholesterol": 175,
          "ExerciseAngina": 1,
          "FastingBS": 0,
          "HeartDisease": 1,
          "MaxHR": 120,
          "RestingBP": 120,
          "Sex": 1
         },
         {
          "Age": 59,
          "Cholesterol": 264,
          "ExerciseAngina": 1,
          "FastingBS": 1,
          "HeartDisease": 1,
          "MaxHR": 119,
          "RestingBP": 140,
          "Sex": 1
         },
         {
          "Age": 55,
          "Cholesterol": 228,
          "ExerciseAngina": 1,
          "FastingBS": 0,
          "HeartDisease": 1,
          "MaxHR": 149,
          "RestingBP": 142,
          "Sex": 1
         },
         {
          "Age": 38,
          "Cholesterol": 297,
          "ExerciseAngina": 0,
          "FastingBS": 0,
          "HeartDisease": 0,
          "MaxHR": 150,
          "RestingBP": 140,
          "Sex": 1
         },
         {
          "Age": 56,
          "Cholesterol": 224,
          "ExerciseAngina": 0,
          "FastingBS": 1,
          "HeartDisease": 0,
          "MaxHR": 161,
          "RestingBP": 124,
          "Sex": 1
         },
         {
          "Age": 38,
          "Cholesterol": 117,
          "ExerciseAngina": 1,
          "FastingBS": 0,
          "HeartDisease": 1,
          "MaxHR": 134,
          "RestingBP": 92,
          "Sex": 1
         },
         {
          "Age": 55,
          "Cholesterol": 289,
          "ExerciseAngina": 1,
          "FastingBS": 0,
          "HeartDisease": 1,
          "MaxHR": 145,
          "RestingBP": 160,
          "Sex": 1
         },
         {
          "Age": 54,
          "Cholesterol": 202,
          "ExerciseAngina": 1,
          "FastingBS": 1,
          "HeartDisease": 1,
          "MaxHR": 112,
          "RestingBP": 130,
          "Sex": 1
         },
         {
          "Age": 46,
          "Cholesterol": 222,
          "ExerciseAngina": 0,
          "FastingBS": 0,
          "HeartDisease": 1,
          "MaxHR": 112,
          "RestingBP": 130,
          "Sex": 1
         },
         {
          "Age": 75,
          "Cholesterol": 203,
          "ExerciseAngina": 0,
          "FastingBS": 1,
          "HeartDisease": 1,
          "MaxHR": 108,
          "RestingBP": 170,
          "Sex": 1
         },
         {
          "Age": 56,
          "Cholesterol": 100,
          "ExerciseAngina": 1,
          "FastingBS": 0,
          "HeartDisease": 1,
          "MaxHR": 120,
          "RestingBP": 120,
          "Sex": 1
         },
         {
          "Age": 64,
          "Cholesterol": 227,
          "ExerciseAngina": 0,
          "FastingBS": 0,
          "HeartDisease": 0,
          "MaxHR": 155,
          "RestingBP": 170,
          "Sex": 1
         },
         {
          "Age": 48,
          "Cholesterol": 227,
          "ExerciseAngina": 1,
          "FastingBS": 0,
          "HeartDisease": 0,
          "MaxHR": 130,
          "RestingBP": 150,
          "Sex": 0
         },
         {
          "Age": 57,
          "Cholesterol": 214,
          "ExerciseAngina": 1,
          "FastingBS": 0,
          "HeartDisease": 1,
          "MaxHR": 144,
          "RestingBP": 140,
          "Sex": 1
         },
         {
          "Age": 49,
          "Cholesterol": 187,
          "ExerciseAngina": 0,
          "FastingBS": 0,
          "HeartDisease": 0,
          "MaxHR": 172,
          "RestingBP": 140,
          "Sex": 1
         },
         {
          "Age": 40,
          "Cholesterol": 235,
          "ExerciseAngina": 0,
          "FastingBS": 0,
          "HeartDisease": 0,
          "MaxHR": 188,
          "RestingBP": 140,
          "Sex": 1
         },
         {
          "Age": 54,
          "Cholesterol": 309,
          "ExerciseAngina": 0,
          "FastingBS": 0,
          "HeartDisease": 0,
          "MaxHR": 156,
          "RestingBP": 108,
          "Sex": 1
         },
         {
          "Age": 55,
          "Cholesterol": 245,
          "ExerciseAngina": 1,
          "FastingBS": 1,
          "HeartDisease": 1,
          "MaxHR": 131,
          "RestingBP": 136,
          "Sex": 1
         },
         {
          "Age": 47,
          "Cholesterol": 204,
          "ExerciseAngina": 0,
          "FastingBS": 0,
          "HeartDisease": 0,
          "MaxHR": 143,
          "RestingBP": 112,
          "Sex": 1
         },
         {
          "Age": 52,
          "Cholesterol": 325,
          "ExerciseAngina": 0,
          "FastingBS": 0,
          "HeartDisease": 0,
          "MaxHR": 172,
          "RestingBP": 120,
          "Sex": 1
         },
         {
          "Age": 58,
          "Cholesterol": 222,
          "ExerciseAngina": 0,
          "FastingBS": 0,
          "HeartDisease": 0,
          "MaxHR": 100,
          "RestingBP": 135,
          "Sex": 1
         },
         {
          "Age": 40,
          "Cholesterol": 240,
          "ExerciseAngina": 1,
          "FastingBS": 0,
          "HeartDisease": 0,
          "MaxHR": 80,
          "RestingBP": 106,
          "Sex": 1
         },
         {
          "Age": 77,
          "Cholesterol": 171,
          "ExerciseAngina": 1,
          "FastingBS": 0,
          "HeartDisease": 1,
          "MaxHR": 110,
          "RestingBP": 124,
          "Sex": 1
         },
         {
          "Age": 37,
          "Cholesterol": 260,
          "ExerciseAngina": 0,
          "FastingBS": 0,
          "HeartDisease": 0,
          "MaxHR": 130,
          "RestingBP": 120,
          "Sex": 0
         },
         {
          "Age": 61,
          "Cholesterol": 200,
          "ExerciseAngina": 0,
          "FastingBS": 1,
          "HeartDisease": 1,
          "MaxHR": 100,
          "RestingBP": 142,
          "Sex": 1
         },
         {
          "Age": 43,
          "Cholesterol": 223,
          "ExerciseAngina": 0,
          "FastingBS": 0,
          "HeartDisease": 0,
          "MaxHR": 142,
          "RestingBP": 100,
          "Sex": 0
         },
         {
          "Age": 55,
          "Cholesterol": 217,
          "ExerciseAngina": 1,
          "FastingBS": 0,
          "HeartDisease": 1,
          "MaxHR": 110,
          "RestingBP": 158,
          "Sex": 1
         },
         {
          "Age": 59,
          "Cholesterol": 176,
          "ExerciseAngina": 0,
          "FastingBS": 1,
          "HeartDisease": 1,
          "MaxHR": 90,
          "RestingBP": 164,
          "Sex": 1
         },
         {
          "Age": 35,
          "Cholesterol": 167,
          "ExerciseAngina": 0,
          "FastingBS": 0,
          "HeartDisease": 0,
          "MaxHR": 150,
          "RestingBP": 140,
          "Sex": 0
         },
         {
          "Age": 51,
          "Cholesterol": 305,
          "ExerciseAngina": 1,
          "FastingBS": 0,
          "HeartDisease": 1,
          "MaxHR": 142,
          "RestingBP": 130,
          "Sex": 0
         },
         {
          "Age": 52,
          "Cholesterol": 210,
          "ExerciseAngina": 0,
          "FastingBS": 0,
          "HeartDisease": 0,
          "MaxHR": 148,
          "RestingBP": 120,
          "Sex": 0
         },
         {
          "Age": 51,
          "Cholesterol": 190,
          "ExerciseAngina": 0,
          "FastingBS": 0,
          "HeartDisease": 0,
          "MaxHR": 120,
          "RestingBP": 110,
          "Sex": 0
         },
         {
          "Age": 41,
          "Cholesterol": 203,
          "ExerciseAngina": 0,
          "FastingBS": 0,
          "HeartDisease": 0,
          "MaxHR": 132,
          "RestingBP": 135,
          "Sex": 1
         },
         {
          "Age": 59,
          "Cholesterol": 270,
          "ExerciseAngina": 0,
          "FastingBS": 0,
          "HeartDisease": 0,
          "MaxHR": 145,
          "RestingBP": 178,
          "Sex": 1
         },
         {
          "Age": 47,
          "Cholesterol": 243,
          "ExerciseAngina": 0,
          "FastingBS": 0,
          "HeartDisease": 1,
          "MaxHR": 152,
          "RestingBP": 108,
          "Sex": 1
         },
         {
          "Age": 32,
          "Cholesterol": 225,
          "ExerciseAngina": 0,
          "FastingBS": 0,
          "HeartDisease": 0,
          "MaxHR": 184,
          "RestingBP": 110,
          "Sex": 1
         },
         {
          "Age": 63,
          "Cholesterol": 233,
          "ExerciseAngina": 0,
          "FastingBS": 1,
          "HeartDisease": 0,
          "MaxHR": 150,
          "RestingBP": 145,
          "Sex": 1
         },
         {
          "Age": 55,
          "Cholesterol": 353,
          "ExerciseAngina": 1,
          "FastingBS": 0,
          "HeartDisease": 1,
          "MaxHR": 132,
          "RestingBP": 132,
          "Sex": 1
         },
         {
          "Age": 50,
          "Cholesterol": 219,
          "ExerciseAngina": 0,
          "FastingBS": 0,
          "HeartDisease": 0,
          "MaxHR": 158,
          "RestingBP": 120,
          "Sex": 0
         },
         {
          "Age": 61,
          "Cholesterol": 241,
          "ExerciseAngina": 1,
          "FastingBS": 0,
          "HeartDisease": 1,
          "MaxHR": 148,
          "RestingBP": 146,
          "Sex": 1
         },
         {
          "Age": 54,
          "Cholesterol": 230,
          "ExerciseAngina": 0,
          "FastingBS": 0,
          "HeartDisease": 0,
          "MaxHR": 130,
          "RestingBP": 150,
          "Sex": 0
         },
         {
          "Age": 54,
          "Cholesterol": 603,
          "ExerciseAngina": 1,
          "FastingBS": 1,
          "HeartDisease": 1,
          "MaxHR": 125,
          "RestingBP": 130,
          "Sex": 1
         },
         {
          "Age": 58,
          "Cholesterol": 263,
          "ExerciseAngina": 1,
          "FastingBS": 0,
          "HeartDisease": 1,
          "MaxHR": 140,
          "RestingBP": 130,
          "Sex": 1
         },
         {
          "Age": 40,
          "Cholesterol": 223,
          "ExerciseAngina": 0,
          "FastingBS": 0,
          "HeartDisease": 1,
          "MaxHR": 181,
          "RestingBP": 152,
          "Sex": 1
         },
         {
          "Age": 35,
          "Cholesterol": 308,
          "ExerciseAngina": 0,
          "FastingBS": 0,
          "HeartDisease": 0,
          "MaxHR": 180,
          "RestingBP": 120,
          "Sex": 1
         },
         {
          "Age": 52,
          "Cholesterol": 342,
          "ExerciseAngina": 1,
          "FastingBS": 0,
          "HeartDisease": 1,
          "MaxHR": 96,
          "RestingBP": 112,
          "Sex": 1
         },
         {
          "Age": 49,
          "Cholesterol": 234,
          "ExerciseAngina": 1,
          "FastingBS": 0,
          "HeartDisease": 1,
          "MaxHR": 140,
          "RestingBP": 140,
          "Sex": 1
         },
         {
          "Age": 48,
          "Cholesterol": 159,
          "ExerciseAngina": 0,
          "FastingBS": 0,
          "HeartDisease": 0,
          "MaxHR": 100,
          "RestingBP": 100,
          "Sex": 1
         },
         {
          "Age": 56,
          "Cholesterol": 249,
          "ExerciseAngina": 1,
          "FastingBS": 1,
          "HeartDisease": 1,
          "MaxHR": 144,
          "RestingBP": 125,
          "Sex": 1
         },
         {
          "Age": 35,
          "Cholesterol": 282,
          "ExerciseAngina": 1,
          "FastingBS": 0,
          "HeartDisease": 1,
          "MaxHR": 156,
          "RestingBP": 126,
          "Sex": 1
         },
         {
          "Age": 63,
          "Cholesterol": 230,
          "ExerciseAngina": 1,
          "FastingBS": 1,
          "HeartDisease": 1,
          "MaxHR": 105,
          "RestingBP": 160,
          "Sex": 1
         },
         {
          "Age": 58,
          "Cholesterol": 213,
          "ExerciseAngina": 0,
          "FastingBS": 0,
          "HeartDisease": 1,
          "MaxHR": 140,
          "RestingBP": 130,
          "Sex": 1
         },
         {
          "Age": 55,
          "Cholesterol": 201,
          "ExerciseAngina": 1,
          "FastingBS": 0,
          "HeartDisease": 1,
          "MaxHR": 130,
          "RestingBP": 140,
          "Sex": 1
         },
         {
          "Age": 58,
          "Cholesterol": 211,
          "ExerciseAngina": 0,
          "FastingBS": 1,
          "HeartDisease": 1,
          "MaxHR": 92,
          "RestingBP": 160,
          "Sex": 1
         },
         {
          "Age": 54,
          "Cholesterol": 266,
          "ExerciseAngina": 1,
          "FastingBS": 0,
          "HeartDisease": 1,
          "MaxHR": 109,
          "RestingBP": 124,
          "Sex": 1
         },
         {
          "Age": 70,
          "Cholesterol": 245,
          "ExerciseAngina": 0,
          "FastingBS": 0,
          "HeartDisease": 0,
          "MaxHR": 143,
          "RestingBP": 156,
          "Sex": 1
         },
         {
          "Age": 43,
          "Cholesterol": 186,
          "ExerciseAngina": 0,
          "FastingBS": 0,
          "HeartDisease": 0,
          "MaxHR": 154,
          "RestingBP": 150,
          "Sex": 0
         },
         {
          "Age": 55,
          "Cholesterol": 248,
          "ExerciseAngina": 1,
          "FastingBS": 0,
          "HeartDisease": 1,
          "MaxHR": 96,
          "RestingBP": 145,
          "Sex": 1
         },
         {
          "Age": 39,
          "Cholesterol": 307,
          "ExerciseAngina": 0,
          "FastingBS": 0,
          "HeartDisease": 0,
          "MaxHR": 140,
          "RestingBP": 130,
          "Sex": 1
         },
         {
          "Age": 58,
          "Cholesterol": 458,
          "ExerciseAngina": 0,
          "FastingBS": 1,
          "HeartDisease": 0,
          "MaxHR": 69,
          "RestingBP": 132,
          "Sex": 1
         },
         {
          "Age": 41,
          "Cholesterol": 235,
          "ExerciseAngina": 0,
          "FastingBS": 0,
          "HeartDisease": 0,
          "MaxHR": 153,
          "RestingBP": 110,
          "Sex": 1
         },
         {
          "Age": 57,
          "Cholesterol": 255,
          "ExerciseAngina": 1,
          "FastingBS": 0,
          "HeartDisease": 1,
          "MaxHR": 92,
          "RestingBP": 150,
          "Sex": 1
         },
         {
          "Age": 41,
          "Cholesterol": 204,
          "ExerciseAngina": 0,
          "FastingBS": 0,
          "HeartDisease": 0,
          "MaxHR": 172,
          "RestingBP": 130,
          "Sex": 0
         },
         {
          "Age": 57,
          "Cholesterol": 347,
          "ExerciseAngina": 1,
          "FastingBS": 0,
          "HeartDisease": 0,
          "MaxHR": 126,
          "RestingBP": 180,
          "Sex": 0
         },
         {
          "Age": 58,
          "Cholesterol": 211,
          "ExerciseAngina": 0,
          "FastingBS": 1,
          "HeartDisease": 0,
          "MaxHR": 165,
          "RestingBP": 140,
          "Sex": 1
         },
         {
          "Age": 52,
          "Cholesterol": 225,
          "ExerciseAngina": 1,
          "FastingBS": 0,
          "HeartDisease": 1,
          "MaxHR": 120,
          "RestingBP": 130,
          "Sex": 1
         },
         {
          "Age": 56,
          "Cholesterol": 282,
          "ExerciseAngina": 1,
          "FastingBS": 1,
          "HeartDisease": 1,
          "MaxHR": 126,
          "RestingBP": 137,
          "Sex": 1
         },
         {
          "Age": 41,
          "Cholesterol": 157,
          "ExerciseAngina": 0,
          "FastingBS": 0,
          "HeartDisease": 0,
          "MaxHR": 182,
          "RestingBP": 120,
          "Sex": 1
         },
         {
          "Age": 50,
          "Cholesterol": 233,
          "ExerciseAngina": 1,
          "FastingBS": 0,
          "HeartDisease": 1,
          "MaxHR": 121,
          "RestingBP": 130,
          "Sex": 1
         },
         {
          "Age": 44,
          "Cholesterol": 215,
          "ExerciseAngina": 0,
          "FastingBS": 0,
          "HeartDisease": 0,
          "MaxHR": 135,
          "RestingBP": 130,
          "Sex": 1
         },
         {
          "Age": 57,
          "Cholesterol": 197,
          "ExerciseAngina": 0,
          "FastingBS": 0,
          "HeartDisease": 0,
          "MaxHR": 100,
          "RestingBP": 110,
          "Sex": 1
         },
         {
          "Age": 60,
          "Cholesterol": 216,
          "ExerciseAngina": 1,
          "FastingBS": 0,
          "HeartDisease": 1,
          "MaxHR": 110,
          "RestingBP": 142,
          "Sex": 1
         },
         {
          "Age": 63,
          "Cholesterol": 267,
          "ExerciseAngina": 1,
          "FastingBS": 1,
          "HeartDisease": 1,
          "MaxHR": 88,
          "RestingBP": 160,
          "Sex": 1
         },
         {
          "Age": 35,
          "Cholesterol": 198,
          "ExerciseAngina": 1,
          "FastingBS": 0,
          "HeartDisease": 1,
          "MaxHR": 130,
          "RestingBP": 120,
          "Sex": 1
         },
         {
          "Age": 44,
          "Cholesterol": 263,
          "ExerciseAngina": 0,
          "FastingBS": 0,
          "HeartDisease": 0,
          "MaxHR": 173,
          "RestingBP": 120,
          "Sex": 1
         },
         {
          "Age": 41,
          "Cholesterol": 171,
          "ExerciseAngina": 1,
          "FastingBS": 0,
          "HeartDisease": 0,
          "MaxHR": 128,
          "RestingBP": 150,
          "Sex": 1
         },
         {
          "Age": 52,
          "Cholesterol": 284,
          "ExerciseAngina": 0,
          "FastingBS": 0,
          "HeartDisease": 0,
          "MaxHR": 118,
          "RestingBP": 120,
          "Sex": 1
         },
         {
          "Age": 57,
          "Cholesterol": 303,
          "ExerciseAngina": 0,
          "FastingBS": 0,
          "HeartDisease": 0,
          "MaxHR": 159,
          "RestingBP": 128,
          "Sex": 0
         },
         {
          "Age": 43,
          "Cholesterol": 211,
          "ExerciseAngina": 0,
          "FastingBS": 0,
          "HeartDisease": 0,
          "MaxHR": 161,
          "RestingBP": 110,
          "Sex": 1
         },
         {
          "Age": 59,
          "Cholesterol": 273,
          "ExerciseAngina": 0,
          "FastingBS": 0,
          "HeartDisease": 1,
          "MaxHR": 125,
          "RestingBP": 160,
          "Sex": 1
         },
         {
          "Age": 54,
          "Cholesterol": 182,
          "ExerciseAngina": 0,
          "FastingBS": 0,
          "HeartDisease": 0,
          "MaxHR": 141,
          "RestingBP": 132,
          "Sex": 1
         },
         {
          "Age": 60,
          "Cholesterol": 282,
          "ExerciseAngina": 1,
          "FastingBS": 0,
          "HeartDisease": 1,
          "MaxHR": 142,
          "RestingBP": 145,
          "Sex": 1
         },
         {
          "Age": 48,
          "Cholesterol": 193,
          "ExerciseAngina": 1,
          "FastingBS": 0,
          "HeartDisease": 1,
          "MaxHR": 102,
          "RestingBP": 160,
          "Sex": 1
         },
         {
          "Age": 35,
          "Cholesterol": 183,
          "ExerciseAngina": 0,
          "FastingBS": 0,
          "HeartDisease": 0,
          "MaxHR": 182,
          "RestingBP": 138,
          "Sex": 0
         },
         {
          "Age": 53,
          "Cholesterol": 285,
          "ExerciseAngina": 1,
          "FastingBS": 0,
          "HeartDisease": 1,
          "MaxHR": 120,
          "RestingBP": 180,
          "Sex": 1
         },
         {
          "Age": 55,
          "Cholesterol": 220,
          "ExerciseAngina": 0,
          "FastingBS": 0,
          "HeartDisease": 0,
          "MaxHR": 134,
          "RestingBP": 120,
          "Sex": 1
         },
         {
          "Age": 42,
          "Cholesterol": 295,
          "ExerciseAngina": 0,
          "FastingBS": 0,
          "HeartDisease": 0,
          "MaxHR": 162,
          "RestingBP": 120,
          "Sex": 1
         },
         {
          "Age": 48,
          "Cholesterol": 274,
          "ExerciseAngina": 0,
          "FastingBS": 0,
          "HeartDisease": 1,
          "MaxHR": 166,
          "RestingBP": 124,
          "Sex": 1
         },
         {
          "Age": 50,
          "Cholesterol": 216,
          "ExerciseAngina": 0,
          "FastingBS": 0,
          "HeartDisease": 0,
          "MaxHR": 170,
          "RestingBP": 140,
          "Sex": 1
         },
         {
          "Age": 63,
          "Cholesterol": 308,
          "ExerciseAngina": 1,
          "FastingBS": 0,
          "HeartDisease": 1,
          "MaxHR": 138,
          "RestingBP": 130,
          "Sex": 1
         },
         {
          "Age": 59,
          "Cholesterol": 126,
          "ExerciseAngina": 0,
          "FastingBS": 0,
          "HeartDisease": 1,
          "MaxHR": 125,
          "RestingBP": 130,
          "Sex": 1
         },
         {
          "Age": 43,
          "Cholesterol": 341,
          "ExerciseAngina": 1,
          "FastingBS": 1,
          "HeartDisease": 1,
          "MaxHR": 136,
          "RestingBP": 132,
          "Sex": 0
         },
         {
          "Age": 42,
          "Cholesterol": 147,
          "ExerciseAngina": 0,
          "FastingBS": 0,
          "HeartDisease": 0,
          "MaxHR": 146,
          "RestingBP": 160,
          "Sex": 1
         },
         {
          "Age": 54,
          "Cholesterol": 274,
          "ExerciseAngina": 1,
          "FastingBS": 0,
          "HeartDisease": 1,
          "MaxHR": 105,
          "RestingBP": 138,
          "Sex": 0
         },
         {
          "Age": 69,
          "Cholesterol": 239,
          "ExerciseAngina": 0,
          "FastingBS": 0,
          "HeartDisease": 0,
          "MaxHR": 151,
          "RestingBP": 140,
          "Sex": 0
         },
         {
          "Age": 52,
          "Cholesterol": 255,
          "ExerciseAngina": 1,
          "FastingBS": 0,
          "HeartDisease": 1,
          "MaxHR": 161,
          "RestingBP": 128,
          "Sex": 1
         },
         {
          "Age": 58,
          "Cholesterol": 300,
          "ExerciseAngina": 0,
          "FastingBS": 0,
          "HeartDisease": 1,
          "MaxHR": 171,
          "RestingBP": 125,
          "Sex": 1
         },
         {
          "Age": 51,
          "Cholesterol": 175,
          "ExerciseAngina": 0,
          "FastingBS": 0,
          "HeartDisease": 0,
          "MaxHR": 123,
          "RestingBP": 110,
          "Sex": 1
         },
         {
          "Age": 36,
          "Cholesterol": 166,
          "ExerciseAngina": 0,
          "FastingBS": 0,
          "HeartDisease": 0,
          "MaxHR": 180,
          "RestingBP": 120,
          "Sex": 1
         },
         {
          "Age": 42,
          "Cholesterol": 226,
          "ExerciseAngina": 0,
          "FastingBS": 0,
          "HeartDisease": 0,
          "MaxHR": 178,
          "RestingBP": 140,
          "Sex": 1
         },
         {
          "Age": 43,
          "Cholesterol": 177,
          "ExerciseAngina": 1,
          "FastingBS": 0,
          "HeartDisease": 1,
          "MaxHR": 120,
          "RestingBP": 120,
          "Sex": 1
         },
         {
          "Age": 49,
          "Cholesterol": 266,
          "ExerciseAngina": 0,
          "FastingBS": 0,
          "HeartDisease": 0,
          "MaxHR": 171,
          "RestingBP": 130,
          "Sex": 1
         },
         {
          "Age": 49,
          "Cholesterol": 341,
          "ExerciseAngina": 1,
          "FastingBS": 0,
          "HeartDisease": 1,
          "MaxHR": 120,
          "RestingBP": 130,
          "Sex": 1
         },
         {
          "Age": 55,
          "Cholesterol": 250,
          "ExerciseAngina": 0,
          "FastingBS": 0,
          "HeartDisease": 0,
          "MaxHR": 161,
          "RestingBP": 135,
          "Sex": 0
         },
         {
          "Age": 54,
          "Cholesterol": 312,
          "ExerciseAngina": 0,
          "FastingBS": 0,
          "HeartDisease": 0,
          "MaxHR": 130,
          "RestingBP": 160,
          "Sex": 0
         },
         {
          "Age": 44,
          "Cholesterol": 242,
          "ExerciseAngina": 0,
          "FastingBS": 0,
          "HeartDisease": 0,
          "MaxHR": 149,
          "RestingBP": 118,
          "Sex": 0
         },
         {
          "Age": 54,
          "Cholesterol": 217,
          "ExerciseAngina": 0,
          "FastingBS": 0,
          "HeartDisease": 0,
          "MaxHR": 137,
          "RestingBP": 120,
          "Sex": 1
         },
         {
          "Age": 66,
          "Cholesterol": 302,
          "ExerciseAngina": 0,
          "FastingBS": 0,
          "HeartDisease": 0,
          "MaxHR": 151,
          "RestingBP": 120,
          "Sex": 1
         },
         {
          "Age": 63,
          "Cholesterol": 252,
          "ExerciseAngina": 0,
          "FastingBS": 0,
          "HeartDisease": 0,
          "MaxHR": 172,
          "RestingBP": 135,
          "Sex": 0
         },
         {
          "Age": 62,
          "Cholesterol": 164,
          "ExerciseAngina": 0,
          "FastingBS": 0,
          "HeartDisease": 1,
          "MaxHR": 145,
          "RestingBP": 160,
          "Sex": 0
         },
         {
          "Age": 64,
          "Cholesterol": 335,
          "ExerciseAngina": 0,
          "FastingBS": 0,
          "HeartDisease": 1,
          "MaxHR": 158,
          "RestingBP": 140,
          "Sex": 1
         },
         {
          "Age": 54,
          "Cholesterol": 242,
          "ExerciseAngina": 1,
          "FastingBS": 0,
          "HeartDisease": 1,
          "MaxHR": 91,
          "RestingBP": 130,
          "Sex": 1
         },
         {
          "Age": 63,
          "Cholesterol": 330,
          "ExerciseAngina": 1,
          "FastingBS": 1,
          "HeartDisease": 1,
          "MaxHR": 132,
          "RestingBP": 130,
          "Sex": 1
         },
         {
          "Age": 57,
          "Cholesterol": 131,
          "ExerciseAngina": 1,
          "FastingBS": 0,
          "HeartDisease": 1,
          "MaxHR": 115,
          "RestingBP": 130,
          "Sex": 1
         },
         {
          "Age": 47,
          "Cholesterol": 235,
          "ExerciseAngina": 0,
          "FastingBS": 0,
          "HeartDisease": 0,
          "MaxHR": 145,
          "RestingBP": 130,
          "Sex": 0
         },
         {
          "Age": 55,
          "Cholesterol": 226,
          "ExerciseAngina": 1,
          "FastingBS": 0,
          "HeartDisease": 1,
          "MaxHR": 127,
          "RestingBP": 120,
          "Sex": 1
         },
         {
          "Age": 49,
          "Cholesterol": 201,
          "ExerciseAngina": 0,
          "FastingBS": 0,
          "HeartDisease": 0,
          "MaxHR": 164,
          "RestingBP": 124,
          "Sex": 0
         },
         {
          "Age": 50,
          "Cholesterol": 129,
          "ExerciseAngina": 0,
          "FastingBS": 0,
          "HeartDisease": 0,
          "MaxHR": 135,
          "RestingBP": 140,
          "Sex": 1
         },
         {
          "Age": 37,
          "Cholesterol": 173,
          "ExerciseAngina": 0,
          "FastingBS": 0,
          "HeartDisease": 0,
          "MaxHR": 184,
          "RestingBP": 130,
          "Sex": 0
         },
         {
          "Age": 39,
          "Cholesterol": 241,
          "ExerciseAngina": 0,
          "FastingBS": 0,
          "HeartDisease": 0,
          "MaxHR": 106,
          "RestingBP": 190,
          "Sex": 1
         },
         {
          "Age": 45,
          "Cholesterol": 160,
          "ExerciseAngina": 0,
          "FastingBS": 0,
          "HeartDisease": 0,
          "MaxHR": 138,
          "RestingBP": 112,
          "Sex": 0
         },
         {
          "Age": 40,
          "Cholesterol": 281,
          "ExerciseAngina": 0,
          "FastingBS": 0,
          "HeartDisease": 0,
          "MaxHR": 167,
          "RestingBP": 130,
          "Sex": 1
         },
         {
          "Age": 62,
          "Cholesterol": 271,
          "ExerciseAngina": 0,
          "FastingBS": 0,
          "HeartDisease": 0,
          "MaxHR": 152,
          "RestingBP": 140,
          "Sex": 1
         },
         {
          "Age": 42,
          "Cholesterol": 228,
          "ExerciseAngina": 1,
          "FastingBS": 0,
          "HeartDisease": 0,
          "MaxHR": 152,
          "RestingBP": 120,
          "Sex": 1
         },
         {
          "Age": 40,
          "Cholesterol": 275,
          "ExerciseAngina": 0,
          "FastingBS": 0,
          "HeartDisease": 0,
          "MaxHR": 150,
          "RestingBP": 130,
          "Sex": 1
         },
         {
          "Age": 65,
          "Cholesterol": 252,
          "ExerciseAngina": 0,
          "FastingBS": 0,
          "HeartDisease": 0,
          "MaxHR": 135,
          "RestingBP": 140,
          "Sex": 1
         },
         {
          "Age": 54,
          "Cholesterol": 206,
          "ExerciseAngina": 1,
          "FastingBS": 0,
          "HeartDisease": 1,
          "MaxHR": 108,
          "RestingBP": 110,
          "Sex": 1
         },
         {
          "Age": 54,
          "Cholesterol": 221,
          "ExerciseAngina": 0,
          "FastingBS": 0,
          "HeartDisease": 0,
          "MaxHR": 138,
          "RestingBP": 120,
          "Sex": 0
         },
         {
          "Age": 55,
          "Cholesterol": 214,
          "ExerciseAngina": 0,
          "FastingBS": 1,
          "HeartDisease": 0,
          "MaxHR": 180,
          "RestingBP": 110,
          "Sex": 1
         },
         {
          "Age": 71,
          "Cholesterol": 221,
          "ExerciseAngina": 1,
          "FastingBS": 0,
          "HeartDisease": 1,
          "MaxHR": 115,
          "RestingBP": 130,
          "Sex": 1
         },
         {
          "Age": 51,
          "Cholesterol": 213,
          "ExerciseAngina": 1,
          "FastingBS": 0,
          "HeartDisease": 0,
          "MaxHR": 125,
          "RestingBP": 125,
          "Sex": 1
         },
         {
          "Age": 50,
          "Cholesterol": 349,
          "ExerciseAngina": 1,
          "FastingBS": 0,
          "HeartDisease": 1,
          "MaxHR": 120,
          "RestingBP": 144,
          "Sex": 1
         },
         {
          "Age": 62,
          "Cholesterol": 244,
          "ExerciseAngina": 1,
          "FastingBS": 0,
          "HeartDisease": 1,
          "MaxHR": 154,
          "RestingBP": 150,
          "Sex": 0
         },
         {
          "Age": 60,
          "Cholesterol": 281,
          "ExerciseAngina": 1,
          "FastingBS": 0,
          "HeartDisease": 1,
          "MaxHR": 118,
          "RestingBP": 140,
          "Sex": 1
         },
         {
          "Age": 45,
          "Cholesterol": 237,
          "ExerciseAngina": 0,
          "FastingBS": 0,
          "HeartDisease": 0,
          "MaxHR": 170,
          "RestingBP": 130,
          "Sex": 0
         },
         {
          "Age": 31,
          "Cholesterol": 270,
          "ExerciseAngina": 1,
          "FastingBS": 0,
          "HeartDisease": 1,
          "MaxHR": 153,
          "RestingBP": 120,
          "Sex": 1
         },
         {
          "Age": 49,
          "Cholesterol": 206,
          "ExerciseAngina": 0,
          "FastingBS": 0,
          "HeartDisease": 1,
          "MaxHR": 170,
          "RestingBP": 130,
          "Sex": 1
         },
         {
          "Age": 61,
          "Cholesterol": 283,
          "ExerciseAngina": 0,
          "FastingBS": 0,
          "HeartDisease": 0,
          "MaxHR": 135,
          "RestingBP": 139,
          "Sex": 1
         },
         {
          "Age": 52,
          "Cholesterol": 180,
          "ExerciseAngina": 1,
          "FastingBS": 0,
          "HeartDisease": 0,
          "MaxHR": 140,
          "RestingBP": 130,
          "Sex": 0
         },
         {
          "Age": 59,
          "Cholesterol": 234,
          "ExerciseAngina": 0,
          "FastingBS": 0,
          "HeartDisease": 0,
          "MaxHR": 161,
          "RestingBP": 135,
          "Sex": 1
         },
         {
          "Age": 57,
          "Cholesterol": 285,
          "ExerciseAngina": 0,
          "FastingBS": 1,
          "HeartDisease": 1,
          "MaxHR": 120,
          "RestingBP": 180,
          "Sex": 1
         },
         {
          "Age": 61,
          "Cholesterol": 207,
          "ExerciseAngina": 1,
          "FastingBS": 0,
          "HeartDisease": 1,
          "MaxHR": 138,
          "RestingBP": 140,
          "Sex": 1
         },
         {
          "Age": 67,
          "Cholesterol": 564,
          "ExerciseAngina": 0,
          "FastingBS": 0,
          "HeartDisease": 0,
          "MaxHR": 160,
          "RestingBP": 115,
          "Sex": 0
         },
         {
          "Age": 47,
          "Cholesterol": 275,
          "ExerciseAngina": 1,
          "FastingBS": 0,
          "HeartDisease": 1,
          "MaxHR": 118,
          "RestingBP": 110,
          "Sex": 1
         },
         {
          "Age": 57,
          "Cholesterol": 270,
          "ExerciseAngina": 1,
          "FastingBS": 1,
          "HeartDisease": 1,
          "MaxHR": 160,
          "RestingBP": 144,
          "Sex": 1
         },
         {
          "Age": 54,
          "Cholesterol": 232,
          "ExerciseAngina": 0,
          "FastingBS": 0,
          "HeartDisease": 0,
          "MaxHR": 165,
          "RestingBP": 150,
          "Sex": 1
         },
         {
          "Age": 54,
          "Cholesterol": 166,
          "ExerciseAngina": 1,
          "FastingBS": 0,
          "HeartDisease": 1,
          "MaxHR": 118,
          "RestingBP": 140,
          "Sex": 1
         },
         {
          "Age": 46,
          "Cholesterol": 310,
          "ExerciseAngina": 0,
          "FastingBS": 0,
          "HeartDisease": 1,
          "MaxHR": 126,
          "RestingBP": 134,
          "Sex": 1
         },
         {
          "Age": 70,
          "Cholesterol": 322,
          "ExerciseAngina": 0,
          "FastingBS": 0,
          "HeartDisease": 1,
          "MaxHR": 109,
          "RestingBP": 130,
          "Sex": 1
         },
         {
          "Age": 55,
          "Cholesterol": 268,
          "ExerciseAngina": 1,
          "FastingBS": 0,
          "HeartDisease": 1,
          "MaxHR": 128,
          "RestingBP": 140,
          "Sex": 1
         },
         {
          "Age": 43,
          "Cholesterol": 291,
          "ExerciseAngina": 0,
          "FastingBS": 0,
          "HeartDisease": 1,
          "MaxHR": 155,
          "RestingBP": 120,
          "Sex": 1
         },
         {
          "Age": 56,
          "Cholesterol": 166,
          "ExerciseAngina": 0,
          "FastingBS": 0,
          "HeartDisease": 0,
          "MaxHR": 140,
          "RestingBP": 126,
          "Sex": 1
         },
         {
          "Age": 56,
          "Cholesterol": 288,
          "ExerciseAngina": 1,
          "FastingBS": 1,
          "HeartDisease": 1,
          "MaxHR": 133,
          "RestingBP": 200,
          "Sex": 0
         },
         {
          "Age": 57,
          "Cholesterol": 229,
          "ExerciseAngina": 0,
          "FastingBS": 0,
          "HeartDisease": 1,
          "MaxHR": 150,
          "RestingBP": 128,
          "Sex": 1
         },
         {
          "Age": 50,
          "Cholesterol": 243,
          "ExerciseAngina": 0,
          "FastingBS": 0,
          "HeartDisease": 1,
          "MaxHR": 128,
          "RestingBP": 150,
          "Sex": 1
         },
         {
          "Age": 52,
          "Cholesterol": 404,
          "ExerciseAngina": 1,
          "FastingBS": 0,
          "HeartDisease": 1,
          "MaxHR": 124,
          "RestingBP": 140,
          "Sex": 1
         },
         {
          "Age": 54,
          "Cholesterol": 188,
          "ExerciseAngina": 0,
          "FastingBS": 0,
          "HeartDisease": 1,
          "MaxHR": 113,
          "RestingBP": 120,
          "Sex": 1
         },
         {
          "Age": 50,
          "Cholesterol": 341,
          "ExerciseAngina": 1,
          "FastingBS": 0,
          "HeartDisease": 1,
          "MaxHR": 125,
          "RestingBP": 140,
          "Sex": 1
         },
         {
          "Age": 53,
          "Cholesterol": 320,
          "ExerciseAngina": 0,
          "FastingBS": 0,
          "HeartDisease": 0,
          "MaxHR": 162,
          "RestingBP": 140,
          "Sex": 1
         },
         {
          "Age": 36,
          "Cholesterol": 209,
          "ExerciseAngina": 0,
          "FastingBS": 0,
          "HeartDisease": 0,
          "MaxHR": 178,
          "RestingBP": 130,
          "Sex": 1
         },
         {
          "Age": 48,
          "Cholesterol": 355,
          "ExerciseAngina": 1,
          "FastingBS": 0,
          "HeartDisease": 1,
          "MaxHR": 99,
          "RestingBP": 160,
          "Sex": 1
         },
         {
          "Age": 56,
          "Cholesterol": 219,
          "ExerciseAngina": 0,
          "FastingBS": 0,
          "HeartDisease": 0,
          "MaxHR": 164,
          "RestingBP": 130,
          "Sex": 0
         },
         {
          "Age": 39,
          "Cholesterol": 182,
          "ExerciseAngina": 0,
          "FastingBS": 0,
          "HeartDisease": 0,
          "MaxHR": 180,
          "RestingBP": 110,
          "Sex": 0
         },
         {
          "Age": 29,
          "Cholesterol": 263,
          "ExerciseAngina": 0,
          "FastingBS": 0,
          "HeartDisease": 0,
          "MaxHR": 170,
          "RestingBP": 140,
          "Sex": 1
         },
         {
          "Age": 77,
          "Cholesterol": 304,
          "ExerciseAngina": 1,
          "FastingBS": 0,
          "HeartDisease": 1,
          "MaxHR": 162,
          "RestingBP": 125,
          "Sex": 1
         },
         {
          "Age": 57,
          "Cholesterol": 207,
          "ExerciseAngina": 1,
          "FastingBS": 0,
          "HeartDisease": 0,
          "MaxHR": 96,
          "RestingBP": 130,
          "Sex": 1
         },
         {
          "Age": 50,
          "Cholesterol": 196,
          "ExerciseAngina": 0,
          "FastingBS": 0,
          "HeartDisease": 0,
          "MaxHR": 163,
          "RestingBP": 129,
          "Sex": 1
         },
         {
          "Age": 37,
          "Cholesterol": 215,
          "ExerciseAngina": 0,
          "FastingBS": 0,
          "HeartDisease": 0,
          "MaxHR": 170,
          "RestingBP": 120,
          "Sex": 0
         },
         {
          "Age": 62,
          "Cholesterol": 208,
          "ExerciseAngina": 0,
          "FastingBS": 1,
          "HeartDisease": 0,
          "MaxHR": 140,
          "RestingBP": 128,
          "Sex": 1
         },
         {
          "Age": 39,
          "Cholesterol": 273,
          "ExerciseAngina": 0,
          "FastingBS": 0,
          "HeartDisease": 0,
          "MaxHR": 132,
          "RestingBP": 110,
          "Sex": 1
         },
         {
          "Age": 64,
          "Cholesterol": 309,
          "ExerciseAngina": 1,
          "FastingBS": 0,
          "HeartDisease": 1,
          "MaxHR": 131,
          "RestingBP": 125,
          "Sex": 1
         },
         {
          "Age": 64,
          "Cholesterol": 313,
          "ExerciseAngina": 0,
          "FastingBS": 0,
          "HeartDisease": 0,
          "MaxHR": 133,
          "RestingBP": 140,
          "Sex": 0
         },
         {
          "Age": 58,
          "Cholesterol": 393,
          "ExerciseAngina": 1,
          "FastingBS": 0,
          "HeartDisease": 1,
          "MaxHR": 110,
          "RestingBP": 180,
          "Sex": 0
         },
         {
          "Age": 45,
          "Cholesterol": 208,
          "ExerciseAngina": 1,
          "FastingBS": 0,
          "HeartDisease": 0,
          "MaxHR": 148,
          "RestingBP": 104,
          "Sex": 1
         },
         {
          "Age": 49,
          "Cholesterol": 149,
          "ExerciseAngina": 0,
          "FastingBS": 0,
          "HeartDisease": 1,
          "MaxHR": 126,
          "RestingBP": 118,
          "Sex": 1
         },
         {
          "Age": 37,
          "Cholesterol": 240,
          "ExerciseAngina": 0,
          "FastingBS": 0,
          "HeartDisease": 0,
          "MaxHR": 165,
          "RestingBP": 118,
          "Sex": 1
         },
         {
          "Age": 56,
          "Cholesterol": 256,
          "ExerciseAngina": 1,
          "FastingBS": 1,
          "HeartDisease": 1,
          "MaxHR": 142,
          "RestingBP": 130,
          "Sex": 1
         },
         {
          "Age": 36,
          "Cholesterol": 267,
          "ExerciseAngina": 0,
          "FastingBS": 0,
          "HeartDisease": 1,
          "MaxHR": 160,
          "RestingBP": 120,
          "Sex": 1
         },
         {
          "Age": 33,
          "Cholesterol": 298,
          "ExerciseAngina": 0,
          "FastingBS": 0,
          "HeartDisease": 0,
          "MaxHR": 185,
          "RestingBP": 120,
          "Sex": 1
         },
         {
          "Age": 40,
          "Cholesterol": 289,
          "ExerciseAngina": 0,
          "FastingBS": 0,
          "HeartDisease": 0,
          "MaxHR": 172,
          "RestingBP": 140,
          "Sex": 1
         },
         {
          "Age": 46,
          "Cholesterol": 277,
          "ExerciseAngina": 1,
          "FastingBS": 0,
          "HeartDisease": 1,
          "MaxHR": 125,
          "RestingBP": 120,
          "Sex": 1
         },
         {
          "Age": 48,
          "Cholesterol": 195,
          "ExerciseAngina": 0,
          "FastingBS": 0,
          "HeartDisease": 0,
          "MaxHR": 125,
          "RestingBP": 120,
          "Sex": 0
         },
         {
          "Age": 57,
          "Cholesterol": 232,
          "ExerciseAngina": 0,
          "FastingBS": 0,
          "HeartDisease": 1,
          "MaxHR": 164,
          "RestingBP": 154,
          "Sex": 1
         },
         {
          "Age": 47,
          "Cholesterol": 205,
          "ExerciseAngina": 1,
          "FastingBS": 0,
          "HeartDisease": 1,
          "MaxHR": 98,
          "RestingBP": 120,
          "Sex": 0
         },
         {
          "Age": 67,
          "Cholesterol": 254,
          "ExerciseAngina": 0,
          "FastingBS": 1,
          "HeartDisease": 1,
          "MaxHR": 163,
          "RestingBP": 125,
          "Sex": 1
         },
         {
          "Age": 67,
          "Cholesterol": 237,
          "ExerciseAngina": 0,
          "FastingBS": 0,
          "HeartDisease": 1,
          "MaxHR": 71,
          "RestingBP": 120,
          "Sex": 1
         },
         {
          "Age": 45,
          "Cholesterol": 309,
          "ExerciseAngina": 1,
          "FastingBS": 0,
          "HeartDisease": 1,
          "MaxHR": 147,
          "RestingBP": 142,
          "Sex": 1
         },
         {
          "Age": 39,
          "Cholesterol": 147,
          "ExerciseAngina": 0,
          "FastingBS": 1,
          "HeartDisease": 0,
          "MaxHR": 160,
          "RestingBP": 160,
          "Sex": 1
         },
         {
          "Age": 64,
          "Cholesterol": 211,
          "ExerciseAngina": 1,
          "FastingBS": 0,
          "HeartDisease": 0,
          "MaxHR": 144,
          "RestingBP": 110,
          "Sex": 1
         },
         {
          "Age": 51,
          "Cholesterol": 194,
          "ExerciseAngina": 0,
          "FastingBS": 0,
          "HeartDisease": 0,
          "MaxHR": 170,
          "RestingBP": 160,
          "Sex": 0
         },
         {
          "Age": 38,
          "Cholesterol": 275,
          "ExerciseAngina": 0,
          "FastingBS": 0,
          "HeartDisease": 0,
          "MaxHR": 129,
          "RestingBP": 120,
          "Sex": 0
         },
         {
          "Age": 52,
          "Cholesterol": 259,
          "ExerciseAngina": 0,
          "FastingBS": 0,
          "HeartDisease": 0,
          "MaxHR": 170,
          "RestingBP": 140,
          "Sex": 1
         },
         {
          "Age": 61,
          "Cholesterol": 234,
          "ExerciseAngina": 0,
          "FastingBS": 0,
          "HeartDisease": 1,
          "MaxHR": 145,
          "RestingBP": 134,
          "Sex": 1
         },
         {
          "Age": 33,
          "Cholesterol": 246,
          "ExerciseAngina": 1,
          "FastingBS": 0,
          "HeartDisease": 1,
          "MaxHR": 150,
          "RestingBP": 100,
          "Sex": 0
         },
         {
          "Age": 52,
          "Cholesterol": 201,
          "ExerciseAngina": 0,
          "FastingBS": 0,
          "HeartDisease": 0,
          "MaxHR": 158,
          "RestingBP": 134,
          "Sex": 1
         },
         {
          "Age": 46,
          "Cholesterol": 240,
          "ExerciseAngina": 0,
          "FastingBS": 0,
          "HeartDisease": 0,
          "MaxHR": 140,
          "RestingBP": 110,
          "Sex": 1
         },
         {
          "Age": 65,
          "Cholesterol": 306,
          "ExerciseAngina": 1,
          "FastingBS": 1,
          "HeartDisease": 1,
          "MaxHR": 87,
          "RestingBP": 140,
          "Sex": 1
         },
         {
          "Age": 62,
          "Cholesterol": 268,
          "ExerciseAngina": 0,
          "FastingBS": 0,
          "HeartDisease": 1,
          "MaxHR": 160,
          "RestingBP": 140,
          "Sex": 0
         },
         {
          "Age": 61,
          "Cholesterol": 294,
          "ExerciseAngina": 1,
          "FastingBS": 0,
          "HeartDisease": 0,
          "MaxHR": 120,
          "RestingBP": 130,
          "Sex": 0
         },
         {
          "Age": 47,
          "Cholesterol": 253,
          "ExerciseAngina": 0,
          "FastingBS": 0,
          "HeartDisease": 0,
          "MaxHR": 179,
          "RestingBP": 130,
          "Sex": 1
         },
         {
          "Age": 46,
          "Cholesterol": 238,
          "ExerciseAngina": 0,
          "FastingBS": 0,
          "HeartDisease": 0,
          "MaxHR": 90,
          "RestingBP": 130,
          "Sex": 0
         },
         {
          "Age": 63,
          "Cholesterol": 305,
          "ExerciseAngina": 1,
          "FastingBS": 0,
          "HeartDisease": 1,
          "MaxHR": 121,
          "RestingBP": 96,
          "Sex": 1
         },
         {
          "Age": 55,
          "Cholesterol": 217,
          "ExerciseAngina": 1,
          "FastingBS": 0,
          "HeartDisease": 1,
          "MaxHR": 111,
          "RestingBP": 140,
          "Sex": 1
         },
         {
          "Age": 41,
          "Cholesterol": 198,
          "ExerciseAngina": 0,
          "FastingBS": 0,
          "HeartDisease": 0,
          "MaxHR": 168,
          "RestingBP": 105,
          "Sex": 0
         },
         {
          "Age": 41,
          "Cholesterol": 268,
          "ExerciseAngina": 1,
          "FastingBS": 0,
          "HeartDisease": 0,
          "MaxHR": 172,
          "RestingBP": 112,
          "Sex": 0
         },
         {
          "Age": 60,
          "Cholesterol": 246,
          "ExerciseAngina": 0,
          "FastingBS": 0,
          "HeartDisease": 0,
          "MaxHR": 135,
          "RestingBP": 120,
          "Sex": 1
         },
         {
          "Age": 55,
          "Cholesterol": 262,
          "ExerciseAngina": 0,
          "FastingBS": 0,
          "HeartDisease": 0,
          "MaxHR": 155,
          "RestingBP": 130,
          "Sex": 1
         },
         {
          "Age": 62,
          "Cholesterol": 231,
          "ExerciseAngina": 0,
          "FastingBS": 0,
          "HeartDisease": 0,
          "MaxHR": 146,
          "RestingBP": 130,
          "Sex": 1
         },
         {
          "Age": 69,
          "Cholesterol": 216,
          "ExerciseAngina": 1,
          "FastingBS": 1,
          "HeartDisease": 1,
          "MaxHR": 84,
          "RestingBP": 122,
          "Sex": 1
         },
         {
          "Age": 66,
          "Cholesterol": 213,
          "ExerciseAngina": 1,
          "FastingBS": 1,
          "HeartDisease": 0,
          "MaxHR": 99,
          "RestingBP": 110,
          "Sex": 1
         },
         {
          "Age": 53,
          "Cholesterol": 246,
          "ExerciseAngina": 1,
          "FastingBS": 0,
          "HeartDisease": 1,
          "MaxHR": 116,
          "RestingBP": 120,
          "Sex": 1
         },
         {
          "Age": 53,
          "Cholesterol": 234,
          "ExerciseAngina": 0,
          "FastingBS": 0,
          "HeartDisease": 0,
          "MaxHR": 160,
          "RestingBP": 138,
          "Sex": 0
         },
         {
          "Age": 47,
          "Cholesterol": 263,
          "ExerciseAngina": 0,
          "FastingBS": 0,
          "HeartDisease": 0,
          "MaxHR": 174,
          "RestingBP": 160,
          "Sex": 1
         },
         {
          "Age": 65,
          "Cholesterol": 225,
          "ExerciseAngina": 0,
          "FastingBS": 0,
          "HeartDisease": 1,
          "MaxHR": 114,
          "RestingBP": 150,
          "Sex": 0
         },
         {
          "Age": 48,
          "Cholesterol": 245,
          "ExerciseAngina": 0,
          "FastingBS": 0,
          "HeartDisease": 0,
          "MaxHR": 180,
          "RestingBP": 130,
          "Sex": 1
         },
         {
          "Age": 50,
          "Cholesterol": 264,
          "ExerciseAngina": 0,
          "FastingBS": 0,
          "HeartDisease": 1,
          "MaxHR": 150,
          "RestingBP": 145,
          "Sex": 1
         },
         {
          "Age": 48,
          "Cholesterol": 177,
          "ExerciseAngina": 0,
          "FastingBS": 1,
          "HeartDisease": 0,
          "MaxHR": 148,
          "RestingBP": 120,
          "Sex": 0
         },
         {
          "Age": 49,
          "Cholesterol": 212,
          "ExerciseAngina": 1,
          "FastingBS": 0,
          "HeartDisease": 1,
          "MaxHR": 96,
          "RestingBP": 128,
          "Sex": 1
         },
         {
          "Age": 50,
          "Cholesterol": 200,
          "ExerciseAngina": 1,
          "FastingBS": 0,
          "HeartDisease": 1,
          "MaxHR": 126,
          "RestingBP": 144,
          "Sex": 1
         },
         {
          "Age": 32,
          "Cholesterol": 254,
          "ExerciseAngina": 0,
          "FastingBS": 0,
          "HeartDisease": 0,
          "MaxHR": 155,
          "RestingBP": 125,
          "Sex": 1
         },
         {
          "Age": 37,
          "Cholesterol": 283,
          "ExerciseAngina": 0,
          "FastingBS": 0,
          "HeartDisease": 0,
          "MaxHR": 98,
          "RestingBP": 130,
          "Sex": 1
         },
         {
          "Age": 49,
          "Cholesterol": 208,
          "ExerciseAngina": 0,
          "FastingBS": 0,
          "HeartDisease": 0,
          "MaxHR": 160,
          "RestingBP": 110,
          "Sex": 0
         },
         {
          "Age": 61,
          "Cholesterol": 337,
          "ExerciseAngina": 1,
          "FastingBS": 0,
          "HeartDisease": 1,
          "MaxHR": 98,
          "RestingBP": 120,
          "Sex": 1
         },
         {
          "Age": 54,
          "Cholesterol": 288,
          "ExerciseAngina": 1,
          "FastingBS": 1,
          "HeartDisease": 0,
          "MaxHR": 159,
          "RestingBP": 132,
          "Sex": 0
         },
         {
          "Age": 60,
          "Cholesterol": 186,
          "ExerciseAngina": 1,
          "FastingBS": 1,
          "HeartDisease": 1,
          "MaxHR": 140,
          "RestingBP": 130,
          "Sex": 1
         },
         {
          "Age": 65,
          "Cholesterol": 236,
          "ExerciseAngina": 1,
          "FastingBS": 1,
          "HeartDisease": 1,
          "MaxHR": 105,
          "RestingBP": 150,
          "Sex": 1
         },
         {
          "Age": 61,
          "Cholesterol": 292,
          "ExerciseAngina": 1,
          "FastingBS": 0,
          "HeartDisease": 0,
          "MaxHR": 115,
          "RestingBP": 125,
          "Sex": 1
         },
         {
          "Age": 59,
          "Cholesterol": 222,
          "ExerciseAngina": 1,
          "FastingBS": 0,
          "HeartDisease": 1,
          "MaxHR": 135,
          "RestingBP": 125,
          "Sex": 1
         },
         {
          "Age": 57,
          "Cholesterol": 192,
          "ExerciseAngina": 0,
          "FastingBS": 0,
          "HeartDisease": 0,
          "MaxHR": 148,
          "RestingBP": 140,
          "Sex": 1
         },
         {
          "Age": 41,
          "Cholesterol": 269,
          "ExerciseAngina": 0,
          "FastingBS": 0,
          "HeartDisease": 0,
          "MaxHR": 144,
          "RestingBP": 125,
          "Sex": 1
         },
         {
          "Age": 40,
          "Cholesterol": 392,
          "ExerciseAngina": 0,
          "FastingBS": 0,
          "HeartDisease": 1,
          "MaxHR": 130,
          "RestingBP": 150,
          "Sex": 0
         },
         {
          "Age": 57,
          "Cholesterol": 168,
          "ExerciseAngina": 0,
          "FastingBS": 0,
          "HeartDisease": 0,
          "MaxHR": 174,
          "RestingBP": 150,
          "Sex": 1
         },
         {
          "Age": 63,
          "Cholesterol": 177,
          "ExerciseAngina": 1,
          "FastingBS": 0,
          "HeartDisease": 1,
          "MaxHR": 84,
          "RestingBP": 170,
          "Sex": 1
         },
         {
          "Age": 60,
          "Cholesterol": 305,
          "ExerciseAngina": 0,
          "FastingBS": 0,
          "HeartDisease": 1,
          "MaxHR": 161,
          "RestingBP": 158,
          "Sex": 0
         },
         {
          "Age": 57,
          "Cholesterol": 260,
          "ExerciseAngina": 0,
          "FastingBS": 1,
          "HeartDisease": 0,
          "MaxHR": 140,
          "RestingBP": 140,
          "Sex": 1
         },
         {
          "Age": 51,
          "Cholesterol": 179,
          "ExerciseAngina": 0,
          "FastingBS": 0,
          "HeartDisease": 0,
          "MaxHR": 100,
          "RestingBP": 130,
          "Sex": 1
         },
         {
          "Age": 53,
          "Cholesterol": 226,
          "ExerciseAngina": 1,
          "FastingBS": 0,
          "HeartDisease": 0,
          "MaxHR": 111,
          "RestingBP": 142,
          "Sex": 1
         },
         {
          "Age": 66,
          "Cholesterol": 139,
          "ExerciseAngina": 1,
          "FastingBS": 0,
          "HeartDisease": 1,
          "MaxHR": 94,
          "RestingBP": 140,
          "Sex": 1
         },
         {
          "Age": 41,
          "Cholesterol": 172,
          "ExerciseAngina": 0,
          "FastingBS": 0,
          "HeartDisease": 1,
          "MaxHR": 130,
          "RestingBP": 130,
          "Sex": 1
         },
         {
          "Age": 52,
          "Cholesterol": 331,
          "ExerciseAngina": 1,
          "FastingBS": 0,
          "HeartDisease": 1,
          "MaxHR": 94,
          "RestingBP": 160,
          "Sex": 1
         },
         {
          "Age": 67,
          "Cholesterol": 299,
          "ExerciseAngina": 1,
          "FastingBS": 0,
          "HeartDisease": 1,
          "MaxHR": 125,
          "RestingBP": 100,
          "Sex": 1
         },
         {
          "Age": 58,
          "Cholesterol": 259,
          "ExerciseAngina": 1,
          "FastingBS": 0,
          "HeartDisease": 1,
          "MaxHR": 130,
          "RestingBP": 128,
          "Sex": 1
         },
         {
          "Age": 42,
          "Cholesterol": 180,
          "ExerciseAngina": 0,
          "FastingBS": 0,
          "HeartDisease": 0,
          "MaxHR": 150,
          "RestingBP": 130,
          "Sex": 1
         },
         {
          "Age": 55,
          "Cholesterol": 196,
          "ExerciseAngina": 0,
          "FastingBS": 0,
          "HeartDisease": 0,
          "MaxHR": 150,
          "RestingBP": 140,
          "Sex": 1
         },
         {
          "Age": 48,
          "Cholesterol": 275,
          "ExerciseAngina": 1,
          "FastingBS": 1,
          "HeartDisease": 1,
          "MaxHR": 150,
          "RestingBP": 122,
          "Sex": 1
         },
         {
          "Age": 58,
          "Cholesterol": 203,
          "ExerciseAngina": 1,
          "FastingBS": 1,
          "HeartDisease": 1,
          "MaxHR": 123,
          "RestingBP": 136,
          "Sex": 1
         },
         {
          "Age": 45,
          "Cholesterol": 236,
          "ExerciseAngina": 1,
          "FastingBS": 0,
          "HeartDisease": 0,
          "MaxHR": 152,
          "RestingBP": 138,
          "Sex": 0
         },
         {
          "Age": 44,
          "Cholesterol": 233,
          "ExerciseAngina": 1,
          "FastingBS": 0,
          "HeartDisease": 0,
          "MaxHR": 179,
          "RestingBP": 130,
          "Sex": 1
         },
         {
          "Age": 43,
          "Cholesterol": 315,
          "ExerciseAngina": 0,
          "FastingBS": 0,
          "HeartDisease": 0,
          "MaxHR": 162,
          "RestingBP": 130,
          "Sex": 1
         },
         {
          "Age": 63,
          "Cholesterol": 252,
          "ExerciseAngina": 1,
          "FastingBS": 0,
          "HeartDisease": 1,
          "MaxHR": 140,
          "RestingBP": 110,
          "Sex": 1
         },
         {
          "Age": 41,
          "Cholesterol": 250,
          "ExerciseAngina": 0,
          "FastingBS": 0,
          "HeartDisease": 0,
          "MaxHR": 142,
          "RestingBP": 110,
          "Sex": 0
         },
         {
          "Age": 54,
          "Cholesterol": 203,
          "ExerciseAngina": 0,
          "FastingBS": 0,
          "HeartDisease": 0,
          "MaxHR": 137,
          "RestingBP": 133,
          "Sex": 1
         },
         {
          "Age": 64,
          "Cholesterol": 258,
          "ExerciseAngina": 0,
          "FastingBS": 1,
          "HeartDisease": 1,
          "MaxHR": 130,
          "RestingBP": 130,
          "Sex": 1
         },
         {
          "Age": 53,
          "Cholesterol": 300,
          "ExerciseAngina": 1,
          "FastingBS": 1,
          "HeartDisease": 1,
          "MaxHR": 128,
          "RestingBP": 144,
          "Sex": 1
         },
         {
          "Age": 60,
          "Cholesterol": 293,
          "ExerciseAngina": 0,
          "FastingBS": 0,
          "HeartDisease": 1,
          "MaxHR": 170,
          "RestingBP": 140,
          "Sex": 1
         },
         {
          "Age": 51,
          "Cholesterol": 222,
          "ExerciseAngina": 1,
          "FastingBS": 0,
          "HeartDisease": 0,
          "MaxHR": 143,
          "RestingBP": 100,
          "Sex": 1
         },
         {
          "Age": 50,
          "Cholesterol": 244,
          "ExerciseAngina": 0,
          "FastingBS": 0,
          "HeartDisease": 0,
          "MaxHR": 162,
          "RestingBP": 120,
          "Sex": 0
         },
         {
          "Age": 44,
          "Cholesterol": 169,
          "ExerciseAngina": 1,
          "FastingBS": 0,
          "HeartDisease": 1,
          "MaxHR": 144,
          "RestingBP": 120,
          "Sex": 1
         },
         {
          "Age": 55,
          "Cholesterol": 342,
          "ExerciseAngina": 0,
          "FastingBS": 0,
          "HeartDisease": 0,
          "MaxHR": 166,
          "RestingBP": 132,
          "Sex": 0
         },
         {
          "Age": 39,
          "Cholesterol": 219,
          "ExerciseAngina": 0,
          "FastingBS": 0,
          "HeartDisease": 1,
          "MaxHR": 140,
          "RestingBP": 118,
          "Sex": 1
         },
         {
          "Age": 67,
          "Cholesterol": 277,
          "ExerciseAngina": 0,
          "FastingBS": 0,
          "HeartDisease": 0,
          "MaxHR": 172,
          "RestingBP": 152,
          "Sex": 0
         },
         {
          "Age": 70,
          "Cholesterol": 269,
          "ExerciseAngina": 1,
          "FastingBS": 0,
          "HeartDisease": 1,
          "MaxHR": 112,
          "RestingBP": 160,
          "Sex": 1
         },
         {
          "Age": 66,
          "Cholesterol": 246,
          "ExerciseAngina": 1,
          "FastingBS": 0,
          "HeartDisease": 1,
          "MaxHR": 120,
          "RestingBP": 160,
          "Sex": 1
         },
         {
          "Age": 43,
          "Cholesterol": 201,
          "ExerciseAngina": 0,
          "FastingBS": 0,
          "HeartDisease": 0,
          "MaxHR": 165,
          "RestingBP": 120,
          "Sex": 0
         },
         {
          "Age": 48,
          "Cholesterol": 260,
          "ExerciseAngina": 0,
          "FastingBS": 0,
          "HeartDisease": 1,
          "MaxHR": 115,
          "RestingBP": 120,
          "Sex": 1
         },
         {
          "Age": 62,
          "Cholesterol": 394,
          "ExerciseAngina": 0,
          "FastingBS": 0,
          "HeartDisease": 0,
          "MaxHR": 157,
          "RestingBP": 140,
          "Sex": 0
         },
         {
          "Age": 50,
          "Cholesterol": 215,
          "ExerciseAngina": 1,
          "FastingBS": 0,
          "HeartDisease": 0,
          "MaxHR": 140,
          "RestingBP": 150,
          "Sex": 1
         },
         {
          "Age": 57,
          "Cholesterol": 241,
          "ExerciseAngina": 1,
          "FastingBS": 0,
          "HeartDisease": 1,
          "MaxHR": 123,
          "RestingBP": 140,
          "Sex": 0
         },
         {
          "Age": 53,
          "Cholesterol": 243,
          "ExerciseAngina": 0,
          "FastingBS": 0,
          "HeartDisease": 0,
          "MaxHR": 155,
          "RestingBP": 140,
          "Sex": 1
         },
         {
          "Age": 59,
          "Cholesterol": 188,
          "ExerciseAngina": 0,
          "FastingBS": 0,
          "HeartDisease": 0,
          "MaxHR": 124,
          "RestingBP": 130,
          "Sex": 0
         },
         {
          "Age": 55,
          "Cholesterol": 228,
          "ExerciseAngina": 1,
          "FastingBS": 0,
          "HeartDisease": 1,
          "MaxHR": 124,
          "RestingBP": 136,
          "Sex": 1
         },
         {
          "Age": 61,
          "Cholesterol": 203,
          "ExerciseAngina": 0,
          "FastingBS": 0,
          "HeartDisease": 1,
          "MaxHR": 161,
          "RestingBP": 148,
          "Sex": 1
         },
         {
          "Age": 48,
          "Cholesterol": 208,
          "ExerciseAngina": 1,
          "FastingBS": 0,
          "HeartDisease": 1,
          "MaxHR": 159,
          "RestingBP": 140,
          "Sex": 1
         },
         {
          "Age": 64,
          "Cholesterol": 306,
          "ExerciseAngina": 1,
          "FastingBS": 1,
          "HeartDisease": 1,
          "MaxHR": 115,
          "RestingBP": 143,
          "Sex": 1
         },
         {
          "Age": 48,
          "Cholesterol": 275,
          "ExerciseAngina": 0,
          "FastingBS": 0,
          "HeartDisease": 0,
          "MaxHR": 139,
          "RestingBP": 130,
          "Sex": 0
         },
         {
          "Age": 55,
          "Cholesterol": 270,
          "ExerciseAngina": 0,
          "FastingBS": 0,
          "HeartDisease": 0,
          "MaxHR": 140,
          "RestingBP": 120,
          "Sex": 1
         },
         {
          "Age": 69,
          "Cholesterol": 234,
          "ExerciseAngina": 0,
          "FastingBS": 1,
          "HeartDisease": 0,
          "MaxHR": 131,
          "RestingBP": 160,
          "Sex": 1
         },
         {
          "Age": 41,
          "Cholesterol": 289,
          "ExerciseAngina": 0,
          "FastingBS": 0,
          "HeartDisease": 1,
          "MaxHR": 170,
          "RestingBP": 110,
          "Sex": 1
         },
         {
          "Age": 50,
          "Cholesterol": 209,
          "ExerciseAngina": 0,
          "FastingBS": 0,
          "HeartDisease": 0,
          "MaxHR": 116,
          "RestingBP": 170,
          "Sex": 1
         },
         {
          "Age": 61,
          "Cholesterol": 282,
          "ExerciseAngina": 1,
          "FastingBS": 0,
          "HeartDisease": 1,
          "MaxHR": 135,
          "RestingBP": 120,
          "Sex": 1
         },
         {
          "Age": 54,
          "Cholesterol": 258,
          "ExerciseAngina": 0,
          "FastingBS": 0,
          "HeartDisease": 0,
          "MaxHR": 147,
          "RestingBP": 120,
          "Sex": 1
         },
         {
          "Age": 44,
          "Cholesterol": 141,
          "ExerciseAngina": 0,
          "FastingBS": 0,
          "HeartDisease": 0,
          "MaxHR": 175,
          "RestingBP": 108,
          "Sex": 0
         },
         {
          "Age": 55,
          "Cholesterol": 277,
          "ExerciseAngina": 0,
          "FastingBS": 0,
          "HeartDisease": 0,
          "MaxHR": 160,
          "RestingBP": 110,
          "Sex": 1
         },
         {
          "Age": 64,
          "Cholesterol": 246,
          "ExerciseAngina": 1,
          "FastingBS": 0,
          "HeartDisease": 1,
          "MaxHR": 96,
          "RestingBP": 120,
          "Sex": 1
         },
         {
          "Age": 38,
          "Cholesterol": 196,
          "ExerciseAngina": 0,
          "FastingBS": 0,
          "HeartDisease": 1,
          "MaxHR": 166,
          "RestingBP": 110,
          "Sex": 1
         },
         {
          "Age": 59,
          "Cholesterol": 287,
          "ExerciseAngina": 0,
          "FastingBS": 0,
          "HeartDisease": 0,
          "MaxHR": 150,
          "RestingBP": 140,
          "Sex": 1
         },
         {
          "Age": 72,
          "Cholesterol": 123,
          "ExerciseAngina": 0,
          "FastingBS": 1,
          "HeartDisease": 1,
          "MaxHR": 130,
          "RestingBP": 160,
          "Sex": 1
         },
         {
          "Age": 35,
          "Cholesterol": 264,
          "ExerciseAngina": 0,
          "FastingBS": 0,
          "HeartDisease": 0,
          "MaxHR": 168,
          "RestingBP": 150,
          "Sex": 1
         },
         {
          "Age": 75,
          "Cholesterol": 310,
          "ExerciseAngina": 1,
          "FastingBS": 1,
          "HeartDisease": 0,
          "MaxHR": 112,
          "RestingBP": 160,
          "Sex": 1
         },
         {
          "Age": 61,
          "Cholesterol": 243,
          "ExerciseAngina": 1,
          "FastingBS": 1,
          "HeartDisease": 0,
          "MaxHR": 137,
          "RestingBP": 150,
          "Sex": 1
         },
         {
          "Age": 46,
          "Cholesterol": 231,
          "ExerciseAngina": 0,
          "FastingBS": 0,
          "HeartDisease": 1,
          "MaxHR": 147,
          "RestingBP": 150,
          "Sex": 1
         },
         {
          "Age": 71,
          "Cholesterol": 149,
          "ExerciseAngina": 0,
          "FastingBS": 0,
          "HeartDisease": 0,
          "MaxHR": 125,
          "RestingBP": 112,
          "Sex": 0
         },
         {
          "Age": 56,
          "Cholesterol": 409,
          "ExerciseAngina": 1,
          "FastingBS": 0,
          "HeartDisease": 1,
          "MaxHR": 150,
          "RestingBP": 134,
          "Sex": 0
         },
         {
          "Age": 61,
          "Cholesterol": 307,
          "ExerciseAngina": 1,
          "FastingBS": 0,
          "HeartDisease": 1,
          "MaxHR": 146,
          "RestingBP": 145,
          "Sex": 0
         },
         {
          "Age": 51,
          "Cholesterol": 160,
          "ExerciseAngina": 0,
          "FastingBS": 0,
          "HeartDisease": 1,
          "MaxHR": 150,
          "RestingBP": 135,
          "Sex": 1
         },
         {
          "Age": 50,
          "Cholesterol": 328,
          "ExerciseAngina": 1,
          "FastingBS": 0,
          "HeartDisease": 0,
          "MaxHR": 110,
          "RestingBP": 120,
          "Sex": 0
         },
         {
          "Age": 67,
          "Cholesterol": 286,
          "ExerciseAngina": 1,
          "FastingBS": 0,
          "HeartDisease": 1,
          "MaxHR": 108,
          "RestingBP": 160,
          "Sex": 1
         },
         {
          "Age": 54,
          "Cholesterol": 283,
          "ExerciseAngina": 0,
          "FastingBS": 0,
          "HeartDisease": 1,
          "MaxHR": 195,
          "RestingBP": 192,
          "Sex": 1
         },
         {
          "Age": 58,
          "Cholesterol": 284,
          "ExerciseAngina": 0,
          "FastingBS": 0,
          "HeartDisease": 1,
          "MaxHR": 160,
          "RestingBP": 120,
          "Sex": 1
         },
         {
          "Age": 57,
          "Cholesterol": 264,
          "ExerciseAngina": 0,
          "FastingBS": 0,
          "HeartDisease": 1,
          "MaxHR": 100,
          "RestingBP": 122,
          "Sex": 1
         },
         {
          "Age": 45,
          "Cholesterol": 224,
          "ExerciseAngina": 0,
          "FastingBS": 1,
          "HeartDisease": 0,
          "MaxHR": 122,
          "RestingBP": 140,
          "Sex": 1
         },
         {
          "Age": 52,
          "Cholesterol": 266,
          "ExerciseAngina": 1,
          "FastingBS": 0,
          "HeartDisease": 1,
          "MaxHR": 134,
          "RestingBP": 140,
          "Sex": 1
         },
         {
          "Age": 52,
          "Cholesterol": 182,
          "ExerciseAngina": 0,
          "FastingBS": 0,
          "HeartDisease": 1,
          "MaxHR": 150,
          "RestingBP": 120,
          "Sex": 1
         },
         {
          "Age": 52,
          "Cholesterol": 233,
          "ExerciseAngina": 0,
          "FastingBS": 1,
          "HeartDisease": 0,
          "MaxHR": 147,
          "RestingBP": 108,
          "Sex": 1
         },
         {
          "Age": 56,
          "Cholesterol": 279,
          "ExerciseAngina": 0,
          "FastingBS": 0,
          "HeartDisease": 1,
          "MaxHR": 150,
          "RestingBP": 120,
          "Sex": 0
         },
         {
          "Age": 60,
          "Cholesterol": 186,
          "ExerciseAngina": 1,
          "FastingBS": 1,
          "HeartDisease": 1,
          "MaxHR": 140,
          "RestingBP": 130,
          "Sex": 1
         },
         {
          "Age": 68,
          "Cholesterol": 254,
          "ExerciseAngina": 1,
          "FastingBS": 1,
          "HeartDisease": 0,
          "MaxHR": 151,
          "RestingBP": 134,
          "Sex": 1
         },
         {
          "Age": 69,
          "Cholesterol": 210,
          "ExerciseAngina": 1,
          "FastingBS": 1,
          "HeartDisease": 1,
          "MaxHR": 112,
          "RestingBP": 142,
          "Sex": 1
         },
         {
          "Age": 30,
          "Cholesterol": 237,
          "ExerciseAngina": 0,
          "FastingBS": 0,
          "HeartDisease": 0,
          "MaxHR": 170,
          "RestingBP": 170,
          "Sex": 0
         },
         {
          "Age": 59,
          "Cholesterol": 274,
          "ExerciseAngina": 1,
          "FastingBS": 0,
          "HeartDisease": 0,
          "MaxHR": 154,
          "RestingBP": 140,
          "Sex": 1
         },
         {
          "Age": 56,
          "Cholesterol": 294,
          "ExerciseAngina": 0,
          "FastingBS": 0,
          "HeartDisease": 0,
          "MaxHR": 153,
          "RestingBP": 140,
          "Sex": 0
         },
         {
          "Age": 56,
          "Cholesterol": 388,
          "ExerciseAngina": 1,
          "FastingBS": 0,
          "HeartDisease": 1,
          "MaxHR": 122,
          "RestingBP": 170,
          "Sex": 1
         },
         {
          "Age": 40,
          "Cholesterol": 199,
          "ExerciseAngina": 1,
          "FastingBS": 0,
          "HeartDisease": 0,
          "MaxHR": 178,
          "RestingBP": 140,
          "Sex": 1
         },
         {
          "Age": 59,
          "Cholesterol": 288,
          "ExerciseAngina": 0,
          "FastingBS": 0,
          "HeartDisease": 1,
          "MaxHR": 159,
          "RestingBP": 170,
          "Sex": 1
         },
         {
          "Age": 55,
          "Cholesterol": 256,
          "ExerciseAngina": 0,
          "FastingBS": 1,
          "HeartDisease": 0,
          "MaxHR": 137,
          "RestingBP": 120,
          "Sex": 1
         },
         {
          "Age": 58,
          "Cholesterol": 251,
          "ExerciseAngina": 0,
          "FastingBS": 0,
          "HeartDisease": 0,
          "MaxHR": 110,
          "RestingBP": 130,
          "Sex": 1
         },
         {
          "Age": 55,
          "Cholesterol": 205,
          "ExerciseAngina": 1,
          "FastingBS": 0,
          "HeartDisease": 1,
          "MaxHR": 130,
          "RestingBP": 128,
          "Sex": 0
         },
         {
          "Age": 44,
          "Cholesterol": 288,
          "ExerciseAngina": 1,
          "FastingBS": 0,
          "HeartDisease": 1,
          "MaxHR": 150,
          "RestingBP": 150,
          "Sex": 1
         },
         {
          "Age": 56,
          "Cholesterol": 184,
          "ExerciseAngina": 1,
          "FastingBS": 0,
          "HeartDisease": 1,
          "MaxHR": 105,
          "RestingBP": 132,
          "Sex": 1
         },
         {
          "Age": 48,
          "Cholesterol": 256,
          "ExerciseAngina": 1,
          "FastingBS": 1,
          "HeartDisease": 1,
          "MaxHR": 150,
          "RestingBP": 130,
          "Sex": 1
         },
         {
          "Age": 71,
          "Cholesterol": 265,
          "ExerciseAngina": 0,
          "FastingBS": 1,
          "HeartDisease": 0,
          "MaxHR": 130,
          "RestingBP": 110,
          "Sex": 0
         },
         {
          "Age": 63,
          "Cholesterol": 165,
          "ExerciseAngina": 0,
          "FastingBS": 0,
          "HeartDisease": 0,
          "MaxHR": 133,
          "RestingBP": 136,
          "Sex": 1
         },
         {
          "Age": 52,
          "Cholesterol": 205,
          "ExerciseAngina": 0,
          "FastingBS": 1,
          "HeartDisease": 0,
          "MaxHR": 184,
          "RestingBP": 128,
          "Sex": 1
         },
         {
          "Age": 74,
          "Cholesterol": 216,
          "ExerciseAngina": 1,
          "FastingBS": 1,
          "HeartDisease": 1,
          "MaxHR": 116,
          "RestingBP": 145,
          "Sex": 1
         },
         {
          "Age": 57,
          "Cholesterol": 276,
          "ExerciseAngina": 1,
          "FastingBS": 0,
          "HeartDisease": 1,
          "MaxHR": 112,
          "RestingBP": 150,
          "Sex": 1
         },
         {
          "Age": 56,
          "Cholesterol": 167,
          "ExerciseAngina": 0,
          "FastingBS": 0,
          "HeartDisease": 0,
          "MaxHR": 114,
          "RestingBP": 130,
          "Sex": 1
         },
         {
          "Age": 52,
          "Cholesterol": 223,
          "ExerciseAngina": 0,
          "FastingBS": 0,
          "HeartDisease": 0,
          "MaxHR": 169,
          "RestingBP": 138,
          "Sex": 1
         },
         {
          "Age": 42,
          "Cholesterol": 209,
          "ExerciseAngina": 0,
          "FastingBS": 0,
          "HeartDisease": 0,
          "MaxHR": 173,
          "RestingBP": 120,
          "Sex": 0
         },
         {
          "Age": 45,
          "Cholesterol": 192,
          "ExerciseAngina": 0,
          "FastingBS": 0,
          "HeartDisease": 0,
          "MaxHR": 110,
          "RestingBP": 135,
          "Sex": 1
         },
         {
          "Age": 31,
          "Cholesterol": 219,
          "ExerciseAngina": 0,
          "FastingBS": 0,
          "HeartDisease": 0,
          "MaxHR": 150,
          "RestingBP": 100,
          "Sex": 0
         },
         {
          "Age": 55,
          "Cholesterol": 295,
          "ExerciseAngina": 0,
          "FastingBS": 0,
          "HeartDisease": 1,
          "MaxHR": 136,
          "RestingBP": 140,
          "Sex": 1
         },
         {
          "Age": 49,
          "Cholesterol": 207,
          "ExerciseAngina": 0,
          "FastingBS": 0,
          "HeartDisease": 0,
          "MaxHR": 135,
          "RestingBP": 130,
          "Sex": 0
         },
         {
          "Age": 62,
          "Cholesterol": 297,
          "ExerciseAngina": 1,
          "FastingBS": 0,
          "HeartDisease": 1,
          "MaxHR": 130,
          "RestingBP": 135,
          "Sex": 1
         },
         {
          "Age": 70,
          "Cholesterol": 174,
          "ExerciseAngina": 1,
          "FastingBS": 0,
          "HeartDisease": 1,
          "MaxHR": 125,
          "RestingBP": 145,
          "Sex": 1
         },
         {
          "Age": 60,
          "Cholesterol": 258,
          "ExerciseAngina": 1,
          "FastingBS": 0,
          "HeartDisease": 1,
          "MaxHR": 141,
          "RestingBP": 125,
          "Sex": 1
         },
         {
          "Age": 61,
          "Cholesterol": 260,
          "ExerciseAngina": 1,
          "FastingBS": 0,
          "HeartDisease": 1,
          "MaxHR": 140,
          "RestingBP": 120,
          "Sex": 1
         },
         {
          "Age": 50,
          "Cholesterol": 233,
          "ExerciseAngina": 0,
          "FastingBS": 0,
          "HeartDisease": 1,
          "MaxHR": 163,
          "RestingBP": 140,
          "Sex": 1
         },
         {
          "Age": 47,
          "Cholesterol": 193,
          "ExerciseAngina": 1,
          "FastingBS": 0,
          "HeartDisease": 1,
          "MaxHR": 145,
          "RestingBP": 140,
          "Sex": 1
         },
         {
          "Age": 49,
          "Cholesterol": 142,
          "ExerciseAngina": 1,
          "FastingBS": 0,
          "HeartDisease": 1,
          "MaxHR": 127,
          "RestingBP": 131,
          "Sex": 1
         },
         {
          "Age": 47,
          "Cholesterol": 257,
          "ExerciseAngina": 0,
          "FastingBS": 0,
          "HeartDisease": 0,
          "MaxHR": 156,
          "RestingBP": 138,
          "Sex": 1
         },
         {
          "Age": 51,
          "Cholesterol": 227,
          "ExerciseAngina": 0,
          "FastingBS": 1,
          "HeartDisease": 0,
          "MaxHR": 138,
          "RestingBP": 132,
          "Sex": 1
         },
         {
          "Age": 41,
          "Cholesterol": 214,
          "ExerciseAngina": 0,
          "FastingBS": 0,
          "HeartDisease": 0,
          "MaxHR": 168,
          "RestingBP": 130,
          "Sex": 1
         },
         {
          "Age": 57,
          "Cholesterol": 274,
          "ExerciseAngina": 1,
          "FastingBS": 0,
          "HeartDisease": 1,
          "MaxHR": 88,
          "RestingBP": 152,
          "Sex": 1
         },
         {
          "Age": 71,
          "Cholesterol": 221,
          "ExerciseAngina": 1,
          "FastingBS": 0,
          "HeartDisease": 1,
          "MaxHR": 108,
          "RestingBP": 144,
          "Sex": 1
         },
         {
          "Age": 39,
          "Cholesterol": 339,
          "ExerciseAngina": 0,
          "FastingBS": 0,
          "HeartDisease": 0,
          "MaxHR": 170,
          "RestingBP": 120,
          "Sex": 1
         },
         {
          "Age": 44,
          "Cholesterol": 219,
          "ExerciseAngina": 0,
          "FastingBS": 0,
          "HeartDisease": 0,
          "MaxHR": 188,
          "RestingBP": 130,
          "Sex": 1
         },
         {
          "Age": 59,
          "Cholesterol": 271,
          "ExerciseAngina": 0,
          "FastingBS": 0,
          "HeartDisease": 0,
          "MaxHR": 182,
          "RestingBP": 138,
          "Sex": 1
         },
         {
          "Age": 46,
          "Cholesterol": 204,
          "ExerciseAngina": 0,
          "FastingBS": 0,
          "HeartDisease": 0,
          "MaxHR": 172,
          "RestingBP": 105,
          "Sex": 0
         },
         {
          "Age": 48,
          "Cholesterol": 163,
          "ExerciseAngina": 0,
          "FastingBS": 0,
          "HeartDisease": 0,
          "MaxHR": 175,
          "RestingBP": 108,
          "Sex": 0
         },
         {
          "Age": 53,
          "Cholesterol": 216,
          "ExerciseAngina": 0,
          "FastingBS": 0,
          "HeartDisease": 0,
          "MaxHR": 115,
          "RestingBP": 128,
          "Sex": 0
         },
         {
          "Age": 46,
          "Cholesterol": 275,
          "ExerciseAngina": 1,
          "FastingBS": 0,
          "HeartDisease": 0,
          "MaxHR": 165,
          "RestingBP": 140,
          "Sex": 1
         },
         {
          "Age": 48,
          "Cholesterol": 254,
          "ExerciseAngina": 0,
          "FastingBS": 0,
          "HeartDisease": 0,
          "MaxHR": 110,
          "RestingBP": 120,
          "Sex": 0
         },
         {
          "Age": 51,
          "Cholesterol": 258,
          "ExerciseAngina": 0,
          "FastingBS": 1,
          "HeartDisease": 0,
          "MaxHR": 96,
          "RestingBP": 114,
          "Sex": 0
         },
         {
          "Age": 37,
          "Cholesterol": 194,
          "ExerciseAngina": 0,
          "FastingBS": 0,
          "HeartDisease": 0,
          "MaxHR": 150,
          "RestingBP": 130,
          "Sex": 1
         },
         {
          "Age": 62,
          "Cholesterol": 204,
          "ExerciseAngina": 1,
          "FastingBS": 0,
          "HeartDisease": 1,
          "MaxHR": 122,
          "RestingBP": 138,
          "Sex": 1
         },
         {
          "Age": 44,
          "Cholesterol": 226,
          "ExerciseAngina": 0,
          "FastingBS": 0,
          "HeartDisease": 0,
          "MaxHR": 169,
          "RestingBP": 120,
          "Sex": 1
         },
         {
          "Age": 54,
          "Cholesterol": 267,
          "ExerciseAngina": 0,
          "FastingBS": 0,
          "HeartDisease": 0,
          "MaxHR": 167,
          "RestingBP": 108,
          "Sex": 0
         },
         {
          "Age": 64,
          "Cholesterol": 223,
          "ExerciseAngina": 0,
          "FastingBS": 0,
          "HeartDisease": 0,
          "MaxHR": 128,
          "RestingBP": 130,
          "Sex": 1
         },
         {
          "Age": 62,
          "Cholesterol": 153,
          "ExerciseAngina": 1,
          "FastingBS": 0,
          "HeartDisease": 1,
          "MaxHR": 97,
          "RestingBP": 152,
          "Sex": 1
         },
         {
          "Age": 36,
          "Cholesterol": 340,
          "ExerciseAngina": 0,
          "FastingBS": 0,
          "HeartDisease": 0,
          "MaxHR": 184,
          "RestingBP": 112,
          "Sex": 1
         },
         {
          "Age": 59,
          "Cholesterol": 233,
          "ExerciseAngina": 1,
          "FastingBS": 0,
          "HeartDisease": 1,
          "MaxHR": 117,
          "RestingBP": 122,
          "Sex": 1
         },
         {
          "Age": 54,
          "Cholesterol": 224,
          "ExerciseAngina": 0,
          "FastingBS": 0,
          "HeartDisease": 1,
          "MaxHR": 122,
          "RestingBP": 125,
          "Sex": 1
         },
         {
          "Age": 74,
          "Cholesterol": 269,
          "ExerciseAngina": 1,
          "FastingBS": 0,
          "HeartDisease": 0,
          "MaxHR": 121,
          "RestingBP": 120,
          "Sex": 0
         },
         {
          "Age": 54,
          "Cholesterol": 216,
          "ExerciseAngina": 0,
          "FastingBS": 0,
          "HeartDisease": 1,
          "MaxHR": 140,
          "RestingBP": 125,
          "Sex": 1
         },
         {
          "Age": 55,
          "Cholesterol": 320,
          "ExerciseAngina": 0,
          "FastingBS": 0,
          "HeartDisease": 0,
          "MaxHR": 155,
          "RestingBP": 122,
          "Sex": 0
         },
         {
          "Age": 60,
          "Cholesterol": 316,
          "ExerciseAngina": 1,
          "FastingBS": 1,
          "HeartDisease": 1,
          "MaxHR": 122,
          "RestingBP": 141,
          "Sex": 1
         },
         {
          "Age": 55,
          "Cholesterol": 344,
          "ExerciseAngina": 0,
          "FastingBS": 0,
          "HeartDisease": 0,
          "MaxHR": 160,
          "RestingBP": 110,
          "Sex": 0
         },
         {
          "Age": 34,
          "Cholesterol": 214,
          "ExerciseAngina": 0,
          "FastingBS": 0,
          "HeartDisease": 0,
          "MaxHR": 168,
          "RestingBP": 150,
          "Sex": 1
         },
         {
          "Age": 52,
          "Cholesterol": 186,
          "ExerciseAngina": 0,
          "FastingBS": 0,
          "HeartDisease": 0,
          "MaxHR": 190,
          "RestingBP": 118,
          "Sex": 1
         },
         {
          "Age": 62,
          "Cholesterol": 170,
          "ExerciseAngina": 1,
          "FastingBS": 0,
          "HeartDisease": 1,
          "MaxHR": 120,
          "RestingBP": 139,
          "Sex": 1
         },
         {
          "Age": 63,
          "Cholesterol": 254,
          "ExerciseAngina": 0,
          "FastingBS": 0,
          "HeartDisease": 1,
          "MaxHR": 147,
          "RestingBP": 130,
          "Sex": 1
         },
         {
          "Age": 52,
          "Cholesterol": 230,
          "ExerciseAngina": 0,
          "FastingBS": 0,
          "HeartDisease": 1,
          "MaxHR": 160,
          "RestingBP": 112,
          "Sex": 1
         },
         {
          "Age": 55,
          "Cholesterol": 327,
          "ExerciseAngina": 1,
          "FastingBS": 0,
          "HeartDisease": 1,
          "MaxHR": 117,
          "RestingBP": 180,
          "Sex": 0
         },
         {
          "Age": 60,
          "Cholesterol": 258,
          "ExerciseAngina": 0,
          "FastingBS": 0,
          "HeartDisease": 1,
          "MaxHR": 157,
          "RestingBP": 150,
          "Sex": 0
         },
         {
          "Age": 53,
          "Cholesterol": 216,
          "ExerciseAngina": 1,
          "FastingBS": 0,
          "HeartDisease": 0,
          "MaxHR": 142,
          "RestingBP": 140,
          "Sex": 0
         },
         {
          "Age": 66,
          "Cholesterol": 228,
          "ExerciseAngina": 1,
          "FastingBS": 1,
          "HeartDisease": 1,
          "MaxHR": 165,
          "RestingBP": 178,
          "Sex": 0
         },
         {
          "Age": 46,
          "Cholesterol": 272,
          "ExerciseAngina": 0,
          "FastingBS": 1,
          "HeartDisease": 1,
          "MaxHR": 175,
          "RestingBP": 140,
          "Sex": 1
         },
         {
          "Age": 62,
          "Cholesterol": 220,
          "ExerciseAngina": 0,
          "FastingBS": 0,
          "HeartDisease": 0,
          "MaxHR": 86,
          "RestingBP": 120,
          "Sex": 1
         },
         {
          "Age": 48,
          "Cholesterol": 263,
          "ExerciseAngina": 0,
          "FastingBS": 1,
          "HeartDisease": 1,
          "MaxHR": 110,
          "RestingBP": 106,
          "Sex": 1
         },
         {
          "Age": 60,
          "Cholesterol": 218,
          "ExerciseAngina": 1,
          "FastingBS": 0,
          "HeartDisease": 1,
          "MaxHR": 140,
          "RestingBP": 132,
          "Sex": 1
         },
         {
          "Age": 59,
          "Cholesterol": 177,
          "ExerciseAngina": 1,
          "FastingBS": 0,
          "HeartDisease": 1,
          "MaxHR": 162,
          "RestingBP": 140,
          "Sex": 1
         },
         {
          "Age": 58,
          "Cholesterol": 197,
          "ExerciseAngina": 0,
          "FastingBS": 0,
          "HeartDisease": 0,
          "MaxHR": 131,
          "RestingBP": 130,
          "Sex": 0
         },
         {
          "Age": 60,
          "Cholesterol": 185,
          "ExerciseAngina": 0,
          "FastingBS": 0,
          "HeartDisease": 1,
          "MaxHR": 155,
          "RestingBP": 140,
          "Sex": 1
         },
         {
          "Age": 41,
          "Cholesterol": 306,
          "ExerciseAngina": 0,
          "FastingBS": 0,
          "HeartDisease": 0,
          "MaxHR": 163,
          "RestingBP": 126,
          "Sex": 0
         },
         {
          "Age": 61,
          "Cholesterol": 284,
          "ExerciseAngina": 1,
          "FastingBS": 0,
          "HeartDisease": 1,
          "MaxHR": 123,
          "RestingBP": 140,
          "Sex": 1
         },
         {
          "Age": 43,
          "Cholesterol": 247,
          "ExerciseAngina": 1,
          "FastingBS": 1,
          "HeartDisease": 1,
          "MaxHR": 143,
          "RestingBP": 132,
          "Sex": 1
         },
         {
          "Age": 51,
          "Cholesterol": 308,
          "ExerciseAngina": 0,
          "FastingBS": 0,
          "HeartDisease": 0,
          "MaxHR": 142,
          "RestingBP": 140,
          "Sex": 0
         },
         {
          "Age": 68,
          "Cholesterol": 211,
          "ExerciseAngina": 0,
          "FastingBS": 0,
          "HeartDisease": 0,
          "MaxHR": 115,
          "RestingBP": 120,
          "Sex": 0
         },
         {
          "Age": 53,
          "Cholesterol": 203,
          "ExerciseAngina": 1,
          "FastingBS": 1,
          "HeartDisease": 1,
          "MaxHR": 155,
          "RestingBP": 140,
          "Sex": 1
         },
         {
          "Age": 39,
          "Cholesterol": 204,
          "ExerciseAngina": 0,
          "FastingBS": 0,
          "HeartDisease": 0,
          "MaxHR": 145,
          "RestingBP": 120,
          "Sex": 1
         },
         {
          "Age": 51,
          "Cholesterol": 152,
          "ExerciseAngina": 1,
          "FastingBS": 1,
          "HeartDisease": 1,
          "MaxHR": 130,
          "RestingBP": 131,
          "Sex": 1
         },
         {
          "Age": 59,
          "Cholesterol": 218,
          "ExerciseAngina": 0,
          "FastingBS": 1,
          "HeartDisease": 1,
          "MaxHR": 134,
          "RestingBP": 126,
          "Sex": 1
         },
         {
          "Age": 54,
          "Cholesterol": 201,
          "ExerciseAngina": 0,
          "FastingBS": 0,
          "HeartDisease": 0,
          "MaxHR": 163,
          "RestingBP": 160,
          "Sex": 0
         },
         {
          "Age": 56,
          "Cholesterol": 85,
          "ExerciseAngina": 0,
          "FastingBS": 0,
          "HeartDisease": 0,
          "MaxHR": 140,
          "RestingBP": 120,
          "Sex": 1
         },
         {
          "Age": 59,
          "Cholesterol": 169,
          "ExerciseAngina": 0,
          "FastingBS": 0,
          "HeartDisease": 0,
          "MaxHR": 140,
          "RestingBP": 140,
          "Sex": 1
         },
         {
          "Age": 51,
          "Cholesterol": 261,
          "ExerciseAngina": 1,
          "FastingBS": 0,
          "HeartDisease": 0,
          "MaxHR": 186,
          "RestingBP": 140,
          "Sex": 1
         },
         {
          "Age": 36,
          "Cholesterol": 160,
          "ExerciseAngina": 0,
          "FastingBS": 0,
          "HeartDisease": 0,
          "MaxHR": 172,
          "RestingBP": 150,
          "Sex": 1
         },
         {
          "Age": 58,
          "Cholesterol": 234,
          "ExerciseAngina": 0,
          "FastingBS": 0,
          "HeartDisease": 1,
          "MaxHR": 156,
          "RestingBP": 100,
          "Sex": 1
         },
         {
          "Age": 51,
          "Cholesterol": 218,
          "ExerciseAngina": 0,
          "FastingBS": 1,
          "HeartDisease": 0,
          "MaxHR": 139,
          "RestingBP": 132,
          "Sex": 1
         },
         {
          "Age": 64,
          "Cholesterol": 303,
          "ExerciseAngina": 0,
          "FastingBS": 0,
          "HeartDisease": 0,
          "MaxHR": 122,
          "RestingBP": 130,
          "Sex": 0
         },
         {
          "Age": 52,
          "Cholesterol": 225,
          "ExerciseAngina": 0,
          "FastingBS": 0,
          "HeartDisease": 0,
          "MaxHR": 140,
          "RestingBP": 140,
          "Sex": 0
         },
         {
          "Age": 63,
          "Cholesterol": 187,
          "ExerciseAngina": 1,
          "FastingBS": 0,
          "HeartDisease": 1,
          "MaxHR": 144,
          "RestingBP": 140,
          "Sex": 1
         },
         {
          "Age": 60,
          "Cholesterol": 195,
          "ExerciseAngina": 0,
          "FastingBS": 0,
          "HeartDisease": 0,
          "MaxHR": 126,
          "RestingBP": 136,
          "Sex": 1
         },
         {
          "Age": 53,
          "Cholesterol": 197,
          "ExerciseAngina": 0,
          "FastingBS": 1,
          "HeartDisease": 0,
          "MaxHR": 152,
          "RestingBP": 130,
          "Sex": 1
         },
         {
          "Age": 57,
          "Cholesterol": 311,
          "ExerciseAngina": 1,
          "FastingBS": 1,
          "HeartDisease": 1,
          "MaxHR": 148,
          "RestingBP": 130,
          "Sex": 1
         },
         {
          "Age": 66,
          "Cholesterol": 226,
          "ExerciseAngina": 0,
          "FastingBS": 0,
          "HeartDisease": 0,
          "MaxHR": 114,
          "RestingBP": 150,
          "Sex": 0
         },
         {
          "Age": 42,
          "Cholesterol": 240,
          "ExerciseAngina": 0,
          "FastingBS": 0,
          "HeartDisease": 0,
          "MaxHR": 160,
          "RestingBP": 134,
          "Sex": 1
         },
         {
          "Age": 50,
          "Cholesterol": 288,
          "ExerciseAngina": 1,
          "FastingBS": 0,
          "HeartDisease": 1,
          "MaxHR": 140,
          "RestingBP": 140,
          "Sex": 0
         },
         {
          "Age": 63,
          "Cholesterol": 269,
          "ExerciseAngina": 1,
          "FastingBS": 0,
          "HeartDisease": 1,
          "MaxHR": 169,
          "RestingBP": 108,
          "Sex": 0
         },
         {
          "Age": 58,
          "Cholesterol": 240,
          "ExerciseAngina": 1,
          "FastingBS": 0,
          "HeartDisease": 0,
          "MaxHR": 154,
          "RestingBP": 105,
          "Sex": 1
         },
         {
          "Age": 54,
          "Cholesterol": 273,
          "ExerciseAngina": 0,
          "FastingBS": 0,
          "HeartDisease": 0,
          "MaxHR": 150,
          "RestingBP": 120,
          "Sex": 0
         },
         {
          "Age": 46,
          "Cholesterol": 163,
          "ExerciseAngina": 0,
          "FastingBS": 0,
          "HeartDisease": 0,
          "MaxHR": 116,
          "RestingBP": 150,
          "Sex": 1
         },
         {
          "Age": 42,
          "Cholesterol": 315,
          "ExerciseAngina": 1,
          "FastingBS": 0,
          "HeartDisease": 1,
          "MaxHR": 125,
          "RestingBP": 136,
          "Sex": 1
         },
         {
          "Age": 39,
          "Cholesterol": 199,
          "ExerciseAngina": 0,
          "FastingBS": 0,
          "HeartDisease": 0,
          "MaxHR": 179,
          "RestingBP": 94,
          "Sex": 0
         },
         {
          "Age": 28,
          "Cholesterol": 132,
          "ExerciseAngina": 0,
          "FastingBS": 0,
          "HeartDisease": 0,
          "MaxHR": 185,
          "RestingBP": 130,
          "Sex": 1
         },
         {
          "Age": 41,
          "Cholesterol": 250,
          "ExerciseAngina": 0,
          "FastingBS": 0,
          "HeartDisease": 0,
          "MaxHR": 179,
          "RestingBP": 112,
          "Sex": 1
         },
         {
          "Age": 59,
          "Cholesterol": 338,
          "ExerciseAngina": 1,
          "FastingBS": 1,
          "HeartDisease": 1,
          "MaxHR": 130,
          "RestingBP": 130,
          "Sex": 0
         },
         {
          "Age": 67,
          "Cholesterol": 384,
          "ExerciseAngina": 1,
          "FastingBS": 1,
          "HeartDisease": 1,
          "MaxHR": 130,
          "RestingBP": 160,
          "Sex": 1
         },
         {
          "Age": 47,
          "Cholesterol": 257,
          "ExerciseAngina": 0,
          "FastingBS": 0,
          "HeartDisease": 0,
          "MaxHR": 135,
          "RestingBP": 140,
          "Sex": 0
         },
         {
          "Age": 56,
          "Cholesterol": 276,
          "ExerciseAngina": 1,
          "FastingBS": 0,
          "HeartDisease": 0,
          "MaxHR": 128,
          "RestingBP": 130,
          "Sex": 1
         },
         {
          "Age": 67,
          "Cholesterol": 212,
          "ExerciseAngina": 0,
          "FastingBS": 0,
          "HeartDisease": 1,
          "MaxHR": 150,
          "RestingBP": 152,
          "Sex": 1
         },
         {
          "Age": 58,
          "Cholesterol": 230,
          "ExerciseAngina": 0,
          "FastingBS": 0,
          "HeartDisease": 1,
          "MaxHR": 165,
          "RestingBP": 112,
          "Sex": 1
         },
         {
          "Age": 57,
          "Cholesterol": 354,
          "ExerciseAngina": 1,
          "FastingBS": 0,
          "HeartDisease": 0,
          "MaxHR": 163,
          "RestingBP": 120,
          "Sex": 0
         },
         {
          "Age": 29,
          "Cholesterol": 204,
          "ExerciseAngina": 0,
          "FastingBS": 0,
          "HeartDisease": 0,
          "MaxHR": 202,
          "RestingBP": 130,
          "Sex": 1
         },
         {
          "Age": 45,
          "Cholesterol": 308,
          "ExerciseAngina": 0,
          "FastingBS": 0,
          "HeartDisease": 0,
          "MaxHR": 170,
          "RestingBP": 128,
          "Sex": 1
         },
         {
          "Age": 53,
          "Cholesterol": 182,
          "ExerciseAngina": 0,
          "FastingBS": 0,
          "HeartDisease": 0,
          "MaxHR": 148,
          "RestingBP": 130,
          "Sex": 1
         },
         {
          "Age": 62,
          "Cholesterol": 139,
          "ExerciseAngina": 0,
          "FastingBS": 0,
          "HeartDisease": 0,
          "MaxHR": 137,
          "RestingBP": 135,
          "Sex": 1
         },
         {
          "Age": 39,
          "Cholesterol": 321,
          "ExerciseAngina": 0,
          "FastingBS": 0,
          "HeartDisease": 0,
          "MaxHR": 182,
          "RestingBP": 140,
          "Sex": 1
         },
         {
          "Age": 37,
          "Cholesterol": 223,
          "ExerciseAngina": 0,
          "FastingBS": 0,
          "HeartDisease": 0,
          "MaxHR": 168,
          "RestingBP": 120,
          "Sex": 1
         },
         {
          "Age": 59,
          "Cholesterol": 204,
          "ExerciseAngina": 0,
          "FastingBS": 0,
          "HeartDisease": 1,
          "MaxHR": 162,
          "RestingBP": 134,
          "Sex": 1
         },
         {
          "Age": 58,
          "Cholesterol": 224,
          "ExerciseAngina": 0,
          "FastingBS": 0,
          "HeartDisease": 1,
          "MaxHR": 173,
          "RestingBP": 132,
          "Sex": 1
         },
         {
          "Age": 38,
          "Cholesterol": 292,
          "ExerciseAngina": 0,
          "FastingBS": 0,
          "HeartDisease": 0,
          "MaxHR": 130,
          "RestingBP": 145,
          "Sex": 1
         },
         {
          "Age": 43,
          "Cholesterol": 247,
          "ExerciseAngina": 0,
          "FastingBS": 0,
          "HeartDisease": 0,
          "MaxHR": 171,
          "RestingBP": 150,
          "Sex": 1
         },
         {
          "Age": 64,
          "Cholesterol": 193,
          "ExerciseAngina": 1,
          "FastingBS": 0,
          "HeartDisease": 1,
          "MaxHR": 135,
          "RestingBP": 150,
          "Sex": 1
         },
         {
          "Age": 57,
          "Cholesterol": 201,
          "ExerciseAngina": 1,
          "FastingBS": 0,
          "HeartDisease": 0,
          "MaxHR": 126,
          "RestingBP": 110,
          "Sex": 1
         },
         {
          "Age": 43,
          "Cholesterol": 215,
          "ExerciseAngina": 0,
          "FastingBS": 0,
          "HeartDisease": 0,
          "MaxHR": 175,
          "RestingBP": 120,
          "Sex": 0
         },
         {
          "Age": 65,
          "Cholesterol": 269,
          "ExerciseAngina": 0,
          "FastingBS": 0,
          "HeartDisease": 0,
          "MaxHR": 148,
          "RestingBP": 155,
          "Sex": 0
         },
         {
          "Age": 39,
          "Cholesterol": 215,
          "ExerciseAngina": 0,
          "FastingBS": 0,
          "HeartDisease": 0,
          "MaxHR": 120,
          "RestingBP": 130,
          "Sex": 1
         },
         {
          "Age": 52,
          "Cholesterol": 246,
          "ExerciseAngina": 1,
          "FastingBS": 0,
          "HeartDisease": 1,
          "MaxHR": 82,
          "RestingBP": 160,
          "Sex": 1
         },
         {
          "Age": 53,
          "Cholesterol": 260,
          "ExerciseAngina": 1,
          "FastingBS": 0,
          "HeartDisease": 0,
          "MaxHR": 112,
          "RestingBP": 124,
          "Sex": 1
         },
         {
          "Age": 38,
          "Cholesterol": 289,
          "ExerciseAngina": 1,
          "FastingBS": 0,
          "HeartDisease": 1,
          "MaxHR": 105,
          "RestingBP": 110,
          "Sex": 1
         },
         {
          "Age": 47,
          "Cholesterol": 291,
          "ExerciseAngina": 1,
          "FastingBS": 0,
          "HeartDisease": 1,
          "MaxHR": 158,
          "RestingBP": 160,
          "Sex": 1
         },
         {
          "Age": 49,
          "Cholesterol": 180,
          "ExerciseAngina": 0,
          "FastingBS": 0,
          "HeartDisease": 1,
          "MaxHR": 156,
          "RestingBP": 160,
          "Sex": 0
         },
         {
          "Age": 55,
          "Cholesterol": 185,
          "ExerciseAngina": 0,
          "FastingBS": 0,
          "HeartDisease": 0,
          "MaxHR": 136,
          "RestingBP": 133,
          "Sex": 1
         },
         {
          "Age": 42,
          "Cholesterol": 265,
          "ExerciseAngina": 0,
          "FastingBS": 0,
          "HeartDisease": 0,
          "MaxHR": 122,
          "RestingBP": 102,
          "Sex": 0
         },
         {
          "Age": 45,
          "Cholesterol": 264,
          "ExerciseAngina": 0,
          "FastingBS": 0,
          "HeartDisease": 1,
          "MaxHR": 132,
          "RestingBP": 110,
          "Sex": 1
         },
         {
          "Age": 46,
          "Cholesterol": 243,
          "ExerciseAngina": 1,
          "FastingBS": 0,
          "HeartDisease": 0,
          "MaxHR": 152,
          "RestingBP": 138,
          "Sex": 0
         },
         {
          "Age": 65,
          "Cholesterol": 177,
          "ExerciseAngina": 0,
          "FastingBS": 0,
          "HeartDisease": 0,
          "MaxHR": 140,
          "RestingBP": 120,
          "Sex": 1
         },
         {
          "Age": 62,
          "Cholesterol": 170,
          "ExerciseAngina": 1,
          "FastingBS": 0,
          "HeartDisease": 1,
          "MaxHR": 138,
          "RestingBP": 158,
          "Sex": 1
         },
         {
          "Age": 44,
          "Cholesterol": 491,
          "ExerciseAngina": 0,
          "FastingBS": 0,
          "HeartDisease": 1,
          "MaxHR": 135,
          "RestingBP": 135,
          "Sex": 1
         },
         {
          "Age": 48,
          "Cholesterol": 229,
          "ExerciseAngina": 0,
          "FastingBS": 0,
          "HeartDisease": 1,
          "MaxHR": 168,
          "RestingBP": 110,
          "Sex": 1
         },
         {
          "Age": 34,
          "Cholesterol": 156,
          "ExerciseAngina": 0,
          "FastingBS": 0,
          "HeartDisease": 1,
          "MaxHR": 180,
          "RestingBP": 140,
          "Sex": 1
         },
         {
          "Age": 49,
          "Cholesterol": 297,
          "ExerciseAngina": 0,
          "FastingBS": 0,
          "HeartDisease": 0,
          "MaxHR": 132,
          "RestingBP": 120,
          "Sex": 1
         },
         {
          "Age": 45,
          "Cholesterol": 234,
          "ExerciseAngina": 0,
          "FastingBS": 0,
          "HeartDisease": 0,
          "MaxHR": 175,
          "RestingBP": 130,
          "Sex": 0
         },
         {
          "Age": 68,
          "Cholesterol": 181,
          "ExerciseAngina": 0,
          "FastingBS": 1,
          "HeartDisease": 0,
          "MaxHR": 135,
          "RestingBP": 139,
          "Sex": 1
         },
         {
          "Age": 74,
          "Cholesterol": 237,
          "ExerciseAngina": 0,
          "FastingBS": 1,
          "HeartDisease": 1,
          "MaxHR": 94,
          "RestingBP": 140,
          "Sex": 1
         },
         {
          "Age": 62,
          "Cholesterol": 258,
          "ExerciseAngina": 1,
          "FastingBS": 0,
          "HeartDisease": 1,
          "MaxHR": 150,
          "RestingBP": 112,
          "Sex": 1
         },
         {
          "Age": 55,
          "Cholesterol": 160,
          "ExerciseAngina": 0,
          "FastingBS": 0,
          "HeartDisease": 0,
          "MaxHR": 150,
          "RestingBP": 150,
          "Sex": 1
         },
         {
          "Age": 54,
          "Cholesterol": 239,
          "ExerciseAngina": 0,
          "FastingBS": 0,
          "HeartDisease": 0,
          "MaxHR": 160,
          "RestingBP": 140,
          "Sex": 1
         },
         {
          "Age": 55,
          "Cholesterol": 394,
          "ExerciseAngina": 0,
          "FastingBS": 0,
          "HeartDisease": 0,
          "MaxHR": 150,
          "RestingBP": 130,
          "Sex": 0
         },
         {
          "Age": 34,
          "Cholesterol": 182,
          "ExerciseAngina": 0,
          "FastingBS": 0,
          "HeartDisease": 0,
          "MaxHR": 174,
          "RestingBP": 118,
          "Sex": 1
         },
         {
          "Age": 75,
          "Cholesterol": 225,
          "ExerciseAngina": 1,
          "FastingBS": 0,
          "HeartDisease": 1,
          "MaxHR": 112,
          "RestingBP": 136,
          "Sex": 1
         },
         {
          "Age": 46,
          "Cholesterol": 238,
          "ExerciseAngina": 1,
          "FastingBS": 0,
          "HeartDisease": 0,
          "MaxHR": 140,
          "RestingBP": 110,
          "Sex": 1
         },
         {
          "Age": 66,
          "Cholesterol": 212,
          "ExerciseAngina": 1,
          "FastingBS": 0,
          "HeartDisease": 1,
          "MaxHR": 132,
          "RestingBP": 112,
          "Sex": 1
         },
         {
          "Age": 62,
          "Cholesterol": 254,
          "ExerciseAngina": 1,
          "FastingBS": 1,
          "HeartDisease": 1,
          "MaxHR": 108,
          "RestingBP": 160,
          "Sex": 1
         },
         {
          "Age": 54,
          "Cholesterol": 239,
          "ExerciseAngina": 1,
          "FastingBS": 0,
          "HeartDisease": 1,
          "MaxHR": 126,
          "RestingBP": 110,
          "Sex": 1
         },
         {
          "Age": 65,
          "Cholesterol": 248,
          "ExerciseAngina": 1,
          "FastingBS": 0,
          "HeartDisease": 1,
          "MaxHR": 140,
          "RestingBP": 136,
          "Sex": 1
         },
         {
          "Age": 39,
          "Cholesterol": 200,
          "ExerciseAngina": 1,
          "FastingBS": 0,
          "HeartDisease": 0,
          "MaxHR": 160,
          "RestingBP": 120,
          "Sex": 1
         },
         {
          "Age": 57,
          "Cholesterol": 277,
          "ExerciseAngina": 1,
          "FastingBS": 1,
          "HeartDisease": 1,
          "MaxHR": 118,
          "RestingBP": 139,
          "Sex": 1
         },
         {
          "Age": 35,
          "Cholesterol": 161,
          "ExerciseAngina": 0,
          "FastingBS": 0,
          "HeartDisease": 0,
          "MaxHR": 153,
          "RestingBP": 123,
          "Sex": 1
         },
         {
          "Age": 40,
          "Cholesterol": 466,
          "ExerciseAngina": 1,
          "FastingBS": 1,
          "HeartDisease": 1,
          "MaxHR": 152,
          "RestingBP": 120,
          "Sex": 1
         },
         {
          "Age": 63,
          "Cholesterol": 223,
          "ExerciseAngina": 0,
          "FastingBS": 0,
          "HeartDisease": 1,
          "MaxHR": 115,
          "RestingBP": 150,
          "Sex": 1
         },
         {
          "Age": 54,
          "Cholesterol": 195,
          "ExerciseAngina": 0,
          "FastingBS": 0,
          "HeartDisease": 0,
          "MaxHR": 122,
          "RestingBP": 150,
          "Sex": 1
         },
         {
          "Age": 42,
          "Cholesterol": 358,
          "ExerciseAngina": 0,
          "FastingBS": 0,
          "HeartDisease": 0,
          "MaxHR": 170,
          "RestingBP": 140,
          "Sex": 1
         },
         {
          "Age": 37,
          "Cholesterol": 211,
          "ExerciseAngina": 0,
          "FastingBS": 0,
          "HeartDisease": 0,
          "MaxHR": 142,
          "RestingBP": 130,
          "Sex": 0
         },
         {
          "Age": 57,
          "Cholesterol": 289,
          "ExerciseAngina": 0,
          "FastingBS": 1,
          "HeartDisease": 1,
          "MaxHR": 124,
          "RestingBP": 165,
          "Sex": 1
         },
         {
          "Age": 56,
          "Cholesterol": 221,
          "ExerciseAngina": 0,
          "FastingBS": 0,
          "HeartDisease": 0,
          "MaxHR": 163,
          "RestingBP": 130,
          "Sex": 1
         },
         {
          "Age": 48,
          "Cholesterol": 268,
          "ExerciseAngina": 1,
          "FastingBS": 0,
          "HeartDisease": 1,
          "MaxHR": 103,
          "RestingBP": 160,
          "Sex": 1
         },
         {
          "Age": 46,
          "Cholesterol": 249,
          "ExerciseAngina": 0,
          "FastingBS": 0,
          "HeartDisease": 1,
          "MaxHR": 144,
          "RestingBP": 120,
          "Sex": 1
         },
         {
          "Age": 49,
          "Cholesterol": 265,
          "ExerciseAngina": 0,
          "FastingBS": 0,
          "HeartDisease": 1,
          "MaxHR": 175,
          "RestingBP": 115,
          "Sex": 1
         },
         {
          "Age": 74,
          "Cholesterol": 258,
          "ExerciseAngina": 1,
          "FastingBS": 1,
          "HeartDisease": 1,
          "MaxHR": 130,
          "RestingBP": 150,
          "Sex": 1
         },
         {
          "Age": 48,
          "Cholesterol": 222,
          "ExerciseAngina": 0,
          "FastingBS": 0,
          "HeartDisease": 0,
          "MaxHR": 186,
          "RestingBP": 122,
          "Sex": 1
         },
         {
          "Age": 51,
          "Cholesterol": 256,
          "ExerciseAngina": 0,
          "FastingBS": 0,
          "HeartDisease": 0,
          "MaxHR": 149,
          "RestingBP": 130,
          "Sex": 0
         },
         {
          "Age": 60,
          "Cholesterol": 248,
          "ExerciseAngina": 0,
          "FastingBS": 0,
          "HeartDisease": 1,
          "MaxHR": 125,
          "RestingBP": 100,
          "Sex": 1
         },
         {
          "Age": 46,
          "Cholesterol": 236,
          "ExerciseAngina": 1,
          "FastingBS": 0,
          "HeartDisease": 1,
          "MaxHR": 125,
          "RestingBP": 110,
          "Sex": 1
         },
         {
          "Age": 65,
          "Cholesterol": 263,
          "ExerciseAngina": 1,
          "FastingBS": 1,
          "HeartDisease": 1,
          "MaxHR": 112,
          "RestingBP": 170,
          "Sex": 1
         },
         {
          "Age": 41,
          "Cholesterol": 336,
          "ExerciseAngina": 1,
          "FastingBS": 0,
          "HeartDisease": 1,
          "MaxHR": 118,
          "RestingBP": 120,
          "Sex": 1
         },
         {
          "Age": 55,
          "Cholesterol": 223,
          "ExerciseAngina": 0,
          "FastingBS": 1,
          "HeartDisease": 1,
          "MaxHR": 100,
          "RestingBP": 122,
          "Sex": 1
         },
         {
          "Age": 54,
          "Cholesterol": 294,
          "ExerciseAngina": 1,
          "FastingBS": 0,
          "HeartDisease": 1,
          "MaxHR": 100,
          "RestingBP": 130,
          "Sex": 0
         },
         {
          "Age": 42,
          "Cholesterol": 244,
          "ExerciseAngina": 0,
          "FastingBS": 0,
          "HeartDisease": 0,
          "MaxHR": 178,
          "RestingBP": 148,
          "Sex": 1
         },
         {
          "Age": 59,
          "Cholesterol": 318,
          "ExerciseAngina": 1,
          "FastingBS": 0,
          "HeartDisease": 0,
          "MaxHR": 120,
          "RestingBP": 130,
          "Sex": 1
         },
         {
          "Age": 56,
          "Cholesterol": 213,
          "ExerciseAngina": 1,
          "FastingBS": 1,
          "HeartDisease": 1,
          "MaxHR": 125,
          "RestingBP": 150,
          "Sex": 1
         },
         {
          "Age": 56,
          "Cholesterol": 193,
          "ExerciseAngina": 0,
          "FastingBS": 0,
          "HeartDisease": 0,
          "MaxHR": 162,
          "RestingBP": 120,
          "Sex": 1
         },
         {
          "Age": 58,
          "Cholesterol": 283,
          "ExerciseAngina": 0,
          "FastingBS": 1,
          "HeartDisease": 0,
          "MaxHR": 162,
          "RestingBP": 150,
          "Sex": 0
         },
         {
          "Age": 41,
          "Cholesterol": 172,
          "ExerciseAngina": 0,
          "FastingBS": 0,
          "HeartDisease": 1,
          "MaxHR": 158,
          "RestingBP": 110,
          "Sex": 1
         },
         {
          "Age": 42,
          "Cholesterol": 268,
          "ExerciseAngina": 0,
          "FastingBS": 0,
          "HeartDisease": 0,
          "MaxHR": 136,
          "RestingBP": 150,
          "Sex": 1
         },
         {
          "Age": 64,
          "Cholesterol": 325,
          "ExerciseAngina": 1,
          "FastingBS": 0,
          "HeartDisease": 0,
          "MaxHR": 154,
          "RestingBP": 180,
          "Sex": 0
         },
         {
          "Age": 38,
          "Cholesterol": 282,
          "ExerciseAngina": 0,
          "FastingBS": 0,
          "HeartDisease": 1,
          "MaxHR": 170,
          "RestingBP": 120,
          "Sex": 1
         },
         {
          "Age": 54,
          "Cholesterol": 238,
          "ExerciseAngina": 0,
          "FastingBS": 0,
          "HeartDisease": 0,
          "MaxHR": 154,
          "RestingBP": 120,
          "Sex": 1
         },
         {
          "Age": 52,
          "Cholesterol": 199,
          "ExerciseAngina": 0,
          "FastingBS": 1,
          "HeartDisease": 0,
          "MaxHR": 162,
          "RestingBP": 172,
          "Sex": 1
         },
         {
          "Age": 44,
          "Cholesterol": 197,
          "ExerciseAngina": 0,
          "FastingBS": 0,
          "HeartDisease": 1,
          "MaxHR": 177,
          "RestingBP": 110,
          "Sex": 1
         },
         {
          "Age": 44,
          "Cholesterol": 235,
          "ExerciseAngina": 0,
          "FastingBS": 0,
          "HeartDisease": 0,
          "MaxHR": 180,
          "RestingBP": 140,
          "Sex": 1
         },
         {
          "Age": 43,
          "Cholesterol": 266,
          "ExerciseAngina": 0,
          "FastingBS": 0,
          "HeartDisease": 0,
          "MaxHR": 118,
          "RestingBP": 120,
          "Sex": 0
         },
         {
          "Age": 42,
          "Cholesterol": 211,
          "ExerciseAngina": 0,
          "FastingBS": 0,
          "HeartDisease": 0,
          "MaxHR": 137,
          "RestingBP": 115,
          "Sex": 0
         },
         {
          "Age": 43,
          "Cholesterol": 303,
          "ExerciseAngina": 0,
          "FastingBS": 0,
          "HeartDisease": 0,
          "MaxHR": 181,
          "RestingBP": 115,
          "Sex": 1
         },
         {
          "Age": 51,
          "Cholesterol": 298,
          "ExerciseAngina": 1,
          "FastingBS": 0,
          "HeartDisease": 1,
          "MaxHR": 122,
          "RestingBP": 140,
          "Sex": 1
         },
         {
          "Age": 70,
          "Cholesterol": 192,
          "ExerciseAngina": 1,
          "FastingBS": 0,
          "HeartDisease": 1,
          "MaxHR": 129,
          "RestingBP": 170,
          "Sex": 1
         },
         {
          "Age": 46,
          "Cholesterol": 311,
          "ExerciseAngina": 1,
          "FastingBS": 0,
          "HeartDisease": 1,
          "MaxHR": 120,
          "RestingBP": 140,
          "Sex": 1
         },
         {
          "Age": 59,
          "Cholesterol": 213,
          "ExerciseAngina": 0,
          "FastingBS": 0,
          "HeartDisease": 0,
          "MaxHR": 100,
          "RestingBP": 180,
          "Sex": 1
         },
         {
          "Age": 51,
          "Cholesterol": 200,
          "ExerciseAngina": 0,
          "FastingBS": 0,
          "HeartDisease": 0,
          "MaxHR": 120,
          "RestingBP": 150,
          "Sex": 0
         },
         {
          "Age": 48,
          "Cholesterol": 214,
          "ExerciseAngina": 1,
          "FastingBS": 0,
          "HeartDisease": 1,
          "MaxHR": 108,
          "RestingBP": 138,
          "Sex": 0
         },
         {
          "Age": 35,
          "Cholesterol": 192,
          "ExerciseAngina": 0,
          "FastingBS": 0,
          "HeartDisease": 0,
          "MaxHR": 174,
          "RestingBP": 122,
          "Sex": 1
         },
         {
          "Age": 54,
          "Cholesterol": 214,
          "ExerciseAngina": 0,
          "FastingBS": 0,
          "HeartDisease": 0,
          "MaxHR": 158,
          "RestingBP": 110,
          "Sex": 0
         },
         {
          "Age": 43,
          "Cholesterol": 247,
          "ExerciseAngina": 1,
          "FastingBS": 0,
          "HeartDisease": 1,
          "MaxHR": 130,
          "RestingBP": 150,
          "Sex": 1
         },
         {
          "Age": 62,
          "Cholesterol": 193,
          "ExerciseAngina": 0,
          "FastingBS": 0,
          "HeartDisease": 0,
          "MaxHR": 116,
          "RestingBP": 160,
          "Sex": 0
         },
         {
          "Age": 60,
          "Cholesterol": 240,
          "ExerciseAngina": 0,
          "FastingBS": 0,
          "HeartDisease": 0,
          "MaxHR": 171,
          "RestingBP": 150,
          "Sex": 0
         },
         {
          "Age": 63,
          "Cholesterol": 260,
          "ExerciseAngina": 1,
          "FastingBS": 0,
          "HeartDisease": 1,
          "MaxHR": 112,
          "RestingBP": 140,
          "Sex": 1
         },
         {
          "Age": 32,
          "Cholesterol": 529,
          "ExerciseAngina": 0,
          "FastingBS": 0,
          "HeartDisease": 1,
          "MaxHR": 130,
          "RestingBP": 118,
          "Sex": 1
         },
         {
          "Age": 56,
          "Cholesterol": 283,
          "ExerciseAngina": 1,
          "FastingBS": 1,
          "HeartDisease": 1,
          "MaxHR": 103,
          "RestingBP": 130,
          "Sex": 1
         },
         {
          "Age": 74,
          "Cholesterol": 310,
          "ExerciseAngina": 1,
          "FastingBS": 0,
          "HeartDisease": 1,
          "MaxHR": 112,
          "RestingBP": 155,
          "Sex": 1
         },
         {
          "Age": 58,
          "Cholesterol": 319,
          "ExerciseAngina": 0,
          "FastingBS": 1,
          "HeartDisease": 1,
          "MaxHR": 152,
          "RestingBP": 136,
          "Sex": 0
         },
         {
          "Age": 54,
          "Cholesterol": 237,
          "ExerciseAngina": 1,
          "FastingBS": 0,
          "HeartDisease": 1,
          "MaxHR": 150,
          "RestingBP": 120,
          "Sex": 1
         },
         {
          "Age": 58,
          "Cholesterol": 219,
          "ExerciseAngina": 1,
          "FastingBS": 0,
          "HeartDisease": 1,
          "MaxHR": 118,
          "RestingBP": 150,
          "Sex": 1
         },
         {
          "Age": 69,
          "Cholesterol": 208,
          "ExerciseAngina": 1,
          "FastingBS": 0,
          "HeartDisease": 1,
          "MaxHR": 140,
          "RestingBP": 140,
          "Sex": 1
         },
         {
          "Age": 72,
          "Cholesterol": 214,
          "ExerciseAngina": 1,
          "FastingBS": 0,
          "HeartDisease": 1,
          "MaxHR": 102,
          "RestingBP": 120,
          "Sex": 1
         },
         {
          "Age": 59,
          "Cholesterol": 326,
          "ExerciseAngina": 1,
          "FastingBS": 0,
          "HeartDisease": 1,
          "MaxHR": 140,
          "RestingBP": 170,
          "Sex": 1
         },
         {
          "Age": 47,
          "Cholesterol": 248,
          "ExerciseAngina": 0,
          "FastingBS": 1,
          "HeartDisease": 1,
          "MaxHR": 170,
          "RestingBP": 135,
          "Sex": 0
         },
         {
          "Age": 62,
          "Cholesterol": 254,
          "ExerciseAngina": 1,
          "FastingBS": 0,
          "HeartDisease": 1,
          "MaxHR": 93,
          "RestingBP": 120,
          "Sex": 1
         },
         {
          "Age": 48,
          "Cholesterol": 220,
          "ExerciseAngina": 0,
          "FastingBS": 1,
          "HeartDisease": 1,
          "MaxHR": 162,
          "RestingBP": 132,
          "Sex": 1
         },
         {
          "Age": 44,
          "Cholesterol": 290,
          "ExerciseAngina": 1,
          "FastingBS": 0,
          "HeartDisease": 1,
          "MaxHR": 100,
          "RestingBP": 130,
          "Sex": 1
         },
         {
          "Age": 68,
          "Cholesterol": 274,
          "ExerciseAngina": 1,
          "FastingBS": 1,
          "HeartDisease": 1,
          "MaxHR": 150,
          "RestingBP": 180,
          "Sex": 1
         },
         {
          "Age": 53,
          "Cholesterol": 518,
          "ExerciseAngina": 0,
          "FastingBS": 0,
          "HeartDisease": 1,
          "MaxHR": 130,
          "RestingBP": 145,
          "Sex": 1
         },
         {
          "Age": 41,
          "Cholesterol": 291,
          "ExerciseAngina": 0,
          "FastingBS": 0,
          "HeartDisease": 0,
          "MaxHR": 160,
          "RestingBP": 120,
          "Sex": 1
         },
         {
          "Age": 41,
          "Cholesterol": 250,
          "ExerciseAngina": 0,
          "FastingBS": 0,
          "HeartDisease": 0,
          "MaxHR": 142,
          "RestingBP": 112,
          "Sex": 1
         },
         {
          "Age": 54,
          "Cholesterol": 253,
          "ExerciseAngina": 0,
          "FastingBS": 0,
          "HeartDisease": 0,
          "MaxHR": 155,
          "RestingBP": 130,
          "Sex": 0
         },
         {
          "Age": 65,
          "Cholesterol": 248,
          "ExerciseAngina": 0,
          "FastingBS": 0,
          "HeartDisease": 1,
          "MaxHR": 158,
          "RestingBP": 110,
          "Sex": 1
         },
         {
          "Age": 43,
          "Cholesterol": 213,
          "ExerciseAngina": 0,
          "FastingBS": 0,
          "HeartDisease": 0,
          "MaxHR": 165,
          "RestingBP": 122,
          "Sex": 0
         },
         {
          "Age": 65,
          "Cholesterol": 254,
          "ExerciseAngina": 0,
          "FastingBS": 0,
          "HeartDisease": 1,
          "MaxHR": 127,
          "RestingBP": 135,
          "Sex": 1
         },
         {
          "Age": 61,
          "Cholesterol": 298,
          "ExerciseAngina": 1,
          "FastingBS": 1,
          "HeartDisease": 0,
          "MaxHR": 120,
          "RestingBP": 140,
          "Sex": 0
         },
         {
          "Age": 56,
          "Cholesterol": 184,
          "ExerciseAngina": 0,
          "FastingBS": 0,
          "HeartDisease": 0,
          "MaxHR": 100,
          "RestingBP": 130,
          "Sex": 1
         },
         {
          "Age": 41,
          "Cholesterol": 245,
          "ExerciseAngina": 0,
          "FastingBS": 0,
          "HeartDisease": 0,
          "MaxHR": 150,
          "RestingBP": 130,
          "Sex": 0
         },
         {
          "Age": 44,
          "Cholesterol": 209,
          "ExerciseAngina": 0,
          "FastingBS": 0,
          "HeartDisease": 0,
          "MaxHR": 127,
          "RestingBP": 130,
          "Sex": 1
         },
         {
          "Age": 57,
          "Cholesterol": 335,
          "ExerciseAngina": 1,
          "FastingBS": 0,
          "HeartDisease": 1,
          "MaxHR": 143,
          "RestingBP": 110,
          "Sex": 1
         }
        ]
       },
       "encoding": {
        "fill": {
         "field": "HeartDisease",
         "title": "Heart Disease",
         "type": "nominal"
        },
        "x": {
         "bin": {
          "maxbins": 2
         },
         "field": "FastingBS",
         "title": "Fasting Blood Sugar > 120mg/dl?",
         "type": "nominal"
        },
        "y": {
         "aggregate": "count",
         "field": "HeartDisease",
         "title": "Number of Heart Diagnoses",
         "type": "quantitative"
        }
       },
       "mark": "bar"
      },
      "image/png": "[encoded data removed]",
      "text/plain": [
       "<VegaLite 4 object>\n",
       "\n",
       "If you see this message, it means the renderer has not been properly enabled\n",
       "for the frontend that you are using. For more information, see\n",
       "https://altair-viz.github.io/user_guide/troubleshooting.html\n"
      ]
     },
     "execution_count": 10,
     "metadata": {},
     "output_type": "execute_result"
    }
   ],
   "source": [
    "fastbs_plot = (\n",
    "    alt.Chart(heart_data_training)\n",
    "    .mark_bar()\n",
    "    .encode(\n",
    "        x=alt.X(\"FastingBS:N\", bin=alt.Bin(maxbins=2), title=\"Fasting Blood Sugar > 120mg/dl?\"),\n",
    "        y=alt.Y(\"count(HeartDisease)\",title=\"Number of Heart Diagnoses\"),\n",
    "        fill=alt.Fill(\"HeartDisease:N\", title=\"Heart Disease\")\n",
    "    )\n",
    "    .configure_axis(titleFontSize=20,labelFontSize=16)\n",
    ")\n",
    "fastbs_plot"
   ]
  },
  {
   "cell_type": "markdown",
   "id": "1c252248-c742-40a6-bb40-cf17f5651cd4",
   "metadata": {},
   "source": [
    "As seen in the plot above, there seems to be a connection between high blood sugar and presence of heart disease. There seems to be a higher proportion of heart disease when the patient's fasting blood sugar is higher than 120mg/dl than when it is under 120mg/dl. For this reason, Fasting Blood Sugar will be included in the classifier."
   ]
  },
  {
   "cell_type": "code",
   "execution_count": 11,
   "id": "59b0dd8b-8418-43c3-82aa-cb0d4ea24570",
   "metadata": {},
   "outputs": [
    {
     "data": {
      "application/vnd.vegalite.v4+json": {
       "$schema": "https://vega.github.io/schema/vega-lite/v4.17.0.json",
       "config": {
        "axis": {
         "labelFontSize": 16,
         "titleFontSize": 20
        },
        "view": {
         "continuousHeight": 300,
         "continuousWidth": 400
        }
       },
       "data": {
        "name": "data-965f26aaa0a06bf333f272b0ffb5f3a8"
       },
       "datasets": {
        "data-965f26aaa0a06bf333f272b0ffb5f3a8": [
         {
          "Age": 58,
          "Cholesterol": 256,
          "ExerciseAngina": 1,
          "FastingBS": 1,
          "HeartDisease": 1,
          "MaxHR": 113,
          "RestingBP": 160,
          "Sex": 1
         },
         {
          "Age": 37,
          "Cholesterol": 250,
          "ExerciseAngina": 0,
          "FastingBS": 0,
          "HeartDisease": 0,
          "MaxHR": 187,
          "RestingBP": 130,
          "Sex": 1
         },
         {
          "Age": 57,
          "Cholesterol": 308,
          "ExerciseAngina": 0,
          "FastingBS": 0,
          "HeartDisease": 0,
          "MaxHR": 98,
          "RestingBP": 130,
          "Sex": 0
         },
         {
          "Age": 45,
          "Cholesterol": 224,
          "ExerciseAngina": 0,
          "FastingBS": 0,
          "HeartDisease": 0,
          "MaxHR": 144,
          "RestingBP": 140,
          "Sex": 1
         },
         {
          "Age": 49,
          "Cholesterol": 271,
          "ExerciseAngina": 0,
          "FastingBS": 0,
          "HeartDisease": 0,
          "MaxHR": 162,
          "RestingBP": 134,
          "Sex": 0
         },
         {
          "Age": 49,
          "Cholesterol": 222,
          "ExerciseAngina": 0,
          "FastingBS": 0,
          "HeartDisease": 1,
          "MaxHR": 122,
          "RestingBP": 150,
          "Sex": 1
         },
         {
          "Age": 51,
          "Cholesterol": 224,
          "ExerciseAngina": 0,
          "FastingBS": 0,
          "HeartDisease": 0,
          "MaxHR": 150,
          "RestingBP": 130,
          "Sex": 1
         },
         {
          "Age": 54,
          "Cholesterol": 333,
          "ExerciseAngina": 0,
          "FastingBS": 1,
          "HeartDisease": 1,
          "MaxHR": 154,
          "RestingBP": 127,
          "Sex": 0
         },
         {
          "Age": 52,
          "Cholesterol": 100,
          "ExerciseAngina": 1,
          "FastingBS": 0,
          "HeartDisease": 0,
          "MaxHR": 138,
          "RestingBP": 140,
          "Sex": 1
         },
         {
          "Age": 51,
          "Cholesterol": 220,
          "ExerciseAngina": 1,
          "FastingBS": 0,
          "HeartDisease": 0,
          "MaxHR": 160,
          "RestingBP": 130,
          "Sex": 0
         },
         {
          "Age": 46,
          "Cholesterol": 177,
          "ExerciseAngina": 1,
          "FastingBS": 0,
          "HeartDisease": 0,
          "MaxHR": 160,
          "RestingBP": 142,
          "Sex": 0
         },
         {
          "Age": 67,
          "Cholesterol": 270,
          "ExerciseAngina": 0,
          "FastingBS": 1,
          "HeartDisease": 1,
          "MaxHR": 125,
          "RestingBP": 142,
          "Sex": 1
         },
         {
          "Age": 53,
          "Cholesterol": 243,
          "ExerciseAngina": 1,
          "FastingBS": 0,
          "HeartDisease": 1,
          "MaxHR": 122,
          "RestingBP": 124,
          "Sex": 1
         },
         {
          "Age": 60,
          "Cholesterol": 206,
          "ExerciseAngina": 1,
          "FastingBS": 0,
          "HeartDisease": 1,
          "MaxHR": 132,
          "RestingBP": 130,
          "Sex": 1
         },
         {
          "Age": 38,
          "Cholesterol": 231,
          "ExerciseAngina": 1,
          "FastingBS": 0,
          "HeartDisease": 1,
          "MaxHR": 182,
          "RestingBP": 120,
          "Sex": 1
         },
         {
          "Age": 49,
          "Cholesterol": 269,
          "ExerciseAngina": 0,
          "FastingBS": 0,
          "HeartDisease": 0,
          "MaxHR": 163,
          "RestingBP": 130,
          "Sex": 0
         },
         {
          "Age": 43,
          "Cholesterol": 175,
          "ExerciseAngina": 1,
          "FastingBS": 0,
          "HeartDisease": 1,
          "MaxHR": 120,
          "RestingBP": 120,
          "Sex": 1
         },
         {
          "Age": 59,
          "Cholesterol": 264,
          "ExerciseAngina": 1,
          "FastingBS": 1,
          "HeartDisease": 1,
          "MaxHR": 119,
          "RestingBP": 140,
          "Sex": 1
         },
         {
          "Age": 55,
          "Cholesterol": 228,
          "ExerciseAngina": 1,
          "FastingBS": 0,
          "HeartDisease": 1,
          "MaxHR": 149,
          "RestingBP": 142,
          "Sex": 1
         },
         {
          "Age": 38,
          "Cholesterol": 297,
          "ExerciseAngina": 0,
          "FastingBS": 0,
          "HeartDisease": 0,
          "MaxHR": 150,
          "RestingBP": 140,
          "Sex": 1
         },
         {
          "Age": 56,
          "Cholesterol": 224,
          "ExerciseAngina": 0,
          "FastingBS": 1,
          "HeartDisease": 0,
          "MaxHR": 161,
          "RestingBP": 124,
          "Sex": 1
         },
         {
          "Age": 38,
          "Cholesterol": 117,
          "ExerciseAngina": 1,
          "FastingBS": 0,
          "HeartDisease": 1,
          "MaxHR": 134,
          "RestingBP": 92,
          "Sex": 1
         },
         {
          "Age": 55,
          "Cholesterol": 289,
          "ExerciseAngina": 1,
          "FastingBS": 0,
          "HeartDisease": 1,
          "MaxHR": 145,
          "RestingBP": 160,
          "Sex": 1
         },
         {
          "Age": 54,
          "Cholesterol": 202,
          "ExerciseAngina": 1,
          "FastingBS": 1,
          "HeartDisease": 1,
          "MaxHR": 112,
          "RestingBP": 130,
          "Sex": 1
         },
         {
          "Age": 46,
          "Cholesterol": 222,
          "ExerciseAngina": 0,
          "FastingBS": 0,
          "HeartDisease": 1,
          "MaxHR": 112,
          "RestingBP": 130,
          "Sex": 1
         },
         {
          "Age": 75,
          "Cholesterol": 203,
          "ExerciseAngina": 0,
          "FastingBS": 1,
          "HeartDisease": 1,
          "MaxHR": 108,
          "RestingBP": 170,
          "Sex": 1
         },
         {
          "Age": 56,
          "Cholesterol": 100,
          "ExerciseAngina": 1,
          "FastingBS": 0,
          "HeartDisease": 1,
          "MaxHR": 120,
          "RestingBP": 120,
          "Sex": 1
         },
         {
          "Age": 64,
          "Cholesterol": 227,
          "ExerciseAngina": 0,
          "FastingBS": 0,
          "HeartDisease": 0,
          "MaxHR": 155,
          "RestingBP": 170,
          "Sex": 1
         },
         {
          "Age": 48,
          "Cholesterol": 227,
          "ExerciseAngina": 1,
          "FastingBS": 0,
          "HeartDisease": 0,
          "MaxHR": 130,
          "RestingBP": 150,
          "Sex": 0
         },
         {
          "Age": 57,
          "Cholesterol": 214,
          "ExerciseAngina": 1,
          "FastingBS": 0,
          "HeartDisease": 1,
          "MaxHR": 144,
          "RestingBP": 140,
          "Sex": 1
         },
         {
          "Age": 49,
          "Cholesterol": 187,
          "ExerciseAngina": 0,
          "FastingBS": 0,
          "HeartDisease": 0,
          "MaxHR": 172,
          "RestingBP": 140,
          "Sex": 1
         },
         {
          "Age": 40,
          "Cholesterol": 235,
          "ExerciseAngina": 0,
          "FastingBS": 0,
          "HeartDisease": 0,
          "MaxHR": 188,
          "RestingBP": 140,
          "Sex": 1
         },
         {
          "Age": 54,
          "Cholesterol": 309,
          "ExerciseAngina": 0,
          "FastingBS": 0,
          "HeartDisease": 0,
          "MaxHR": 156,
          "RestingBP": 108,
          "Sex": 1
         },
         {
          "Age": 55,
          "Cholesterol": 245,
          "ExerciseAngina": 1,
          "FastingBS": 1,
          "HeartDisease": 1,
          "MaxHR": 131,
          "RestingBP": 136,
          "Sex": 1
         },
         {
          "Age": 47,
          "Cholesterol": 204,
          "ExerciseAngina": 0,
          "FastingBS": 0,
          "HeartDisease": 0,
          "MaxHR": 143,
          "RestingBP": 112,
          "Sex": 1
         },
         {
          "Age": 52,
          "Cholesterol": 325,
          "ExerciseAngina": 0,
          "FastingBS": 0,
          "HeartDisease": 0,
          "MaxHR": 172,
          "RestingBP": 120,
          "Sex": 1
         },
         {
          "Age": 58,
          "Cholesterol": 222,
          "ExerciseAngina": 0,
          "FastingBS": 0,
          "HeartDisease": 0,
          "MaxHR": 100,
          "RestingBP": 135,
          "Sex": 1
         },
         {
          "Age": 40,
          "Cholesterol": 240,
          "ExerciseAngina": 1,
          "FastingBS": 0,
          "HeartDisease": 0,
          "MaxHR": 80,
          "RestingBP": 106,
          "Sex": 1
         },
         {
          "Age": 77,
          "Cholesterol": 171,
          "ExerciseAngina": 1,
          "FastingBS": 0,
          "HeartDisease": 1,
          "MaxHR": 110,
          "RestingBP": 124,
          "Sex": 1
         },
         {
          "Age": 37,
          "Cholesterol": 260,
          "ExerciseAngina": 0,
          "FastingBS": 0,
          "HeartDisease": 0,
          "MaxHR": 130,
          "RestingBP": 120,
          "Sex": 0
         },
         {
          "Age": 61,
          "Cholesterol": 200,
          "ExerciseAngina": 0,
          "FastingBS": 1,
          "HeartDisease": 1,
          "MaxHR": 100,
          "RestingBP": 142,
          "Sex": 1
         },
         {
          "Age": 43,
          "Cholesterol": 223,
          "ExerciseAngina": 0,
          "FastingBS": 0,
          "HeartDisease": 0,
          "MaxHR": 142,
          "RestingBP": 100,
          "Sex": 0
         },
         {
          "Age": 55,
          "Cholesterol": 217,
          "ExerciseAngina": 1,
          "FastingBS": 0,
          "HeartDisease": 1,
          "MaxHR": 110,
          "RestingBP": 158,
          "Sex": 1
         },
         {
          "Age": 59,
          "Cholesterol": 176,
          "ExerciseAngina": 0,
          "FastingBS": 1,
          "HeartDisease": 1,
          "MaxHR": 90,
          "RestingBP": 164,
          "Sex": 1
         },
         {
          "Age": 35,
          "Cholesterol": 167,
          "ExerciseAngina": 0,
          "FastingBS": 0,
          "HeartDisease": 0,
          "MaxHR": 150,
          "RestingBP": 140,
          "Sex": 0
         },
         {
          "Age": 51,
          "Cholesterol": 305,
          "ExerciseAngina": 1,
          "FastingBS": 0,
          "HeartDisease": 1,
          "MaxHR": 142,
          "RestingBP": 130,
          "Sex": 0
         },
         {
          "Age": 52,
          "Cholesterol": 210,
          "ExerciseAngina": 0,
          "FastingBS": 0,
          "HeartDisease": 0,
          "MaxHR": 148,
          "RestingBP": 120,
          "Sex": 0
         },
         {
          "Age": 51,
          "Cholesterol": 190,
          "ExerciseAngina": 0,
          "FastingBS": 0,
          "HeartDisease": 0,
          "MaxHR": 120,
          "RestingBP": 110,
          "Sex": 0
         },
         {
          "Age": 41,
          "Cholesterol": 203,
          "ExerciseAngina": 0,
          "FastingBS": 0,
          "HeartDisease": 0,
          "MaxHR": 132,
          "RestingBP": 135,
          "Sex": 1
         },
         {
          "Age": 59,
          "Cholesterol": 270,
          "ExerciseAngina": 0,
          "FastingBS": 0,
          "HeartDisease": 0,
          "MaxHR": 145,
          "RestingBP": 178,
          "Sex": 1
         },
         {
          "Age": 47,
          "Cholesterol": 243,
          "ExerciseAngina": 0,
          "FastingBS": 0,
          "HeartDisease": 1,
          "MaxHR": 152,
          "RestingBP": 108,
          "Sex": 1
         },
         {
          "Age": 32,
          "Cholesterol": 225,
          "ExerciseAngina": 0,
          "FastingBS": 0,
          "HeartDisease": 0,
          "MaxHR": 184,
          "RestingBP": 110,
          "Sex": 1
         },
         {
          "Age": 63,
          "Cholesterol": 233,
          "ExerciseAngina": 0,
          "FastingBS": 1,
          "HeartDisease": 0,
          "MaxHR": 150,
          "RestingBP": 145,
          "Sex": 1
         },
         {
          "Age": 55,
          "Cholesterol": 353,
          "ExerciseAngina": 1,
          "FastingBS": 0,
          "HeartDisease": 1,
          "MaxHR": 132,
          "RestingBP": 132,
          "Sex": 1
         },
         {
          "Age": 50,
          "Cholesterol": 219,
          "ExerciseAngina": 0,
          "FastingBS": 0,
          "HeartDisease": 0,
          "MaxHR": 158,
          "RestingBP": 120,
          "Sex": 0
         },
         {
          "Age": 61,
          "Cholesterol": 241,
          "ExerciseAngina": 1,
          "FastingBS": 0,
          "HeartDisease": 1,
          "MaxHR": 148,
          "RestingBP": 146,
          "Sex": 1
         },
         {
          "Age": 54,
          "Cholesterol": 230,
          "ExerciseAngina": 0,
          "FastingBS": 0,
          "HeartDisease": 0,
          "MaxHR": 130,
          "RestingBP": 150,
          "Sex": 0
         },
         {
          "Age": 54,
          "Cholesterol": 603,
          "ExerciseAngina": 1,
          "FastingBS": 1,
          "HeartDisease": 1,
          "MaxHR": 125,
          "RestingBP": 130,
          "Sex": 1
         },
         {
          "Age": 58,
          "Cholesterol": 263,
          "ExerciseAngina": 1,
          "FastingBS": 0,
          "HeartDisease": 1,
          "MaxHR": 140,
          "RestingBP": 130,
          "Sex": 1
         },
         {
          "Age": 40,
          "Cholesterol": 223,
          "ExerciseAngina": 0,
          "FastingBS": 0,
          "HeartDisease": 1,
          "MaxHR": 181,
          "RestingBP": 152,
          "Sex": 1
         },
         {
          "Age": 35,
          "Cholesterol": 308,
          "ExerciseAngina": 0,
          "FastingBS": 0,
          "HeartDisease": 0,
          "MaxHR": 180,
          "RestingBP": 120,
          "Sex": 1
         },
         {
          "Age": 52,
          "Cholesterol": 342,
          "ExerciseAngina": 1,
          "FastingBS": 0,
          "HeartDisease": 1,
          "MaxHR": 96,
          "RestingBP": 112,
          "Sex": 1
         },
         {
          "Age": 49,
          "Cholesterol": 234,
          "ExerciseAngina": 1,
          "FastingBS": 0,
          "HeartDisease": 1,
          "MaxHR": 140,
          "RestingBP": 140,
          "Sex": 1
         },
         {
          "Age": 48,
          "Cholesterol": 159,
          "ExerciseAngina": 0,
          "FastingBS": 0,
          "HeartDisease": 0,
          "MaxHR": 100,
          "RestingBP": 100,
          "Sex": 1
         },
         {
          "Age": 56,
          "Cholesterol": 249,
          "ExerciseAngina": 1,
          "FastingBS": 1,
          "HeartDisease": 1,
          "MaxHR": 144,
          "RestingBP": 125,
          "Sex": 1
         },
         {
          "Age": 35,
          "Cholesterol": 282,
          "ExerciseAngina": 1,
          "FastingBS": 0,
          "HeartDisease": 1,
          "MaxHR": 156,
          "RestingBP": 126,
          "Sex": 1
         },
         {
          "Age": 63,
          "Cholesterol": 230,
          "ExerciseAngina": 1,
          "FastingBS": 1,
          "HeartDisease": 1,
          "MaxHR": 105,
          "RestingBP": 160,
          "Sex": 1
         },
         {
          "Age": 58,
          "Cholesterol": 213,
          "ExerciseAngina": 0,
          "FastingBS": 0,
          "HeartDisease": 1,
          "MaxHR": 140,
          "RestingBP": 130,
          "Sex": 1
         },
         {
          "Age": 55,
          "Cholesterol": 201,
          "ExerciseAngina": 1,
          "FastingBS": 0,
          "HeartDisease": 1,
          "MaxHR": 130,
          "RestingBP": 140,
          "Sex": 1
         },
         {
          "Age": 58,
          "Cholesterol": 211,
          "ExerciseAngina": 0,
          "FastingBS": 1,
          "HeartDisease": 1,
          "MaxHR": 92,
          "RestingBP": 160,
          "Sex": 1
         },
         {
          "Age": 54,
          "Cholesterol": 266,
          "ExerciseAngina": 1,
          "FastingBS": 0,
          "HeartDisease": 1,
          "MaxHR": 109,
          "RestingBP": 124,
          "Sex": 1
         },
         {
          "Age": 70,
          "Cholesterol": 245,
          "ExerciseAngina": 0,
          "FastingBS": 0,
          "HeartDisease": 0,
          "MaxHR": 143,
          "RestingBP": 156,
          "Sex": 1
         },
         {
          "Age": 43,
          "Cholesterol": 186,
          "ExerciseAngina": 0,
          "FastingBS": 0,
          "HeartDisease": 0,
          "MaxHR": 154,
          "RestingBP": 150,
          "Sex": 0
         },
         {
          "Age": 55,
          "Cholesterol": 248,
          "ExerciseAngina": 1,
          "FastingBS": 0,
          "HeartDisease": 1,
          "MaxHR": 96,
          "RestingBP": 145,
          "Sex": 1
         },
         {
          "Age": 39,
          "Cholesterol": 307,
          "ExerciseAngina": 0,
          "FastingBS": 0,
          "HeartDisease": 0,
          "MaxHR": 140,
          "RestingBP": 130,
          "Sex": 1
         },
         {
          "Age": 58,
          "Cholesterol": 458,
          "ExerciseAngina": 0,
          "FastingBS": 1,
          "HeartDisease": 0,
          "MaxHR": 69,
          "RestingBP": 132,
          "Sex": 1
         },
         {
          "Age": 41,
          "Cholesterol": 235,
          "ExerciseAngina": 0,
          "FastingBS": 0,
          "HeartDisease": 0,
          "MaxHR": 153,
          "RestingBP": 110,
          "Sex": 1
         },
         {
          "Age": 57,
          "Cholesterol": 255,
          "ExerciseAngina": 1,
          "FastingBS": 0,
          "HeartDisease": 1,
          "MaxHR": 92,
          "RestingBP": 150,
          "Sex": 1
         },
         {
          "Age": 41,
          "Cholesterol": 204,
          "ExerciseAngina": 0,
          "FastingBS": 0,
          "HeartDisease": 0,
          "MaxHR": 172,
          "RestingBP": 130,
          "Sex": 0
         },
         {
          "Age": 57,
          "Cholesterol": 347,
          "ExerciseAngina": 1,
          "FastingBS": 0,
          "HeartDisease": 0,
          "MaxHR": 126,
          "RestingBP": 180,
          "Sex": 0
         },
         {
          "Age": 58,
          "Cholesterol": 211,
          "ExerciseAngina": 0,
          "FastingBS": 1,
          "HeartDisease": 0,
          "MaxHR": 165,
          "RestingBP": 140,
          "Sex": 1
         },
         {
          "Age": 52,
          "Cholesterol": 225,
          "ExerciseAngina": 1,
          "FastingBS": 0,
          "HeartDisease": 1,
          "MaxHR": 120,
          "RestingBP": 130,
          "Sex": 1
         },
         {
          "Age": 56,
          "Cholesterol": 282,
          "ExerciseAngina": 1,
          "FastingBS": 1,
          "HeartDisease": 1,
          "MaxHR": 126,
          "RestingBP": 137,
          "Sex": 1
         },
         {
          "Age": 41,
          "Cholesterol": 157,
          "ExerciseAngina": 0,
          "FastingBS": 0,
          "HeartDisease": 0,
          "MaxHR": 182,
          "RestingBP": 120,
          "Sex": 1
         },
         {
          "Age": 50,
          "Cholesterol": 233,
          "ExerciseAngina": 1,
          "FastingBS": 0,
          "HeartDisease": 1,
          "MaxHR": 121,
          "RestingBP": 130,
          "Sex": 1
         },
         {
          "Age": 44,
          "Cholesterol": 215,
          "ExerciseAngina": 0,
          "FastingBS": 0,
          "HeartDisease": 0,
          "MaxHR": 135,
          "RestingBP": 130,
          "Sex": 1
         },
         {
          "Age": 57,
          "Cholesterol": 197,
          "ExerciseAngina": 0,
          "FastingBS": 0,
          "HeartDisease": 0,
          "MaxHR": 100,
          "RestingBP": 110,
          "Sex": 1
         },
         {
          "Age": 60,
          "Cholesterol": 216,
          "ExerciseAngina": 1,
          "FastingBS": 0,
          "HeartDisease": 1,
          "MaxHR": 110,
          "RestingBP": 142,
          "Sex": 1
         },
         {
          "Age": 63,
          "Cholesterol": 267,
          "ExerciseAngina": 1,
          "FastingBS": 1,
          "HeartDisease": 1,
          "MaxHR": 88,
          "RestingBP": 160,
          "Sex": 1
         },
         {
          "Age": 35,
          "Cholesterol": 198,
          "ExerciseAngina": 1,
          "FastingBS": 0,
          "HeartDisease": 1,
          "MaxHR": 130,
          "RestingBP": 120,
          "Sex": 1
         },
         {
          "Age": 44,
          "Cholesterol": 263,
          "ExerciseAngina": 0,
          "FastingBS": 0,
          "HeartDisease": 0,
          "MaxHR": 173,
          "RestingBP": 120,
          "Sex": 1
         },
         {
          "Age": 41,
          "Cholesterol": 171,
          "ExerciseAngina": 1,
          "FastingBS": 0,
          "HeartDisease": 0,
          "MaxHR": 128,
          "RestingBP": 150,
          "Sex": 1
         },
         {
          "Age": 52,
          "Cholesterol": 284,
          "ExerciseAngina": 0,
          "FastingBS": 0,
          "HeartDisease": 0,
          "MaxHR": 118,
          "RestingBP": 120,
          "Sex": 1
         },
         {
          "Age": 57,
          "Cholesterol": 303,
          "ExerciseAngina": 0,
          "FastingBS": 0,
          "HeartDisease": 0,
          "MaxHR": 159,
          "RestingBP": 128,
          "Sex": 0
         },
         {
          "Age": 43,
          "Cholesterol": 211,
          "ExerciseAngina": 0,
          "FastingBS": 0,
          "HeartDisease": 0,
          "MaxHR": 161,
          "RestingBP": 110,
          "Sex": 1
         },
         {
          "Age": 59,
          "Cholesterol": 273,
          "ExerciseAngina": 0,
          "FastingBS": 0,
          "HeartDisease": 1,
          "MaxHR": 125,
          "RestingBP": 160,
          "Sex": 1
         },
         {
          "Age": 54,
          "Cholesterol": 182,
          "ExerciseAngina": 0,
          "FastingBS": 0,
          "HeartDisease": 0,
          "MaxHR": 141,
          "RestingBP": 132,
          "Sex": 1
         },
         {
          "Age": 60,
          "Cholesterol": 282,
          "ExerciseAngina": 1,
          "FastingBS": 0,
          "HeartDisease": 1,
          "MaxHR": 142,
          "RestingBP": 145,
          "Sex": 1
         },
         {
          "Age": 48,
          "Cholesterol": 193,
          "ExerciseAngina": 1,
          "FastingBS": 0,
          "HeartDisease": 1,
          "MaxHR": 102,
          "RestingBP": 160,
          "Sex": 1
         },
         {
          "Age": 35,
          "Cholesterol": 183,
          "ExerciseAngina": 0,
          "FastingBS": 0,
          "HeartDisease": 0,
          "MaxHR": 182,
          "RestingBP": 138,
          "Sex": 0
         },
         {
          "Age": 53,
          "Cholesterol": 285,
          "ExerciseAngina": 1,
          "FastingBS": 0,
          "HeartDisease": 1,
          "MaxHR": 120,
          "RestingBP": 180,
          "Sex": 1
         },
         {
          "Age": 55,
          "Cholesterol": 220,
          "ExerciseAngina": 0,
          "FastingBS": 0,
          "HeartDisease": 0,
          "MaxHR": 134,
          "RestingBP": 120,
          "Sex": 1
         },
         {
          "Age": 42,
          "Cholesterol": 295,
          "ExerciseAngina": 0,
          "FastingBS": 0,
          "HeartDisease": 0,
          "MaxHR": 162,
          "RestingBP": 120,
          "Sex": 1
         },
         {
          "Age": 48,
          "Cholesterol": 274,
          "ExerciseAngina": 0,
          "FastingBS": 0,
          "HeartDisease": 1,
          "MaxHR": 166,
          "RestingBP": 124,
          "Sex": 1
         },
         {
          "Age": 50,
          "Cholesterol": 216,
          "ExerciseAngina": 0,
          "FastingBS": 0,
          "HeartDisease": 0,
          "MaxHR": 170,
          "RestingBP": 140,
          "Sex": 1
         },
         {
          "Age": 63,
          "Cholesterol": 308,
          "ExerciseAngina": 1,
          "FastingBS": 0,
          "HeartDisease": 1,
          "MaxHR": 138,
          "RestingBP": 130,
          "Sex": 1
         },
         {
          "Age": 59,
          "Cholesterol": 126,
          "ExerciseAngina": 0,
          "FastingBS": 0,
          "HeartDisease": 1,
          "MaxHR": 125,
          "RestingBP": 130,
          "Sex": 1
         },
         {
          "Age": 43,
          "Cholesterol": 341,
          "ExerciseAngina": 1,
          "FastingBS": 1,
          "HeartDisease": 1,
          "MaxHR": 136,
          "RestingBP": 132,
          "Sex": 0
         },
         {
          "Age": 42,
          "Cholesterol": 147,
          "ExerciseAngina": 0,
          "FastingBS": 0,
          "HeartDisease": 0,
          "MaxHR": 146,
          "RestingBP": 160,
          "Sex": 1
         },
         {
          "Age": 54,
          "Cholesterol": 274,
          "ExerciseAngina": 1,
          "FastingBS": 0,
          "HeartDisease": 1,
          "MaxHR": 105,
          "RestingBP": 138,
          "Sex": 0
         },
         {
          "Age": 69,
          "Cholesterol": 239,
          "ExerciseAngina": 0,
          "FastingBS": 0,
          "HeartDisease": 0,
          "MaxHR": 151,
          "RestingBP": 140,
          "Sex": 0
         },
         {
          "Age": 52,
          "Cholesterol": 255,
          "ExerciseAngina": 1,
          "FastingBS": 0,
          "HeartDisease": 1,
          "MaxHR": 161,
          "RestingBP": 128,
          "Sex": 1
         },
         {
          "Age": 58,
          "Cholesterol": 300,
          "ExerciseAngina": 0,
          "FastingBS": 0,
          "HeartDisease": 1,
          "MaxHR": 171,
          "RestingBP": 125,
          "Sex": 1
         },
         {
          "Age": 51,
          "Cholesterol": 175,
          "ExerciseAngina": 0,
          "FastingBS": 0,
          "HeartDisease": 0,
          "MaxHR": 123,
          "RestingBP": 110,
          "Sex": 1
         },
         {
          "Age": 36,
          "Cholesterol": 166,
          "ExerciseAngina": 0,
          "FastingBS": 0,
          "HeartDisease": 0,
          "MaxHR": 180,
          "RestingBP": 120,
          "Sex": 1
         },
         {
          "Age": 42,
          "Cholesterol": 226,
          "ExerciseAngina": 0,
          "FastingBS": 0,
          "HeartDisease": 0,
          "MaxHR": 178,
          "RestingBP": 140,
          "Sex": 1
         },
         {
          "Age": 43,
          "Cholesterol": 177,
          "ExerciseAngina": 1,
          "FastingBS": 0,
          "HeartDisease": 1,
          "MaxHR": 120,
          "RestingBP": 120,
          "Sex": 1
         },
         {
          "Age": 49,
          "Cholesterol": 266,
          "ExerciseAngina": 0,
          "FastingBS": 0,
          "HeartDisease": 0,
          "MaxHR": 171,
          "RestingBP": 130,
          "Sex": 1
         },
         {
          "Age": 49,
          "Cholesterol": 341,
          "ExerciseAngina": 1,
          "FastingBS": 0,
          "HeartDisease": 1,
          "MaxHR": 120,
          "RestingBP": 130,
          "Sex": 1
         },
         {
          "Age": 55,
          "Cholesterol": 250,
          "ExerciseAngina": 0,
          "FastingBS": 0,
          "HeartDisease": 0,
          "MaxHR": 161,
          "RestingBP": 135,
          "Sex": 0
         },
         {
          "Age": 54,
          "Cholesterol": 312,
          "ExerciseAngina": 0,
          "FastingBS": 0,
          "HeartDisease": 0,
          "MaxHR": 130,
          "RestingBP": 160,
          "Sex": 0
         },
         {
          "Age": 44,
          "Cholesterol": 242,
          "ExerciseAngina": 0,
          "FastingBS": 0,
          "HeartDisease": 0,
          "MaxHR": 149,
          "RestingBP": 118,
          "Sex": 0
         },
         {
          "Age": 54,
          "Cholesterol": 217,
          "ExerciseAngina": 0,
          "FastingBS": 0,
          "HeartDisease": 0,
          "MaxHR": 137,
          "RestingBP": 120,
          "Sex": 1
         },
         {
          "Age": 66,
          "Cholesterol": 302,
          "ExerciseAngina": 0,
          "FastingBS": 0,
          "HeartDisease": 0,
          "MaxHR": 151,
          "RestingBP": 120,
          "Sex": 1
         },
         {
          "Age": 63,
          "Cholesterol": 252,
          "ExerciseAngina": 0,
          "FastingBS": 0,
          "HeartDisease": 0,
          "MaxHR": 172,
          "RestingBP": 135,
          "Sex": 0
         },
         {
          "Age": 62,
          "Cholesterol": 164,
          "ExerciseAngina": 0,
          "FastingBS": 0,
          "HeartDisease": 1,
          "MaxHR": 145,
          "RestingBP": 160,
          "Sex": 0
         },
         {
          "Age": 64,
          "Cholesterol": 335,
          "ExerciseAngina": 0,
          "FastingBS": 0,
          "HeartDisease": 1,
          "MaxHR": 158,
          "RestingBP": 140,
          "Sex": 1
         },
         {
          "Age": 54,
          "Cholesterol": 242,
          "ExerciseAngina": 1,
          "FastingBS": 0,
          "HeartDisease": 1,
          "MaxHR": 91,
          "RestingBP": 130,
          "Sex": 1
         },
         {
          "Age": 63,
          "Cholesterol": 330,
          "ExerciseAngina": 1,
          "FastingBS": 1,
          "HeartDisease": 1,
          "MaxHR": 132,
          "RestingBP": 130,
          "Sex": 1
         },
         {
          "Age": 57,
          "Cholesterol": 131,
          "ExerciseAngina": 1,
          "FastingBS": 0,
          "HeartDisease": 1,
          "MaxHR": 115,
          "RestingBP": 130,
          "Sex": 1
         },
         {
          "Age": 47,
          "Cholesterol": 235,
          "ExerciseAngina": 0,
          "FastingBS": 0,
          "HeartDisease": 0,
          "MaxHR": 145,
          "RestingBP": 130,
          "Sex": 0
         },
         {
          "Age": 55,
          "Cholesterol": 226,
          "ExerciseAngina": 1,
          "FastingBS": 0,
          "HeartDisease": 1,
          "MaxHR": 127,
          "RestingBP": 120,
          "Sex": 1
         },
         {
          "Age": 49,
          "Cholesterol": 201,
          "ExerciseAngina": 0,
          "FastingBS": 0,
          "HeartDisease": 0,
          "MaxHR": 164,
          "RestingBP": 124,
          "Sex": 0
         },
         {
          "Age": 50,
          "Cholesterol": 129,
          "ExerciseAngina": 0,
          "FastingBS": 0,
          "HeartDisease": 0,
          "MaxHR": 135,
          "RestingBP": 140,
          "Sex": 1
         },
         {
          "Age": 37,
          "Cholesterol": 173,
          "ExerciseAngina": 0,
          "FastingBS": 0,
          "HeartDisease": 0,
          "MaxHR": 184,
          "RestingBP": 130,
          "Sex": 0
         },
         {
          "Age": 39,
          "Cholesterol": 241,
          "ExerciseAngina": 0,
          "FastingBS": 0,
          "HeartDisease": 0,
          "MaxHR": 106,
          "RestingBP": 190,
          "Sex": 1
         },
         {
          "Age": 45,
          "Cholesterol": 160,
          "ExerciseAngina": 0,
          "FastingBS": 0,
          "HeartDisease": 0,
          "MaxHR": 138,
          "RestingBP": 112,
          "Sex": 0
         },
         {
          "Age": 40,
          "Cholesterol": 281,
          "ExerciseAngina": 0,
          "FastingBS": 0,
          "HeartDisease": 0,
          "MaxHR": 167,
          "RestingBP": 130,
          "Sex": 1
         },
         {
          "Age": 62,
          "Cholesterol": 271,
          "ExerciseAngina": 0,
          "FastingBS": 0,
          "HeartDisease": 0,
          "MaxHR": 152,
          "RestingBP": 140,
          "Sex": 1
         },
         {
          "Age": 42,
          "Cholesterol": 228,
          "ExerciseAngina": 1,
          "FastingBS": 0,
          "HeartDisease": 0,
          "MaxHR": 152,
          "RestingBP": 120,
          "Sex": 1
         },
         {
          "Age": 40,
          "Cholesterol": 275,
          "ExerciseAngina": 0,
          "FastingBS": 0,
          "HeartDisease": 0,
          "MaxHR": 150,
          "RestingBP": 130,
          "Sex": 1
         },
         {
          "Age": 65,
          "Cholesterol": 252,
          "ExerciseAngina": 0,
          "FastingBS": 0,
          "HeartDisease": 0,
          "MaxHR": 135,
          "RestingBP": 140,
          "Sex": 1
         },
         {
          "Age": 54,
          "Cholesterol": 206,
          "ExerciseAngina": 1,
          "FastingBS": 0,
          "HeartDisease": 1,
          "MaxHR": 108,
          "RestingBP": 110,
          "Sex": 1
         },
         {
          "Age": 54,
          "Cholesterol": 221,
          "ExerciseAngina": 0,
          "FastingBS": 0,
          "HeartDisease": 0,
          "MaxHR": 138,
          "RestingBP": 120,
          "Sex": 0
         },
         {
          "Age": 55,
          "Cholesterol": 214,
          "ExerciseAngina": 0,
          "FastingBS": 1,
          "HeartDisease": 0,
          "MaxHR": 180,
          "RestingBP": 110,
          "Sex": 1
         },
         {
          "Age": 71,
          "Cholesterol": 221,
          "ExerciseAngina": 1,
          "FastingBS": 0,
          "HeartDisease": 1,
          "MaxHR": 115,
          "RestingBP": 130,
          "Sex": 1
         },
         {
          "Age": 51,
          "Cholesterol": 213,
          "ExerciseAngina": 1,
          "FastingBS": 0,
          "HeartDisease": 0,
          "MaxHR": 125,
          "RestingBP": 125,
          "Sex": 1
         },
         {
          "Age": 50,
          "Cholesterol": 349,
          "ExerciseAngina": 1,
          "FastingBS": 0,
          "HeartDisease": 1,
          "MaxHR": 120,
          "RestingBP": 144,
          "Sex": 1
         },
         {
          "Age": 62,
          "Cholesterol": 244,
          "ExerciseAngina": 1,
          "FastingBS": 0,
          "HeartDisease": 1,
          "MaxHR": 154,
          "RestingBP": 150,
          "Sex": 0
         },
         {
          "Age": 60,
          "Cholesterol": 281,
          "ExerciseAngina": 1,
          "FastingBS": 0,
          "HeartDisease": 1,
          "MaxHR": 118,
          "RestingBP": 140,
          "Sex": 1
         },
         {
          "Age": 45,
          "Cholesterol": 237,
          "ExerciseAngina": 0,
          "FastingBS": 0,
          "HeartDisease": 0,
          "MaxHR": 170,
          "RestingBP": 130,
          "Sex": 0
         },
         {
          "Age": 31,
          "Cholesterol": 270,
          "ExerciseAngina": 1,
          "FastingBS": 0,
          "HeartDisease": 1,
          "MaxHR": 153,
          "RestingBP": 120,
          "Sex": 1
         },
         {
          "Age": 49,
          "Cholesterol": 206,
          "ExerciseAngina": 0,
          "FastingBS": 0,
          "HeartDisease": 1,
          "MaxHR": 170,
          "RestingBP": 130,
          "Sex": 1
         },
         {
          "Age": 61,
          "Cholesterol": 283,
          "ExerciseAngina": 0,
          "FastingBS": 0,
          "HeartDisease": 0,
          "MaxHR": 135,
          "RestingBP": 139,
          "Sex": 1
         },
         {
          "Age": 52,
          "Cholesterol": 180,
          "ExerciseAngina": 1,
          "FastingBS": 0,
          "HeartDisease": 0,
          "MaxHR": 140,
          "RestingBP": 130,
          "Sex": 0
         },
         {
          "Age": 59,
          "Cholesterol": 234,
          "ExerciseAngina": 0,
          "FastingBS": 0,
          "HeartDisease": 0,
          "MaxHR": 161,
          "RestingBP": 135,
          "Sex": 1
         },
         {
          "Age": 57,
          "Cholesterol": 285,
          "ExerciseAngina": 0,
          "FastingBS": 1,
          "HeartDisease": 1,
          "MaxHR": 120,
          "RestingBP": 180,
          "Sex": 1
         },
         {
          "Age": 61,
          "Cholesterol": 207,
          "ExerciseAngina": 1,
          "FastingBS": 0,
          "HeartDisease": 1,
          "MaxHR": 138,
          "RestingBP": 140,
          "Sex": 1
         },
         {
          "Age": 67,
          "Cholesterol": 564,
          "ExerciseAngina": 0,
          "FastingBS": 0,
          "HeartDisease": 0,
          "MaxHR": 160,
          "RestingBP": 115,
          "Sex": 0
         },
         {
          "Age": 47,
          "Cholesterol": 275,
          "ExerciseAngina": 1,
          "FastingBS": 0,
          "HeartDisease": 1,
          "MaxHR": 118,
          "RestingBP": 110,
          "Sex": 1
         },
         {
          "Age": 57,
          "Cholesterol": 270,
          "ExerciseAngina": 1,
          "FastingBS": 1,
          "HeartDisease": 1,
          "MaxHR": 160,
          "RestingBP": 144,
          "Sex": 1
         },
         {
          "Age": 54,
          "Cholesterol": 232,
          "ExerciseAngina": 0,
          "FastingBS": 0,
          "HeartDisease": 0,
          "MaxHR": 165,
          "RestingBP": 150,
          "Sex": 1
         },
         {
          "Age": 54,
          "Cholesterol": 166,
          "ExerciseAngina": 1,
          "FastingBS": 0,
          "HeartDisease": 1,
          "MaxHR": 118,
          "RestingBP": 140,
          "Sex": 1
         },
         {
          "Age": 46,
          "Cholesterol": 310,
          "ExerciseAngina": 0,
          "FastingBS": 0,
          "HeartDisease": 1,
          "MaxHR": 126,
          "RestingBP": 134,
          "Sex": 1
         },
         {
          "Age": 70,
          "Cholesterol": 322,
          "ExerciseAngina": 0,
          "FastingBS": 0,
          "HeartDisease": 1,
          "MaxHR": 109,
          "RestingBP": 130,
          "Sex": 1
         },
         {
          "Age": 55,
          "Cholesterol": 268,
          "ExerciseAngina": 1,
          "FastingBS": 0,
          "HeartDisease": 1,
          "MaxHR": 128,
          "RestingBP": 140,
          "Sex": 1
         },
         {
          "Age": 43,
          "Cholesterol": 291,
          "ExerciseAngina": 0,
          "FastingBS": 0,
          "HeartDisease": 1,
          "MaxHR": 155,
          "RestingBP": 120,
          "Sex": 1
         },
         {
          "Age": 56,
          "Cholesterol": 166,
          "ExerciseAngina": 0,
          "FastingBS": 0,
          "HeartDisease": 0,
          "MaxHR": 140,
          "RestingBP": 126,
          "Sex": 1
         },
         {
          "Age": 56,
          "Cholesterol": 288,
          "ExerciseAngina": 1,
          "FastingBS": 1,
          "HeartDisease": 1,
          "MaxHR": 133,
          "RestingBP": 200,
          "Sex": 0
         },
         {
          "Age": 57,
          "Cholesterol": 229,
          "ExerciseAngina": 0,
          "FastingBS": 0,
          "HeartDisease": 1,
          "MaxHR": 150,
          "RestingBP": 128,
          "Sex": 1
         },
         {
          "Age": 50,
          "Cholesterol": 243,
          "ExerciseAngina": 0,
          "FastingBS": 0,
          "HeartDisease": 1,
          "MaxHR": 128,
          "RestingBP": 150,
          "Sex": 1
         },
         {
          "Age": 52,
          "Cholesterol": 404,
          "ExerciseAngina": 1,
          "FastingBS": 0,
          "HeartDisease": 1,
          "MaxHR": 124,
          "RestingBP": 140,
          "Sex": 1
         },
         {
          "Age": 54,
          "Cholesterol": 188,
          "ExerciseAngina": 0,
          "FastingBS": 0,
          "HeartDisease": 1,
          "MaxHR": 113,
          "RestingBP": 120,
          "Sex": 1
         },
         {
          "Age": 50,
          "Cholesterol": 341,
          "ExerciseAngina": 1,
          "FastingBS": 0,
          "HeartDisease": 1,
          "MaxHR": 125,
          "RestingBP": 140,
          "Sex": 1
         },
         {
          "Age": 53,
          "Cholesterol": 320,
          "ExerciseAngina": 0,
          "FastingBS": 0,
          "HeartDisease": 0,
          "MaxHR": 162,
          "RestingBP": 140,
          "Sex": 1
         },
         {
          "Age": 36,
          "Cholesterol": 209,
          "ExerciseAngina": 0,
          "FastingBS": 0,
          "HeartDisease": 0,
          "MaxHR": 178,
          "RestingBP": 130,
          "Sex": 1
         },
         {
          "Age": 48,
          "Cholesterol": 355,
          "ExerciseAngina": 1,
          "FastingBS": 0,
          "HeartDisease": 1,
          "MaxHR": 99,
          "RestingBP": 160,
          "Sex": 1
         },
         {
          "Age": 56,
          "Cholesterol": 219,
          "ExerciseAngina": 0,
          "FastingBS": 0,
          "HeartDisease": 0,
          "MaxHR": 164,
          "RestingBP": 130,
          "Sex": 0
         },
         {
          "Age": 39,
          "Cholesterol": 182,
          "ExerciseAngina": 0,
          "FastingBS": 0,
          "HeartDisease": 0,
          "MaxHR": 180,
          "RestingBP": 110,
          "Sex": 0
         },
         {
          "Age": 29,
          "Cholesterol": 263,
          "ExerciseAngina": 0,
          "FastingBS": 0,
          "HeartDisease": 0,
          "MaxHR": 170,
          "RestingBP": 140,
          "Sex": 1
         },
         {
          "Age": 77,
          "Cholesterol": 304,
          "ExerciseAngina": 1,
          "FastingBS": 0,
          "HeartDisease": 1,
          "MaxHR": 162,
          "RestingBP": 125,
          "Sex": 1
         },
         {
          "Age": 57,
          "Cholesterol": 207,
          "ExerciseAngina": 1,
          "FastingBS": 0,
          "HeartDisease": 0,
          "MaxHR": 96,
          "RestingBP": 130,
          "Sex": 1
         },
         {
          "Age": 50,
          "Cholesterol": 196,
          "ExerciseAngina": 0,
          "FastingBS": 0,
          "HeartDisease": 0,
          "MaxHR": 163,
          "RestingBP": 129,
          "Sex": 1
         },
         {
          "Age": 37,
          "Cholesterol": 215,
          "ExerciseAngina": 0,
          "FastingBS": 0,
          "HeartDisease": 0,
          "MaxHR": 170,
          "RestingBP": 120,
          "Sex": 0
         },
         {
          "Age": 62,
          "Cholesterol": 208,
          "ExerciseAngina": 0,
          "FastingBS": 1,
          "HeartDisease": 0,
          "MaxHR": 140,
          "RestingBP": 128,
          "Sex": 1
         },
         {
          "Age": 39,
          "Cholesterol": 273,
          "ExerciseAngina": 0,
          "FastingBS": 0,
          "HeartDisease": 0,
          "MaxHR": 132,
          "RestingBP": 110,
          "Sex": 1
         },
         {
          "Age": 64,
          "Cholesterol": 309,
          "ExerciseAngina": 1,
          "FastingBS": 0,
          "HeartDisease": 1,
          "MaxHR": 131,
          "RestingBP": 125,
          "Sex": 1
         },
         {
          "Age": 64,
          "Cholesterol": 313,
          "ExerciseAngina": 0,
          "FastingBS": 0,
          "HeartDisease": 0,
          "MaxHR": 133,
          "RestingBP": 140,
          "Sex": 0
         },
         {
          "Age": 58,
          "Cholesterol": 393,
          "ExerciseAngina": 1,
          "FastingBS": 0,
          "HeartDisease": 1,
          "MaxHR": 110,
          "RestingBP": 180,
          "Sex": 0
         },
         {
          "Age": 45,
          "Cholesterol": 208,
          "ExerciseAngina": 1,
          "FastingBS": 0,
          "HeartDisease": 0,
          "MaxHR": 148,
          "RestingBP": 104,
          "Sex": 1
         },
         {
          "Age": 49,
          "Cholesterol": 149,
          "ExerciseAngina": 0,
          "FastingBS": 0,
          "HeartDisease": 1,
          "MaxHR": 126,
          "RestingBP": 118,
          "Sex": 1
         },
         {
          "Age": 37,
          "Cholesterol": 240,
          "ExerciseAngina": 0,
          "FastingBS": 0,
          "HeartDisease": 0,
          "MaxHR": 165,
          "RestingBP": 118,
          "Sex": 1
         },
         {
          "Age": 56,
          "Cholesterol": 256,
          "ExerciseAngina": 1,
          "FastingBS": 1,
          "HeartDisease": 1,
          "MaxHR": 142,
          "RestingBP": 130,
          "Sex": 1
         },
         {
          "Age": 36,
          "Cholesterol": 267,
          "ExerciseAngina": 0,
          "FastingBS": 0,
          "HeartDisease": 1,
          "MaxHR": 160,
          "RestingBP": 120,
          "Sex": 1
         },
         {
          "Age": 33,
          "Cholesterol": 298,
          "ExerciseAngina": 0,
          "FastingBS": 0,
          "HeartDisease": 0,
          "MaxHR": 185,
          "RestingBP": 120,
          "Sex": 1
         },
         {
          "Age": 40,
          "Cholesterol": 289,
          "ExerciseAngina": 0,
          "FastingBS": 0,
          "HeartDisease": 0,
          "MaxHR": 172,
          "RestingBP": 140,
          "Sex": 1
         },
         {
          "Age": 46,
          "Cholesterol": 277,
          "ExerciseAngina": 1,
          "FastingBS": 0,
          "HeartDisease": 1,
          "MaxHR": 125,
          "RestingBP": 120,
          "Sex": 1
         },
         {
          "Age": 48,
          "Cholesterol": 195,
          "ExerciseAngina": 0,
          "FastingBS": 0,
          "HeartDisease": 0,
          "MaxHR": 125,
          "RestingBP": 120,
          "Sex": 0
         },
         {
          "Age": 57,
          "Cholesterol": 232,
          "ExerciseAngina": 0,
          "FastingBS": 0,
          "HeartDisease": 1,
          "MaxHR": 164,
          "RestingBP": 154,
          "Sex": 1
         },
         {
          "Age": 47,
          "Cholesterol": 205,
          "ExerciseAngina": 1,
          "FastingBS": 0,
          "HeartDisease": 1,
          "MaxHR": 98,
          "RestingBP": 120,
          "Sex": 0
         },
         {
          "Age": 67,
          "Cholesterol": 254,
          "ExerciseAngina": 0,
          "FastingBS": 1,
          "HeartDisease": 1,
          "MaxHR": 163,
          "RestingBP": 125,
          "Sex": 1
         },
         {
          "Age": 67,
          "Cholesterol": 237,
          "ExerciseAngina": 0,
          "FastingBS": 0,
          "HeartDisease": 1,
          "MaxHR": 71,
          "RestingBP": 120,
          "Sex": 1
         },
         {
          "Age": 45,
          "Cholesterol": 309,
          "ExerciseAngina": 1,
          "FastingBS": 0,
          "HeartDisease": 1,
          "MaxHR": 147,
          "RestingBP": 142,
          "Sex": 1
         },
         {
          "Age": 39,
          "Cholesterol": 147,
          "ExerciseAngina": 0,
          "FastingBS": 1,
          "HeartDisease": 0,
          "MaxHR": 160,
          "RestingBP": 160,
          "Sex": 1
         },
         {
          "Age": 64,
          "Cholesterol": 211,
          "ExerciseAngina": 1,
          "FastingBS": 0,
          "HeartDisease": 0,
          "MaxHR": 144,
          "RestingBP": 110,
          "Sex": 1
         },
         {
          "Age": 51,
          "Cholesterol": 194,
          "ExerciseAngina": 0,
          "FastingBS": 0,
          "HeartDisease": 0,
          "MaxHR": 170,
          "RestingBP": 160,
          "Sex": 0
         },
         {
          "Age": 38,
          "Cholesterol": 275,
          "ExerciseAngina": 0,
          "FastingBS": 0,
          "HeartDisease": 0,
          "MaxHR": 129,
          "RestingBP": 120,
          "Sex": 0
         },
         {
          "Age": 52,
          "Cholesterol": 259,
          "ExerciseAngina": 0,
          "FastingBS": 0,
          "HeartDisease": 0,
          "MaxHR": 170,
          "RestingBP": 140,
          "Sex": 1
         },
         {
          "Age": 61,
          "Cholesterol": 234,
          "ExerciseAngina": 0,
          "FastingBS": 0,
          "HeartDisease": 1,
          "MaxHR": 145,
          "RestingBP": 134,
          "Sex": 1
         },
         {
          "Age": 33,
          "Cholesterol": 246,
          "ExerciseAngina": 1,
          "FastingBS": 0,
          "HeartDisease": 1,
          "MaxHR": 150,
          "RestingBP": 100,
          "Sex": 0
         },
         {
          "Age": 52,
          "Cholesterol": 201,
          "ExerciseAngina": 0,
          "FastingBS": 0,
          "HeartDisease": 0,
          "MaxHR": 158,
          "RestingBP": 134,
          "Sex": 1
         },
         {
          "Age": 46,
          "Cholesterol": 240,
          "ExerciseAngina": 0,
          "FastingBS": 0,
          "HeartDisease": 0,
          "MaxHR": 140,
          "RestingBP": 110,
          "Sex": 1
         },
         {
          "Age": 65,
          "Cholesterol": 306,
          "ExerciseAngina": 1,
          "FastingBS": 1,
          "HeartDisease": 1,
          "MaxHR": 87,
          "RestingBP": 140,
          "Sex": 1
         },
         {
          "Age": 62,
          "Cholesterol": 268,
          "ExerciseAngina": 0,
          "FastingBS": 0,
          "HeartDisease": 1,
          "MaxHR": 160,
          "RestingBP": 140,
          "Sex": 0
         },
         {
          "Age": 61,
          "Cholesterol": 294,
          "ExerciseAngina": 1,
          "FastingBS": 0,
          "HeartDisease": 0,
          "MaxHR": 120,
          "RestingBP": 130,
          "Sex": 0
         },
         {
          "Age": 47,
          "Cholesterol": 253,
          "ExerciseAngina": 0,
          "FastingBS": 0,
          "HeartDisease": 0,
          "MaxHR": 179,
          "RestingBP": 130,
          "Sex": 1
         },
         {
          "Age": 46,
          "Cholesterol": 238,
          "ExerciseAngina": 0,
          "FastingBS": 0,
          "HeartDisease": 0,
          "MaxHR": 90,
          "RestingBP": 130,
          "Sex": 0
         },
         {
          "Age": 63,
          "Cholesterol": 305,
          "ExerciseAngina": 1,
          "FastingBS": 0,
          "HeartDisease": 1,
          "MaxHR": 121,
          "RestingBP": 96,
          "Sex": 1
         },
         {
          "Age": 55,
          "Cholesterol": 217,
          "ExerciseAngina": 1,
          "FastingBS": 0,
          "HeartDisease": 1,
          "MaxHR": 111,
          "RestingBP": 140,
          "Sex": 1
         },
         {
          "Age": 41,
          "Cholesterol": 198,
          "ExerciseAngina": 0,
          "FastingBS": 0,
          "HeartDisease": 0,
          "MaxHR": 168,
          "RestingBP": 105,
          "Sex": 0
         },
         {
          "Age": 41,
          "Cholesterol": 268,
          "ExerciseAngina": 1,
          "FastingBS": 0,
          "HeartDisease": 0,
          "MaxHR": 172,
          "RestingBP": 112,
          "Sex": 0
         },
         {
          "Age": 60,
          "Cholesterol": 246,
          "ExerciseAngina": 0,
          "FastingBS": 0,
          "HeartDisease": 0,
          "MaxHR": 135,
          "RestingBP": 120,
          "Sex": 1
         },
         {
          "Age": 55,
          "Cholesterol": 262,
          "ExerciseAngina": 0,
          "FastingBS": 0,
          "HeartDisease": 0,
          "MaxHR": 155,
          "RestingBP": 130,
          "Sex": 1
         },
         {
          "Age": 62,
          "Cholesterol": 231,
          "ExerciseAngina": 0,
          "FastingBS": 0,
          "HeartDisease": 0,
          "MaxHR": 146,
          "RestingBP": 130,
          "Sex": 1
         },
         {
          "Age": 69,
          "Cholesterol": 216,
          "ExerciseAngina": 1,
          "FastingBS": 1,
          "HeartDisease": 1,
          "MaxHR": 84,
          "RestingBP": 122,
          "Sex": 1
         },
         {
          "Age": 66,
          "Cholesterol": 213,
          "ExerciseAngina": 1,
          "FastingBS": 1,
          "HeartDisease": 0,
          "MaxHR": 99,
          "RestingBP": 110,
          "Sex": 1
         },
         {
          "Age": 53,
          "Cholesterol": 246,
          "ExerciseAngina": 1,
          "FastingBS": 0,
          "HeartDisease": 1,
          "MaxHR": 116,
          "RestingBP": 120,
          "Sex": 1
         },
         {
          "Age": 53,
          "Cholesterol": 234,
          "ExerciseAngina": 0,
          "FastingBS": 0,
          "HeartDisease": 0,
          "MaxHR": 160,
          "RestingBP": 138,
          "Sex": 0
         },
         {
          "Age": 47,
          "Cholesterol": 263,
          "ExerciseAngina": 0,
          "FastingBS": 0,
          "HeartDisease": 0,
          "MaxHR": 174,
          "RestingBP": 160,
          "Sex": 1
         },
         {
          "Age": 65,
          "Cholesterol": 225,
          "ExerciseAngina": 0,
          "FastingBS": 0,
          "HeartDisease": 1,
          "MaxHR": 114,
          "RestingBP": 150,
          "Sex": 0
         },
         {
          "Age": 48,
          "Cholesterol": 245,
          "ExerciseAngina": 0,
          "FastingBS": 0,
          "HeartDisease": 0,
          "MaxHR": 180,
          "RestingBP": 130,
          "Sex": 1
         },
         {
          "Age": 50,
          "Cholesterol": 264,
          "ExerciseAngina": 0,
          "FastingBS": 0,
          "HeartDisease": 1,
          "MaxHR": 150,
          "RestingBP": 145,
          "Sex": 1
         },
         {
          "Age": 48,
          "Cholesterol": 177,
          "ExerciseAngina": 0,
          "FastingBS": 1,
          "HeartDisease": 0,
          "MaxHR": 148,
          "RestingBP": 120,
          "Sex": 0
         },
         {
          "Age": 49,
          "Cholesterol": 212,
          "ExerciseAngina": 1,
          "FastingBS": 0,
          "HeartDisease": 1,
          "MaxHR": 96,
          "RestingBP": 128,
          "Sex": 1
         },
         {
          "Age": 50,
          "Cholesterol": 200,
          "ExerciseAngina": 1,
          "FastingBS": 0,
          "HeartDisease": 1,
          "MaxHR": 126,
          "RestingBP": 144,
          "Sex": 1
         },
         {
          "Age": 32,
          "Cholesterol": 254,
          "ExerciseAngina": 0,
          "FastingBS": 0,
          "HeartDisease": 0,
          "MaxHR": 155,
          "RestingBP": 125,
          "Sex": 1
         },
         {
          "Age": 37,
          "Cholesterol": 283,
          "ExerciseAngina": 0,
          "FastingBS": 0,
          "HeartDisease": 0,
          "MaxHR": 98,
          "RestingBP": 130,
          "Sex": 1
         },
         {
          "Age": 49,
          "Cholesterol": 208,
          "ExerciseAngina": 0,
          "FastingBS": 0,
          "HeartDisease": 0,
          "MaxHR": 160,
          "RestingBP": 110,
          "Sex": 0
         },
         {
          "Age": 61,
          "Cholesterol": 337,
          "ExerciseAngina": 1,
          "FastingBS": 0,
          "HeartDisease": 1,
          "MaxHR": 98,
          "RestingBP": 120,
          "Sex": 1
         },
         {
          "Age": 54,
          "Cholesterol": 288,
          "ExerciseAngina": 1,
          "FastingBS": 1,
          "HeartDisease": 0,
          "MaxHR": 159,
          "RestingBP": 132,
          "Sex": 0
         },
         {
          "Age": 60,
          "Cholesterol": 186,
          "ExerciseAngina": 1,
          "FastingBS": 1,
          "HeartDisease": 1,
          "MaxHR": 140,
          "RestingBP": 130,
          "Sex": 1
         },
         {
          "Age": 65,
          "Cholesterol": 236,
          "ExerciseAngina": 1,
          "FastingBS": 1,
          "HeartDisease": 1,
          "MaxHR": 105,
          "RestingBP": 150,
          "Sex": 1
         },
         {
          "Age": 61,
          "Cholesterol": 292,
          "ExerciseAngina": 1,
          "FastingBS": 0,
          "HeartDisease": 0,
          "MaxHR": 115,
          "RestingBP": 125,
          "Sex": 1
         },
         {
          "Age": 59,
          "Cholesterol": 222,
          "ExerciseAngina": 1,
          "FastingBS": 0,
          "HeartDisease": 1,
          "MaxHR": 135,
          "RestingBP": 125,
          "Sex": 1
         },
         {
          "Age": 57,
          "Cholesterol": 192,
          "ExerciseAngina": 0,
          "FastingBS": 0,
          "HeartDisease": 0,
          "MaxHR": 148,
          "RestingBP": 140,
          "Sex": 1
         },
         {
          "Age": 41,
          "Cholesterol": 269,
          "ExerciseAngina": 0,
          "FastingBS": 0,
          "HeartDisease": 0,
          "MaxHR": 144,
          "RestingBP": 125,
          "Sex": 1
         },
         {
          "Age": 40,
          "Cholesterol": 392,
          "ExerciseAngina": 0,
          "FastingBS": 0,
          "HeartDisease": 1,
          "MaxHR": 130,
          "RestingBP": 150,
          "Sex": 0
         },
         {
          "Age": 57,
          "Cholesterol": 168,
          "ExerciseAngina": 0,
          "FastingBS": 0,
          "HeartDisease": 0,
          "MaxHR": 174,
          "RestingBP": 150,
          "Sex": 1
         },
         {
          "Age": 63,
          "Cholesterol": 177,
          "ExerciseAngina": 1,
          "FastingBS": 0,
          "HeartDisease": 1,
          "MaxHR": 84,
          "RestingBP": 170,
          "Sex": 1
         },
         {
          "Age": 60,
          "Cholesterol": 305,
          "ExerciseAngina": 0,
          "FastingBS": 0,
          "HeartDisease": 1,
          "MaxHR": 161,
          "RestingBP": 158,
          "Sex": 0
         },
         {
          "Age": 57,
          "Cholesterol": 260,
          "ExerciseAngina": 0,
          "FastingBS": 1,
          "HeartDisease": 0,
          "MaxHR": 140,
          "RestingBP": 140,
          "Sex": 1
         },
         {
          "Age": 51,
          "Cholesterol": 179,
          "ExerciseAngina": 0,
          "FastingBS": 0,
          "HeartDisease": 0,
          "MaxHR": 100,
          "RestingBP": 130,
          "Sex": 1
         },
         {
          "Age": 53,
          "Cholesterol": 226,
          "ExerciseAngina": 1,
          "FastingBS": 0,
          "HeartDisease": 0,
          "MaxHR": 111,
          "RestingBP": 142,
          "Sex": 1
         },
         {
          "Age": 66,
          "Cholesterol": 139,
          "ExerciseAngina": 1,
          "FastingBS": 0,
          "HeartDisease": 1,
          "MaxHR": 94,
          "RestingBP": 140,
          "Sex": 1
         },
         {
          "Age": 41,
          "Cholesterol": 172,
          "ExerciseAngina": 0,
          "FastingBS": 0,
          "HeartDisease": 1,
          "MaxHR": 130,
          "RestingBP": 130,
          "Sex": 1
         },
         {
          "Age": 52,
          "Cholesterol": 331,
          "ExerciseAngina": 1,
          "FastingBS": 0,
          "HeartDisease": 1,
          "MaxHR": 94,
          "RestingBP": 160,
          "Sex": 1
         },
         {
          "Age": 67,
          "Cholesterol": 299,
          "ExerciseAngina": 1,
          "FastingBS": 0,
          "HeartDisease": 1,
          "MaxHR": 125,
          "RestingBP": 100,
          "Sex": 1
         },
         {
          "Age": 58,
          "Cholesterol": 259,
          "ExerciseAngina": 1,
          "FastingBS": 0,
          "HeartDisease": 1,
          "MaxHR": 130,
          "RestingBP": 128,
          "Sex": 1
         },
         {
          "Age": 42,
          "Cholesterol": 180,
          "ExerciseAngina": 0,
          "FastingBS": 0,
          "HeartDisease": 0,
          "MaxHR": 150,
          "RestingBP": 130,
          "Sex": 1
         },
         {
          "Age": 55,
          "Cholesterol": 196,
          "ExerciseAngina": 0,
          "FastingBS": 0,
          "HeartDisease": 0,
          "MaxHR": 150,
          "RestingBP": 140,
          "Sex": 1
         },
         {
          "Age": 48,
          "Cholesterol": 275,
          "ExerciseAngina": 1,
          "FastingBS": 1,
          "HeartDisease": 1,
          "MaxHR": 150,
          "RestingBP": 122,
          "Sex": 1
         },
         {
          "Age": 58,
          "Cholesterol": 203,
          "ExerciseAngina": 1,
          "FastingBS": 1,
          "HeartDisease": 1,
          "MaxHR": 123,
          "RestingBP": 136,
          "Sex": 1
         },
         {
          "Age": 45,
          "Cholesterol": 236,
          "ExerciseAngina": 1,
          "FastingBS": 0,
          "HeartDisease": 0,
          "MaxHR": 152,
          "RestingBP": 138,
          "Sex": 0
         },
         {
          "Age": 44,
          "Cholesterol": 233,
          "ExerciseAngina": 1,
          "FastingBS": 0,
          "HeartDisease": 0,
          "MaxHR": 179,
          "RestingBP": 130,
          "Sex": 1
         },
         {
          "Age": 43,
          "Cholesterol": 315,
          "ExerciseAngina": 0,
          "FastingBS": 0,
          "HeartDisease": 0,
          "MaxHR": 162,
          "RestingBP": 130,
          "Sex": 1
         },
         {
          "Age": 63,
          "Cholesterol": 252,
          "ExerciseAngina": 1,
          "FastingBS": 0,
          "HeartDisease": 1,
          "MaxHR": 140,
          "RestingBP": 110,
          "Sex": 1
         },
         {
          "Age": 41,
          "Cholesterol": 250,
          "ExerciseAngina": 0,
          "FastingBS": 0,
          "HeartDisease": 0,
          "MaxHR": 142,
          "RestingBP": 110,
          "Sex": 0
         },
         {
          "Age": 54,
          "Cholesterol": 203,
          "ExerciseAngina": 0,
          "FastingBS": 0,
          "HeartDisease": 0,
          "MaxHR": 137,
          "RestingBP": 133,
          "Sex": 1
         },
         {
          "Age": 64,
          "Cholesterol": 258,
          "ExerciseAngina": 0,
          "FastingBS": 1,
          "HeartDisease": 1,
          "MaxHR": 130,
          "RestingBP": 130,
          "Sex": 1
         },
         {
          "Age": 53,
          "Cholesterol": 300,
          "ExerciseAngina": 1,
          "FastingBS": 1,
          "HeartDisease": 1,
          "MaxHR": 128,
          "RestingBP": 144,
          "Sex": 1
         },
         {
          "Age": 60,
          "Cholesterol": 293,
          "ExerciseAngina": 0,
          "FastingBS": 0,
          "HeartDisease": 1,
          "MaxHR": 170,
          "RestingBP": 140,
          "Sex": 1
         },
         {
          "Age": 51,
          "Cholesterol": 222,
          "ExerciseAngina": 1,
          "FastingBS": 0,
          "HeartDisease": 0,
          "MaxHR": 143,
          "RestingBP": 100,
          "Sex": 1
         },
         {
          "Age": 50,
          "Cholesterol": 244,
          "ExerciseAngina": 0,
          "FastingBS": 0,
          "HeartDisease": 0,
          "MaxHR": 162,
          "RestingBP": 120,
          "Sex": 0
         },
         {
          "Age": 44,
          "Cholesterol": 169,
          "ExerciseAngina": 1,
          "FastingBS": 0,
          "HeartDisease": 1,
          "MaxHR": 144,
          "RestingBP": 120,
          "Sex": 1
         },
         {
          "Age": 55,
          "Cholesterol": 342,
          "ExerciseAngina": 0,
          "FastingBS": 0,
          "HeartDisease": 0,
          "MaxHR": 166,
          "RestingBP": 132,
          "Sex": 0
         },
         {
          "Age": 39,
          "Cholesterol": 219,
          "ExerciseAngina": 0,
          "FastingBS": 0,
          "HeartDisease": 1,
          "MaxHR": 140,
          "RestingBP": 118,
          "Sex": 1
         },
         {
          "Age": 67,
          "Cholesterol": 277,
          "ExerciseAngina": 0,
          "FastingBS": 0,
          "HeartDisease": 0,
          "MaxHR": 172,
          "RestingBP": 152,
          "Sex": 0
         },
         {
          "Age": 70,
          "Cholesterol": 269,
          "ExerciseAngina": 1,
          "FastingBS": 0,
          "HeartDisease": 1,
          "MaxHR": 112,
          "RestingBP": 160,
          "Sex": 1
         },
         {
          "Age": 66,
          "Cholesterol": 246,
          "ExerciseAngina": 1,
          "FastingBS": 0,
          "HeartDisease": 1,
          "MaxHR": 120,
          "RestingBP": 160,
          "Sex": 1
         },
         {
          "Age": 43,
          "Cholesterol": 201,
          "ExerciseAngina": 0,
          "FastingBS": 0,
          "HeartDisease": 0,
          "MaxHR": 165,
          "RestingBP": 120,
          "Sex": 0
         },
         {
          "Age": 48,
          "Cholesterol": 260,
          "ExerciseAngina": 0,
          "FastingBS": 0,
          "HeartDisease": 1,
          "MaxHR": 115,
          "RestingBP": 120,
          "Sex": 1
         },
         {
          "Age": 62,
          "Cholesterol": 394,
          "ExerciseAngina": 0,
          "FastingBS": 0,
          "HeartDisease": 0,
          "MaxHR": 157,
          "RestingBP": 140,
          "Sex": 0
         },
         {
          "Age": 50,
          "Cholesterol": 215,
          "ExerciseAngina": 1,
          "FastingBS": 0,
          "HeartDisease": 0,
          "MaxHR": 140,
          "RestingBP": 150,
          "Sex": 1
         },
         {
          "Age": 57,
          "Cholesterol": 241,
          "ExerciseAngina": 1,
          "FastingBS": 0,
          "HeartDisease": 1,
          "MaxHR": 123,
          "RestingBP": 140,
          "Sex": 0
         },
         {
          "Age": 53,
          "Cholesterol": 243,
          "ExerciseAngina": 0,
          "FastingBS": 0,
          "HeartDisease": 0,
          "MaxHR": 155,
          "RestingBP": 140,
          "Sex": 1
         },
         {
          "Age": 59,
          "Cholesterol": 188,
          "ExerciseAngina": 0,
          "FastingBS": 0,
          "HeartDisease": 0,
          "MaxHR": 124,
          "RestingBP": 130,
          "Sex": 0
         },
         {
          "Age": 55,
          "Cholesterol": 228,
          "ExerciseAngina": 1,
          "FastingBS": 0,
          "HeartDisease": 1,
          "MaxHR": 124,
          "RestingBP": 136,
          "Sex": 1
         },
         {
          "Age": 61,
          "Cholesterol": 203,
          "ExerciseAngina": 0,
          "FastingBS": 0,
          "HeartDisease": 1,
          "MaxHR": 161,
          "RestingBP": 148,
          "Sex": 1
         },
         {
          "Age": 48,
          "Cholesterol": 208,
          "ExerciseAngina": 1,
          "FastingBS": 0,
          "HeartDisease": 1,
          "MaxHR": 159,
          "RestingBP": 140,
          "Sex": 1
         },
         {
          "Age": 64,
          "Cholesterol": 306,
          "ExerciseAngina": 1,
          "FastingBS": 1,
          "HeartDisease": 1,
          "MaxHR": 115,
          "RestingBP": 143,
          "Sex": 1
         },
         {
          "Age": 48,
          "Cholesterol": 275,
          "ExerciseAngina": 0,
          "FastingBS": 0,
          "HeartDisease": 0,
          "MaxHR": 139,
          "RestingBP": 130,
          "Sex": 0
         },
         {
          "Age": 55,
          "Cholesterol": 270,
          "ExerciseAngina": 0,
          "FastingBS": 0,
          "HeartDisease": 0,
          "MaxHR": 140,
          "RestingBP": 120,
          "Sex": 1
         },
         {
          "Age": 69,
          "Cholesterol": 234,
          "ExerciseAngina": 0,
          "FastingBS": 1,
          "HeartDisease": 0,
          "MaxHR": 131,
          "RestingBP": 160,
          "Sex": 1
         },
         {
          "Age": 41,
          "Cholesterol": 289,
          "ExerciseAngina": 0,
          "FastingBS": 0,
          "HeartDisease": 1,
          "MaxHR": 170,
          "RestingBP": 110,
          "Sex": 1
         },
         {
          "Age": 50,
          "Cholesterol": 209,
          "ExerciseAngina": 0,
          "FastingBS": 0,
          "HeartDisease": 0,
          "MaxHR": 116,
          "RestingBP": 170,
          "Sex": 1
         },
         {
          "Age": 61,
          "Cholesterol": 282,
          "ExerciseAngina": 1,
          "FastingBS": 0,
          "HeartDisease": 1,
          "MaxHR": 135,
          "RestingBP": 120,
          "Sex": 1
         },
         {
          "Age": 54,
          "Cholesterol": 258,
          "ExerciseAngina": 0,
          "FastingBS": 0,
          "HeartDisease": 0,
          "MaxHR": 147,
          "RestingBP": 120,
          "Sex": 1
         },
         {
          "Age": 44,
          "Cholesterol": 141,
          "ExerciseAngina": 0,
          "FastingBS": 0,
          "HeartDisease": 0,
          "MaxHR": 175,
          "RestingBP": 108,
          "Sex": 0
         },
         {
          "Age": 55,
          "Cholesterol": 277,
          "ExerciseAngina": 0,
          "FastingBS": 0,
          "HeartDisease": 0,
          "MaxHR": 160,
          "RestingBP": 110,
          "Sex": 1
         },
         {
          "Age": 64,
          "Cholesterol": 246,
          "ExerciseAngina": 1,
          "FastingBS": 0,
          "HeartDisease": 1,
          "MaxHR": 96,
          "RestingBP": 120,
          "Sex": 1
         },
         {
          "Age": 38,
          "Cholesterol": 196,
          "ExerciseAngina": 0,
          "FastingBS": 0,
          "HeartDisease": 1,
          "MaxHR": 166,
          "RestingBP": 110,
          "Sex": 1
         },
         {
          "Age": 59,
          "Cholesterol": 287,
          "ExerciseAngina": 0,
          "FastingBS": 0,
          "HeartDisease": 0,
          "MaxHR": 150,
          "RestingBP": 140,
          "Sex": 1
         },
         {
          "Age": 72,
          "Cholesterol": 123,
          "ExerciseAngina": 0,
          "FastingBS": 1,
          "HeartDisease": 1,
          "MaxHR": 130,
          "RestingBP": 160,
          "Sex": 1
         },
         {
          "Age": 35,
          "Cholesterol": 264,
          "ExerciseAngina": 0,
          "FastingBS": 0,
          "HeartDisease": 0,
          "MaxHR": 168,
          "RestingBP": 150,
          "Sex": 1
         },
         {
          "Age": 75,
          "Cholesterol": 310,
          "ExerciseAngina": 1,
          "FastingBS": 1,
          "HeartDisease": 0,
          "MaxHR": 112,
          "RestingBP": 160,
          "Sex": 1
         },
         {
          "Age": 61,
          "Cholesterol": 243,
          "ExerciseAngina": 1,
          "FastingBS": 1,
          "HeartDisease": 0,
          "MaxHR": 137,
          "RestingBP": 150,
          "Sex": 1
         },
         {
          "Age": 46,
          "Cholesterol": 231,
          "ExerciseAngina": 0,
          "FastingBS": 0,
          "HeartDisease": 1,
          "MaxHR": 147,
          "RestingBP": 150,
          "Sex": 1
         },
         {
          "Age": 71,
          "Cholesterol": 149,
          "ExerciseAngina": 0,
          "FastingBS": 0,
          "HeartDisease": 0,
          "MaxHR": 125,
          "RestingBP": 112,
          "Sex": 0
         },
         {
          "Age": 56,
          "Cholesterol": 409,
          "ExerciseAngina": 1,
          "FastingBS": 0,
          "HeartDisease": 1,
          "MaxHR": 150,
          "RestingBP": 134,
          "Sex": 0
         },
         {
          "Age": 61,
          "Cholesterol": 307,
          "ExerciseAngina": 1,
          "FastingBS": 0,
          "HeartDisease": 1,
          "MaxHR": 146,
          "RestingBP": 145,
          "Sex": 0
         },
         {
          "Age": 51,
          "Cholesterol": 160,
          "ExerciseAngina": 0,
          "FastingBS": 0,
          "HeartDisease": 1,
          "MaxHR": 150,
          "RestingBP": 135,
          "Sex": 1
         },
         {
          "Age": 50,
          "Cholesterol": 328,
          "ExerciseAngina": 1,
          "FastingBS": 0,
          "HeartDisease": 0,
          "MaxHR": 110,
          "RestingBP": 120,
          "Sex": 0
         },
         {
          "Age": 67,
          "Cholesterol": 286,
          "ExerciseAngina": 1,
          "FastingBS": 0,
          "HeartDisease": 1,
          "MaxHR": 108,
          "RestingBP": 160,
          "Sex": 1
         },
         {
          "Age": 54,
          "Cholesterol": 283,
          "ExerciseAngina": 0,
          "FastingBS": 0,
          "HeartDisease": 1,
          "MaxHR": 195,
          "RestingBP": 192,
          "Sex": 1
         },
         {
          "Age": 58,
          "Cholesterol": 284,
          "ExerciseAngina": 0,
          "FastingBS": 0,
          "HeartDisease": 1,
          "MaxHR": 160,
          "RestingBP": 120,
          "Sex": 1
         },
         {
          "Age": 57,
          "Cholesterol": 264,
          "ExerciseAngina": 0,
          "FastingBS": 0,
          "HeartDisease": 1,
          "MaxHR": 100,
          "RestingBP": 122,
          "Sex": 1
         },
         {
          "Age": 45,
          "Cholesterol": 224,
          "ExerciseAngina": 0,
          "FastingBS": 1,
          "HeartDisease": 0,
          "MaxHR": 122,
          "RestingBP": 140,
          "Sex": 1
         },
         {
          "Age": 52,
          "Cholesterol": 266,
          "ExerciseAngina": 1,
          "FastingBS": 0,
          "HeartDisease": 1,
          "MaxHR": 134,
          "RestingBP": 140,
          "Sex": 1
         },
         {
          "Age": 52,
          "Cholesterol": 182,
          "ExerciseAngina": 0,
          "FastingBS": 0,
          "HeartDisease": 1,
          "MaxHR": 150,
          "RestingBP": 120,
          "Sex": 1
         },
         {
          "Age": 52,
          "Cholesterol": 233,
          "ExerciseAngina": 0,
          "FastingBS": 1,
          "HeartDisease": 0,
          "MaxHR": 147,
          "RestingBP": 108,
          "Sex": 1
         },
         {
          "Age": 56,
          "Cholesterol": 279,
          "ExerciseAngina": 0,
          "FastingBS": 0,
          "HeartDisease": 1,
          "MaxHR": 150,
          "RestingBP": 120,
          "Sex": 0
         },
         {
          "Age": 60,
          "Cholesterol": 186,
          "ExerciseAngina": 1,
          "FastingBS": 1,
          "HeartDisease": 1,
          "MaxHR": 140,
          "RestingBP": 130,
          "Sex": 1
         },
         {
          "Age": 68,
          "Cholesterol": 254,
          "ExerciseAngina": 1,
          "FastingBS": 1,
          "HeartDisease": 0,
          "MaxHR": 151,
          "RestingBP": 134,
          "Sex": 1
         },
         {
          "Age": 69,
          "Cholesterol": 210,
          "ExerciseAngina": 1,
          "FastingBS": 1,
          "HeartDisease": 1,
          "MaxHR": 112,
          "RestingBP": 142,
          "Sex": 1
         },
         {
          "Age": 30,
          "Cholesterol": 237,
          "ExerciseAngina": 0,
          "FastingBS": 0,
          "HeartDisease": 0,
          "MaxHR": 170,
          "RestingBP": 170,
          "Sex": 0
         },
         {
          "Age": 59,
          "Cholesterol": 274,
          "ExerciseAngina": 1,
          "FastingBS": 0,
          "HeartDisease": 0,
          "MaxHR": 154,
          "RestingBP": 140,
          "Sex": 1
         },
         {
          "Age": 56,
          "Cholesterol": 294,
          "ExerciseAngina": 0,
          "FastingBS": 0,
          "HeartDisease": 0,
          "MaxHR": 153,
          "RestingBP": 140,
          "Sex": 0
         },
         {
          "Age": 56,
          "Cholesterol": 388,
          "ExerciseAngina": 1,
          "FastingBS": 0,
          "HeartDisease": 1,
          "MaxHR": 122,
          "RestingBP": 170,
          "Sex": 1
         },
         {
          "Age": 40,
          "Cholesterol": 199,
          "ExerciseAngina": 1,
          "FastingBS": 0,
          "HeartDisease": 0,
          "MaxHR": 178,
          "RestingBP": 140,
          "Sex": 1
         },
         {
          "Age": 59,
          "Cholesterol": 288,
          "ExerciseAngina": 0,
          "FastingBS": 0,
          "HeartDisease": 1,
          "MaxHR": 159,
          "RestingBP": 170,
          "Sex": 1
         },
         {
          "Age": 55,
          "Cholesterol": 256,
          "ExerciseAngina": 0,
          "FastingBS": 1,
          "HeartDisease": 0,
          "MaxHR": 137,
          "RestingBP": 120,
          "Sex": 1
         },
         {
          "Age": 58,
          "Cholesterol": 251,
          "ExerciseAngina": 0,
          "FastingBS": 0,
          "HeartDisease": 0,
          "MaxHR": 110,
          "RestingBP": 130,
          "Sex": 1
         },
         {
          "Age": 55,
          "Cholesterol": 205,
          "ExerciseAngina": 1,
          "FastingBS": 0,
          "HeartDisease": 1,
          "MaxHR": 130,
          "RestingBP": 128,
          "Sex": 0
         },
         {
          "Age": 44,
          "Cholesterol": 288,
          "ExerciseAngina": 1,
          "FastingBS": 0,
          "HeartDisease": 1,
          "MaxHR": 150,
          "RestingBP": 150,
          "Sex": 1
         },
         {
          "Age": 56,
          "Cholesterol": 184,
          "ExerciseAngina": 1,
          "FastingBS": 0,
          "HeartDisease": 1,
          "MaxHR": 105,
          "RestingBP": 132,
          "Sex": 1
         },
         {
          "Age": 48,
          "Cholesterol": 256,
          "ExerciseAngina": 1,
          "FastingBS": 1,
          "HeartDisease": 1,
          "MaxHR": 150,
          "RestingBP": 130,
          "Sex": 1
         },
         {
          "Age": 71,
          "Cholesterol": 265,
          "ExerciseAngina": 0,
          "FastingBS": 1,
          "HeartDisease": 0,
          "MaxHR": 130,
          "RestingBP": 110,
          "Sex": 0
         },
         {
          "Age": 63,
          "Cholesterol": 165,
          "ExerciseAngina": 0,
          "FastingBS": 0,
          "HeartDisease": 0,
          "MaxHR": 133,
          "RestingBP": 136,
          "Sex": 1
         },
         {
          "Age": 52,
          "Cholesterol": 205,
          "ExerciseAngina": 0,
          "FastingBS": 1,
          "HeartDisease": 0,
          "MaxHR": 184,
          "RestingBP": 128,
          "Sex": 1
         },
         {
          "Age": 74,
          "Cholesterol": 216,
          "ExerciseAngina": 1,
          "FastingBS": 1,
          "HeartDisease": 1,
          "MaxHR": 116,
          "RestingBP": 145,
          "Sex": 1
         },
         {
          "Age": 57,
          "Cholesterol": 276,
          "ExerciseAngina": 1,
          "FastingBS": 0,
          "HeartDisease": 1,
          "MaxHR": 112,
          "RestingBP": 150,
          "Sex": 1
         },
         {
          "Age": 56,
          "Cholesterol": 167,
          "ExerciseAngina": 0,
          "FastingBS": 0,
          "HeartDisease": 0,
          "MaxHR": 114,
          "RestingBP": 130,
          "Sex": 1
         },
         {
          "Age": 52,
          "Cholesterol": 223,
          "ExerciseAngina": 0,
          "FastingBS": 0,
          "HeartDisease": 0,
          "MaxHR": 169,
          "RestingBP": 138,
          "Sex": 1
         },
         {
          "Age": 42,
          "Cholesterol": 209,
          "ExerciseAngina": 0,
          "FastingBS": 0,
          "HeartDisease": 0,
          "MaxHR": 173,
          "RestingBP": 120,
          "Sex": 0
         },
         {
          "Age": 45,
          "Cholesterol": 192,
          "ExerciseAngina": 0,
          "FastingBS": 0,
          "HeartDisease": 0,
          "MaxHR": 110,
          "RestingBP": 135,
          "Sex": 1
         },
         {
          "Age": 31,
          "Cholesterol": 219,
          "ExerciseAngina": 0,
          "FastingBS": 0,
          "HeartDisease": 0,
          "MaxHR": 150,
          "RestingBP": 100,
          "Sex": 0
         },
         {
          "Age": 55,
          "Cholesterol": 295,
          "ExerciseAngina": 0,
          "FastingBS": 0,
          "HeartDisease": 1,
          "MaxHR": 136,
          "RestingBP": 140,
          "Sex": 1
         },
         {
          "Age": 49,
          "Cholesterol": 207,
          "ExerciseAngina": 0,
          "FastingBS": 0,
          "HeartDisease": 0,
          "MaxHR": 135,
          "RestingBP": 130,
          "Sex": 0
         },
         {
          "Age": 62,
          "Cholesterol": 297,
          "ExerciseAngina": 1,
          "FastingBS": 0,
          "HeartDisease": 1,
          "MaxHR": 130,
          "RestingBP": 135,
          "Sex": 1
         },
         {
          "Age": 70,
          "Cholesterol": 174,
          "ExerciseAngina": 1,
          "FastingBS": 0,
          "HeartDisease": 1,
          "MaxHR": 125,
          "RestingBP": 145,
          "Sex": 1
         },
         {
          "Age": 60,
          "Cholesterol": 258,
          "ExerciseAngina": 1,
          "FastingBS": 0,
          "HeartDisease": 1,
          "MaxHR": 141,
          "RestingBP": 125,
          "Sex": 1
         },
         {
          "Age": 61,
          "Cholesterol": 260,
          "ExerciseAngina": 1,
          "FastingBS": 0,
          "HeartDisease": 1,
          "MaxHR": 140,
          "RestingBP": 120,
          "Sex": 1
         },
         {
          "Age": 50,
          "Cholesterol": 233,
          "ExerciseAngina": 0,
          "FastingBS": 0,
          "HeartDisease": 1,
          "MaxHR": 163,
          "RestingBP": 140,
          "Sex": 1
         },
         {
          "Age": 47,
          "Cholesterol": 193,
          "ExerciseAngina": 1,
          "FastingBS": 0,
          "HeartDisease": 1,
          "MaxHR": 145,
          "RestingBP": 140,
          "Sex": 1
         },
         {
          "Age": 49,
          "Cholesterol": 142,
          "ExerciseAngina": 1,
          "FastingBS": 0,
          "HeartDisease": 1,
          "MaxHR": 127,
          "RestingBP": 131,
          "Sex": 1
         },
         {
          "Age": 47,
          "Cholesterol": 257,
          "ExerciseAngina": 0,
          "FastingBS": 0,
          "HeartDisease": 0,
          "MaxHR": 156,
          "RestingBP": 138,
          "Sex": 1
         },
         {
          "Age": 51,
          "Cholesterol": 227,
          "ExerciseAngina": 0,
          "FastingBS": 1,
          "HeartDisease": 0,
          "MaxHR": 138,
          "RestingBP": 132,
          "Sex": 1
         },
         {
          "Age": 41,
          "Cholesterol": 214,
          "ExerciseAngina": 0,
          "FastingBS": 0,
          "HeartDisease": 0,
          "MaxHR": 168,
          "RestingBP": 130,
          "Sex": 1
         },
         {
          "Age": 57,
          "Cholesterol": 274,
          "ExerciseAngina": 1,
          "FastingBS": 0,
          "HeartDisease": 1,
          "MaxHR": 88,
          "RestingBP": 152,
          "Sex": 1
         },
         {
          "Age": 71,
          "Cholesterol": 221,
          "ExerciseAngina": 1,
          "FastingBS": 0,
          "HeartDisease": 1,
          "MaxHR": 108,
          "RestingBP": 144,
          "Sex": 1
         },
         {
          "Age": 39,
          "Cholesterol": 339,
          "ExerciseAngina": 0,
          "FastingBS": 0,
          "HeartDisease": 0,
          "MaxHR": 170,
          "RestingBP": 120,
          "Sex": 1
         },
         {
          "Age": 44,
          "Cholesterol": 219,
          "ExerciseAngina": 0,
          "FastingBS": 0,
          "HeartDisease": 0,
          "MaxHR": 188,
          "RestingBP": 130,
          "Sex": 1
         },
         {
          "Age": 59,
          "Cholesterol": 271,
          "ExerciseAngina": 0,
          "FastingBS": 0,
          "HeartDisease": 0,
          "MaxHR": 182,
          "RestingBP": 138,
          "Sex": 1
         },
         {
          "Age": 46,
          "Cholesterol": 204,
          "ExerciseAngina": 0,
          "FastingBS": 0,
          "HeartDisease": 0,
          "MaxHR": 172,
          "RestingBP": 105,
          "Sex": 0
         },
         {
          "Age": 48,
          "Cholesterol": 163,
          "ExerciseAngina": 0,
          "FastingBS": 0,
          "HeartDisease": 0,
          "MaxHR": 175,
          "RestingBP": 108,
          "Sex": 0
         },
         {
          "Age": 53,
          "Cholesterol": 216,
          "ExerciseAngina": 0,
          "FastingBS": 0,
          "HeartDisease": 0,
          "MaxHR": 115,
          "RestingBP": 128,
          "Sex": 0
         },
         {
          "Age": 46,
          "Cholesterol": 275,
          "ExerciseAngina": 1,
          "FastingBS": 0,
          "HeartDisease": 0,
          "MaxHR": 165,
          "RestingBP": 140,
          "Sex": 1
         },
         {
          "Age": 48,
          "Cholesterol": 254,
          "ExerciseAngina": 0,
          "FastingBS": 0,
          "HeartDisease": 0,
          "MaxHR": 110,
          "RestingBP": 120,
          "Sex": 0
         },
         {
          "Age": 51,
          "Cholesterol": 258,
          "ExerciseAngina": 0,
          "FastingBS": 1,
          "HeartDisease": 0,
          "MaxHR": 96,
          "RestingBP": 114,
          "Sex": 0
         },
         {
          "Age": 37,
          "Cholesterol": 194,
          "ExerciseAngina": 0,
          "FastingBS": 0,
          "HeartDisease": 0,
          "MaxHR": 150,
          "RestingBP": 130,
          "Sex": 1
         },
         {
          "Age": 62,
          "Cholesterol": 204,
          "ExerciseAngina": 1,
          "FastingBS": 0,
          "HeartDisease": 1,
          "MaxHR": 122,
          "RestingBP": 138,
          "Sex": 1
         },
         {
          "Age": 44,
          "Cholesterol": 226,
          "ExerciseAngina": 0,
          "FastingBS": 0,
          "HeartDisease": 0,
          "MaxHR": 169,
          "RestingBP": 120,
          "Sex": 1
         },
         {
          "Age": 54,
          "Cholesterol": 267,
          "ExerciseAngina": 0,
          "FastingBS": 0,
          "HeartDisease": 0,
          "MaxHR": 167,
          "RestingBP": 108,
          "Sex": 0
         },
         {
          "Age": 64,
          "Cholesterol": 223,
          "ExerciseAngina": 0,
          "FastingBS": 0,
          "HeartDisease": 0,
          "MaxHR": 128,
          "RestingBP": 130,
          "Sex": 1
         },
         {
          "Age": 62,
          "Cholesterol": 153,
          "ExerciseAngina": 1,
          "FastingBS": 0,
          "HeartDisease": 1,
          "MaxHR": 97,
          "RestingBP": 152,
          "Sex": 1
         },
         {
          "Age": 36,
          "Cholesterol": 340,
          "ExerciseAngina": 0,
          "FastingBS": 0,
          "HeartDisease": 0,
          "MaxHR": 184,
          "RestingBP": 112,
          "Sex": 1
         },
         {
          "Age": 59,
          "Cholesterol": 233,
          "ExerciseAngina": 1,
          "FastingBS": 0,
          "HeartDisease": 1,
          "MaxHR": 117,
          "RestingBP": 122,
          "Sex": 1
         },
         {
          "Age": 54,
          "Cholesterol": 224,
          "ExerciseAngina": 0,
          "FastingBS": 0,
          "HeartDisease": 1,
          "MaxHR": 122,
          "RestingBP": 125,
          "Sex": 1
         },
         {
          "Age": 74,
          "Cholesterol": 269,
          "ExerciseAngina": 1,
          "FastingBS": 0,
          "HeartDisease": 0,
          "MaxHR": 121,
          "RestingBP": 120,
          "Sex": 0
         },
         {
          "Age": 54,
          "Cholesterol": 216,
          "ExerciseAngina": 0,
          "FastingBS": 0,
          "HeartDisease": 1,
          "MaxHR": 140,
          "RestingBP": 125,
          "Sex": 1
         },
         {
          "Age": 55,
          "Cholesterol": 320,
          "ExerciseAngina": 0,
          "FastingBS": 0,
          "HeartDisease": 0,
          "MaxHR": 155,
          "RestingBP": 122,
          "Sex": 0
         },
         {
          "Age": 60,
          "Cholesterol": 316,
          "ExerciseAngina": 1,
          "FastingBS": 1,
          "HeartDisease": 1,
          "MaxHR": 122,
          "RestingBP": 141,
          "Sex": 1
         },
         {
          "Age": 55,
          "Cholesterol": 344,
          "ExerciseAngina": 0,
          "FastingBS": 0,
          "HeartDisease": 0,
          "MaxHR": 160,
          "RestingBP": 110,
          "Sex": 0
         },
         {
          "Age": 34,
          "Cholesterol": 214,
          "ExerciseAngina": 0,
          "FastingBS": 0,
          "HeartDisease": 0,
          "MaxHR": 168,
          "RestingBP": 150,
          "Sex": 1
         },
         {
          "Age": 52,
          "Cholesterol": 186,
          "ExerciseAngina": 0,
          "FastingBS": 0,
          "HeartDisease": 0,
          "MaxHR": 190,
          "RestingBP": 118,
          "Sex": 1
         },
         {
          "Age": 62,
          "Cholesterol": 170,
          "ExerciseAngina": 1,
          "FastingBS": 0,
          "HeartDisease": 1,
          "MaxHR": 120,
          "RestingBP": 139,
          "Sex": 1
         },
         {
          "Age": 63,
          "Cholesterol": 254,
          "ExerciseAngina": 0,
          "FastingBS": 0,
          "HeartDisease": 1,
          "MaxHR": 147,
          "RestingBP": 130,
          "Sex": 1
         },
         {
          "Age": 52,
          "Cholesterol": 230,
          "ExerciseAngina": 0,
          "FastingBS": 0,
          "HeartDisease": 1,
          "MaxHR": 160,
          "RestingBP": 112,
          "Sex": 1
         },
         {
          "Age": 55,
          "Cholesterol": 327,
          "ExerciseAngina": 1,
          "FastingBS": 0,
          "HeartDisease": 1,
          "MaxHR": 117,
          "RestingBP": 180,
          "Sex": 0
         },
         {
          "Age": 60,
          "Cholesterol": 258,
          "ExerciseAngina": 0,
          "FastingBS": 0,
          "HeartDisease": 1,
          "MaxHR": 157,
          "RestingBP": 150,
          "Sex": 0
         },
         {
          "Age": 53,
          "Cholesterol": 216,
          "ExerciseAngina": 1,
          "FastingBS": 0,
          "HeartDisease": 0,
          "MaxHR": 142,
          "RestingBP": 140,
          "Sex": 0
         },
         {
          "Age": 66,
          "Cholesterol": 228,
          "ExerciseAngina": 1,
          "FastingBS": 1,
          "HeartDisease": 1,
          "MaxHR": 165,
          "RestingBP": 178,
          "Sex": 0
         },
         {
          "Age": 46,
          "Cholesterol": 272,
          "ExerciseAngina": 0,
          "FastingBS": 1,
          "HeartDisease": 1,
          "MaxHR": 175,
          "RestingBP": 140,
          "Sex": 1
         },
         {
          "Age": 62,
          "Cholesterol": 220,
          "ExerciseAngina": 0,
          "FastingBS": 0,
          "HeartDisease": 0,
          "MaxHR": 86,
          "RestingBP": 120,
          "Sex": 1
         },
         {
          "Age": 48,
          "Cholesterol": 263,
          "ExerciseAngina": 0,
          "FastingBS": 1,
          "HeartDisease": 1,
          "MaxHR": 110,
          "RestingBP": 106,
          "Sex": 1
         },
         {
          "Age": 60,
          "Cholesterol": 218,
          "ExerciseAngina": 1,
          "FastingBS": 0,
          "HeartDisease": 1,
          "MaxHR": 140,
          "RestingBP": 132,
          "Sex": 1
         },
         {
          "Age": 59,
          "Cholesterol": 177,
          "ExerciseAngina": 1,
          "FastingBS": 0,
          "HeartDisease": 1,
          "MaxHR": 162,
          "RestingBP": 140,
          "Sex": 1
         },
         {
          "Age": 58,
          "Cholesterol": 197,
          "ExerciseAngina": 0,
          "FastingBS": 0,
          "HeartDisease": 0,
          "MaxHR": 131,
          "RestingBP": 130,
          "Sex": 0
         },
         {
          "Age": 60,
          "Cholesterol": 185,
          "ExerciseAngina": 0,
          "FastingBS": 0,
          "HeartDisease": 1,
          "MaxHR": 155,
          "RestingBP": 140,
          "Sex": 1
         },
         {
          "Age": 41,
          "Cholesterol": 306,
          "ExerciseAngina": 0,
          "FastingBS": 0,
          "HeartDisease": 0,
          "MaxHR": 163,
          "RestingBP": 126,
          "Sex": 0
         },
         {
          "Age": 61,
          "Cholesterol": 284,
          "ExerciseAngina": 1,
          "FastingBS": 0,
          "HeartDisease": 1,
          "MaxHR": 123,
          "RestingBP": 140,
          "Sex": 1
         },
         {
          "Age": 43,
          "Cholesterol": 247,
          "ExerciseAngina": 1,
          "FastingBS": 1,
          "HeartDisease": 1,
          "MaxHR": 143,
          "RestingBP": 132,
          "Sex": 1
         },
         {
          "Age": 51,
          "Cholesterol": 308,
          "ExerciseAngina": 0,
          "FastingBS": 0,
          "HeartDisease": 0,
          "MaxHR": 142,
          "RestingBP": 140,
          "Sex": 0
         },
         {
          "Age": 68,
          "Cholesterol": 211,
          "ExerciseAngina": 0,
          "FastingBS": 0,
          "HeartDisease": 0,
          "MaxHR": 115,
          "RestingBP": 120,
          "Sex": 0
         },
         {
          "Age": 53,
          "Cholesterol": 203,
          "ExerciseAngina": 1,
          "FastingBS": 1,
          "HeartDisease": 1,
          "MaxHR": 155,
          "RestingBP": 140,
          "Sex": 1
         },
         {
          "Age": 39,
          "Cholesterol": 204,
          "ExerciseAngina": 0,
          "FastingBS": 0,
          "HeartDisease": 0,
          "MaxHR": 145,
          "RestingBP": 120,
          "Sex": 1
         },
         {
          "Age": 51,
          "Cholesterol": 152,
          "ExerciseAngina": 1,
          "FastingBS": 1,
          "HeartDisease": 1,
          "MaxHR": 130,
          "RestingBP": 131,
          "Sex": 1
         },
         {
          "Age": 59,
          "Cholesterol": 218,
          "ExerciseAngina": 0,
          "FastingBS": 1,
          "HeartDisease": 1,
          "MaxHR": 134,
          "RestingBP": 126,
          "Sex": 1
         },
         {
          "Age": 54,
          "Cholesterol": 201,
          "ExerciseAngina": 0,
          "FastingBS": 0,
          "HeartDisease": 0,
          "MaxHR": 163,
          "RestingBP": 160,
          "Sex": 0
         },
         {
          "Age": 56,
          "Cholesterol": 85,
          "ExerciseAngina": 0,
          "FastingBS": 0,
          "HeartDisease": 0,
          "MaxHR": 140,
          "RestingBP": 120,
          "Sex": 1
         },
         {
          "Age": 59,
          "Cholesterol": 169,
          "ExerciseAngina": 0,
          "FastingBS": 0,
          "HeartDisease": 0,
          "MaxHR": 140,
          "RestingBP": 140,
          "Sex": 1
         },
         {
          "Age": 51,
          "Cholesterol": 261,
          "ExerciseAngina": 1,
          "FastingBS": 0,
          "HeartDisease": 0,
          "MaxHR": 186,
          "RestingBP": 140,
          "Sex": 1
         },
         {
          "Age": 36,
          "Cholesterol": 160,
          "ExerciseAngina": 0,
          "FastingBS": 0,
          "HeartDisease": 0,
          "MaxHR": 172,
          "RestingBP": 150,
          "Sex": 1
         },
         {
          "Age": 58,
          "Cholesterol": 234,
          "ExerciseAngina": 0,
          "FastingBS": 0,
          "HeartDisease": 1,
          "MaxHR": 156,
          "RestingBP": 100,
          "Sex": 1
         },
         {
          "Age": 51,
          "Cholesterol": 218,
          "ExerciseAngina": 0,
          "FastingBS": 1,
          "HeartDisease": 0,
          "MaxHR": 139,
          "RestingBP": 132,
          "Sex": 1
         },
         {
          "Age": 64,
          "Cholesterol": 303,
          "ExerciseAngina": 0,
          "FastingBS": 0,
          "HeartDisease": 0,
          "MaxHR": 122,
          "RestingBP": 130,
          "Sex": 0
         },
         {
          "Age": 52,
          "Cholesterol": 225,
          "ExerciseAngina": 0,
          "FastingBS": 0,
          "HeartDisease": 0,
          "MaxHR": 140,
          "RestingBP": 140,
          "Sex": 0
         },
         {
          "Age": 63,
          "Cholesterol": 187,
          "ExerciseAngina": 1,
          "FastingBS": 0,
          "HeartDisease": 1,
          "MaxHR": 144,
          "RestingBP": 140,
          "Sex": 1
         },
         {
          "Age": 60,
          "Cholesterol": 195,
          "ExerciseAngina": 0,
          "FastingBS": 0,
          "HeartDisease": 0,
          "MaxHR": 126,
          "RestingBP": 136,
          "Sex": 1
         },
         {
          "Age": 53,
          "Cholesterol": 197,
          "ExerciseAngina": 0,
          "FastingBS": 1,
          "HeartDisease": 0,
          "MaxHR": 152,
          "RestingBP": 130,
          "Sex": 1
         },
         {
          "Age": 57,
          "Cholesterol": 311,
          "ExerciseAngina": 1,
          "FastingBS": 1,
          "HeartDisease": 1,
          "MaxHR": 148,
          "RestingBP": 130,
          "Sex": 1
         },
         {
          "Age": 66,
          "Cholesterol": 226,
          "ExerciseAngina": 0,
          "FastingBS": 0,
          "HeartDisease": 0,
          "MaxHR": 114,
          "RestingBP": 150,
          "Sex": 0
         },
         {
          "Age": 42,
          "Cholesterol": 240,
          "ExerciseAngina": 0,
          "FastingBS": 0,
          "HeartDisease": 0,
          "MaxHR": 160,
          "RestingBP": 134,
          "Sex": 1
         },
         {
          "Age": 50,
          "Cholesterol": 288,
          "ExerciseAngina": 1,
          "FastingBS": 0,
          "HeartDisease": 1,
          "MaxHR": 140,
          "RestingBP": 140,
          "Sex": 0
         },
         {
          "Age": 63,
          "Cholesterol": 269,
          "ExerciseAngina": 1,
          "FastingBS": 0,
          "HeartDisease": 1,
          "MaxHR": 169,
          "RestingBP": 108,
          "Sex": 0
         },
         {
          "Age": 58,
          "Cholesterol": 240,
          "ExerciseAngina": 1,
          "FastingBS": 0,
          "HeartDisease": 0,
          "MaxHR": 154,
          "RestingBP": 105,
          "Sex": 1
         },
         {
          "Age": 54,
          "Cholesterol": 273,
          "ExerciseAngina": 0,
          "FastingBS": 0,
          "HeartDisease": 0,
          "MaxHR": 150,
          "RestingBP": 120,
          "Sex": 0
         },
         {
          "Age": 46,
          "Cholesterol": 163,
          "ExerciseAngina": 0,
          "FastingBS": 0,
          "HeartDisease": 0,
          "MaxHR": 116,
          "RestingBP": 150,
          "Sex": 1
         },
         {
          "Age": 42,
          "Cholesterol": 315,
          "ExerciseAngina": 1,
          "FastingBS": 0,
          "HeartDisease": 1,
          "MaxHR": 125,
          "RestingBP": 136,
          "Sex": 1
         },
         {
          "Age": 39,
          "Cholesterol": 199,
          "ExerciseAngina": 0,
          "FastingBS": 0,
          "HeartDisease": 0,
          "MaxHR": 179,
          "RestingBP": 94,
          "Sex": 0
         },
         {
          "Age": 28,
          "Cholesterol": 132,
          "ExerciseAngina": 0,
          "FastingBS": 0,
          "HeartDisease": 0,
          "MaxHR": 185,
          "RestingBP": 130,
          "Sex": 1
         },
         {
          "Age": 41,
          "Cholesterol": 250,
          "ExerciseAngina": 0,
          "FastingBS": 0,
          "HeartDisease": 0,
          "MaxHR": 179,
          "RestingBP": 112,
          "Sex": 1
         },
         {
          "Age": 59,
          "Cholesterol": 338,
          "ExerciseAngina": 1,
          "FastingBS": 1,
          "HeartDisease": 1,
          "MaxHR": 130,
          "RestingBP": 130,
          "Sex": 0
         },
         {
          "Age": 67,
          "Cholesterol": 384,
          "ExerciseAngina": 1,
          "FastingBS": 1,
          "HeartDisease": 1,
          "MaxHR": 130,
          "RestingBP": 160,
          "Sex": 1
         },
         {
          "Age": 47,
          "Cholesterol": 257,
          "ExerciseAngina": 0,
          "FastingBS": 0,
          "HeartDisease": 0,
          "MaxHR": 135,
          "RestingBP": 140,
          "Sex": 0
         },
         {
          "Age": 56,
          "Cholesterol": 276,
          "ExerciseAngina": 1,
          "FastingBS": 0,
          "HeartDisease": 0,
          "MaxHR": 128,
          "RestingBP": 130,
          "Sex": 1
         },
         {
          "Age": 67,
          "Cholesterol": 212,
          "ExerciseAngina": 0,
          "FastingBS": 0,
          "HeartDisease": 1,
          "MaxHR": 150,
          "RestingBP": 152,
          "Sex": 1
         },
         {
          "Age": 58,
          "Cholesterol": 230,
          "ExerciseAngina": 0,
          "FastingBS": 0,
          "HeartDisease": 1,
          "MaxHR": 165,
          "RestingBP": 112,
          "Sex": 1
         },
         {
          "Age": 57,
          "Cholesterol": 354,
          "ExerciseAngina": 1,
          "FastingBS": 0,
          "HeartDisease": 0,
          "MaxHR": 163,
          "RestingBP": 120,
          "Sex": 0
         },
         {
          "Age": 29,
          "Cholesterol": 204,
          "ExerciseAngina": 0,
          "FastingBS": 0,
          "HeartDisease": 0,
          "MaxHR": 202,
          "RestingBP": 130,
          "Sex": 1
         },
         {
          "Age": 45,
          "Cholesterol": 308,
          "ExerciseAngina": 0,
          "FastingBS": 0,
          "HeartDisease": 0,
          "MaxHR": 170,
          "RestingBP": 128,
          "Sex": 1
         },
         {
          "Age": 53,
          "Cholesterol": 182,
          "ExerciseAngina": 0,
          "FastingBS": 0,
          "HeartDisease": 0,
          "MaxHR": 148,
          "RestingBP": 130,
          "Sex": 1
         },
         {
          "Age": 62,
          "Cholesterol": 139,
          "ExerciseAngina": 0,
          "FastingBS": 0,
          "HeartDisease": 0,
          "MaxHR": 137,
          "RestingBP": 135,
          "Sex": 1
         },
         {
          "Age": 39,
          "Cholesterol": 321,
          "ExerciseAngina": 0,
          "FastingBS": 0,
          "HeartDisease": 0,
          "MaxHR": 182,
          "RestingBP": 140,
          "Sex": 1
         },
         {
          "Age": 37,
          "Cholesterol": 223,
          "ExerciseAngina": 0,
          "FastingBS": 0,
          "HeartDisease": 0,
          "MaxHR": 168,
          "RestingBP": 120,
          "Sex": 1
         },
         {
          "Age": 59,
          "Cholesterol": 204,
          "ExerciseAngina": 0,
          "FastingBS": 0,
          "HeartDisease": 1,
          "MaxHR": 162,
          "RestingBP": 134,
          "Sex": 1
         },
         {
          "Age": 58,
          "Cholesterol": 224,
          "ExerciseAngina": 0,
          "FastingBS": 0,
          "HeartDisease": 1,
          "MaxHR": 173,
          "RestingBP": 132,
          "Sex": 1
         },
         {
          "Age": 38,
          "Cholesterol": 292,
          "ExerciseAngina": 0,
          "FastingBS": 0,
          "HeartDisease": 0,
          "MaxHR": 130,
          "RestingBP": 145,
          "Sex": 1
         },
         {
          "Age": 43,
          "Cholesterol": 247,
          "ExerciseAngina": 0,
          "FastingBS": 0,
          "HeartDisease": 0,
          "MaxHR": 171,
          "RestingBP": 150,
          "Sex": 1
         },
         {
          "Age": 64,
          "Cholesterol": 193,
          "ExerciseAngina": 1,
          "FastingBS": 0,
          "HeartDisease": 1,
          "MaxHR": 135,
          "RestingBP": 150,
          "Sex": 1
         },
         {
          "Age": 57,
          "Cholesterol": 201,
          "ExerciseAngina": 1,
          "FastingBS": 0,
          "HeartDisease": 0,
          "MaxHR": 126,
          "RestingBP": 110,
          "Sex": 1
         },
         {
          "Age": 43,
          "Cholesterol": 215,
          "ExerciseAngina": 0,
          "FastingBS": 0,
          "HeartDisease": 0,
          "MaxHR": 175,
          "RestingBP": 120,
          "Sex": 0
         },
         {
          "Age": 65,
          "Cholesterol": 269,
          "ExerciseAngina": 0,
          "FastingBS": 0,
          "HeartDisease": 0,
          "MaxHR": 148,
          "RestingBP": 155,
          "Sex": 0
         },
         {
          "Age": 39,
          "Cholesterol": 215,
          "ExerciseAngina": 0,
          "FastingBS": 0,
          "HeartDisease": 0,
          "MaxHR": 120,
          "RestingBP": 130,
          "Sex": 1
         },
         {
          "Age": 52,
          "Cholesterol": 246,
          "ExerciseAngina": 1,
          "FastingBS": 0,
          "HeartDisease": 1,
          "MaxHR": 82,
          "RestingBP": 160,
          "Sex": 1
         },
         {
          "Age": 53,
          "Cholesterol": 260,
          "ExerciseAngina": 1,
          "FastingBS": 0,
          "HeartDisease": 0,
          "MaxHR": 112,
          "RestingBP": 124,
          "Sex": 1
         },
         {
          "Age": 38,
          "Cholesterol": 289,
          "ExerciseAngina": 1,
          "FastingBS": 0,
          "HeartDisease": 1,
          "MaxHR": 105,
          "RestingBP": 110,
          "Sex": 1
         },
         {
          "Age": 47,
          "Cholesterol": 291,
          "ExerciseAngina": 1,
          "FastingBS": 0,
          "HeartDisease": 1,
          "MaxHR": 158,
          "RestingBP": 160,
          "Sex": 1
         },
         {
          "Age": 49,
          "Cholesterol": 180,
          "ExerciseAngina": 0,
          "FastingBS": 0,
          "HeartDisease": 1,
          "MaxHR": 156,
          "RestingBP": 160,
          "Sex": 0
         },
         {
          "Age": 55,
          "Cholesterol": 185,
          "ExerciseAngina": 0,
          "FastingBS": 0,
          "HeartDisease": 0,
          "MaxHR": 136,
          "RestingBP": 133,
          "Sex": 1
         },
         {
          "Age": 42,
          "Cholesterol": 265,
          "ExerciseAngina": 0,
          "FastingBS": 0,
          "HeartDisease": 0,
          "MaxHR": 122,
          "RestingBP": 102,
          "Sex": 0
         },
         {
          "Age": 45,
          "Cholesterol": 264,
          "ExerciseAngina": 0,
          "FastingBS": 0,
          "HeartDisease": 1,
          "MaxHR": 132,
          "RestingBP": 110,
          "Sex": 1
         },
         {
          "Age": 46,
          "Cholesterol": 243,
          "ExerciseAngina": 1,
          "FastingBS": 0,
          "HeartDisease": 0,
          "MaxHR": 152,
          "RestingBP": 138,
          "Sex": 0
         },
         {
          "Age": 65,
          "Cholesterol": 177,
          "ExerciseAngina": 0,
          "FastingBS": 0,
          "HeartDisease": 0,
          "MaxHR": 140,
          "RestingBP": 120,
          "Sex": 1
         },
         {
          "Age": 62,
          "Cholesterol": 170,
          "ExerciseAngina": 1,
          "FastingBS": 0,
          "HeartDisease": 1,
          "MaxHR": 138,
          "RestingBP": 158,
          "Sex": 1
         },
         {
          "Age": 44,
          "Cholesterol": 491,
          "ExerciseAngina": 0,
          "FastingBS": 0,
          "HeartDisease": 1,
          "MaxHR": 135,
          "RestingBP": 135,
          "Sex": 1
         },
         {
          "Age": 48,
          "Cholesterol": 229,
          "ExerciseAngina": 0,
          "FastingBS": 0,
          "HeartDisease": 1,
          "MaxHR": 168,
          "RestingBP": 110,
          "Sex": 1
         },
         {
          "Age": 34,
          "Cholesterol": 156,
          "ExerciseAngina": 0,
          "FastingBS": 0,
          "HeartDisease": 1,
          "MaxHR": 180,
          "RestingBP": 140,
          "Sex": 1
         },
         {
          "Age": 49,
          "Cholesterol": 297,
          "ExerciseAngina": 0,
          "FastingBS": 0,
          "HeartDisease": 0,
          "MaxHR": 132,
          "RestingBP": 120,
          "Sex": 1
         },
         {
          "Age": 45,
          "Cholesterol": 234,
          "ExerciseAngina": 0,
          "FastingBS": 0,
          "HeartDisease": 0,
          "MaxHR": 175,
          "RestingBP": 130,
          "Sex": 0
         },
         {
          "Age": 68,
          "Cholesterol": 181,
          "ExerciseAngina": 0,
          "FastingBS": 1,
          "HeartDisease": 0,
          "MaxHR": 135,
          "RestingBP": 139,
          "Sex": 1
         },
         {
          "Age": 74,
          "Cholesterol": 237,
          "ExerciseAngina": 0,
          "FastingBS": 1,
          "HeartDisease": 1,
          "MaxHR": 94,
          "RestingBP": 140,
          "Sex": 1
         },
         {
          "Age": 62,
          "Cholesterol": 258,
          "ExerciseAngina": 1,
          "FastingBS": 0,
          "HeartDisease": 1,
          "MaxHR": 150,
          "RestingBP": 112,
          "Sex": 1
         },
         {
          "Age": 55,
          "Cholesterol": 160,
          "ExerciseAngina": 0,
          "FastingBS": 0,
          "HeartDisease": 0,
          "MaxHR": 150,
          "RestingBP": 150,
          "Sex": 1
         },
         {
          "Age": 54,
          "Cholesterol": 239,
          "ExerciseAngina": 0,
          "FastingBS": 0,
          "HeartDisease": 0,
          "MaxHR": 160,
          "RestingBP": 140,
          "Sex": 1
         },
         {
          "Age": 55,
          "Cholesterol": 394,
          "ExerciseAngina": 0,
          "FastingBS": 0,
          "HeartDisease": 0,
          "MaxHR": 150,
          "RestingBP": 130,
          "Sex": 0
         },
         {
          "Age": 34,
          "Cholesterol": 182,
          "ExerciseAngina": 0,
          "FastingBS": 0,
          "HeartDisease": 0,
          "MaxHR": 174,
          "RestingBP": 118,
          "Sex": 1
         },
         {
          "Age": 75,
          "Cholesterol": 225,
          "ExerciseAngina": 1,
          "FastingBS": 0,
          "HeartDisease": 1,
          "MaxHR": 112,
          "RestingBP": 136,
          "Sex": 1
         },
         {
          "Age": 46,
          "Cholesterol": 238,
          "ExerciseAngina": 1,
          "FastingBS": 0,
          "HeartDisease": 0,
          "MaxHR": 140,
          "RestingBP": 110,
          "Sex": 1
         },
         {
          "Age": 66,
          "Cholesterol": 212,
          "ExerciseAngina": 1,
          "FastingBS": 0,
          "HeartDisease": 1,
          "MaxHR": 132,
          "RestingBP": 112,
          "Sex": 1
         },
         {
          "Age": 62,
          "Cholesterol": 254,
          "ExerciseAngina": 1,
          "FastingBS": 1,
          "HeartDisease": 1,
          "MaxHR": 108,
          "RestingBP": 160,
          "Sex": 1
         },
         {
          "Age": 54,
          "Cholesterol": 239,
          "ExerciseAngina": 1,
          "FastingBS": 0,
          "HeartDisease": 1,
          "MaxHR": 126,
          "RestingBP": 110,
          "Sex": 1
         },
         {
          "Age": 65,
          "Cholesterol": 248,
          "ExerciseAngina": 1,
          "FastingBS": 0,
          "HeartDisease": 1,
          "MaxHR": 140,
          "RestingBP": 136,
          "Sex": 1
         },
         {
          "Age": 39,
          "Cholesterol": 200,
          "ExerciseAngina": 1,
          "FastingBS": 0,
          "HeartDisease": 0,
          "MaxHR": 160,
          "RestingBP": 120,
          "Sex": 1
         },
         {
          "Age": 57,
          "Cholesterol": 277,
          "ExerciseAngina": 1,
          "FastingBS": 1,
          "HeartDisease": 1,
          "MaxHR": 118,
          "RestingBP": 139,
          "Sex": 1
         },
         {
          "Age": 35,
          "Cholesterol": 161,
          "ExerciseAngina": 0,
          "FastingBS": 0,
          "HeartDisease": 0,
          "MaxHR": 153,
          "RestingBP": 123,
          "Sex": 1
         },
         {
          "Age": 40,
          "Cholesterol": 466,
          "ExerciseAngina": 1,
          "FastingBS": 1,
          "HeartDisease": 1,
          "MaxHR": 152,
          "RestingBP": 120,
          "Sex": 1
         },
         {
          "Age": 63,
          "Cholesterol": 223,
          "ExerciseAngina": 0,
          "FastingBS": 0,
          "HeartDisease": 1,
          "MaxHR": 115,
          "RestingBP": 150,
          "Sex": 1
         },
         {
          "Age": 54,
          "Cholesterol": 195,
          "ExerciseAngina": 0,
          "FastingBS": 0,
          "HeartDisease": 0,
          "MaxHR": 122,
          "RestingBP": 150,
          "Sex": 1
         },
         {
          "Age": 42,
          "Cholesterol": 358,
          "ExerciseAngina": 0,
          "FastingBS": 0,
          "HeartDisease": 0,
          "MaxHR": 170,
          "RestingBP": 140,
          "Sex": 1
         },
         {
          "Age": 37,
          "Cholesterol": 211,
          "ExerciseAngina": 0,
          "FastingBS": 0,
          "HeartDisease": 0,
          "MaxHR": 142,
          "RestingBP": 130,
          "Sex": 0
         },
         {
          "Age": 57,
          "Cholesterol": 289,
          "ExerciseAngina": 0,
          "FastingBS": 1,
          "HeartDisease": 1,
          "MaxHR": 124,
          "RestingBP": 165,
          "Sex": 1
         },
         {
          "Age": 56,
          "Cholesterol": 221,
          "ExerciseAngina": 0,
          "FastingBS": 0,
          "HeartDisease": 0,
          "MaxHR": 163,
          "RestingBP": 130,
          "Sex": 1
         },
         {
          "Age": 48,
          "Cholesterol": 268,
          "ExerciseAngina": 1,
          "FastingBS": 0,
          "HeartDisease": 1,
          "MaxHR": 103,
          "RestingBP": 160,
          "Sex": 1
         },
         {
          "Age": 46,
          "Cholesterol": 249,
          "ExerciseAngina": 0,
          "FastingBS": 0,
          "HeartDisease": 1,
          "MaxHR": 144,
          "RestingBP": 120,
          "Sex": 1
         },
         {
          "Age": 49,
          "Cholesterol": 265,
          "ExerciseAngina": 0,
          "FastingBS": 0,
          "HeartDisease": 1,
          "MaxHR": 175,
          "RestingBP": 115,
          "Sex": 1
         },
         {
          "Age": 74,
          "Cholesterol": 258,
          "ExerciseAngina": 1,
          "FastingBS": 1,
          "HeartDisease": 1,
          "MaxHR": 130,
          "RestingBP": 150,
          "Sex": 1
         },
         {
          "Age": 48,
          "Cholesterol": 222,
          "ExerciseAngina": 0,
          "FastingBS": 0,
          "HeartDisease": 0,
          "MaxHR": 186,
          "RestingBP": 122,
          "Sex": 1
         },
         {
          "Age": 51,
          "Cholesterol": 256,
          "ExerciseAngina": 0,
          "FastingBS": 0,
          "HeartDisease": 0,
          "MaxHR": 149,
          "RestingBP": 130,
          "Sex": 0
         },
         {
          "Age": 60,
          "Cholesterol": 248,
          "ExerciseAngina": 0,
          "FastingBS": 0,
          "HeartDisease": 1,
          "MaxHR": 125,
          "RestingBP": 100,
          "Sex": 1
         },
         {
          "Age": 46,
          "Cholesterol": 236,
          "ExerciseAngina": 1,
          "FastingBS": 0,
          "HeartDisease": 1,
          "MaxHR": 125,
          "RestingBP": 110,
          "Sex": 1
         },
         {
          "Age": 65,
          "Cholesterol": 263,
          "ExerciseAngina": 1,
          "FastingBS": 1,
          "HeartDisease": 1,
          "MaxHR": 112,
          "RestingBP": 170,
          "Sex": 1
         },
         {
          "Age": 41,
          "Cholesterol": 336,
          "ExerciseAngina": 1,
          "FastingBS": 0,
          "HeartDisease": 1,
          "MaxHR": 118,
          "RestingBP": 120,
          "Sex": 1
         },
         {
          "Age": 55,
          "Cholesterol": 223,
          "ExerciseAngina": 0,
          "FastingBS": 1,
          "HeartDisease": 1,
          "MaxHR": 100,
          "RestingBP": 122,
          "Sex": 1
         },
         {
          "Age": 54,
          "Cholesterol": 294,
          "ExerciseAngina": 1,
          "FastingBS": 0,
          "HeartDisease": 1,
          "MaxHR": 100,
          "RestingBP": 130,
          "Sex": 0
         },
         {
          "Age": 42,
          "Cholesterol": 244,
          "ExerciseAngina": 0,
          "FastingBS": 0,
          "HeartDisease": 0,
          "MaxHR": 178,
          "RestingBP": 148,
          "Sex": 1
         },
         {
          "Age": 59,
          "Cholesterol": 318,
          "ExerciseAngina": 1,
          "FastingBS": 0,
          "HeartDisease": 0,
          "MaxHR": 120,
          "RestingBP": 130,
          "Sex": 1
         },
         {
          "Age": 56,
          "Cholesterol": 213,
          "ExerciseAngina": 1,
          "FastingBS": 1,
          "HeartDisease": 1,
          "MaxHR": 125,
          "RestingBP": 150,
          "Sex": 1
         },
         {
          "Age": 56,
          "Cholesterol": 193,
          "ExerciseAngina": 0,
          "FastingBS": 0,
          "HeartDisease": 0,
          "MaxHR": 162,
          "RestingBP": 120,
          "Sex": 1
         },
         {
          "Age": 58,
          "Cholesterol": 283,
          "ExerciseAngina": 0,
          "FastingBS": 1,
          "HeartDisease": 0,
          "MaxHR": 162,
          "RestingBP": 150,
          "Sex": 0
         },
         {
          "Age": 41,
          "Cholesterol": 172,
          "ExerciseAngina": 0,
          "FastingBS": 0,
          "HeartDisease": 1,
          "MaxHR": 158,
          "RestingBP": 110,
          "Sex": 1
         },
         {
          "Age": 42,
          "Cholesterol": 268,
          "ExerciseAngina": 0,
          "FastingBS": 0,
          "HeartDisease": 0,
          "MaxHR": 136,
          "RestingBP": 150,
          "Sex": 1
         },
         {
          "Age": 64,
          "Cholesterol": 325,
          "ExerciseAngina": 1,
          "FastingBS": 0,
          "HeartDisease": 0,
          "MaxHR": 154,
          "RestingBP": 180,
          "Sex": 0
         },
         {
          "Age": 38,
          "Cholesterol": 282,
          "ExerciseAngina": 0,
          "FastingBS": 0,
          "HeartDisease": 1,
          "MaxHR": 170,
          "RestingBP": 120,
          "Sex": 1
         },
         {
          "Age": 54,
          "Cholesterol": 238,
          "ExerciseAngina": 0,
          "FastingBS": 0,
          "HeartDisease": 0,
          "MaxHR": 154,
          "RestingBP": 120,
          "Sex": 1
         },
         {
          "Age": 52,
          "Cholesterol": 199,
          "ExerciseAngina": 0,
          "FastingBS": 1,
          "HeartDisease": 0,
          "MaxHR": 162,
          "RestingBP": 172,
          "Sex": 1
         },
         {
          "Age": 44,
          "Cholesterol": 197,
          "ExerciseAngina": 0,
          "FastingBS": 0,
          "HeartDisease": 1,
          "MaxHR": 177,
          "RestingBP": 110,
          "Sex": 1
         },
         {
          "Age": 44,
          "Cholesterol": 235,
          "ExerciseAngina": 0,
          "FastingBS": 0,
          "HeartDisease": 0,
          "MaxHR": 180,
          "RestingBP": 140,
          "Sex": 1
         },
         {
          "Age": 43,
          "Cholesterol": 266,
          "ExerciseAngina": 0,
          "FastingBS": 0,
          "HeartDisease": 0,
          "MaxHR": 118,
          "RestingBP": 120,
          "Sex": 0
         },
         {
          "Age": 42,
          "Cholesterol": 211,
          "ExerciseAngina": 0,
          "FastingBS": 0,
          "HeartDisease": 0,
          "MaxHR": 137,
          "RestingBP": 115,
          "Sex": 0
         },
         {
          "Age": 43,
          "Cholesterol": 303,
          "ExerciseAngina": 0,
          "FastingBS": 0,
          "HeartDisease": 0,
          "MaxHR": 181,
          "RestingBP": 115,
          "Sex": 1
         },
         {
          "Age": 51,
          "Cholesterol": 298,
          "ExerciseAngina": 1,
          "FastingBS": 0,
          "HeartDisease": 1,
          "MaxHR": 122,
          "RestingBP": 140,
          "Sex": 1
         },
         {
          "Age": 70,
          "Cholesterol": 192,
          "ExerciseAngina": 1,
          "FastingBS": 0,
          "HeartDisease": 1,
          "MaxHR": 129,
          "RestingBP": 170,
          "Sex": 1
         },
         {
          "Age": 46,
          "Cholesterol": 311,
          "ExerciseAngina": 1,
          "FastingBS": 0,
          "HeartDisease": 1,
          "MaxHR": 120,
          "RestingBP": 140,
          "Sex": 1
         },
         {
          "Age": 59,
          "Cholesterol": 213,
          "ExerciseAngina": 0,
          "FastingBS": 0,
          "HeartDisease": 0,
          "MaxHR": 100,
          "RestingBP": 180,
          "Sex": 1
         },
         {
          "Age": 51,
          "Cholesterol": 200,
          "ExerciseAngina": 0,
          "FastingBS": 0,
          "HeartDisease": 0,
          "MaxHR": 120,
          "RestingBP": 150,
          "Sex": 0
         },
         {
          "Age": 48,
          "Cholesterol": 214,
          "ExerciseAngina": 1,
          "FastingBS": 0,
          "HeartDisease": 1,
          "MaxHR": 108,
          "RestingBP": 138,
          "Sex": 0
         },
         {
          "Age": 35,
          "Cholesterol": 192,
          "ExerciseAngina": 0,
          "FastingBS": 0,
          "HeartDisease": 0,
          "MaxHR": 174,
          "RestingBP": 122,
          "Sex": 1
         },
         {
          "Age": 54,
          "Cholesterol": 214,
          "ExerciseAngina": 0,
          "FastingBS": 0,
          "HeartDisease": 0,
          "MaxHR": 158,
          "RestingBP": 110,
          "Sex": 0
         },
         {
          "Age": 43,
          "Cholesterol": 247,
          "ExerciseAngina": 1,
          "FastingBS": 0,
          "HeartDisease": 1,
          "MaxHR": 130,
          "RestingBP": 150,
          "Sex": 1
         },
         {
          "Age": 62,
          "Cholesterol": 193,
          "ExerciseAngina": 0,
          "FastingBS": 0,
          "HeartDisease": 0,
          "MaxHR": 116,
          "RestingBP": 160,
          "Sex": 0
         },
         {
          "Age": 60,
          "Cholesterol": 240,
          "ExerciseAngina": 0,
          "FastingBS": 0,
          "HeartDisease": 0,
          "MaxHR": 171,
          "RestingBP": 150,
          "Sex": 0
         },
         {
          "Age": 63,
          "Cholesterol": 260,
          "ExerciseAngina": 1,
          "FastingBS": 0,
          "HeartDisease": 1,
          "MaxHR": 112,
          "RestingBP": 140,
          "Sex": 1
         },
         {
          "Age": 32,
          "Cholesterol": 529,
          "ExerciseAngina": 0,
          "FastingBS": 0,
          "HeartDisease": 1,
          "MaxHR": 130,
          "RestingBP": 118,
          "Sex": 1
         },
         {
          "Age": 56,
          "Cholesterol": 283,
          "ExerciseAngina": 1,
          "FastingBS": 1,
          "HeartDisease": 1,
          "MaxHR": 103,
          "RestingBP": 130,
          "Sex": 1
         },
         {
          "Age": 74,
          "Cholesterol": 310,
          "ExerciseAngina": 1,
          "FastingBS": 0,
          "HeartDisease": 1,
          "MaxHR": 112,
          "RestingBP": 155,
          "Sex": 1
         },
         {
          "Age": 58,
          "Cholesterol": 319,
          "ExerciseAngina": 0,
          "FastingBS": 1,
          "HeartDisease": 1,
          "MaxHR": 152,
          "RestingBP": 136,
          "Sex": 0
         },
         {
          "Age": 54,
          "Cholesterol": 237,
          "ExerciseAngina": 1,
          "FastingBS": 0,
          "HeartDisease": 1,
          "MaxHR": 150,
          "RestingBP": 120,
          "Sex": 1
         },
         {
          "Age": 58,
          "Cholesterol": 219,
          "ExerciseAngina": 1,
          "FastingBS": 0,
          "HeartDisease": 1,
          "MaxHR": 118,
          "RestingBP": 150,
          "Sex": 1
         },
         {
          "Age": 69,
          "Cholesterol": 208,
          "ExerciseAngina": 1,
          "FastingBS": 0,
          "HeartDisease": 1,
          "MaxHR": 140,
          "RestingBP": 140,
          "Sex": 1
         },
         {
          "Age": 72,
          "Cholesterol": 214,
          "ExerciseAngina": 1,
          "FastingBS": 0,
          "HeartDisease": 1,
          "MaxHR": 102,
          "RestingBP": 120,
          "Sex": 1
         },
         {
          "Age": 59,
          "Cholesterol": 326,
          "ExerciseAngina": 1,
          "FastingBS": 0,
          "HeartDisease": 1,
          "MaxHR": 140,
          "RestingBP": 170,
          "Sex": 1
         },
         {
          "Age": 47,
          "Cholesterol": 248,
          "ExerciseAngina": 0,
          "FastingBS": 1,
          "HeartDisease": 1,
          "MaxHR": 170,
          "RestingBP": 135,
          "Sex": 0
         },
         {
          "Age": 62,
          "Cholesterol": 254,
          "ExerciseAngina": 1,
          "FastingBS": 0,
          "HeartDisease": 1,
          "MaxHR": 93,
          "RestingBP": 120,
          "Sex": 1
         },
         {
          "Age": 48,
          "Cholesterol": 220,
          "ExerciseAngina": 0,
          "FastingBS": 1,
          "HeartDisease": 1,
          "MaxHR": 162,
          "RestingBP": 132,
          "Sex": 1
         },
         {
          "Age": 44,
          "Cholesterol": 290,
          "ExerciseAngina": 1,
          "FastingBS": 0,
          "HeartDisease": 1,
          "MaxHR": 100,
          "RestingBP": 130,
          "Sex": 1
         },
         {
          "Age": 68,
          "Cholesterol": 274,
          "ExerciseAngina": 1,
          "FastingBS": 1,
          "HeartDisease": 1,
          "MaxHR": 150,
          "RestingBP": 180,
          "Sex": 1
         },
         {
          "Age": 53,
          "Cholesterol": 518,
          "ExerciseAngina": 0,
          "FastingBS": 0,
          "HeartDisease": 1,
          "MaxHR": 130,
          "RestingBP": 145,
          "Sex": 1
         },
         {
          "Age": 41,
          "Cholesterol": 291,
          "ExerciseAngina": 0,
          "FastingBS": 0,
          "HeartDisease": 0,
          "MaxHR": 160,
          "RestingBP": 120,
          "Sex": 1
         },
         {
          "Age": 41,
          "Cholesterol": 250,
          "ExerciseAngina": 0,
          "FastingBS": 0,
          "HeartDisease": 0,
          "MaxHR": 142,
          "RestingBP": 112,
          "Sex": 1
         },
         {
          "Age": 54,
          "Cholesterol": 253,
          "ExerciseAngina": 0,
          "FastingBS": 0,
          "HeartDisease": 0,
          "MaxHR": 155,
          "RestingBP": 130,
          "Sex": 0
         },
         {
          "Age": 65,
          "Cholesterol": 248,
          "ExerciseAngina": 0,
          "FastingBS": 0,
          "HeartDisease": 1,
          "MaxHR": 158,
          "RestingBP": 110,
          "Sex": 1
         },
         {
          "Age": 43,
          "Cholesterol": 213,
          "ExerciseAngina": 0,
          "FastingBS": 0,
          "HeartDisease": 0,
          "MaxHR": 165,
          "RestingBP": 122,
          "Sex": 0
         },
         {
          "Age": 65,
          "Cholesterol": 254,
          "ExerciseAngina": 0,
          "FastingBS": 0,
          "HeartDisease": 1,
          "MaxHR": 127,
          "RestingBP": 135,
          "Sex": 1
         },
         {
          "Age": 61,
          "Cholesterol": 298,
          "ExerciseAngina": 1,
          "FastingBS": 1,
          "HeartDisease": 0,
          "MaxHR": 120,
          "RestingBP": 140,
          "Sex": 0
         },
         {
          "Age": 56,
          "Cholesterol": 184,
          "ExerciseAngina": 0,
          "FastingBS": 0,
          "HeartDisease": 0,
          "MaxHR": 100,
          "RestingBP": 130,
          "Sex": 1
         },
         {
          "Age": 41,
          "Cholesterol": 245,
          "ExerciseAngina": 0,
          "FastingBS": 0,
          "HeartDisease": 0,
          "MaxHR": 150,
          "RestingBP": 130,
          "Sex": 0
         },
         {
          "Age": 44,
          "Cholesterol": 209,
          "ExerciseAngina": 0,
          "FastingBS": 0,
          "HeartDisease": 0,
          "MaxHR": 127,
          "RestingBP": 130,
          "Sex": 1
         },
         {
          "Age": 57,
          "Cholesterol": 335,
          "ExerciseAngina": 1,
          "FastingBS": 0,
          "HeartDisease": 1,
          "MaxHR": 143,
          "RestingBP": 110,
          "Sex": 1
         }
        ]
       },
       "encoding": {
        "fill": {
         "field": "HeartDisease",
         "title": "Heart Disease",
         "type": "nominal"
        },
        "x": {
         "bin": {
          "maxbins": 30
         },
         "field": "MaxHR",
         "scale": {
          "zero": false
         },
         "title": "Maximum Heart Rate (bpm)",
         "type": "quantitative"
        },
        "y": {
         "aggregate": "count",
         "field": "HeartDisease",
         "title": "Number of Heart Diagnoses",
         "type": "quantitative"
        }
       },
       "mark": "bar"
      },
      "image/png": "[encoded data removed]",
      "text/plain": [
       "<VegaLite 4 object>\n",
       "\n",
       "If you see this message, it means the renderer has not been properly enabled\n",
       "for the frontend that you are using. For more information, see\n",
       "https://altair-viz.github.io/user_guide/troubleshooting.html\n"
      ]
     },
     "execution_count": 11,
     "metadata": {},
     "output_type": "execute_result"
    }
   ],
   "source": [
    "maxhr_plot = (\n",
    "    alt.Chart(heart_data_training)\n",
    "    .mark_bar()\n",
    "    .encode(\n",
    "        x=alt.X(\"MaxHR\",bin=alt.Bin(maxbins=30),title=\"Maximum Heart Rate (bpm)\",scale=alt.Scale(zero=False)),\n",
    "        y=alt.Y(\"count(HeartDisease)\",title=\"Number of Heart Diagnoses\"),\n",
    "        fill=alt.Fill(\"HeartDisease:N\", title=\"Heart Disease\")\n",
    "    )\n",
    "    .configure_axis(titleFontSize=20,labelFontSize=16)\n",
    "\n",
    ")\n",
    "maxhr_plot"
   ]
  },
  {
   "cell_type": "markdown",
   "id": "6feaade1-2fca-4920-ac59-57091a50e247",
   "metadata": {},
   "source": [
    "As seen in the plot above, there seems to be a connection between maximum heart rate and presence of heart disease. It seems that the higher the maximum heart rate, the lower the proportion of patients afflicted with heart disease. So, generally, it seems that those with heart diseases have lower maximum heart rates. For this reason, maximum heart rate will be included in the classifier."
   ]
  },
  {
   "cell_type": "markdown",
   "id": "e0ef41d9",
   "metadata": {
    "tags": []
   },
   "source": [
    "### Methods\n",
    "\n",
    "As our predictive question is a classification problem (classify a patient to have heart disease or not), we plan to use the K-nearest neighbors classification algorithm. We will be tuning the classifier using cross_validation and GridSearchCV in order to optimize for the K value. The model will be evaluated on the testing data, which is 25% of the original data, and we will be analyzing the score and the confusion matrix. We will be visualizing a graph of the mean test score vs K values.\n",
    "\n",
    "Regarding our choice of predictor variables, we have selected to use RestingBP, Cholesterol, FastingBS, and MaxHR due to their apparent correlation with Heart Disease as seen in our EDA. For the variables Age, Sex, and ExerciseAngia, we have found professional sources that suggest a possible link between these variables and heart disease. These findings are listed below with their corresponding citation.\n",
    "\n",
    "**Age:** Age is an independent risk factor for heart diseases (Jennifer L. Rodgers et al., 2019)\n",
    "\n",
    "**Sex:** Women have been shown to be more susceptible to cardiovascular diseases. Factors like serum cholesterol, blood pressure seemingly increase with age in women (Pekka Jousilahti et al., 1999).\n",
    "\n",
    "**Exercise angina:** The occurrence of acute angina and sudden death from CVD-related issues is highest in those who are not physically active (Paul D. Thompson et al., 2007).\n"
   ]
  },
  {
   "cell_type": "markdown",
   "id": "5a230206-115d-4778-9db9-058ae10b3b3f",
   "metadata": {
    "tags": []
   },
   "source": [
    "### Creating the KNN Classifier"
   ]
  },
  {
   "cell_type": "code",
   "execution_count": 12,
   "id": "cf1b87f9-883e-4bad-90a7-36407c33e5f5",
   "metadata": {},
   "outputs": [
    {
     "data": {
      "text/html": [
       "<style>#sk-container-id-1 {color: black;background-color: white;}#sk-container-id-1 pre{padding: 0;}#sk-container-id-1 div.sk-toggleable {background-color: white;}#sk-container-id-1 label.sk-toggleable__label {cursor: pointer;display: block;width: 100%;margin-bottom: 0;padding: 0.3em;box-sizing: border-box;text-align: center;}#sk-container-id-1 label.sk-toggleable__label-arrow:before {content: \"▸\";float: left;margin-right: 0.25em;color: #696969;}#sk-container-id-1 label.sk-toggleable__label-arrow:hover:before {color: black;}#sk-container-id-1 div.sk-estimator:hover label.sk-toggleable__label-arrow:before {color: black;}#sk-container-id-1 div.sk-toggleable__content {max-height: 0;max-width: 0;overflow: hidden;text-align: left;background-color: #f0f8ff;}#sk-container-id-1 div.sk-toggleable__content pre {margin: 0.2em;color: black;border-radius: 0.25em;background-color: #f0f8ff;}#sk-container-id-1 input.sk-toggleable__control:checked~div.sk-toggleable__content {max-height: 200px;max-width: 100%;overflow: auto;}#sk-container-id-1 input.sk-toggleable__control:checked~label.sk-toggleable__label-arrow:before {content: \"▾\";}#sk-container-id-1 div.sk-estimator input.sk-toggleable__control:checked~label.sk-toggleable__label {background-color: #d4ebff;}#sk-container-id-1 div.sk-label input.sk-toggleable__control:checked~label.sk-toggleable__label {background-color: #d4ebff;}#sk-container-id-1 input.sk-hidden--visually {border: 0;clip: rect(1px 1px 1px 1px);clip: rect(1px, 1px, 1px, 1px);height: 1px;margin: -1px;overflow: hidden;padding: 0;position: absolute;width: 1px;}#sk-container-id-1 div.sk-estimator {font-family: monospace;background-color: #f0f8ff;border: 1px dotted black;border-radius: 0.25em;box-sizing: border-box;margin-bottom: 0.5em;}#sk-container-id-1 div.sk-estimator:hover {background-color: #d4ebff;}#sk-container-id-1 div.sk-parallel-item::after {content: \"\";width: 100%;border-bottom: 1px solid gray;flex-grow: 1;}#sk-container-id-1 div.sk-label:hover label.sk-toggleable__label {background-color: #d4ebff;}#sk-container-id-1 div.sk-serial::before {content: \"\";position: absolute;border-left: 1px solid gray;box-sizing: border-box;top: 0;bottom: 0;left: 50%;z-index: 0;}#sk-container-id-1 div.sk-serial {display: flex;flex-direction: column;align-items: center;background-color: white;padding-right: 0.2em;padding-left: 0.2em;position: relative;}#sk-container-id-1 div.sk-item {position: relative;z-index: 1;}#sk-container-id-1 div.sk-parallel {display: flex;align-items: stretch;justify-content: center;background-color: white;position: relative;}#sk-container-id-1 div.sk-item::before, #sk-container-id-1 div.sk-parallel-item::before {content: \"\";position: absolute;border-left: 1px solid gray;box-sizing: border-box;top: 0;bottom: 0;left: 50%;z-index: -1;}#sk-container-id-1 div.sk-parallel-item {display: flex;flex-direction: column;z-index: 1;position: relative;background-color: white;}#sk-container-id-1 div.sk-parallel-item:first-child::after {align-self: flex-end;width: 50%;}#sk-container-id-1 div.sk-parallel-item:last-child::after {align-self: flex-start;width: 50%;}#sk-container-id-1 div.sk-parallel-item:only-child::after {width: 0;}#sk-container-id-1 div.sk-dashed-wrapped {border: 1px dashed gray;margin: 0 0.4em 0.5em 0.4em;box-sizing: border-box;padding-bottom: 0.4em;background-color: white;}#sk-container-id-1 div.sk-label label {font-family: monospace;font-weight: bold;display: inline-block;line-height: 1.2em;}#sk-container-id-1 div.sk-label-container {text-align: center;}#sk-container-id-1 div.sk-container {/* jupyter's `normalize.less` sets `[hidden] { display: none; }` but bootstrap.min.css set `[hidden] { display: none !important; }` so we also need the `!important` here to be able to override the default hidden behavior on the sphinx rendered scikit-learn.org. See: https://github.com/scikit-learn/scikit-learn/issues/21755 */display: inline-block !important;position: relative;}#sk-container-id-1 div.sk-text-repr-fallback {display: none;}</style><div id=\"sk-container-id-1\" class=\"sk-top-container\"><div class=\"sk-text-repr-fallback\"><pre>ColumnTransformer(transformers=[(&#x27;passthrough&#x27;, &#x27;passthrough&#x27;,\n",
       "                                 [&#x27;Sex&#x27;, &#x27;FastingBS&#x27;, &#x27;ExerciseAngina&#x27;]),\n",
       "                                (&#x27;standardscaler&#x27;, StandardScaler(),\n",
       "                                 [&#x27;Age&#x27;, &#x27;RestingBP&#x27;, &#x27;Cholesterol&#x27;, &#x27;MaxHR&#x27;])])</pre><b>In a Jupyter environment, please rerun this cell to show the HTML representation or trust the notebook. <br />On GitHub, the HTML representation is unable to render, please try loading this page with nbviewer.org.</b></div><div class=\"sk-container\" hidden><div class=\"sk-item sk-dashed-wrapped\"><div class=\"sk-label-container\"><div class=\"sk-label sk-toggleable\"><input class=\"sk-toggleable__control sk-hidden--visually\" id=\"sk-estimator-id-1\" type=\"checkbox\" ><label for=\"sk-estimator-id-1\" class=\"sk-toggleable__label sk-toggleable__label-arrow\">ColumnTransformer</label><div class=\"sk-toggleable__content\"><pre>ColumnTransformer(transformers=[(&#x27;passthrough&#x27;, &#x27;passthrough&#x27;,\n",
       "                                 [&#x27;Sex&#x27;, &#x27;FastingBS&#x27;, &#x27;ExerciseAngina&#x27;]),\n",
       "                                (&#x27;standardscaler&#x27;, StandardScaler(),\n",
       "                                 [&#x27;Age&#x27;, &#x27;RestingBP&#x27;, &#x27;Cholesterol&#x27;, &#x27;MaxHR&#x27;])])</pre></div></div></div><div class=\"sk-parallel\"><div class=\"sk-parallel-item\"><div class=\"sk-item\"><div class=\"sk-label-container\"><div class=\"sk-label sk-toggleable\"><input class=\"sk-toggleable__control sk-hidden--visually\" id=\"sk-estimator-id-2\" type=\"checkbox\" ><label for=\"sk-estimator-id-2\" class=\"sk-toggleable__label sk-toggleable__label-arrow\">passthrough</label><div class=\"sk-toggleable__content\"><pre>[&#x27;Sex&#x27;, &#x27;FastingBS&#x27;, &#x27;ExerciseAngina&#x27;]</pre></div></div></div><div class=\"sk-serial\"><div class=\"sk-item\"><div class=\"sk-estimator sk-toggleable\"><input class=\"sk-toggleable__control sk-hidden--visually\" id=\"sk-estimator-id-3\" type=\"checkbox\" ><label for=\"sk-estimator-id-3\" class=\"sk-toggleable__label sk-toggleable__label-arrow\">passthrough</label><div class=\"sk-toggleable__content\"><pre>passthrough</pre></div></div></div></div></div></div><div class=\"sk-parallel-item\"><div class=\"sk-item\"><div class=\"sk-label-container\"><div class=\"sk-label sk-toggleable\"><input class=\"sk-toggleable__control sk-hidden--visually\" id=\"sk-estimator-id-4\" type=\"checkbox\" ><label for=\"sk-estimator-id-4\" class=\"sk-toggleable__label sk-toggleable__label-arrow\">standardscaler</label><div class=\"sk-toggleable__content\"><pre>[&#x27;Age&#x27;, &#x27;RestingBP&#x27;, &#x27;Cholesterol&#x27;, &#x27;MaxHR&#x27;]</pre></div></div></div><div class=\"sk-serial\"><div class=\"sk-item\"><div class=\"sk-estimator sk-toggleable\"><input class=\"sk-toggleable__control sk-hidden--visually\" id=\"sk-estimator-id-5\" type=\"checkbox\" ><label for=\"sk-estimator-id-5\" class=\"sk-toggleable__label sk-toggleable__label-arrow\">StandardScaler</label><div class=\"sk-toggleable__content\"><pre>StandardScaler()</pre></div></div></div></div></div></div></div></div></div></div>"
      ],
      "text/plain": [
       "ColumnTransformer(transformers=[('passthrough', 'passthrough',\n",
       "                                 ['Sex', 'FastingBS', 'ExerciseAngina']),\n",
       "                                ('standardscaler', StandardScaler(),\n",
       "                                 ['Age', 'RestingBP', 'Cholesterol', 'MaxHR'])])"
      ]
     },
     "execution_count": 12,
     "metadata": {},
     "output_type": "execute_result"
    }
   ],
   "source": [
    "#Building the preprocessor\n",
    "heart_preprocessor = make_column_transformer(\n",
    "        (\n",
    "        \"passthrough\",\n",
    "        [\n",
    "            \"Sex\",\n",
    "            \"FastingBS\",\n",
    "            \"ExerciseAngina\",\n",
    "        ],\n",
    "    ),\n",
    "    (StandardScaler(), [\"Age\",\"RestingBP\",\"Cholesterol\",\"MaxHR\"]),\n",
    ")\n",
    "heart_preprocessor"
   ]
  },
  {
   "cell_type": "code",
   "execution_count": 13,
   "id": "c0ee9bce-0b64-493b-9ac4-edf1004292b3",
   "metadata": {},
   "outputs": [],
   "source": [
    "param_grid = {\n",
    "    \"kneighborsclassifier__n_neighbors\": range(2, 50, 1),\n",
    "}\n",
    "heart_tune_pipe = make_pipeline(heart_preprocessor, KNeighborsClassifier())"
   ]
  },
  {
   "cell_type": "code",
   "execution_count": 14,
   "id": "f55b82f3-0a78-4424-9052-42bfaa199758",
   "metadata": {},
   "outputs": [
    {
     "data": {
      "text/html": [
       "<style>#sk-container-id-2 {color: black;background-color: white;}#sk-container-id-2 pre{padding: 0;}#sk-container-id-2 div.sk-toggleable {background-color: white;}#sk-container-id-2 label.sk-toggleable__label {cursor: pointer;display: block;width: 100%;margin-bottom: 0;padding: 0.3em;box-sizing: border-box;text-align: center;}#sk-container-id-2 label.sk-toggleable__label-arrow:before {content: \"▸\";float: left;margin-right: 0.25em;color: #696969;}#sk-container-id-2 label.sk-toggleable__label-arrow:hover:before {color: black;}#sk-container-id-2 div.sk-estimator:hover label.sk-toggleable__label-arrow:before {color: black;}#sk-container-id-2 div.sk-toggleable__content {max-height: 0;max-width: 0;overflow: hidden;text-align: left;background-color: #f0f8ff;}#sk-container-id-2 div.sk-toggleable__content pre {margin: 0.2em;color: black;border-radius: 0.25em;background-color: #f0f8ff;}#sk-container-id-2 input.sk-toggleable__control:checked~div.sk-toggleable__content {max-height: 200px;max-width: 100%;overflow: auto;}#sk-container-id-2 input.sk-toggleable__control:checked~label.sk-toggleable__label-arrow:before {content: \"▾\";}#sk-container-id-2 div.sk-estimator input.sk-toggleable__control:checked~label.sk-toggleable__label {background-color: #d4ebff;}#sk-container-id-2 div.sk-label input.sk-toggleable__control:checked~label.sk-toggleable__label {background-color: #d4ebff;}#sk-container-id-2 input.sk-hidden--visually {border: 0;clip: rect(1px 1px 1px 1px);clip: rect(1px, 1px, 1px, 1px);height: 1px;margin: -1px;overflow: hidden;padding: 0;position: absolute;width: 1px;}#sk-container-id-2 div.sk-estimator {font-family: monospace;background-color: #f0f8ff;border: 1px dotted black;border-radius: 0.25em;box-sizing: border-box;margin-bottom: 0.5em;}#sk-container-id-2 div.sk-estimator:hover {background-color: #d4ebff;}#sk-container-id-2 div.sk-parallel-item::after {content: \"\";width: 100%;border-bottom: 1px solid gray;flex-grow: 1;}#sk-container-id-2 div.sk-label:hover label.sk-toggleable__label {background-color: #d4ebff;}#sk-container-id-2 div.sk-serial::before {content: \"\";position: absolute;border-left: 1px solid gray;box-sizing: border-box;top: 0;bottom: 0;left: 50%;z-index: 0;}#sk-container-id-2 div.sk-serial {display: flex;flex-direction: column;align-items: center;background-color: white;padding-right: 0.2em;padding-left: 0.2em;position: relative;}#sk-container-id-2 div.sk-item {position: relative;z-index: 1;}#sk-container-id-2 div.sk-parallel {display: flex;align-items: stretch;justify-content: center;background-color: white;position: relative;}#sk-container-id-2 div.sk-item::before, #sk-container-id-2 div.sk-parallel-item::before {content: \"\";position: absolute;border-left: 1px solid gray;box-sizing: border-box;top: 0;bottom: 0;left: 50%;z-index: -1;}#sk-container-id-2 div.sk-parallel-item {display: flex;flex-direction: column;z-index: 1;position: relative;background-color: white;}#sk-container-id-2 div.sk-parallel-item:first-child::after {align-self: flex-end;width: 50%;}#sk-container-id-2 div.sk-parallel-item:last-child::after {align-self: flex-start;width: 50%;}#sk-container-id-2 div.sk-parallel-item:only-child::after {width: 0;}#sk-container-id-2 div.sk-dashed-wrapped {border: 1px dashed gray;margin: 0 0.4em 0.5em 0.4em;box-sizing: border-box;padding-bottom: 0.4em;background-color: white;}#sk-container-id-2 div.sk-label label {font-family: monospace;font-weight: bold;display: inline-block;line-height: 1.2em;}#sk-container-id-2 div.sk-label-container {text-align: center;}#sk-container-id-2 div.sk-container {/* jupyter's `normalize.less` sets `[hidden] { display: none; }` but bootstrap.min.css set `[hidden] { display: none !important; }` so we also need the `!important` here to be able to override the default hidden behavior on the sphinx rendered scikit-learn.org. See: https://github.com/scikit-learn/scikit-learn/issues/21755 */display: inline-block !important;position: relative;}#sk-container-id-2 div.sk-text-repr-fallback {display: none;}</style><div id=\"sk-container-id-2\" class=\"sk-top-container\"><div class=\"sk-text-repr-fallback\"><pre>GridSearchCV(cv=5,\n",
       "             estimator=Pipeline(steps=[(&#x27;columntransformer&#x27;,\n",
       "                                        ColumnTransformer(transformers=[(&#x27;passthrough&#x27;,\n",
       "                                                                         &#x27;passthrough&#x27;,\n",
       "                                                                         [&#x27;Sex&#x27;,\n",
       "                                                                          &#x27;FastingBS&#x27;,\n",
       "                                                                          &#x27;ExerciseAngina&#x27;]),\n",
       "                                                                        (&#x27;standardscaler&#x27;,\n",
       "                                                                         StandardScaler(),\n",
       "                                                                         [&#x27;Age&#x27;,\n",
       "                                                                          &#x27;RestingBP&#x27;,\n",
       "                                                                          &#x27;Cholesterol&#x27;,\n",
       "                                                                          &#x27;MaxHR&#x27;])])),\n",
       "                                       (&#x27;kneighborsclassifier&#x27;,\n",
       "                                        KNeighborsClassifier())]),\n",
       "             param_grid={&#x27;kneighborsclassifier__n_neighbors&#x27;: range(2, 50)})</pre><b>In a Jupyter environment, please rerun this cell to show the HTML representation or trust the notebook. <br />On GitHub, the HTML representation is unable to render, please try loading this page with nbviewer.org.</b></div><div class=\"sk-container\" hidden><div class=\"sk-item sk-dashed-wrapped\"><div class=\"sk-label-container\"><div class=\"sk-label sk-toggleable\"><input class=\"sk-toggleable__control sk-hidden--visually\" id=\"sk-estimator-id-6\" type=\"checkbox\" ><label for=\"sk-estimator-id-6\" class=\"sk-toggleable__label sk-toggleable__label-arrow\">GridSearchCV</label><div class=\"sk-toggleable__content\"><pre>GridSearchCV(cv=5,\n",
       "             estimator=Pipeline(steps=[(&#x27;columntransformer&#x27;,\n",
       "                                        ColumnTransformer(transformers=[(&#x27;passthrough&#x27;,\n",
       "                                                                         &#x27;passthrough&#x27;,\n",
       "                                                                         [&#x27;Sex&#x27;,\n",
       "                                                                          &#x27;FastingBS&#x27;,\n",
       "                                                                          &#x27;ExerciseAngina&#x27;]),\n",
       "                                                                        (&#x27;standardscaler&#x27;,\n",
       "                                                                         StandardScaler(),\n",
       "                                                                         [&#x27;Age&#x27;,\n",
       "                                                                          &#x27;RestingBP&#x27;,\n",
       "                                                                          &#x27;Cholesterol&#x27;,\n",
       "                                                                          &#x27;MaxHR&#x27;])])),\n",
       "                                       (&#x27;kneighborsclassifier&#x27;,\n",
       "                                        KNeighborsClassifier())]),\n",
       "             param_grid={&#x27;kneighborsclassifier__n_neighbors&#x27;: range(2, 50)})</pre></div></div></div><div class=\"sk-parallel\"><div class=\"sk-parallel-item\"><div class=\"sk-item\"><div class=\"sk-label-container\"><div class=\"sk-label sk-toggleable\"><input class=\"sk-toggleable__control sk-hidden--visually\" id=\"sk-estimator-id-7\" type=\"checkbox\" ><label for=\"sk-estimator-id-7\" class=\"sk-toggleable__label sk-toggleable__label-arrow\">estimator: Pipeline</label><div class=\"sk-toggleable__content\"><pre>Pipeline(steps=[(&#x27;columntransformer&#x27;,\n",
       "                 ColumnTransformer(transformers=[(&#x27;passthrough&#x27;, &#x27;passthrough&#x27;,\n",
       "                                                  [&#x27;Sex&#x27;, &#x27;FastingBS&#x27;,\n",
       "                                                   &#x27;ExerciseAngina&#x27;]),\n",
       "                                                 (&#x27;standardscaler&#x27;,\n",
       "                                                  StandardScaler(),\n",
       "                                                  [&#x27;Age&#x27;, &#x27;RestingBP&#x27;,\n",
       "                                                   &#x27;Cholesterol&#x27;, &#x27;MaxHR&#x27;])])),\n",
       "                (&#x27;kneighborsclassifier&#x27;, KNeighborsClassifier())])</pre></div></div></div><div class=\"sk-serial\"><div class=\"sk-item\"><div class=\"sk-serial\"><div class=\"sk-item sk-dashed-wrapped\"><div class=\"sk-label-container\"><div class=\"sk-label sk-toggleable\"><input class=\"sk-toggleable__control sk-hidden--visually\" id=\"sk-estimator-id-8\" type=\"checkbox\" ><label for=\"sk-estimator-id-8\" class=\"sk-toggleable__label sk-toggleable__label-arrow\">columntransformer: ColumnTransformer</label><div class=\"sk-toggleable__content\"><pre>ColumnTransformer(transformers=[(&#x27;passthrough&#x27;, &#x27;passthrough&#x27;,\n",
       "                                 [&#x27;Sex&#x27;, &#x27;FastingBS&#x27;, &#x27;ExerciseAngina&#x27;]),\n",
       "                                (&#x27;standardscaler&#x27;, StandardScaler(),\n",
       "                                 [&#x27;Age&#x27;, &#x27;RestingBP&#x27;, &#x27;Cholesterol&#x27;, &#x27;MaxHR&#x27;])])</pre></div></div></div><div class=\"sk-parallel\"><div class=\"sk-parallel-item\"><div class=\"sk-item\"><div class=\"sk-label-container\"><div class=\"sk-label sk-toggleable\"><input class=\"sk-toggleable__control sk-hidden--visually\" id=\"sk-estimator-id-9\" type=\"checkbox\" ><label for=\"sk-estimator-id-9\" class=\"sk-toggleable__label sk-toggleable__label-arrow\">passthrough</label><div class=\"sk-toggleable__content\"><pre>[&#x27;Sex&#x27;, &#x27;FastingBS&#x27;, &#x27;ExerciseAngina&#x27;]</pre></div></div></div><div class=\"sk-serial\"><div class=\"sk-item\"><div class=\"sk-estimator sk-toggleable\"><input class=\"sk-toggleable__control sk-hidden--visually\" id=\"sk-estimator-id-10\" type=\"checkbox\" ><label for=\"sk-estimator-id-10\" class=\"sk-toggleable__label sk-toggleable__label-arrow\">passthrough</label><div class=\"sk-toggleable__content\"><pre>passthrough</pre></div></div></div></div></div></div><div class=\"sk-parallel-item\"><div class=\"sk-item\"><div class=\"sk-label-container\"><div class=\"sk-label sk-toggleable\"><input class=\"sk-toggleable__control sk-hidden--visually\" id=\"sk-estimator-id-11\" type=\"checkbox\" ><label for=\"sk-estimator-id-11\" class=\"sk-toggleable__label sk-toggleable__label-arrow\">standardscaler</label><div class=\"sk-toggleable__content\"><pre>[&#x27;Age&#x27;, &#x27;RestingBP&#x27;, &#x27;Cholesterol&#x27;, &#x27;MaxHR&#x27;]</pre></div></div></div><div class=\"sk-serial\"><div class=\"sk-item\"><div class=\"sk-estimator sk-toggleable\"><input class=\"sk-toggleable__control sk-hidden--visually\" id=\"sk-estimator-id-12\" type=\"checkbox\" ><label for=\"sk-estimator-id-12\" class=\"sk-toggleable__label sk-toggleable__label-arrow\">StandardScaler</label><div class=\"sk-toggleable__content\"><pre>StandardScaler()</pre></div></div></div></div></div></div></div></div><div class=\"sk-item\"><div class=\"sk-estimator sk-toggleable\"><input class=\"sk-toggleable__control sk-hidden--visually\" id=\"sk-estimator-id-13\" type=\"checkbox\" ><label for=\"sk-estimator-id-13\" class=\"sk-toggleable__label sk-toggleable__label-arrow\">KNeighborsClassifier</label><div class=\"sk-toggleable__content\"><pre>KNeighborsClassifier()</pre></div></div></div></div></div></div></div></div></div></div></div></div>"
      ],
      "text/plain": [
       "GridSearchCV(cv=5,\n",
       "             estimator=Pipeline(steps=[('columntransformer',\n",
       "                                        ColumnTransformer(transformers=[('passthrough',\n",
       "                                                                         'passthrough',\n",
       "                                                                         ['Sex',\n",
       "                                                                          'FastingBS',\n",
       "                                                                          'ExerciseAngina']),\n",
       "                                                                        ('standardscaler',\n",
       "                                                                         StandardScaler(),\n",
       "                                                                         ['Age',\n",
       "                                                                          'RestingBP',\n",
       "                                                                          'Cholesterol',\n",
       "                                                                          'MaxHR'])])),\n",
       "                                       ('kneighborsclassifier',\n",
       "                                        KNeighborsClassifier())]),\n",
       "             param_grid={'kneighborsclassifier__n_neighbors': range(2, 50)})"
      ]
     },
     "execution_count": 14,
     "metadata": {},
     "output_type": "execute_result"
    }
   ],
   "source": [
    "knn_tune_grid = GridSearchCV(\n",
    "    estimator=heart_tune_pipe, param_grid=param_grid, cv=5,\n",
    ")\n",
    "knn_tune_grid"
   ]
  },
  {
   "cell_type": "code",
   "execution_count": 15,
   "id": "a3e2a608-d4b9-405e-b226-43fd8b78cbcf",
   "metadata": {},
   "outputs": [
    {
     "data": {
      "text/html": [
       "<style>#sk-container-id-3 {color: black;background-color: white;}#sk-container-id-3 pre{padding: 0;}#sk-container-id-3 div.sk-toggleable {background-color: white;}#sk-container-id-3 label.sk-toggleable__label {cursor: pointer;display: block;width: 100%;margin-bottom: 0;padding: 0.3em;box-sizing: border-box;text-align: center;}#sk-container-id-3 label.sk-toggleable__label-arrow:before {content: \"▸\";float: left;margin-right: 0.25em;color: #696969;}#sk-container-id-3 label.sk-toggleable__label-arrow:hover:before {color: black;}#sk-container-id-3 div.sk-estimator:hover label.sk-toggleable__label-arrow:before {color: black;}#sk-container-id-3 div.sk-toggleable__content {max-height: 0;max-width: 0;overflow: hidden;text-align: left;background-color: #f0f8ff;}#sk-container-id-3 div.sk-toggleable__content pre {margin: 0.2em;color: black;border-radius: 0.25em;background-color: #f0f8ff;}#sk-container-id-3 input.sk-toggleable__control:checked~div.sk-toggleable__content {max-height: 200px;max-width: 100%;overflow: auto;}#sk-container-id-3 input.sk-toggleable__control:checked~label.sk-toggleable__label-arrow:before {content: \"▾\";}#sk-container-id-3 div.sk-estimator input.sk-toggleable__control:checked~label.sk-toggleable__label {background-color: #d4ebff;}#sk-container-id-3 div.sk-label input.sk-toggleable__control:checked~label.sk-toggleable__label {background-color: #d4ebff;}#sk-container-id-3 input.sk-hidden--visually {border: 0;clip: rect(1px 1px 1px 1px);clip: rect(1px, 1px, 1px, 1px);height: 1px;margin: -1px;overflow: hidden;padding: 0;position: absolute;width: 1px;}#sk-container-id-3 div.sk-estimator {font-family: monospace;background-color: #f0f8ff;border: 1px dotted black;border-radius: 0.25em;box-sizing: border-box;margin-bottom: 0.5em;}#sk-container-id-3 div.sk-estimator:hover {background-color: #d4ebff;}#sk-container-id-3 div.sk-parallel-item::after {content: \"\";width: 100%;border-bottom: 1px solid gray;flex-grow: 1;}#sk-container-id-3 div.sk-label:hover label.sk-toggleable__label {background-color: #d4ebff;}#sk-container-id-3 div.sk-serial::before {content: \"\";position: absolute;border-left: 1px solid gray;box-sizing: border-box;top: 0;bottom: 0;left: 50%;z-index: 0;}#sk-container-id-3 div.sk-serial {display: flex;flex-direction: column;align-items: center;background-color: white;padding-right: 0.2em;padding-left: 0.2em;position: relative;}#sk-container-id-3 div.sk-item {position: relative;z-index: 1;}#sk-container-id-3 div.sk-parallel {display: flex;align-items: stretch;justify-content: center;background-color: white;position: relative;}#sk-container-id-3 div.sk-item::before, #sk-container-id-3 div.sk-parallel-item::before {content: \"\";position: absolute;border-left: 1px solid gray;box-sizing: border-box;top: 0;bottom: 0;left: 50%;z-index: -1;}#sk-container-id-3 div.sk-parallel-item {display: flex;flex-direction: column;z-index: 1;position: relative;background-color: white;}#sk-container-id-3 div.sk-parallel-item:first-child::after {align-self: flex-end;width: 50%;}#sk-container-id-3 div.sk-parallel-item:last-child::after {align-self: flex-start;width: 50%;}#sk-container-id-3 div.sk-parallel-item:only-child::after {width: 0;}#sk-container-id-3 div.sk-dashed-wrapped {border: 1px dashed gray;margin: 0 0.4em 0.5em 0.4em;box-sizing: border-box;padding-bottom: 0.4em;background-color: white;}#sk-container-id-3 div.sk-label label {font-family: monospace;font-weight: bold;display: inline-block;line-height: 1.2em;}#sk-container-id-3 div.sk-label-container {text-align: center;}#sk-container-id-3 div.sk-container {/* jupyter's `normalize.less` sets `[hidden] { display: none; }` but bootstrap.min.css set `[hidden] { display: none !important; }` so we also need the `!important` here to be able to override the default hidden behavior on the sphinx rendered scikit-learn.org. See: https://github.com/scikit-learn/scikit-learn/issues/21755 */display: inline-block !important;position: relative;}#sk-container-id-3 div.sk-text-repr-fallback {display: none;}</style><div id=\"sk-container-id-3\" class=\"sk-top-container\"><div class=\"sk-text-repr-fallback\"><pre>GridSearchCV(cv=5,\n",
       "             estimator=Pipeline(steps=[(&#x27;columntransformer&#x27;,\n",
       "                                        ColumnTransformer(transformers=[(&#x27;passthrough&#x27;,\n",
       "                                                                         &#x27;passthrough&#x27;,\n",
       "                                                                         [&#x27;Sex&#x27;,\n",
       "                                                                          &#x27;FastingBS&#x27;,\n",
       "                                                                          &#x27;ExerciseAngina&#x27;]),\n",
       "                                                                        (&#x27;standardscaler&#x27;,\n",
       "                                                                         StandardScaler(),\n",
       "                                                                         [&#x27;Age&#x27;,\n",
       "                                                                          &#x27;RestingBP&#x27;,\n",
       "                                                                          &#x27;Cholesterol&#x27;,\n",
       "                                                                          &#x27;MaxHR&#x27;])])),\n",
       "                                       (&#x27;kneighborsclassifier&#x27;,\n",
       "                                        KNeighborsClassifier())]),\n",
       "             param_grid={&#x27;kneighborsclassifier__n_neighbors&#x27;: range(2, 50)})</pre><b>In a Jupyter environment, please rerun this cell to show the HTML representation or trust the notebook. <br />On GitHub, the HTML representation is unable to render, please try loading this page with nbviewer.org.</b></div><div class=\"sk-container\" hidden><div class=\"sk-item sk-dashed-wrapped\"><div class=\"sk-label-container\"><div class=\"sk-label sk-toggleable\"><input class=\"sk-toggleable__control sk-hidden--visually\" id=\"sk-estimator-id-14\" type=\"checkbox\" ><label for=\"sk-estimator-id-14\" class=\"sk-toggleable__label sk-toggleable__label-arrow\">GridSearchCV</label><div class=\"sk-toggleable__content\"><pre>GridSearchCV(cv=5,\n",
       "             estimator=Pipeline(steps=[(&#x27;columntransformer&#x27;,\n",
       "                                        ColumnTransformer(transformers=[(&#x27;passthrough&#x27;,\n",
       "                                                                         &#x27;passthrough&#x27;,\n",
       "                                                                         [&#x27;Sex&#x27;,\n",
       "                                                                          &#x27;FastingBS&#x27;,\n",
       "                                                                          &#x27;ExerciseAngina&#x27;]),\n",
       "                                                                        (&#x27;standardscaler&#x27;,\n",
       "                                                                         StandardScaler(),\n",
       "                                                                         [&#x27;Age&#x27;,\n",
       "                                                                          &#x27;RestingBP&#x27;,\n",
       "                                                                          &#x27;Cholesterol&#x27;,\n",
       "                                                                          &#x27;MaxHR&#x27;])])),\n",
       "                                       (&#x27;kneighborsclassifier&#x27;,\n",
       "                                        KNeighborsClassifier())]),\n",
       "             param_grid={&#x27;kneighborsclassifier__n_neighbors&#x27;: range(2, 50)})</pre></div></div></div><div class=\"sk-parallel\"><div class=\"sk-parallel-item\"><div class=\"sk-item\"><div class=\"sk-label-container\"><div class=\"sk-label sk-toggleable\"><input class=\"sk-toggleable__control sk-hidden--visually\" id=\"sk-estimator-id-15\" type=\"checkbox\" ><label for=\"sk-estimator-id-15\" class=\"sk-toggleable__label sk-toggleable__label-arrow\">estimator: Pipeline</label><div class=\"sk-toggleable__content\"><pre>Pipeline(steps=[(&#x27;columntransformer&#x27;,\n",
       "                 ColumnTransformer(transformers=[(&#x27;passthrough&#x27;, &#x27;passthrough&#x27;,\n",
       "                                                  [&#x27;Sex&#x27;, &#x27;FastingBS&#x27;,\n",
       "                                                   &#x27;ExerciseAngina&#x27;]),\n",
       "                                                 (&#x27;standardscaler&#x27;,\n",
       "                                                  StandardScaler(),\n",
       "                                                  [&#x27;Age&#x27;, &#x27;RestingBP&#x27;,\n",
       "                                                   &#x27;Cholesterol&#x27;, &#x27;MaxHR&#x27;])])),\n",
       "                (&#x27;kneighborsclassifier&#x27;, KNeighborsClassifier())])</pre></div></div></div><div class=\"sk-serial\"><div class=\"sk-item\"><div class=\"sk-serial\"><div class=\"sk-item sk-dashed-wrapped\"><div class=\"sk-label-container\"><div class=\"sk-label sk-toggleable\"><input class=\"sk-toggleable__control sk-hidden--visually\" id=\"sk-estimator-id-16\" type=\"checkbox\" ><label for=\"sk-estimator-id-16\" class=\"sk-toggleable__label sk-toggleable__label-arrow\">columntransformer: ColumnTransformer</label><div class=\"sk-toggleable__content\"><pre>ColumnTransformer(transformers=[(&#x27;passthrough&#x27;, &#x27;passthrough&#x27;,\n",
       "                                 [&#x27;Sex&#x27;, &#x27;FastingBS&#x27;, &#x27;ExerciseAngina&#x27;]),\n",
       "                                (&#x27;standardscaler&#x27;, StandardScaler(),\n",
       "                                 [&#x27;Age&#x27;, &#x27;RestingBP&#x27;, &#x27;Cholesterol&#x27;, &#x27;MaxHR&#x27;])])</pre></div></div></div><div class=\"sk-parallel\"><div class=\"sk-parallel-item\"><div class=\"sk-item\"><div class=\"sk-label-container\"><div class=\"sk-label sk-toggleable\"><input class=\"sk-toggleable__control sk-hidden--visually\" id=\"sk-estimator-id-17\" type=\"checkbox\" ><label for=\"sk-estimator-id-17\" class=\"sk-toggleable__label sk-toggleable__label-arrow\">passthrough</label><div class=\"sk-toggleable__content\"><pre>[&#x27;Sex&#x27;, &#x27;FastingBS&#x27;, &#x27;ExerciseAngina&#x27;]</pre></div></div></div><div class=\"sk-serial\"><div class=\"sk-item\"><div class=\"sk-estimator sk-toggleable\"><input class=\"sk-toggleable__control sk-hidden--visually\" id=\"sk-estimator-id-18\" type=\"checkbox\" ><label for=\"sk-estimator-id-18\" class=\"sk-toggleable__label sk-toggleable__label-arrow\">passthrough</label><div class=\"sk-toggleable__content\"><pre>passthrough</pre></div></div></div></div></div></div><div class=\"sk-parallel-item\"><div class=\"sk-item\"><div class=\"sk-label-container\"><div class=\"sk-label sk-toggleable\"><input class=\"sk-toggleable__control sk-hidden--visually\" id=\"sk-estimator-id-19\" type=\"checkbox\" ><label for=\"sk-estimator-id-19\" class=\"sk-toggleable__label sk-toggleable__label-arrow\">standardscaler</label><div class=\"sk-toggleable__content\"><pre>[&#x27;Age&#x27;, &#x27;RestingBP&#x27;, &#x27;Cholesterol&#x27;, &#x27;MaxHR&#x27;]</pre></div></div></div><div class=\"sk-serial\"><div class=\"sk-item\"><div class=\"sk-estimator sk-toggleable\"><input class=\"sk-toggleable__control sk-hidden--visually\" id=\"sk-estimator-id-20\" type=\"checkbox\" ><label for=\"sk-estimator-id-20\" class=\"sk-toggleable__label sk-toggleable__label-arrow\">StandardScaler</label><div class=\"sk-toggleable__content\"><pre>StandardScaler()</pre></div></div></div></div></div></div></div></div><div class=\"sk-item\"><div class=\"sk-estimator sk-toggleable\"><input class=\"sk-toggleable__control sk-hidden--visually\" id=\"sk-estimator-id-21\" type=\"checkbox\" ><label for=\"sk-estimator-id-21\" class=\"sk-toggleable__label sk-toggleable__label-arrow\">KNeighborsClassifier</label><div class=\"sk-toggleable__content\"><pre>KNeighborsClassifier()</pre></div></div></div></div></div></div></div></div></div></div></div></div>"
      ],
      "text/plain": [
       "GridSearchCV(cv=5,\n",
       "             estimator=Pipeline(steps=[('columntransformer',\n",
       "                                        ColumnTransformer(transformers=[('passthrough',\n",
       "                                                                         'passthrough',\n",
       "                                                                         ['Sex',\n",
       "                                                                          'FastingBS',\n",
       "                                                                          'ExerciseAngina']),\n",
       "                                                                        ('standardscaler',\n",
       "                                                                         StandardScaler(),\n",
       "                                                                         ['Age',\n",
       "                                                                          'RestingBP',\n",
       "                                                                          'Cholesterol',\n",
       "                                                                          'MaxHR'])])),\n",
       "                                       ('kneighborsclassifier',\n",
       "                                        KNeighborsClassifier())]),\n",
       "             param_grid={'kneighborsclassifier__n_neighbors': range(2, 50)})"
      ]
     },
     "execution_count": 15,
     "metadata": {},
     "output_type": "execute_result"
    }
   ],
   "source": [
    "X_tune = heart_data_training[[\"Age\",\"Sex\",\"RestingBP\",\"Cholesterol\",\"FastingBS\",\"MaxHR\",\"ExerciseAngina\"]]\n",
    "y_tune = heart_data_training[\"HeartDisease\"]\n",
    "\n",
    "knn_model_grid = knn_tune_grid.fit(X_tune, y_tune)\n",
    "\n",
    "accuracies_grid = pd.DataFrame(knn_model_grid.cv_results_)\n",
    "\n",
    "knn_model_grid"
   ]
  },
  {
   "cell_type": "code",
   "execution_count": 16,
   "id": "05083711-f25a-424f-b53d-036ede2529de",
   "metadata": {},
   "outputs": [
    {
     "data": {
      "text/html": [
       "<div>\n",
       "<style scoped>\n",
       "    .dataframe tbody tr th:only-of-type {\n",
       "        vertical-align: middle;\n",
       "    }\n",
       "\n",
       "    .dataframe tbody tr th {\n",
       "        vertical-align: top;\n",
       "    }\n",
       "\n",
       "    .dataframe thead th {\n",
       "        text-align: right;\n",
       "    }\n",
       "</style>\n",
       "<table border=\"1\" class=\"dataframe\">\n",
       "  <thead>\n",
       "    <tr style=\"text-align: right;\">\n",
       "      <th></th>\n",
       "      <th>mean_fit_time</th>\n",
       "      <th>std_fit_time</th>\n",
       "      <th>mean_score_time</th>\n",
       "      <th>std_score_time</th>\n",
       "      <th>param_kneighborsclassifier__n_neighbors</th>\n",
       "      <th>params</th>\n",
       "      <th>split0_test_score</th>\n",
       "      <th>split1_test_score</th>\n",
       "      <th>split2_test_score</th>\n",
       "      <th>split3_test_score</th>\n",
       "      <th>split4_test_score</th>\n",
       "      <th>mean_test_score</th>\n",
       "      <th>std_test_score</th>\n",
       "      <th>rank_test_score</th>\n",
       "    </tr>\n",
       "  </thead>\n",
       "  <tbody>\n",
       "    <tr>\n",
       "      <th>0</th>\n",
       "      <td>0.026777</td>\n",
       "      <td>0.004969</td>\n",
       "      <td>0.036560</td>\n",
       "      <td>0.000274</td>\n",
       "      <td>2</td>\n",
       "      <td>{'kneighborsclassifier__n_neighbors': 2}</td>\n",
       "      <td>0.714286</td>\n",
       "      <td>0.660714</td>\n",
       "      <td>0.642857</td>\n",
       "      <td>0.758929</td>\n",
       "      <td>0.720721</td>\n",
       "      <td>0.699501</td>\n",
       "      <td>0.042222</td>\n",
       "      <td>48</td>\n",
       "    </tr>\n",
       "    <tr>\n",
       "      <th>1</th>\n",
       "      <td>0.021027</td>\n",
       "      <td>0.000193</td>\n",
       "      <td>0.032967</td>\n",
       "      <td>0.000420</td>\n",
       "      <td>3</td>\n",
       "      <td>{'kneighborsclassifier__n_neighbors': 3}</td>\n",
       "      <td>0.750000</td>\n",
       "      <td>0.732143</td>\n",
       "      <td>0.678571</td>\n",
       "      <td>0.750000</td>\n",
       "      <td>0.720721</td>\n",
       "      <td>0.726287</td>\n",
       "      <td>0.026331</td>\n",
       "      <td>47</td>\n",
       "    </tr>\n",
       "    <tr>\n",
       "      <th>2</th>\n",
       "      <td>0.018086</td>\n",
       "      <td>0.005363</td>\n",
       "      <td>0.024489</td>\n",
       "      <td>0.009784</td>\n",
       "      <td>4</td>\n",
       "      <td>{'kneighborsclassifier__n_neighbors': 4}</td>\n",
       "      <td>0.776786</td>\n",
       "      <td>0.705357</td>\n",
       "      <td>0.705357</td>\n",
       "      <td>0.794643</td>\n",
       "      <td>0.756757</td>\n",
       "      <td>0.747780</td>\n",
       "      <td>0.036654</td>\n",
       "      <td>16</td>\n",
       "    </tr>\n",
       "    <tr>\n",
       "      <th>3</th>\n",
       "      <td>0.007193</td>\n",
       "      <td>0.000035</td>\n",
       "      <td>0.011191</td>\n",
       "      <td>0.000100</td>\n",
       "      <td>5</td>\n",
       "      <td>{'kneighborsclassifier__n_neighbors': 5}</td>\n",
       "      <td>0.732143</td>\n",
       "      <td>0.732143</td>\n",
       "      <td>0.705357</td>\n",
       "      <td>0.750000</td>\n",
       "      <td>0.720721</td>\n",
       "      <td>0.728073</td>\n",
       "      <td>0.014724</td>\n",
       "      <td>46</td>\n",
       "    </tr>\n",
       "    <tr>\n",
       "      <th>4</th>\n",
       "      <td>0.007321</td>\n",
       "      <td>0.000200</td>\n",
       "      <td>0.011223</td>\n",
       "      <td>0.000046</td>\n",
       "      <td>6</td>\n",
       "      <td>{'kneighborsclassifier__n_neighbors': 6}</td>\n",
       "      <td>0.750000</td>\n",
       "      <td>0.732143</td>\n",
       "      <td>0.696429</td>\n",
       "      <td>0.794643</td>\n",
       "      <td>0.729730</td>\n",
       "      <td>0.740589</td>\n",
       "      <td>0.032093</td>\n",
       "      <td>30</td>\n",
       "    </tr>\n",
       "  </tbody>\n",
       "</table>\n",
       "</div>"
      ],
      "text/plain": [
       "   mean_fit_time  std_fit_time  mean_score_time  std_score_time  \\\n",
       "0       0.026777      0.004969         0.036560        0.000274   \n",
       "1       0.021027      0.000193         0.032967        0.000420   \n",
       "2       0.018086      0.005363         0.024489        0.009784   \n",
       "3       0.007193      0.000035         0.011191        0.000100   \n",
       "4       0.007321      0.000200         0.011223        0.000046   \n",
       "\n",
       "  param_kneighborsclassifier__n_neighbors  \\\n",
       "0                                       2   \n",
       "1                                       3   \n",
       "2                                       4   \n",
       "3                                       5   \n",
       "4                                       6   \n",
       "\n",
       "                                     params  split0_test_score  \\\n",
       "0  {'kneighborsclassifier__n_neighbors': 2}           0.714286   \n",
       "1  {'kneighborsclassifier__n_neighbors': 3}           0.750000   \n",
       "2  {'kneighborsclassifier__n_neighbors': 4}           0.776786   \n",
       "3  {'kneighborsclassifier__n_neighbors': 5}           0.732143   \n",
       "4  {'kneighborsclassifier__n_neighbors': 6}           0.750000   \n",
       "\n",
       "   split1_test_score  split2_test_score  split3_test_score  split4_test_score  \\\n",
       "0           0.660714           0.642857           0.758929           0.720721   \n",
       "1           0.732143           0.678571           0.750000           0.720721   \n",
       "2           0.705357           0.705357           0.794643           0.756757   \n",
       "3           0.732143           0.705357           0.750000           0.720721   \n",
       "4           0.732143           0.696429           0.794643           0.729730   \n",
       "\n",
       "   mean_test_score  std_test_score  rank_test_score  \n",
       "0         0.699501        0.042222               48  \n",
       "1         0.726287        0.026331               47  \n",
       "2         0.747780        0.036654               16  \n",
       "3         0.728073        0.014724               46  \n",
       "4         0.740589        0.032093               30  "
      ]
     },
     "execution_count": 16,
     "metadata": {},
     "output_type": "execute_result"
    }
   ],
   "source": [
    "accuracies_grid.head()"
   ]
  },
  {
   "cell_type": "code",
   "execution_count": 17,
   "id": "1240f56a-233b-4eba-9099-b1884a9f5ba6",
   "metadata": {},
   "outputs": [
    {
     "name": "stderr",
     "output_type": "stream",
     "text": [
      "/opt/conda/lib/python3.10/site-packages/altair/utils/core.py:317: FutureWarning: iteritems is deprecated and will be removed in a future version. Use .items instead.\n",
      "  for col_name, dtype in df.dtypes.iteritems():\n"
     ]
    },
    {
     "data": {
      "application/vnd.vegalite.v4+json": {
       "$schema": "https://vega.github.io/schema/vega-lite/v4.17.0.json",
       "config": {
        "axis": {
         "labelFontSize": 10,
         "titleFontSize": 15
        },
        "view": {
         "continuousHeight": 300,
         "continuousWidth": 400
        }
       },
       "data": {
        "name": "data-d486f5afee53075654c35c2f3f5a1f89"
       },
       "datasets": {
        "data-d486f5afee53075654c35c2f3f5a1f89": [
         {
          "mean_fit_time": 0.026776552200317383,
          "mean_score_time": 0.036559534072875974,
          "mean_test_score": 0.699501287001287,
          "param_kneighborsclassifier__n_neighbors": 2,
          "params": {
           "kneighborsclassifier__n_neighbors": 2
          },
          "rank_test_score": 48,
          "split0_test_score": 0.7142857142857143,
          "split1_test_score": 0.6607142857142857,
          "split2_test_score": 0.6428571428571429,
          "split3_test_score": 0.7589285714285714,
          "split4_test_score": 0.7207207207207207,
          "std_fit_time": 0.004969188414072774,
          "std_score_time": 0.000273995352962289,
          "std_test_score": 0.042221881356859815
         },
         {
          "mean_fit_time": 0.02102651596069336,
          "mean_score_time": 0.03296704292297363,
          "mean_test_score": 0.7262870012870012,
          "param_kneighborsclassifier__n_neighbors": 3,
          "params": {
           "kneighborsclassifier__n_neighbors": 3
          },
          "rank_test_score": 47,
          "split0_test_score": 0.75,
          "split1_test_score": 0.7321428571428571,
          "split2_test_score": 0.6785714285714286,
          "split3_test_score": 0.75,
          "split4_test_score": 0.7207207207207207,
          "std_fit_time": 0.00019309565319994656,
          "std_score_time": 0.0004204677599332077,
          "std_test_score": 0.02633120970501574
         },
         {
          "mean_fit_time": 0.01808643341064453,
          "mean_score_time": 0.024488544464111327,
          "mean_test_score": 0.7477799227799228,
          "param_kneighborsclassifier__n_neighbors": 4,
          "params": {
           "kneighborsclassifier__n_neighbors": 4
          },
          "rank_test_score": 16,
          "split0_test_score": 0.7767857142857143,
          "split1_test_score": 0.7053571428571429,
          "split2_test_score": 0.7053571428571429,
          "split3_test_score": 0.7946428571428571,
          "split4_test_score": 0.7567567567567568,
          "std_fit_time": 0.005362869507552919,
          "std_score_time": 0.009783808198287149,
          "std_test_score": 0.036653618154236865
         },
         {
          "mean_fit_time": 0.007193326950073242,
          "mean_score_time": 0.011190557479858398,
          "mean_test_score": 0.7280727155727156,
          "param_kneighborsclassifier__n_neighbors": 5,
          "params": {
           "kneighborsclassifier__n_neighbors": 5
          },
          "rank_test_score": 46,
          "split0_test_score": 0.7321428571428571,
          "split1_test_score": 0.7321428571428571,
          "split2_test_score": 0.7053571428571429,
          "split3_test_score": 0.75,
          "split4_test_score": 0.7207207207207207,
          "std_fit_time": 3.5199174633188715e-05,
          "std_score_time": 0.00010038034914211357,
          "std_test_score": 0.014724041423856747
         },
         {
          "mean_fit_time": 0.0073206424713134766,
          "mean_score_time": 0.011223030090332032,
          "mean_test_score": 0.7405888030888031,
          "param_kneighborsclassifier__n_neighbors": 6,
          "params": {
           "kneighborsclassifier__n_neighbors": 6
          },
          "rank_test_score": 30,
          "split0_test_score": 0.75,
          "split1_test_score": 0.7321428571428571,
          "split2_test_score": 0.6964285714285714,
          "split3_test_score": 0.7946428571428571,
          "split4_test_score": 0.7297297297297297,
          "std_fit_time": 0.00019963190683341416,
          "std_score_time": 4.587322161320404e-05,
          "std_test_score": 0.03209296160968888
         },
         {
          "mean_fit_time": 0.00724339485168457,
          "mean_score_time": 0.011314105987548829,
          "mean_test_score": 0.7549066924066924,
          "param_kneighborsclassifier__n_neighbors": 7,
          "params": {
           "kneighborsclassifier__n_neighbors": 7
          },
          "rank_test_score": 11,
          "split0_test_score": 0.7678571428571429,
          "split1_test_score": 0.7767857142857143,
          "split2_test_score": 0.7142857142857143,
          "split3_test_score": 0.7678571428571429,
          "split4_test_score": 0.7477477477477478,
          "std_fit_time": 6.322939830532502e-05,
          "std_score_time": 0.00016840646337239301,
          "std_test_score": 0.022429597786214
         },
         {
          "mean_fit_time": 0.007357501983642578,
          "mean_score_time": 0.011276721954345703,
          "mean_test_score": 0.758510296010296,
          "param_kneighborsclassifier__n_neighbors": 8,
          "params": {
           "kneighborsclassifier__n_neighbors": 8
          },
          "rank_test_score": 6,
          "split0_test_score": 0.7946428571428571,
          "split1_test_score": 0.75,
          "split2_test_score": 0.6875,
          "split3_test_score": 0.7946428571428571,
          "split4_test_score": 0.7657657657657657,
          "std_fit_time": 0.0003031135934539196,
          "std_score_time": 6.177130459864145e-05,
          "std_test_score": 0.03944275108818295
         },
         {
          "mean_fit_time": 0.0072724342346191405,
          "mean_score_time": 0.01142115592956543,
          "mean_test_score": 0.754954954954955,
          "param_kneighborsclassifier__n_neighbors": 9,
          "params": {
           "kneighborsclassifier__n_neighbors": 9
          },
          "rank_test_score": 10,
          "split0_test_score": 0.75,
          "split1_test_score": 0.7589285714285714,
          "split2_test_score": 0.7142857142857143,
          "split3_test_score": 0.7767857142857143,
          "split4_test_score": 0.7747747747747747,
          "std_fit_time": 0.00011481902127067684,
          "std_score_time": 0.000186193364477778,
          "std_test_score": 0.02264392039265862
         },
         {
          "mean_fit_time": 0.007321786880493164,
          "mean_score_time": 0.011535930633544921,
          "mean_test_score": 0.7567084942084943,
          "param_kneighborsclassifier__n_neighbors": 10,
          "params": {
           "kneighborsclassifier__n_neighbors": 10
          },
          "rank_test_score": 8,
          "split0_test_score": 0.7857142857142857,
          "split1_test_score": 0.7410714285714286,
          "split2_test_score": 0.7053571428571429,
          "split3_test_score": 0.7946428571428571,
          "split4_test_score": 0.7567567567567568,
          "std_fit_time": 0.00014115269091664924,
          "std_score_time": 0.0001508846741188411,
          "std_test_score": 0.032130463017936116
         },
         {
          "mean_fit_time": 0.007124757766723633,
          "mean_score_time": 0.011505985260009765,
          "mean_test_score": 0.758542471042471,
          "param_kneighborsclassifier__n_neighbors": 11,
          "params": {
           "kneighborsclassifier__n_neighbors": 11
          },
          "rank_test_score": 5,
          "split0_test_score": 0.7767857142857143,
          "split1_test_score": 0.7678571428571429,
          "split2_test_score": 0.7232142857142857,
          "split3_test_score": 0.7410714285714286,
          "split4_test_score": 0.7837837837837838,
          "std_fit_time": 5.983510287406264e-05,
          "std_score_time": 0.0002519450067252541,
          "std_test_score": 0.022847410827310472
         },
         {
          "mean_fit_time": 0.007160806655883789,
          "mean_score_time": 0.011339521408081055,
          "mean_test_score": 0.7585424710424711,
          "param_kneighborsclassifier__n_neighbors": 12,
          "params": {
           "kneighborsclassifier__n_neighbors": 12
          },
          "rank_test_score": 4,
          "split0_test_score": 0.7857142857142857,
          "split1_test_score": 0.7589285714285714,
          "split2_test_score": 0.6875,
          "split3_test_score": 0.7767857142857143,
          "split4_test_score": 0.7837837837837838,
          "std_fit_time": 7.496247149113783e-05,
          "std_score_time": 5.4976780874768584e-05,
          "std_test_score": 0.036757119231041004
         },
         {
          "mean_fit_time": 0.007191276550292969,
          "mean_score_time": 0.011430501937866211,
          "mean_test_score": 0.7567728442728442,
          "param_kneighborsclassifier__n_neighbors": 13,
          "params": {
           "kneighborsclassifier__n_neighbors": 13
          },
          "rank_test_score": 7,
          "split0_test_score": 0.7678571428571429,
          "split1_test_score": 0.75,
          "split2_test_score": 0.7053571428571429,
          "split3_test_score": 0.7678571428571429,
          "split4_test_score": 0.7927927927927928,
          "std_fit_time": 8.552916865229662e-05,
          "std_score_time": 0.00013478095604609467,
          "std_test_score": 0.02909503673551304
         },
         {
          "mean_fit_time": 0.00713801383972168,
          "mean_score_time": 0.01150975227355957,
          "mean_test_score": 0.7675032175032175,
          "param_kneighborsclassifier__n_neighbors": 14,
          "params": {
           "kneighborsclassifier__n_neighbors": 14
          },
          "rank_test_score": 1,
          "split0_test_score": 0.7946428571428571,
          "split1_test_score": 0.7678571428571429,
          "split2_test_score": 0.7053571428571429,
          "split3_test_score": 0.7678571428571429,
          "split4_test_score": 0.8018018018018018,
          "std_fit_time": 9.580238812701316e-05,
          "std_score_time": 0.00012106637212005788,
          "std_test_score": 0.03398628560135506
         },
         {
          "mean_fit_time": 0.007942438125610352,
          "mean_score_time": 0.01271977424621582,
          "mean_test_score": 0.7532175032175032,
          "param_kneighborsclassifier__n_neighbors": 15,
          "params": {
           "kneighborsclassifier__n_neighbors": 15
          },
          "rank_test_score": 13,
          "split0_test_score": 0.7767857142857143,
          "split1_test_score": 0.75,
          "split2_test_score": 0.6785714285714286,
          "split3_test_score": 0.7589285714285714,
          "split4_test_score": 0.8018018018018018,
          "std_fit_time": 0.00021381842882957667,
          "std_score_time": 0.00012959540956004138,
          "std_test_score": 0.04130593112137163
         },
         {
          "mean_fit_time": 0.008260631561279297,
          "mean_score_time": 0.013027477264404296,
          "mean_test_score": 0.7585746460746462,
          "param_kneighborsclassifier__n_neighbors": 16,
          "params": {
           "kneighborsclassifier__n_neighbors": 16
          },
          "rank_test_score": 3,
          "split0_test_score": 0.8035714285714286,
          "split1_test_score": 0.7678571428571429,
          "split2_test_score": 0.6696428571428571,
          "split3_test_score": 0.75,
          "split4_test_score": 0.8018018018018018,
          "std_fit_time": 0.00031176967013832655,
          "std_score_time": 0.00021377346371604045,
          "std_test_score": 0.04891185911770948
         },
         {
          "mean_fit_time": 0.017326211929321288,
          "mean_score_time": 0.02492351531982422,
          "mean_test_score": 0.7496299871299871,
          "param_kneighborsclassifier__n_neighbors": 17,
          "params": {
           "kneighborsclassifier__n_neighbors": 17
          },
          "rank_test_score": 15,
          "split0_test_score": 0.7678571428571429,
          "split1_test_score": 0.7410714285714286,
          "split2_test_score": 0.6785714285714286,
          "split3_test_score": 0.7678571428571429,
          "split4_test_score": 0.7927927927927928,
          "std_fit_time": 0.01776400774203203,
          "std_score_time": 0.014459419393428095,
          "std_test_score": 0.03911535216129205
         },
         {
          "mean_fit_time": 0.023656702041625975,
          "mean_score_time": 0.039381885528564455,
          "mean_test_score": 0.7603925353925354,
          "param_kneighborsclassifier__n_neighbors": 18,
          "params": {
           "kneighborsclassifier__n_neighbors": 18
          },
          "rank_test_score": 2,
          "split0_test_score": 0.8035714285714286,
          "split1_test_score": 0.7410714285714286,
          "split2_test_score": 0.6785714285714286,
          "split3_test_score": 0.7589285714285714,
          "split4_test_score": 0.8198198198198198,
          "std_fit_time": 0.00018051096220016307,
          "std_score_time": 0.0019881686147579652,
          "std_test_score": 0.049932275796857085
         },
         {
          "mean_fit_time": 0.020465850830078125,
          "mean_score_time": 0.029091739654541017,
          "mean_test_score": 0.7532657657657658,
          "param_kneighborsclassifier__n_neighbors": 19,
          "params": {
           "kneighborsclassifier__n_neighbors": 19
          },
          "rank_test_score": 12,
          "split0_test_score": 0.7857142857142857,
          "split1_test_score": 0.7410714285714286,
          "split2_test_score": 0.6517857142857143,
          "split3_test_score": 0.7589285714285714,
          "split4_test_score": 0.8288288288288288,
          "std_fit_time": 0.006130581640204006,
          "std_score_time": 0.011502719507192704,
          "std_test_score": 0.058722488064283734
         },
         {
          "mean_fit_time": 0.007916975021362304,
          "mean_score_time": 0.014237928390502929,
          "mean_test_score": 0.7460746460746461,
          "param_kneighborsclassifier__n_neighbors": 20,
          "params": {
           "kneighborsclassifier__n_neighbors": 20
          },
          "rank_test_score": 21,
          "split0_test_score": 0.7857142857142857,
          "split1_test_score": 0.7321428571428571,
          "split2_test_score": 0.6696428571428571,
          "split3_test_score": 0.7410714285714286,
          "split4_test_score": 0.8018018018018018,
          "std_fit_time": 0.00029687961121184844,
          "std_score_time": 0.0036622412677696876,
          "std_test_score": 0.046341692251658476
         },
         {
          "mean_fit_time": 0.007767391204833984,
          "mean_score_time": 0.012332296371459961,
          "mean_test_score": 0.7461068211068211,
          "param_kneighborsclassifier__n_neighbors": 21,
          "params": {
           "kneighborsclassifier__n_neighbors": 21
          },
          "rank_test_score": 17,
          "split0_test_score": 0.7857142857142857,
          "split1_test_score": 0.7232142857142857,
          "split2_test_score": 0.6517857142857143,
          "split3_test_score": 0.75,
          "split4_test_score": 0.8198198198198198,
          "std_fit_time": 0.00013779871172582602,
          "std_score_time": 0.00019690341346398458,
          "std_test_score": 0.05733769029607929
         },
         {
          "mean_fit_time": 0.007634925842285156,
          "mean_score_time": 0.012190914154052735,
          "mean_test_score": 0.7461068211068211,
          "param_kneighborsclassifier__n_neighbors": 22,
          "params": {
           "kneighborsclassifier__n_neighbors": 22
          },
          "rank_test_score": 17,
          "split0_test_score": 0.7946428571428571,
          "split1_test_score": 0.7232142857142857,
          "split2_test_score": 0.6517857142857143,
          "split3_test_score": 0.7410714285714286,
          "split4_test_score": 0.8198198198198198,
          "std_fit_time": 0.0002778266403556418,
          "std_score_time": 0.00015766161854713083,
          "std_test_score": 0.05871157896019582
         },
         {
          "mean_fit_time": 0.007874488830566406,
          "mean_score_time": 0.012792062759399415,
          "mean_test_score": 0.7407175032175033,
          "param_kneighborsclassifier__n_neighbors": 23,
          "params": {
           "kneighborsclassifier__n_neighbors": 23
          },
          "rank_test_score": 28,
          "split0_test_score": 0.7767857142857143,
          "split1_test_score": 0.7232142857142857,
          "split2_test_score": 0.6696428571428571,
          "split3_test_score": 0.7321428571428571,
          "split4_test_score": 0.8018018018018018,
          "std_fit_time": 0.00014310144493870927,
          "std_score_time": 0.0003332048329224346,
          "std_test_score": 0.04574647500322481
         },
         {
          "mean_fit_time": 0.007598066329956054,
          "mean_score_time": 0.012268495559692384,
          "mean_test_score": 0.7442728442728442,
          "param_kneighborsclassifier__n_neighbors": 24,
          "params": {
           "kneighborsclassifier__n_neighbors": 24
          },
          "rank_test_score": 24,
          "split0_test_score": 0.7678571428571429,
          "split1_test_score": 0.7142857142857143,
          "split2_test_score": 0.6785714285714286,
          "split3_test_score": 0.7678571428571429,
          "split4_test_score": 0.7927927927927928,
          "std_fit_time": 0.00024120121274282628,
          "std_score_time": 0.00024137869032844655,
          "std_test_score": 0.04167139948175586
         },
         {
          "mean_fit_time": 0.00788111686706543,
          "mean_score_time": 0.012948083877563476,
          "mean_test_score": 0.7371460746460746,
          "param_kneighborsclassifier__n_neighbors": 25,
          "params": {
           "kneighborsclassifier__n_neighbors": 25
          },
          "rank_test_score": 34,
          "split0_test_score": 0.75,
          "split1_test_score": 0.7142857142857143,
          "split2_test_score": 0.6607142857142857,
          "split3_test_score": 0.7589285714285714,
          "split4_test_score": 0.8018018018018018,
          "std_fit_time": 0.0003733282450165623,
          "std_score_time": 0.00046349465593110317,
          "std_test_score": 0.04729583079350372
         },
         {
          "mean_fit_time": 0.0077304840087890625,
          "mean_score_time": 0.012557649612426757,
          "mean_test_score": 0.7407175032175033,
          "param_kneighborsclassifier__n_neighbors": 26,
          "params": {
           "kneighborsclassifier__n_neighbors": 26
          },
          "rank_test_score": 28,
          "split0_test_score": 0.7678571428571429,
          "split1_test_score": 0.7142857142857143,
          "split2_test_score": 0.6785714285714286,
          "split3_test_score": 0.7410714285714286,
          "split4_test_score": 0.8018018018018018,
          "std_fit_time": 0.0003129002380137073,
          "std_score_time": 0.00033083430072753945,
          "std_test_score": 0.042494119349650056
         },
         {
          "mean_fit_time": 0.007395029067993164,
          "mean_score_time": 0.012311267852783202,
          "mean_test_score": 0.7425032175032176,
          "param_kneighborsclassifier__n_neighbors": 27,
          "params": {
           "kneighborsclassifier__n_neighbors": 27
          },
          "rank_test_score": 26,
          "split0_test_score": 0.7678571428571429,
          "split1_test_score": 0.7142857142857143,
          "split2_test_score": 0.6785714285714286,
          "split3_test_score": 0.75,
          "split4_test_score": 0.8018018018018018,
          "std_fit_time": 0.00010213702776876818,
          "std_score_time": 0.00019382374137632026,
          "std_test_score": 0.04265875408945134
         },
         {
          "mean_fit_time": 0.007389688491821289,
          "mean_score_time": 0.012400150299072266,
          "mean_test_score": 0.7496460746460747,
          "param_kneighborsclassifier__n_neighbors": 28,
          "params": {
           "kneighborsclassifier__n_neighbors": 28
          },
          "rank_test_score": 14,
          "split0_test_score": 0.7857142857142857,
          "split1_test_score": 0.7142857142857143,
          "split2_test_score": 0.6875,
          "split3_test_score": 0.7589285714285714,
          "split4_test_score": 0.8018018018018018,
          "std_fit_time": 0.00010029038350740527,
          "std_score_time": 0.00016206747337664336,
          "std_test_score": 0.042941332420060666
         },
         {
          "mean_fit_time": 0.007830476760864258,
          "mean_score_time": 0.01284804344177246,
          "mean_test_score": 0.7425032175032176,
          "param_kneighborsclassifier__n_neighbors": 29,
          "params": {
           "kneighborsclassifier__n_neighbors": 29
          },
          "rank_test_score": 26,
          "split0_test_score": 0.75,
          "split1_test_score": 0.7142857142857143,
          "split2_test_score": 0.7053571428571429,
          "split3_test_score": 0.7410714285714286,
          "split4_test_score": 0.8018018018018018,
          "std_fit_time": 0.0003060702017008583,
          "std_score_time": 0.0007077863511046765,
          "std_test_score": 0.033913514169449085
         },
         {
          "mean_fit_time": 0.008032274246215821,
          "mean_score_time": 0.013689184188842773,
          "mean_test_score": 0.7442567567567567,
          "param_kneighborsclassifier__n_neighbors": 30,
          "params": {
           "kneighborsclassifier__n_neighbors": 30
          },
          "rank_test_score": 25,
          "split0_test_score": 0.7678571428571429,
          "split1_test_score": 0.7232142857142857,
          "split2_test_score": 0.6964285714285714,
          "split3_test_score": 0.75,
          "split4_test_score": 0.7837837837837838,
          "std_fit_time": 0.0002792359945552168,
          "std_score_time": 0.000306352292121025,
          "std_test_score": 0.03124954345904644
         },
         {
          "mean_fit_time": 0.007582759857177735,
          "mean_score_time": 0.012422132492065429,
          "mean_test_score": 0.7443211068211069,
          "param_kneighborsclassifier__n_neighbors": 31,
          "params": {
           "kneighborsclassifier__n_neighbors": 31
          },
          "rank_test_score": 22,
          "split0_test_score": 0.7678571428571429,
          "split1_test_score": 0.7232142857142857,
          "split2_test_score": 0.6785714285714286,
          "split3_test_score": 0.7321428571428571,
          "split4_test_score": 0.8198198198198198,
          "std_fit_time": 0.0002949455264008178,
          "std_score_time": 0.00019099994359013926,
          "std_test_score": 0.04726696205416415
         },
         {
          "mean_fit_time": 0.00748295783996582,
          "mean_score_time": 0.012397193908691406,
          "mean_test_score": 0.7550353925353926,
          "param_kneighborsclassifier__n_neighbors": 32,
          "params": {
           "kneighborsclassifier__n_neighbors": 32
          },
          "rank_test_score": 9,
          "split0_test_score": 0.7946428571428571,
          "split1_test_score": 0.7410714285714286,
          "split2_test_score": 0.6785714285714286,
          "split3_test_score": 0.7410714285714286,
          "split4_test_score": 0.8198198198198198,
          "std_fit_time": 0.00012260923408611687,
          "std_score_time": 0.00028655138532017314,
          "std_test_score": 0.04899488878538034
         },
         {
          "mean_fit_time": 0.007466459274291992,
          "mean_score_time": 0.012313604354858398,
          "mean_test_score": 0.7443211068211067,
          "param_kneighborsclassifier__n_neighbors": 33,
          "params": {
           "kneighborsclassifier__n_neighbors": 33
          },
          "rank_test_score": 23,
          "split0_test_score": 0.7767857142857143,
          "split1_test_score": 0.7321428571428571,
          "split2_test_score": 0.6696428571428571,
          "split3_test_score": 0.7232142857142857,
          "split4_test_score": 0.8198198198198198,
          "std_fit_time": 0.00011084044612944548,
          "std_score_time": 0.00010531162117730359,
          "std_test_score": 0.05084221678833687
         },
         {
          "mean_fit_time": 0.007959461212158203,
          "mean_score_time": 0.012791013717651368,
          "mean_test_score": 0.7461068211068211,
          "param_kneighborsclassifier__n_neighbors": 34,
          "params": {
           "kneighborsclassifier__n_neighbors": 34
          },
          "rank_test_score": 17,
          "split0_test_score": 0.7767857142857143,
          "split1_test_score": 0.7232142857142857,
          "split2_test_score": 0.6696428571428571,
          "split3_test_score": 0.7410714285714286,
          "split4_test_score": 0.8198198198198198,
          "std_fit_time": 0.0009050804585960093,
          "std_score_time": 0.0008340567352890063,
          "std_test_score": 0.05053901820516667
         },
         {
          "mean_fit_time": 0.008364677429199219,
          "mean_score_time": 0.013487577438354492,
          "mean_test_score": 0.7389478764478765,
          "param_kneighborsclassifier__n_neighbors": 35,
          "params": {
           "kneighborsclassifier__n_neighbors": 35
          },
          "rank_test_score": 31,
          "split0_test_score": 0.7589285714285714,
          "split1_test_score": 0.7232142857142857,
          "split2_test_score": 0.6696428571428571,
          "split3_test_score": 0.7321428571428571,
          "split4_test_score": 0.8108108108108109,
          "std_fit_time": 0.0008338736891187524,
          "std_score_time": 0.0004806844476972687,
          "std_test_score": 0.0461747753067536
         },
         {
          "mean_fit_time": 0.009067535400390625,
          "mean_score_time": 0.014058160781860351,
          "mean_test_score": 0.7460907335907336,
          "param_kneighborsclassifier__n_neighbors": 36,
          "params": {
           "kneighborsclassifier__n_neighbors": 36
          },
          "rank_test_score": 20,
          "split0_test_score": 0.7857142857142857,
          "split1_test_score": 0.7232142857142857,
          "split2_test_score": 0.6785714285714286,
          "split3_test_score": 0.7321428571428571,
          "split4_test_score": 0.8108108108108109,
          "std_fit_time": 0.0004158727286058365,
          "std_score_time": 0.0008281894866880362,
          "std_test_score": 0.046979667843439724
         },
         {
          "mean_fit_time": 0.007466363906860352,
          "mean_score_time": 0.01242971420288086,
          "mean_test_score": 0.7335746460746462,
          "param_kneighborsclassifier__n_neighbors": 37,
          "params": {
           "kneighborsclassifier__n_neighbors": 37
          },
          "rank_test_score": 37,
          "split0_test_score": 0.7678571428571429,
          "split1_test_score": 0.7232142857142857,
          "split2_test_score": 0.6428571428571429,
          "split3_test_score": 0.7321428571428571,
          "split4_test_score": 0.8018018018018018,
          "std_fit_time": 9.188831438452229e-05,
          "std_score_time": 9.501427588473596e-05,
          "std_test_score": 0.053233986964379976
         },
         {
          "mean_fit_time": 0.00750885009765625,
          "mean_score_time": 0.01249246597290039,
          "mean_test_score": 0.7389157014157014,
          "param_kneighborsclassifier__n_neighbors": 38,
          "params": {
           "kneighborsclassifier__n_neighbors": 38
          },
          "rank_test_score": 33,
          "split0_test_score": 0.7946428571428571,
          "split1_test_score": 0.7142857142857143,
          "split2_test_score": 0.6607142857142857,
          "split3_test_score": 0.7321428571428571,
          "split4_test_score": 0.7927927927927928,
          "std_fit_time": 0.00016862539610257995,
          "std_score_time": 0.0001498639639297352,
          "std_test_score": 0.050549433159961896
         },
         {
          "mean_fit_time": 0.007646083831787109,
          "mean_score_time": 0.012606334686279298,
          "mean_test_score": 0.7317567567567568,
          "param_kneighborsclassifier__n_neighbors": 39,
          "params": {
           "kneighborsclassifier__n_neighbors": 39
          },
          "rank_test_score": 40,
          "split0_test_score": 0.7767857142857143,
          "split1_test_score": 0.7142857142857143,
          "split2_test_score": 0.6517857142857143,
          "split3_test_score": 0.7321428571428571,
          "split4_test_score": 0.7837837837837838,
          "std_fit_time": 0.00035948711928558664,
          "std_score_time": 8.53549701468167e-05,
          "std_test_score": 0.047822949699603545
         },
         {
          "mean_fit_time": 0.007660198211669922,
          "mean_score_time": 0.012614631652832031,
          "mean_test_score": 0.7353442728442728,
          "param_kneighborsclassifier__n_neighbors": 40,
          "params": {
           "kneighborsclassifier__n_neighbors": 40
          },
          "rank_test_score": 35,
          "split0_test_score": 0.7946428571428571,
          "split1_test_score": 0.7142857142857143,
          "split2_test_score": 0.6428571428571429,
          "split3_test_score": 0.7321428571428571,
          "split4_test_score": 0.7927927927927928,
          "std_fit_time": 0.00012559762213997173,
          "std_score_time": 0.00020850386180396396,
          "std_test_score": 0.05625697416037513
         },
         {
          "mean_fit_time": 0.007472515106201172,
          "mean_score_time": 0.01262660026550293,
          "mean_test_score": 0.7317567567567568,
          "param_kneighborsclassifier__n_neighbors": 41,
          "params": {
           "kneighborsclassifier__n_neighbors": 41
          },
          "rank_test_score": 40,
          "split0_test_score": 0.7857142857142857,
          "split1_test_score": 0.7142857142857143,
          "split2_test_score": 0.6428571428571429,
          "split3_test_score": 0.7321428571428571,
          "split4_test_score": 0.7837837837837838,
          "std_fit_time": 0.00013163806370314042,
          "std_score_time": 0.00011135116592166746,
          "std_test_score": 0.05258660327974627
         },
         {
          "mean_fit_time": 0.007549571990966797,
          "mean_score_time": 0.012466096878051757,
          "mean_test_score": 0.738931788931789,
          "param_kneighborsclassifier__n_neighbors": 42,
          "params": {
           "kneighborsclassifier__n_neighbors": 42
          },
          "rank_test_score": 32,
          "split0_test_score": 0.7767857142857143,
          "split1_test_score": 0.7232142857142857,
          "split2_test_score": 0.6517857142857143,
          "split3_test_score": 0.7410714285714286,
          "split4_test_score": 0.8018018018018018,
          "std_fit_time": 8.823696066185482e-05,
          "std_score_time": 0.00011460636021739603,
          "std_test_score": 0.05144242310462269
         },
         {
          "mean_fit_time": 0.008297300338745118,
          "mean_score_time": 0.013851022720336914,
          "mean_test_score": 0.7335263835263837,
          "param_kneighborsclassifier__n_neighbors": 43,
          "params": {
           "kneighborsclassifier__n_neighbors": 43
          },
          "rank_test_score": 38,
          "split0_test_score": 0.7857142857142857,
          "split1_test_score": 0.7142857142857143,
          "split2_test_score": 0.6517857142857143,
          "split3_test_score": 0.7410714285714286,
          "split4_test_score": 0.7747747747747747,
          "std_fit_time": 0.0008083892586913533,
          "std_score_time": 0.0010096046879852698,
          "std_test_score": 0.048028481093674996
         },
         {
          "mean_fit_time": 0.009090900421142578,
          "mean_score_time": 0.014961528778076171,
          "mean_test_score": 0.7353281853281854,
          "param_kneighborsclassifier__n_neighbors": 44,
          "params": {
           "kneighborsclassifier__n_neighbors": 44
          },
          "rank_test_score": 36,
          "split0_test_score": 0.7857142857142857,
          "split1_test_score": 0.7232142857142857,
          "split2_test_score": 0.6428571428571429,
          "split3_test_score": 0.7410714285714286,
          "split4_test_score": 0.7837837837837838,
          "std_fit_time": 0.00020604568945627579,
          "std_score_time": 0.0002158705276675457,
          "std_test_score": 0.052186835957540874
         },
         {
          "mean_fit_time": 0.008911561965942384,
          "mean_score_time": 0.014547777175903321,
          "mean_test_score": 0.7317406692406692,
          "param_kneighborsclassifier__n_neighbors": 45,
          "params": {
           "kneighborsclassifier__n_neighbors": 45
          },
          "rank_test_score": 42,
          "split0_test_score": 0.7857142857142857,
          "split1_test_score": 0.7053571428571429,
          "split2_test_score": 0.6517857142857143,
          "split3_test_score": 0.7410714285714286,
          "split4_test_score": 0.7747747747747747,
          "std_fit_time": 0.0003452313341466527,
          "std_score_time": 0.0006403190587948865,
          "std_test_score": 0.04886928252047339
         },
         {
          "mean_fit_time": 0.008033275604248047,
          "mean_score_time": 0.013765096664428711,
          "mean_test_score": 0.7335263835263837,
          "param_kneighborsclassifier__n_neighbors": 46,
          "params": {
           "kneighborsclassifier__n_neighbors": 46
          },
          "rank_test_score": 38,
          "split0_test_score": 0.7767857142857143,
          "split1_test_score": 0.7232142857142857,
          "split2_test_score": 0.6517857142857143,
          "split3_test_score": 0.7410714285714286,
          "split4_test_score": 0.7747747747747747,
          "std_fit_time": 0.00026384279421556693,
          "std_score_time": 0.0002350071507566678,
          "std_test_score": 0.04564559902609683
         },
         {
          "mean_fit_time": 0.00828399658203125,
          "mean_score_time": 0.014156818389892578,
          "mean_test_score": 0.7281531531531531,
          "param_kneighborsclassifier__n_neighbors": 47,
          "params": {
           "kneighborsclassifier__n_neighbors": 47
          },
          "rank_test_score": 45,
          "split0_test_score": 0.7767857142857143,
          "split1_test_score": 0.7142857142857143,
          "split2_test_score": 0.6428571428571429,
          "split3_test_score": 0.7410714285714286,
          "split4_test_score": 0.7657657657657657,
          "std_fit_time": 0.0002965706942809116,
          "std_score_time": 0.0003854375360316186,
          "std_test_score": 0.04777955986151488
         },
         {
          "mean_fit_time": 0.02243466377258301,
          "mean_score_time": 0.03479280471801758,
          "mean_test_score": 0.7317406692406692,
          "param_kneighborsclassifier__n_neighbors": 48,
          "params": {
           "kneighborsclassifier__n_neighbors": 48
          },
          "rank_test_score": 42,
          "split0_test_score": 0.7767857142857143,
          "split1_test_score": 0.7142857142857143,
          "split2_test_score": 0.6517857142857143,
          "split3_test_score": 0.7410714285714286,
          "split4_test_score": 0.7747747747747747,
          "std_fit_time": 0.008603214699286186,
          "std_score_time": 0.008605691388323991,
          "std_test_score": 0.04618554680037382
         },
         {
          "mean_fit_time": 0.02344236373901367,
          "mean_score_time": 0.039358997344970705,
          "mean_test_score": 0.7299388674388674,
          "param_kneighborsclassifier__n_neighbors": 49,
          "params": {
           "kneighborsclassifier__n_neighbors": 49
          },
          "rank_test_score": 44,
          "split0_test_score": 0.7767857142857143,
          "split1_test_score": 0.7142857142857143,
          "split2_test_score": 0.6517857142857143,
          "split3_test_score": 0.7410714285714286,
          "split4_test_score": 0.7657657657657657,
          "std_fit_time": 0.0006937429334096616,
          "std_score_time": 0.0004324438948130381,
          "std_test_score": 0.044620766851331276
         }
        ]
       },
       "encoding": {
        "x": {
         "field": "param_kneighborsclassifier__n_neighbors",
         "scale": {
          "zero": false
         },
         "title": "K (Number of Neighbors)",
         "type": "quantitative"
        },
        "y": {
         "field": "mean_test_score",
         "scale": {
          "zero": false
         },
         "title": "Mean Test Score",
         "type": "quantitative"
        }
       },
       "height": 300,
       "mark": {
        "point": true,
        "type": "line"
       },
       "title": "Grid Search",
       "width": 400
      },
      "image/png": "[encoded data removed]",
      "text/plain": [
       "<VegaLite 4 object>\n",
       "\n",
       "If you see this message, it means the renderer has not been properly enabled\n",
       "for the frontend that you are using. For more information, see\n",
       "https://altair-viz.github.io/user_guide/troubleshooting.html\n"
      ]
     },
     "execution_count": 17,
     "metadata": {},
     "output_type": "execute_result"
    }
   ],
   "source": [
    "accuracy_versus_k_grid = (\n",
    "    alt.Chart(accuracies_grid, title=\"Grid Search\")\n",
    "    .mark_line(point=True)\n",
    "    .encode(\n",
    "        x=alt.X(\n",
    "            \"param_kneighborsclassifier__n_neighbors\",\n",
    "            title=\"K (Number of Neighbors)\",\n",
    "            scale=alt.Scale(zero=False),\n",
    "        ),\n",
    "        y=alt.Y(\n",
    "            \"mean_test_score\", \n",
    "            title=\"Mean Test Score\", \n",
    "            scale=alt.Scale(zero=False)\n",
    "        ),\n",
    "    )\n",
    "    .configure_axis(labelFontSize=10, titleFontSize=15)\n",
    "    .properties(width=400, height=300)\n",
    ")\n",
    "accuracy_versus_k_grid"
   ]
  },
  {
   "cell_type": "code",
   "execution_count": 18,
   "id": "8be22ffd-acc3-4dde-a32c-96dd1091872a",
   "metadata": {},
   "outputs": [
    {
     "data": {
      "text/html": [
       "<div>\n",
       "<style scoped>\n",
       "    .dataframe tbody tr th:only-of-type {\n",
       "        vertical-align: middle;\n",
       "    }\n",
       "\n",
       "    .dataframe tbody tr th {\n",
       "        vertical-align: top;\n",
       "    }\n",
       "\n",
       "    .dataframe thead th {\n",
       "        text-align: right;\n",
       "    }\n",
       "</style>\n",
       "<table border=\"1\" class=\"dataframe\">\n",
       "  <thead>\n",
       "    <tr style=\"text-align: right;\">\n",
       "      <th></th>\n",
       "      <th>param_kneighborsclassifier__n_neighbors</th>\n",
       "    </tr>\n",
       "    <tr>\n",
       "      <th>mean_test_score</th>\n",
       "      <th></th>\n",
       "    </tr>\n",
       "  </thead>\n",
       "  <tbody>\n",
       "    <tr>\n",
       "      <th>0.767503</th>\n",
       "      <td>14</td>\n",
       "    </tr>\n",
       "  </tbody>\n",
       "</table>\n",
       "</div>"
      ],
      "text/plain": [
       "                 param_kneighborsclassifier__n_neighbors\n",
       "mean_test_score                                         \n",
       "0.767503                                              14"
      ]
     },
     "execution_count": 18,
     "metadata": {},
     "output_type": "execute_result"
    }
   ],
   "source": [
    "accuracies_grid[[\"param_kneighborsclassifier__n_neighbors\",\"mean_test_score\"]].groupby(\"mean_test_score\").max().tail(1)"
   ]
  },
  {
   "cell_type": "markdown",
   "id": "e0493ec2-0c5e-467c-af71-5fee6faf0081",
   "metadata": {},
   "source": [
    "As seen in the plot and cell above, the model has the highest mean test score when K=14, so we should use K=14 in our final model to maximize our model's accuracy."
   ]
  },
  {
   "cell_type": "markdown",
   "id": "c6ae6180-7c4b-432e-8d88-2dee25d5a1bf",
   "metadata": {},
   "source": [
    "### Building the Final Model"
   ]
  },
  {
   "cell_type": "code",
   "execution_count": 25,
   "id": "34103fcd-6e0d-458a-abc5-dc679e720d18",
   "metadata": {},
   "outputs": [
    {
     "data": {
      "text/html": [
       "<style>#sk-container-id-5 {color: black;background-color: white;}#sk-container-id-5 pre{padding: 0;}#sk-container-id-5 div.sk-toggleable {background-color: white;}#sk-container-id-5 label.sk-toggleable__label {cursor: pointer;display: block;width: 100%;margin-bottom: 0;padding: 0.3em;box-sizing: border-box;text-align: center;}#sk-container-id-5 label.sk-toggleable__label-arrow:before {content: \"▸\";float: left;margin-right: 0.25em;color: #696969;}#sk-container-id-5 label.sk-toggleable__label-arrow:hover:before {color: black;}#sk-container-id-5 div.sk-estimator:hover label.sk-toggleable__label-arrow:before {color: black;}#sk-container-id-5 div.sk-toggleable__content {max-height: 0;max-width: 0;overflow: hidden;text-align: left;background-color: #f0f8ff;}#sk-container-id-5 div.sk-toggleable__content pre {margin: 0.2em;color: black;border-radius: 0.25em;background-color: #f0f8ff;}#sk-container-id-5 input.sk-toggleable__control:checked~div.sk-toggleable__content {max-height: 200px;max-width: 100%;overflow: auto;}#sk-container-id-5 input.sk-toggleable__control:checked~label.sk-toggleable__label-arrow:before {content: \"▾\";}#sk-container-id-5 div.sk-estimator input.sk-toggleable__control:checked~label.sk-toggleable__label {background-color: #d4ebff;}#sk-container-id-5 div.sk-label input.sk-toggleable__control:checked~label.sk-toggleable__label {background-color: #d4ebff;}#sk-container-id-5 input.sk-hidden--visually {border: 0;clip: rect(1px 1px 1px 1px);clip: rect(1px, 1px, 1px, 1px);height: 1px;margin: -1px;overflow: hidden;padding: 0;position: absolute;width: 1px;}#sk-container-id-5 div.sk-estimator {font-family: monospace;background-color: #f0f8ff;border: 1px dotted black;border-radius: 0.25em;box-sizing: border-box;margin-bottom: 0.5em;}#sk-container-id-5 div.sk-estimator:hover {background-color: #d4ebff;}#sk-container-id-5 div.sk-parallel-item::after {content: \"\";width: 100%;border-bottom: 1px solid gray;flex-grow: 1;}#sk-container-id-5 div.sk-label:hover label.sk-toggleable__label {background-color: #d4ebff;}#sk-container-id-5 div.sk-serial::before {content: \"\";position: absolute;border-left: 1px solid gray;box-sizing: border-box;top: 0;bottom: 0;left: 50%;z-index: 0;}#sk-container-id-5 div.sk-serial {display: flex;flex-direction: column;align-items: center;background-color: white;padding-right: 0.2em;padding-left: 0.2em;position: relative;}#sk-container-id-5 div.sk-item {position: relative;z-index: 1;}#sk-container-id-5 div.sk-parallel {display: flex;align-items: stretch;justify-content: center;background-color: white;position: relative;}#sk-container-id-5 div.sk-item::before, #sk-container-id-5 div.sk-parallel-item::before {content: \"\";position: absolute;border-left: 1px solid gray;box-sizing: border-box;top: 0;bottom: 0;left: 50%;z-index: -1;}#sk-container-id-5 div.sk-parallel-item {display: flex;flex-direction: column;z-index: 1;position: relative;background-color: white;}#sk-container-id-5 div.sk-parallel-item:first-child::after {align-self: flex-end;width: 50%;}#sk-container-id-5 div.sk-parallel-item:last-child::after {align-self: flex-start;width: 50%;}#sk-container-id-5 div.sk-parallel-item:only-child::after {width: 0;}#sk-container-id-5 div.sk-dashed-wrapped {border: 1px dashed gray;margin: 0 0.4em 0.5em 0.4em;box-sizing: border-box;padding-bottom: 0.4em;background-color: white;}#sk-container-id-5 div.sk-label label {font-family: monospace;font-weight: bold;display: inline-block;line-height: 1.2em;}#sk-container-id-5 div.sk-label-container {text-align: center;}#sk-container-id-5 div.sk-container {/* jupyter's `normalize.less` sets `[hidden] { display: none; }` but bootstrap.min.css set `[hidden] { display: none !important; }` so we also need the `!important` here to be able to override the default hidden behavior on the sphinx rendered scikit-learn.org. See: https://github.com/scikit-learn/scikit-learn/issues/21755 */display: inline-block !important;position: relative;}#sk-container-id-5 div.sk-text-repr-fallback {display: none;}</style><div id=\"sk-container-id-5\" class=\"sk-top-container\"><div class=\"sk-text-repr-fallback\"><pre>Pipeline(steps=[(&#x27;columntransformer&#x27;,\n",
       "                 ColumnTransformer(transformers=[(&#x27;passthrough&#x27;, &#x27;passthrough&#x27;,\n",
       "                                                  [&#x27;Sex&#x27;, &#x27;FastingBS&#x27;,\n",
       "                                                   &#x27;ExerciseAngina&#x27;]),\n",
       "                                                 (&#x27;standardscaler&#x27;,\n",
       "                                                  StandardScaler(),\n",
       "                                                  [&#x27;Age&#x27;, &#x27;RestingBP&#x27;,\n",
       "                                                   &#x27;Cholesterol&#x27;, &#x27;MaxHR&#x27;])])),\n",
       "                (&#x27;kneighborsclassifier&#x27;, KNeighborsClassifier(n_neighbors=14))])</pre><b>In a Jupyter environment, please rerun this cell to show the HTML representation or trust the notebook. <br />On GitHub, the HTML representation is unable to render, please try loading this page with nbviewer.org.</b></div><div class=\"sk-container\" hidden><div class=\"sk-item sk-dashed-wrapped\"><div class=\"sk-label-container\"><div class=\"sk-label sk-toggleable\"><input class=\"sk-toggleable__control sk-hidden--visually\" id=\"sk-estimator-id-29\" type=\"checkbox\" ><label for=\"sk-estimator-id-29\" class=\"sk-toggleable__label sk-toggleable__label-arrow\">Pipeline</label><div class=\"sk-toggleable__content\"><pre>Pipeline(steps=[(&#x27;columntransformer&#x27;,\n",
       "                 ColumnTransformer(transformers=[(&#x27;passthrough&#x27;, &#x27;passthrough&#x27;,\n",
       "                                                  [&#x27;Sex&#x27;, &#x27;FastingBS&#x27;,\n",
       "                                                   &#x27;ExerciseAngina&#x27;]),\n",
       "                                                 (&#x27;standardscaler&#x27;,\n",
       "                                                  StandardScaler(),\n",
       "                                                  [&#x27;Age&#x27;, &#x27;RestingBP&#x27;,\n",
       "                                                   &#x27;Cholesterol&#x27;, &#x27;MaxHR&#x27;])])),\n",
       "                (&#x27;kneighborsclassifier&#x27;, KNeighborsClassifier(n_neighbors=14))])</pre></div></div></div><div class=\"sk-serial\"><div class=\"sk-item sk-dashed-wrapped\"><div class=\"sk-label-container\"><div class=\"sk-label sk-toggleable\"><input class=\"sk-toggleable__control sk-hidden--visually\" id=\"sk-estimator-id-30\" type=\"checkbox\" ><label for=\"sk-estimator-id-30\" class=\"sk-toggleable__label sk-toggleable__label-arrow\">columntransformer: ColumnTransformer</label><div class=\"sk-toggleable__content\"><pre>ColumnTransformer(transformers=[(&#x27;passthrough&#x27;, &#x27;passthrough&#x27;,\n",
       "                                 [&#x27;Sex&#x27;, &#x27;FastingBS&#x27;, &#x27;ExerciseAngina&#x27;]),\n",
       "                                (&#x27;standardscaler&#x27;, StandardScaler(),\n",
       "                                 [&#x27;Age&#x27;, &#x27;RestingBP&#x27;, &#x27;Cholesterol&#x27;, &#x27;MaxHR&#x27;])])</pre></div></div></div><div class=\"sk-parallel\"><div class=\"sk-parallel-item\"><div class=\"sk-item\"><div class=\"sk-label-container\"><div class=\"sk-label sk-toggleable\"><input class=\"sk-toggleable__control sk-hidden--visually\" id=\"sk-estimator-id-31\" type=\"checkbox\" ><label for=\"sk-estimator-id-31\" class=\"sk-toggleable__label sk-toggleable__label-arrow\">passthrough</label><div class=\"sk-toggleable__content\"><pre>[&#x27;Sex&#x27;, &#x27;FastingBS&#x27;, &#x27;ExerciseAngina&#x27;]</pre></div></div></div><div class=\"sk-serial\"><div class=\"sk-item\"><div class=\"sk-estimator sk-toggleable\"><input class=\"sk-toggleable__control sk-hidden--visually\" id=\"sk-estimator-id-32\" type=\"checkbox\" ><label for=\"sk-estimator-id-32\" class=\"sk-toggleable__label sk-toggleable__label-arrow\">passthrough</label><div class=\"sk-toggleable__content\"><pre>passthrough</pre></div></div></div></div></div></div><div class=\"sk-parallel-item\"><div class=\"sk-item\"><div class=\"sk-label-container\"><div class=\"sk-label sk-toggleable\"><input class=\"sk-toggleable__control sk-hidden--visually\" id=\"sk-estimator-id-33\" type=\"checkbox\" ><label for=\"sk-estimator-id-33\" class=\"sk-toggleable__label sk-toggleable__label-arrow\">standardscaler</label><div class=\"sk-toggleable__content\"><pre>[&#x27;Age&#x27;, &#x27;RestingBP&#x27;, &#x27;Cholesterol&#x27;, &#x27;MaxHR&#x27;]</pre></div></div></div><div class=\"sk-serial\"><div class=\"sk-item\"><div class=\"sk-estimator sk-toggleable\"><input class=\"sk-toggleable__control sk-hidden--visually\" id=\"sk-estimator-id-34\" type=\"checkbox\" ><label for=\"sk-estimator-id-34\" class=\"sk-toggleable__label sk-toggleable__label-arrow\">StandardScaler</label><div class=\"sk-toggleable__content\"><pre>StandardScaler()</pre></div></div></div></div></div></div></div></div><div class=\"sk-item\"><div class=\"sk-estimator sk-toggleable\"><input class=\"sk-toggleable__control sk-hidden--visually\" id=\"sk-estimator-id-35\" type=\"checkbox\" ><label for=\"sk-estimator-id-35\" class=\"sk-toggleable__label sk-toggleable__label-arrow\">KNeighborsClassifier</label><div class=\"sk-toggleable__content\"><pre>KNeighborsClassifier(n_neighbors=14)</pre></div></div></div></div></div></div></div>"
      ],
      "text/plain": [
       "Pipeline(steps=[('columntransformer',\n",
       "                 ColumnTransformer(transformers=[('passthrough', 'passthrough',\n",
       "                                                  ['Sex', 'FastingBS',\n",
       "                                                   'ExerciseAngina']),\n",
       "                                                 ('standardscaler',\n",
       "                                                  StandardScaler(),\n",
       "                                                  ['Age', 'RestingBP',\n",
       "                                                   'Cholesterol', 'MaxHR'])])),\n",
       "                ('kneighborsclassifier', KNeighborsClassifier(n_neighbors=14))])"
      ]
     },
     "execution_count": 25,
     "metadata": {},
     "output_type": "execute_result"
    }
   ],
   "source": [
    "#Heart Fit\n",
    "knn_spec = KNeighborsClassifier(n_neighbors=14)\n",
    "X = heart_data_training[[\"Age\",\"Sex\",\"RestingBP\",\"Cholesterol\",\"FastingBS\",\"MaxHR\",\"ExerciseAngina\"]]\n",
    "y = heart_data_training[\"HeartDisease\"]\n",
    "\n",
    "heart_fit = make_pipeline(heart_preprocessor, knn_spec).fit(X, y)\n",
    "heart_fit"
   ]
  },
  {
   "cell_type": "code",
   "execution_count": 31,
   "id": "4573d488-1d51-4dee-860a-7dd5a7cbf360",
   "metadata": {},
   "outputs": [
    {
     "data": {
      "text/html": [
       "<div>\n",
       "<style scoped>\n",
       "    .dataframe tbody tr th:only-of-type {\n",
       "        vertical-align: middle;\n",
       "    }\n",
       "\n",
       "    .dataframe tbody tr th {\n",
       "        vertical-align: top;\n",
       "    }\n",
       "\n",
       "    .dataframe thead th {\n",
       "        text-align: right;\n",
       "    }\n",
       "</style>\n",
       "<table border=\"1\" class=\"dataframe\">\n",
       "  <thead>\n",
       "    <tr style=\"text-align: right;\">\n",
       "      <th></th>\n",
       "      <th>Age</th>\n",
       "      <th>Sex</th>\n",
       "      <th>RestingBP</th>\n",
       "      <th>Cholesterol</th>\n",
       "      <th>FastingBS</th>\n",
       "      <th>MaxHR</th>\n",
       "      <th>ExerciseAngina</th>\n",
       "      <th>HeartDisease</th>\n",
       "      <th>predicted</th>\n",
       "    </tr>\n",
       "  </thead>\n",
       "  <tbody>\n",
       "    <tr>\n",
       "      <th>0</th>\n",
       "      <td>52</td>\n",
       "      <td>1</td>\n",
       "      <td>125</td>\n",
       "      <td>212</td>\n",
       "      <td>0</td>\n",
       "      <td>168</td>\n",
       "      <td>0</td>\n",
       "      <td>1</td>\n",
       "      <td>0</td>\n",
       "    </tr>\n",
       "    <tr>\n",
       "      <th>1</th>\n",
       "      <td>47</td>\n",
       "      <td>1</td>\n",
       "      <td>110</td>\n",
       "      <td>249</td>\n",
       "      <td>0</td>\n",
       "      <td>150</td>\n",
       "      <td>0</td>\n",
       "      <td>0</td>\n",
       "      <td>0</td>\n",
       "    </tr>\n",
       "    <tr>\n",
       "      <th>2</th>\n",
       "      <td>65</td>\n",
       "      <td>1</td>\n",
       "      <td>138</td>\n",
       "      <td>282</td>\n",
       "      <td>1</td>\n",
       "      <td>174</td>\n",
       "      <td>0</td>\n",
       "      <td>1</td>\n",
       "      <td>0</td>\n",
       "    </tr>\n",
       "    <tr>\n",
       "      <th>3</th>\n",
       "      <td>62</td>\n",
       "      <td>1</td>\n",
       "      <td>120</td>\n",
       "      <td>220</td>\n",
       "      <td>0</td>\n",
       "      <td>86</td>\n",
       "      <td>0</td>\n",
       "      <td>0</td>\n",
       "      <td>0</td>\n",
       "    </tr>\n",
       "    <tr>\n",
       "      <th>4</th>\n",
       "      <td>71</td>\n",
       "      <td>0</td>\n",
       "      <td>160</td>\n",
       "      <td>302</td>\n",
       "      <td>0</td>\n",
       "      <td>162</td>\n",
       "      <td>0</td>\n",
       "      <td>0</td>\n",
       "      <td>0</td>\n",
       "    </tr>\n",
       "  </tbody>\n",
       "</table>\n",
       "</div>"
      ],
      "text/plain": [
       "   Age  Sex  RestingBP  Cholesterol  FastingBS  MaxHR  ExerciseAngina  \\\n",
       "0   52    1        125          212          0    168               0   \n",
       "1   47    1        110          249          0    150               0   \n",
       "2   65    1        138          282          1    174               0   \n",
       "3   62    1        120          220          0     86               0   \n",
       "4   71    0        160          302          0    162               0   \n",
       "\n",
       "   HeartDisease  predicted  \n",
       "0             1          0  \n",
       "1             0          0  \n",
       "2             1          0  \n",
       "3             0          0  \n",
       "4             0          0  "
      ]
     },
     "execution_count": 31,
     "metadata": {},
     "output_type": "execute_result"
    }
   ],
   "source": [
    "#Applying to Test Set\n",
    "heart_test_predictions = heart_fit.predict(heart_data_testing[[\"Age\",\"Sex\",\"RestingBP\",\"Cholesterol\",\"FastingBS\",\"MaxHR\",\"ExerciseAngina\"]])\n",
    "heart_test_predictions = pd.concat(\n",
    "    [\n",
    "        heart_data_testing.reset_index(drop=True),\n",
    "        pd.DataFrame(heart_test_predictions, columns=[\"predicted\"]),\n",
    "    ],\n",
    "    axis=1,\n",
    ")\n",
    "heart_test_predictions.head()"
   ]
  },
  {
   "cell_type": "markdown",
   "id": "b33c0673-b20b-4c3c-a7f1-efd22fea1913",
   "metadata": {},
   "source": [
    "### Accuracy and Confusion Matrix"
   ]
  },
  {
   "cell_type": "code",
   "execution_count": 33,
   "id": "874d0999-3711-4f35-b1f8-7604994a527e",
   "metadata": {},
   "outputs": [
    {
     "data": {
      "text/plain": [
       "0.7647058823529411"
      ]
     },
     "execution_count": 33,
     "metadata": {},
     "output_type": "execute_result"
    }
   ],
   "source": [
    "#Accuracy\n",
    "X_test = heart_test_predictions[[\"Age\",\"Sex\",\"RestingBP\",\"Cholesterol\",\"FastingBS\",\"MaxHR\",\"ExerciseAngina\"]]\n",
    "y_test = heart_test_predictions[\"HeartDisease\"]\n",
    "\n",
    "heart_prediction_accuracy = heart_fit.score(X_test, y_test)\n",
    "heart_prediction_accuracy"
   ]
  },
  {
   "cell_type": "code",
   "execution_count": 34,
   "id": "6d5a4e00-853c-46c6-9171-96263ee8506d",
   "metadata": {},
   "outputs": [
    {
     "data": {
      "text/plain": [
       "<sklearn.metrics._plot.confusion_matrix.ConfusionMatrixDisplay at 0x7ffb00318520>"
      ]
     },
     "execution_count": 34,
     "metadata": {},
     "output_type": "execute_result"
    },
    {
     "data": {
      "image/png": "[encoded data removed]",
      "text/plain": [
       "<Figure size 640x480 with 2 Axes>"
      ]
     },
     "metadata": {},
     "output_type": "display_data"
    }
   ],
   "source": [
    "#Confusion Matrix\n",
    "from sklearn.metrics import ConfusionMatrixDisplay\n",
    "heart_mat = confusion_matrix(\n",
    "    heart_test_predictions[\"HeartDisease\"],  # true labels\n",
    "    heart_test_predictions[\"predicted\"],  # predicted labels\n",
    "    labels=heart_fit.classes_, # specify the label for each class\n",
    ")\n",
    "\n",
    "disp = ConfusionMatrixDisplay(\n",
    "    confusion_matrix=heart_mat, display_labels=heart_fit.classes_\n",
    ")\n",
    "disp.plot()"
   ]
  },
  {
   "cell_type": "markdown",
   "id": "46fa2d40",
   "metadata": {},
   "source": [
    "### Expected Outcomes and Significance\n",
    "\n",
    "We expect to be able to predict the existence of heart disease in a patient with significantly more accuracy when compared to using a majority classifier.\n",
    "\n",
    "The impact of such findings will be significant. Cardiovascular diseases are the largest contributor to global deaths; being able to accurately predict their presence could help those afflicted get treatment earlier. This would also free up valuable time that doctors would have to spend to diagnose patients.\n",
    "\n",
    "Future questions that may result from this project include determining which subset of the 76 predictor variables are the most important for heart disease prediction. This can also lead to the development of models that can give early warnings to at-risk individuals."
   ]
  },
  {
   "cell_type": "markdown",
   "id": "cd012246-161d-4e26-99cf-67512f790989",
   "metadata": {},
   "source": [
    "### References\n",
    "\n",
    "* Jousilahti, P., Vartiainen, E., Tuomilehto , J., & Puska, P. (1999, March 9). Sex, age, cardiovascular risk factors, and coronary heart disease. Retrieved from  https://www.ahajournals.org/doi/10.1161/01.CIR.99.9.1165\n",
    "\n",
    "* Rodgers, J. L., Jones, J., Bolleddu, S. I., Vanthenapalli, S., Rodgers, L. E., Shah, K., Karia, K., & Panguluri, S. K. (2019, April 27). Cardiovascular risks associated with gender and aging. Journal of cardiovascular development and disease. Retrieved March 11, 2023, from https://www.ncbi.nlm.nih.gov/pmc/articles/PMC6616540/\n",
    "\n",
    "* Thompson, P. D., Franklin, B. A., Balady, G. J., Blair, S. N., Corrado, D., EstesIII, N. A. M., Fulton, J. E., Gordon, N. F., Haskell, W. L., Link, M. S., Maron, B. J., Mittleman, M. A., Pelliccia, A., Wenger, N. K., Willich, S. N., & Costa, F. (2007, April 27). Exercise and acute cardiovascular events | circulation. Retrieved March 11, 2023, from https://www.ahajournals.org/doi/10.1161/CIRCULATIONAHA.107.181485"
   ]
  }
 ],
 "metadata": {
  "kernelspec": {
   "display_name": "Python 3 (ipykernel)",
   "language": "python",
   "name": "python3"
  },
  "language_info": {
   "codemirror_mode": {
    "name": "ipython",
    "version": 3
   },
   "file_extension": ".py",
   "mimetype": "text/x-python",
   "name": "python",
   "nbconvert_exporter": "python",
   "pygments_lexer": "ipython3",
   "version": "3.10.8"
  }
 },
 "nbformat": 4,
 "nbformat_minor": 5
}
